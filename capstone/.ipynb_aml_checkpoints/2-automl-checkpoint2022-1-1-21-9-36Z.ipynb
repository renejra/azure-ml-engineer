{
  "cells": [
    {
      "cell_type": "markdown",
      "source": [
        "# Automated ML\n",
        "\n",
        "Detailed package dependencies can be found on the [`env.yml`](envs/env.yml).\n",
        "Use `conda install --file envs/env.yml` on your Terminal.\n",
        "This file can be used to reproduce the conda environment used in this notebook."
      ],
      "metadata": {}
    },
    {
      "cell_type": "code",
      "source": [
        "from azureml.core import Workspace, Experiment, Environment, Datastore, Dataset\n",
        "from azureml.core.compute import ComputeTarget, AmlCompute\n",
        "from azureml.train.automl import AutoMLConfig\n",
        "from azureml.widgets import RunDetails\n",
        "\n",
        "import pandas as pd\n",
        "import joblib\n",
        "import os\n",
        "import requests"
      ],
      "outputs": [],
      "execution_count": 1,
      "metadata": {
        "collapsed": false,
        "pycharm": {
          "name": "#%%\n"
        },
        "gather": {
          "logged": 1643733804797
        }
      }
    },
    {
      "cell_type": "code",
      "source": [
        " # Setting up the workspace\n",
        "ws = Workspace.from_config()\n",
        "\n",
        "# Registering and building the environment (not needed in AutoML)\n",
        "env = Environment.from_conda_specification(name = \"az-capstone\", file_path = \"envs/env.yml\")\n",
        "env = env.register(workspace=ws)\n",
        "env_build = env.build(workspace=ws)\n",
        "\n",
        "# Setup the experiment\n",
        "exp_name = 'az-capstone-automl'\n",
        "exp=Experiment(ws, exp_name)\n",
        "\n",
        "# Enable logs\n",
        "run = exp.start_logging()"
      ],
      "outputs": [
        {
          "output_type": "stream",
          "name": "stderr",
          "text": "Warning: Falling back to use azure cli login credentials.\nIf you run your code in unattended mode, i.e., where you can't give a user input, then we recommend to use ServicePrincipalAuthentication or MsiAuthentication.\nPlease refer to aka.ms/aml-notebook-auth for different authentication mechanisms in azureml-sdk.\nNo Python version provided, defaulting to \"3.6.2\"\n"
        }
      ],
      "execution_count": 2,
      "metadata": {
        "collapsed": false,
        "pycharm": {
          "name": "#%%\n"
        },
        "gather": {
          "logged": 1643733817634
        }
      }
    },
    {
      "cell_type": "markdown",
      "source": [
        "We now deploy the necessary Compute Cluster, or check if there is already an existing one we can use."
      ],
      "metadata": {}
    },
    {
      "cell_type": "code",
      "source": [
        "# Setup the compute cluster\n",
        "compute_name = os.environ.get('CLUSTER_NAME', 'automl-cluster')\n",
        "compute_min_nodes = os.environ.get('CLUSTER_MIN_NODES', 0)\n",
        "compute_max_nodes = os.environ.get('CLUSTER_MAX_NODES', 4)\n",
        "vm_size = os.environ.get('CLUSTER_SKU', 'STANDARD_D2_V2')\n",
        "\n",
        "# Verify if the compute cluster exists\n",
        "if compute_name in ws.compute_targets:\n",
        "    compute_target = ws.compute_targets[compute_name]\n",
        "    if compute_target and type(compute_target) is AmlCompute:\n",
        "        print('found compute target. just use it. ' + compute_name)\n",
        "else:\n",
        "    print('creating a new compute target...')\n",
        "    provisioning_config = AmlCompute.provisioning_configuration(\n",
        "        vm_size=vm_size,\n",
        "        min_nodes=compute_min_nodes,\n",
        "        max_nodes=compute_max_nodes)\n",
        "\n",
        "    # create the cluster\n",
        "    compute_target = ComputeTarget.create(ws, compute_name, provisioning_config)\n",
        "\n",
        "    # poll for a minimum number of nodes and for a specific timeout.\n",
        "    # if no min node count is provided it will use the scale settings for the cluster\n",
        "    compute_target.wait_for_completion(show_output=True, min_node_count=None, timeout_in_minutes=20)\n",
        "\n",
        "     # For a more detailed view of current AmlCompute status, use get_status()\n",
        "    print(compute_target.get_status().serialize())"
      ],
      "outputs": [
        {
          "output_type": "stream",
          "name": "stdout",
          "text": "creating a new compute target...\nInProgress.\nSucceededProvisioning operation finished, operation \"Succeeded\"\nSucceeded\nAmlCompute wait for completion finished\n\nMinimum number of nodes requested have been provisioned\n{'currentNodeCount': 0, 'targetNodeCount': 0, 'nodeStateCounts': {'preparingNodeCount': 0, 'runningNodeCount': 0, 'idleNodeCount': 0, 'unusableNodeCount': 0, 'leavingNodeCount': 0, 'preemptedNodeCount': 0}, 'allocationState': 'Resizing', 'allocationStateTransitionTime': '2022-02-01T16:43:46.117000+00:00', 'errors': None, 'creationTime': '2022-02-01T16:43:45.650701+00:00', 'modifiedTime': '2022-02-01T16:43:49.305778+00:00', 'provisioningState': 'Succeeded', 'provisioningStateTransitionTime': None, 'scaleSettings': {'minNodeCount': 0, 'maxNodeCount': 4, 'nodeIdleTimeBeforeScaleDown': 'PT1800S'}, 'vmPriority': 'Dedicated', 'vmSize': 'STANDARD_D2_V2'}\n"
        }
      ],
      "execution_count": 3,
      "metadata": {
        "collapsed": false,
        "pycharm": {
          "name": "#%%\n"
        },
        "gather": {
          "logged": 1643733831352
        }
      }
    },
    {
      "cell_type": "markdown",
      "source": [
        "## Dataset\n",
        "\n",
        "### Overview\n",
        "\n",
        "The dataset we are using will be the one resulting from the [previous notebook](1-data-sourcing.ipynb) where\n",
        "we dug into data sourcing and did some processing prior this task. The dataset\n",
        "consists on financial data including OHLCV (open, high, low, close, volume) from diverse instruments (indices,\n",
        "commodities, interest rates...) and technical indicators (moving averages, RSI, standard deviation...), that we will\n",
        "use to create a ML-based trading model, that gives BUY, HOLD or SELL signals for Bitcoin trading.\n",
        "\n",
        "If you want to dig more into how the dataset looks like or\n",
        "into how the above-mentioned signals are generated, please refer to the \"labelling the data\" section of\n",
        "the [data sourcing notebook](1-data-sourcing.ipynb) or the latest  print view of the DataFrame's head and/or tail\n",
        "provided on the same file.\n",
        "\n",
        "The task we will be trying to solve is basically a **classification problem**.\n",
        "We are to predict whether the next-day, Bitcoin returns will be on the top 25% most positive returns (BUY, 1),\n",
        "the 25% most negative (SELL, -1), or somewhere in between (HOLD, 0).\n",
        "\n",
        "Since AutoML does grid search over features and normalization procedures, we will take joint, unaltered data as feed\n",
        "in to the model. What we will make is dropping the last features and labels that are not really needed for the task."
      ],
      "metadata": {
        "collapsed": false,
        "pycharm": {
          "name": "#%% md\n"
        }
      }
    },
    {
      "cell_type": "code",
      "source": [
        "# Access the data and drop unneeded columns for AutoML exercise\n",
        "df = pd.read_csv('data/df.csv')\n",
        "print('dataset shape: ', df.shape)\n",
        "print('columns:\\n', df.columns)"
      ],
      "outputs": [
        {
          "output_type": "stream",
          "name": "stdout",
          "text": "dataset shape:  (2690, 34)\ncolumns:\n Index(['Date', 'shangai', 'btc', 'crude oil', 'euro', 'gold', 'silver', 'ftse',\n       'spy', 'hsi', 'nasdaq', 'nikkei', 'rates', 'open', 'high', 'low', 'MA4',\n       'MA50', 'MA80', 'stochRSI', 'RSI', 'btc_std_dev', 'std_dif', 'vol_btc',\n       'hashrate', 'difficulty', 'transactions', 't_cost', 'y_returns',\n       'y_close', 'y_c', 'y_returns_shift', 'y_c_shift', 'y_close_shift'],\n      dtype='object')\n"
        }
      ],
      "execution_count": 7,
      "metadata": {
        "collapsed": false,
        "pycharm": {
          "name": "#%%\n"
        },
        "gather": {
          "logged": 1643734036394
        }
      }
    },
    {
      "cell_type": "code",
      "source": [
        "drop_col_list = ['y_close', 'y_c', 'y_close_shift', 'y_returns_shift']\n",
        "df.drop(columns=drop_col_list, inplace=True)"
      ],
      "outputs": [],
      "execution_count": 8,
      "metadata": {
        "collapsed": false,
        "pycharm": {
          "name": "#%%\n"
        },
        "gather": {
          "logged": 1643734215912
        }
      }
    },
    {
      "cell_type": "code",
      "source": [
        "# Register the dataset\n",
        "datastore = ws.get_default_datastore()\n",
        "dataset = Dataset.Tabular.register_pandas_dataframe(df, datastore, \"automl_dataset\", show_progress=True)\n",
        "df = dataset.to_pandas_dataframe()"
      ],
      "outputs": [
        {
          "output_type": "stream",
          "name": "stdout",
          "text": "Validating arguments.\nArguments validated.\nSuccessfully obtained datastore reference and path.\nUploading file to managed-dataset/a9649a16-ed2e-4e83-94b8-e5215479535d/\nSuccessfully uploaded file to datastore.\nCreating and registering a new dataset.\nSuccessfully created and registered a new dataset.\n"
        }
      ],
      "execution_count": 9,
      "metadata": {
        "collapsed": false,
        "pycharm": {
          "name": "#%%\n"
        },
        "gather": {
          "logged": 1643734229209
        }
      }
    },
    {
      "cell_type": "markdown",
      "source": [
        "## AutoML Configuration\n",
        "\n",
        "Our AutoML run will have the classification task of predicting next day's buy, sell or hold label, or the column\n",
        "`y_c_weighted`. Our primary metric will be AUC weighted, to deal with the instability on price dataset.\n",
        " I'm also adding the automatic featurization, so\n",
        "AutoML takes care of necessary data transformations, trying out different methods.\n",
        "\n",
        "As timeout for this project I will use 30 minutes. The usage of VMs to access Azure on a limited time (1h) adds pressure\n",
        "on this metric. We also need time to analize results afterwards, so air time using the VM is important."
      ],
      "metadata": {}
    },
    {
      "cell_type": "code",
      "source": [
        "automl_settings = {\"featurization\": 'auto'}"
      ],
      "outputs": [],
      "execution_count": 18,
      "metadata": {
        "gather": {
          "logged": 1643734570510
        },
        "jupyter": {
          "outputs_hidden": false,
          "source_hidden": false
        },
        "nteract": {
          "transient": {
            "deleting": false
          }
        }
      }
    },
    {
      "cell_type": "code",
      "source": [
        "# Set parameters for AutoMLConfig\n",
        "automl_config = AutoMLConfig(\n",
        "    experiment_timeout_minutes=30,\n",
        "    task='classification',\n",
        "    primary_metric='AUC_weighted',\n",
        "    training_data=df,\n",
        "    label_column_name='y_c_shift',\n",
        "    n_cross_validations=5,\n",
        "    **automl_settings)"
      ],
      "outputs": [],
      "execution_count": 21,
      "metadata": {
        "collapsed": false,
        "pycharm": {
          "name": "#%%\n"
        },
        "gather": {
          "logged": 1643734602480
        }
      }
    },
    {
      "cell_type": "code",
      "source": [
        "# Submit the experiment run\n",
        "automl_run = exp.submit(automl_config, show_output=False)\n",
        "automl_run.wait_for_completion(show_output=True)"
      ],
      "outputs": [
        {
          "output_type": "stream",
          "name": "stderr",
          "text": "2022-02-01:16:57:09,723 INFO     [modeling_bert.py:226] Better speed can be achieved with apex installed from https://www.github.com/nvidia/apex .\n2022-02-01:16:57:09,749 INFO     [modeling_xlnet.py:339] Better speed can be achieved with apex installed from https://www.github.com/nvidia/apex .\n2022-02-01:16:57:46,301 INFO     [utils.py:159] NumExpr defaulting to 4 threads.\n2022-02-01:16:57:47,186 WARNING  [local_experiment_driver.py:146] Running on local machine. Note that local runs always run synchronously even if you use the parameter 'show_output=False'\n"
        },
        {
          "output_type": "display_data",
          "data": {
            "text/plain": "<IPython.core.display.HTML object>",
            "text/html": "<table style=\"width:100%\"><tr><th>Experiment</th><th>Id</th><th>Type</th><th>Status</th><th>Details Page</th><th>Docs Page</th></tr><tr><td>az-capstone-automl</td><td>AutoML_a3d7aed5-a1be-4326-869d-3f12d1d0ca08</td><td>automl</td><td>Preparing</td><td><a href=\"https://ml.azure.com/runs/AutoML_a3d7aed5-a1be-4326-869d-3f12d1d0ca08?wsid=/subscriptions/d4ad7261-832d-46b2-b093-22156001df5b/resourcegroups/aml-quickstarts-180513/workspaces/quick-starts-ws-180513&amp;tid=660b3398-b80e-49d2-bc5b-ac1dc93b5254\" target=\"_blank\" rel=\"noopener\">Link to Azure Machine Learning studio</a></td><td><a href=\"https://docs.microsoft.com/en-us/python/api/overview/azure/ml/intro?view=azure-ml-py\" target=\"_blank\" rel=\"noopener\">Link to Documentation</a></td></tr></table>"
          },
          "metadata": {}
        },
        {
          "output_type": "stream",
          "name": "stderr",
          "text": "2022-02-01:17:20:31,449 INFO     [explanation_client.py:332] Using default datastore for uploads\n"
        },
        {
          "output_type": "display_data",
          "data": {
            "text/plain": "<IPython.core.display.HTML object>",
            "text/html": "<table style=\"width:100%\"><tr><th>Experiment</th><th>Id</th><th>Type</th><th>Status</th><th>Details Page</th><th>Docs Page</th></tr><tr><td>az-capstone-automl</td><td>AutoML_a3d7aed5-a1be-4326-869d-3f12d1d0ca08</td><td>automl</td><td>Completed</td><td><a href=\"https://ml.azure.com/runs/AutoML_a3d7aed5-a1be-4326-869d-3f12d1d0ca08?wsid=/subscriptions/d4ad7261-832d-46b2-b093-22156001df5b/resourcegroups/aml-quickstarts-180513/workspaces/quick-starts-ws-180513&amp;tid=660b3398-b80e-49d2-bc5b-ac1dc93b5254\" target=\"_blank\" rel=\"noopener\">Link to Azure Machine Learning studio</a></td><td><a href=\"https://docs.microsoft.com/en-us/python/api/overview/azure/ml/intro?view=azure-ml-py\" target=\"_blank\" rel=\"noopener\">Link to Documentation</a></td></tr></table>"
          },
          "metadata": {}
        },
        {
          "output_type": "stream",
          "name": "stdout",
          "text": "\n\n********************************************************************************************\nDATA GUARDRAILS: \n\nTYPE:         Class balancing detection\nSTATUS:       PASSED\nDESCRIPTION:  Your inputs were analyzed, and all classes are balanced in your training data.\n              Learn more about imbalanced data: https://aka.ms/AutomatedMLImbalancedData\n\n********************************************************************************************\n\nTYPE:         Missing feature values imputation\nSTATUS:       DONE\nDESCRIPTION:  If the missing values are expected, let the run complete. Otherwise cancel the current run and use a script to customize the handling of missing feature values that may be more appropriate based on the data type and business requirement.\n              Learn more about missing value imputation: https://aka.ms/AutomatedMLFeaturization\nDETAILS:      \n+------------------------------+------------------------------+------------------------------+\n|Column name                   |Missing value count           |Imputation type               |\n+==============================+==============================+==============================+\n|MA4                           |1                             |mean                          |\n|MA50                          |1                             |mean                          |\n|MA80                          |1                             |mean                          |\n|btc                           |1                             |mean                          |\n|crude oil                     |2                             |mean                          |\n|difficulty                    |1                             |mean                          |\n|euro                          |1                             |mean                          |\n|ftse                          |1                             |mean                          |\n|gold                          |1                             |mean                          |\n|hashrate                      |1                             |mean                          |\n|high                          |1                             |mean                          |\n|hsi                           |1                             |mean                          |\n|low                           |1                             |mean                          |\n|nasdaq                        |1                             |mean                          |\n|nikkei                        |1                             |mean                          |\n|open                          |1                             |mean                          |\n|rates                         |1                             |mean                          |\n|shangai                       |1                             |mean                          |\n|silver                        |1                             |mean                          |\n|spy                           |1                             |mean                          |\n|std_dif                       |1                             |mean                          |\n|t_cost                        |1                             |mean                          |\n|vol_btc                       |1                             |mean                          |\n+------------------------------+------------------------------+------------------------------+\n\n********************************************************************************************\n\nTYPE:         High cardinality feature detection\nSTATUS:       PASSED\nDESCRIPTION:  Your inputs were analyzed, and no high cardinality features were detected.\n              Learn more about high cardinality feature handling: https://aka.ms/AutomatedMLFeaturization\n\n********************************************************************************************\n\n********************************************************************************************\nITER: The iteration being evaluated.\nPIPELINE: A summary description of the pipeline being evaluated.\nDURATION: Time taken for the current iteration.\nMETRIC: The result of computing score on the fitted pipeline.\nBEST: The best observed score thus far.\n********************************************************************************************\n\n ITER   PIPELINE                                       DURATION            METRIC      BEST\n    0   MaxAbsScaler LightGBM                          0:00:41             0.6406    0.6406\n    1   MaxAbsScaler XGBoostClassifier                 0:00:39             0.6544    0.6544\n    2   MaxAbsScaler ExtremeRandomTrees                0:00:29             0.6485    0.6544\n    3   MaxAbsScaler RandomForest                      0:00:29             0.6505    0.6544\n    4   StandardScalerWrapper LightGBM                 0:00:30             0.6519    0.6544\n    5   StandardScalerWrapper KNN                      0:00:29             0.6123    0.6544\n    6   SparseNormalizer XGBoostClassifier             0:00:30             0.6489    0.6544\n    7   SparseNormalizer RandomForest                  0:00:34             0.6503    0.6544\n    8   RobustScaler KNN                               0:00:29             0.6396    0.6544\n    9   MinMaxScaler RandomForest                      0:00:31             0.6449    0.6544\n   10   StandardScalerWrapper LogisticRegression       0:00:28             0.6475    0.6544\n   11   StandardScalerWrapper SVM                      0:01:44             0.6061    0.6544\n   12   StandardScalerWrapper XGBoostClassifier        0:00:29             0.6364    0.6544\n   13   SparseNormalizer KNN                           0:00:29             0.6163    0.6544\n   14   RobustScaler ExtremeRandomTrees                0:00:32             0.6345    0.6544\n   15   SparseNormalizer XGBoostClassifier             0:00:31             0.6407    0.6544\n   16   MinMaxScaler ExtremeRandomTrees                0:00:29             0.6577    0.6577\n   17   MinMaxScaler ExtremeRandomTrees                0:00:29             0.6511    0.6577\n   18   SparseNormalizer LightGBM                      0:00:28             0.6536    0.6577\n   19   MaxAbsScaler ExtremeRandomTrees                0:00:36             0.6558    0.6577\n   20   StandardScalerWrapper XGBoostClassifier        0:00:31             0.6531    0.6577\n   21   StandardScalerWrapper RandomForest             0:00:37             0.6274    0.6577\n   22   StandardScalerWrapper SVM                      0:00:49             0.4249    0.6577\n   23   StandardScalerWrapper SVM                      0:00:48             0.4247    0.6577\n   24   StandardScalerWrapper SVM                      0:00:49             0.5975    0.6577\n   25   SparseNormalizer ExtremeRandomTrees            0:00:29             0.5655    0.6577\n   26   RobustScaler KNN                               0:00:30             0.6304    0.6577\n   27   StandardScalerWrapper LightGBM                 0:00:29             0.6471    0.6577\n   28   MaxAbsScaler LightGBM                          0:00:29             0.6558    0.6577\n   29   StandardScalerWrapper ExtremeRandomTrees       0:00:39             0.6165    0.6577\n   30    VotingEnsemble                                0:00:40             0.6679    0.6679\n   31    StackEnsemble                                 0:01:03             0.6679    0.6679\n"
        },
        {
          "output_type": "execute_result",
          "execution_count": 22,
          "data": {
            "text/plain": "{'runId': 'AutoML_a3d7aed5-a1be-4326-869d-3f12d1d0ca08',\n 'target': 'local',\n 'status': 'Completed',\n 'startTimeUtc': '2022-02-01T16:57:48.228223Z',\n 'endTimeUtc': '2022-02-01T17:18:25.470585Z',\n 'services': {},\n 'warnings': [{'source': 'JasmineService',\n   'message': 'No scores improved over last 20 iterations, so experiment stopped early. This early stopping behavior can be disabled by setting enable_early_stopping = False in AutoMLConfig for notebook/python SDK runs.'}],\n 'properties': {'num_iterations': '1000',\n  'training_type': 'TrainFull',\n  'acquisition_function': 'EI',\n  'primary_metric': 'AUC_weighted',\n  'train_split': '0',\n  'acquisition_parameter': '0',\n  'num_cross_validation': '5',\n  'target': 'local',\n  'AMLSettingsJsonString': '{\"path\":null,\"name\":\"az-capstone-automl\",\"subscription_id\":\"d4ad7261-832d-46b2-b093-22156001df5b\",\"resource_group\":\"aml-quickstarts-180513\",\"workspace_name\":\"quick-starts-ws-180513\",\"region\":\"southcentralus\",\"compute_target\":\"local\",\"spark_service\":null,\"azure_service\":\"Microsoft.AzureNotebookVM\",\"many_models\":false,\"pipeline_fetch_max_batch_size\":1,\"enable_batch_run\":false,\"enable_run_restructure\":false,\"start_auxiliary_runs_before_parent_complete\":false,\"enable_code_generation\":false,\"iterations\":1000,\"primary_metric\":\"AUC_weighted\",\"task_type\":\"classification\",\"positive_label\":null,\"data_script\":null,\"test_size\":0.0,\"test_include_predictions_only\":false,\"validation_size\":0.0,\"n_cross_validations\":5,\"y_min\":null,\"y_max\":null,\"num_classes\":null,\"featurization\":\"auto\",\"_ignore_package_version_incompatibilities\":false,\"is_timeseries\":false,\"max_cores_per_iteration\":1,\"max_concurrent_iterations\":1,\"iteration_timeout_minutes\":null,\"mem_in_mb\":null,\"enforce_time_on_windows\":false,\"experiment_timeout_minutes\":30,\"experiment_exit_score\":null,\"whitelist_models\":null,\"blacklist_algos\":[\"TensorFlowLinearClassifier\",\"TensorFlowDNN\"],\"supported_models\":[\"RandomForest\",\"SGD\",\"DecisionTree\",\"MultinomialNaiveBayes\",\"TensorFlowLinearClassifier\",\"ExtremeRandomTrees\",\"BernoulliNaiveBayes\",\"XGBoostClassifier\",\"GradientBoosting\",\"LightGBM\",\"AveragedPerceptronClassifier\",\"KNN\",\"LogisticRegression\",\"LinearSVM\",\"SVM\",\"TensorFlowDNN\"],\"private_models\":[\"TabnetClassifier\"],\"auto_blacklist\":true,\"blacklist_samples_reached\":false,\"exclude_nan_labels\":true,\"verbosity\":20,\"_debug_log\":\"automl.log\",\"show_warnings\":false,\"model_explainability\":true,\"service_url\":null,\"sdk_url\":null,\"sdk_packages\":null,\"enable_onnx_compatible_models\":false,\"enable_split_onnx_featurizer_estimator_models\":false,\"vm_type\":null,\"telemetry_verbosity\":20,\"send_telemetry\":true,\"enable_dnn\":false,\"scenario\":\"SDK-1.13.0\",\"environment_label\":null,\"save_mlflow\":false,\"enable_categorical_indicators\":false,\"force_text_dnn\":false,\"enable_feature_sweeping\":true,\"enable_early_stopping\":true,\"early_stopping_n_iters\":10,\"arguments\":null,\"dataset_id\":null,\"hyperdrive_config\":null,\"validation_dataset_id\":null,\"run_source\":null,\"metrics\":null,\"enable_metric_confidence\":false,\"enable_ensembling\":true,\"enable_stack_ensembling\":true,\"ensemble_iterations\":15,\"enable_tf\":false,\"enable_subsampling\":null,\"subsample_seed\":null,\"enable_nimbusml\":false,\"enable_streaming\":false,\"force_streaming\":false,\"track_child_runs\":true,\"allowed_private_models\":[],\"label_column_name\":\"y_c_shift\",\"weight_column_name\":null,\"cv_split_column_names\":null,\"enable_local_managed\":false,\"_local_managed_run_id\":null,\"cost_mode\":1,\"lag_length\":0,\"metric_operation\":\"maximize\",\"preprocess\":true}',\n  'DataPrepJsonString': None,\n  'EnableSubsampling': None,\n  'runTemplate': 'AutoML',\n  'azureml.runsource': 'automl',\n  'display_task_type': 'classification',\n  'dependencies_versions': '{\"azureml-widgets\": \"1.37.0\", \"azureml-train\": \"1.37.0\", \"azureml-train-restclients-hyperdrive\": \"1.37.0\", \"azureml-train-core\": \"1.37.0\", \"azureml-train-automl\": \"1.37.0\", \"azureml-train-automl-runtime\": \"1.37.0\", \"azureml-train-automl-client\": \"1.37.0\", \"azureml-tensorboard\": \"1.37.0\", \"azureml-telemetry\": \"1.37.0\", \"azureml-sdk\": \"1.37.0\", \"azureml-samples\": \"0+unknown\", \"azureml-responsibleai\": \"1.37.0\", \"azureml-pipeline\": \"1.37.0\", \"azureml-pipeline-steps\": \"1.37.0\", \"azureml-pipeline-core\": \"1.37.0\", \"azureml-opendatasets\": \"1.37.0\", \"azureml-mlflow\": \"1.37.0\", \"azureml-interpret\": \"1.37.0\", \"azureml-inference-server-http\": \"0.4.2\", \"azureml-explain-model\": \"1.37.0\", \"azureml-defaults\": \"1.37.0\", \"azureml-dataset-runtime\": \"1.37.0\", \"azureml-dataprep\": \"2.25.0\", \"azureml-dataprep-rslex\": \"2.1.0\", \"azureml-dataprep-native\": \"38.0.0\", \"azureml-datadrift\": \"1.37.0\", \"azureml-core\": \"1.37.0\", \"azureml-contrib-services\": \"1.37.0\", \"azureml-contrib-server\": \"1.37.0\", \"azureml-contrib-reinforcementlearning\": \"1.37.0\", \"azureml-contrib-pipeline-steps\": \"1.37.0\", \"azureml-contrib-notebook\": \"1.37.0\", \"azureml-contrib-fairness\": \"1.37.0\", \"azureml-contrib-dataset\": \"1.37.0\", \"azureml-contrib-automl-pipeline-steps\": \"1.37.0\", \"azureml-cli-common\": \"1.37.0\", \"azureml-automl-runtime\": \"1.37.0\", \"azureml-automl-dnn-nlp\": \"1.37.0\", \"azureml-automl-core\": \"1.37.0\", \"azureml-accel-models\": \"1.37.0\"}',\n  '_aml_system_scenario_identification': 'Local.Parent',\n  'ClientSdkVersion': '1.37.0',\n  'ClientType': 'SDK',\n  'environment_cpu_name': 'AzureML-AutoML',\n  'environment_cpu_label': 'prod',\n  'environment_gpu_name': 'AzureML-AutoML-GPU',\n  'environment_gpu_label': 'prod',\n  'root_attribution': 'automl',\n  'attribution': 'AutoML',\n  'Orchestrator': 'AutoML',\n  '_azureml.ComputeTargetType': 'local',\n  'ProblemInfoJsonString': '{\"dataset_num_categorical\": 0, \"is_sparse\": false, \"subsampling\": false, \"has_extra_col\": true, \"dataset_classes\": 3, \"dataset_features\": 38, \"dataset_samples\": 2690, \"single_frequency_class_detected\": false}',\n  'azureml.git.repository_uri': 'https://github.com/renejra/azure-ml-engineer.git',\n  'mlflow.source.git.repoURL': 'https://github.com/renejra/azure-ml-engineer.git',\n  'azureml.git.branch': 'capstone',\n  'mlflow.source.git.branch': 'capstone',\n  'azureml.git.commit': 'a0370bb3c440ba189085e42f5889c1b08e818dd2',\n  'mlflow.source.git.commit': 'a0370bb3c440ba189085e42f5889c1b08e818dd2',\n  'azureml.git.dirty': 'True'},\n 'inputDatasets': [],\n 'outputDatasets': [],\n 'logFiles': {},\n 'submittedBy': 'ODL_User 180513'}"
          },
          "metadata": {}
        }
      ],
      "execution_count": 22,
      "metadata": {
        "collapsed": false,
        "pycharm": {
          "name": "#%%\n"
        },
        "gather": {
          "logged": 1643736459866
        }
      }
    },
    {
      "cell_type": "markdown",
      "source": [
        "## Run Details\n",
        "\n",
        "By using the RunDetails widget, we can appreciate different experiments metrics.\n",
        "\n",
        "OPTIONAL: Write about the different models trained and their performance.\n",
        "Why do you think some models did better than others?"
      ],
      "metadata": {}
    },
    {
      "cell_type": "code",
      "source": [
        "RunDetails(automl_run).show()"
      ],
      "outputs": [
        {
          "output_type": "display_data",
          "data": {
            "text/plain": "_AutoMLWidget(widget_settings={'childWidgetDisplay': 'popup', 'send_telemetry': False, 'log_level': 'INFO', 's…",
            "application/vnd.jupyter.widget-view+json": {
              "version_major": 2,
              "version_minor": 0,
              "model_id": "40ae668418d444ebafbe71bec33302b4"
            }
          },
          "metadata": {}
        },
        {
          "output_type": "display_data",
          "data": {
            "application/aml.mini.widget.v1": "{\"status\": \"Completed\", \"workbench_run_details_uri\": \"https://ml.azure.com/runs/AutoML_a3d7aed5-a1be-4326-869d-3f12d1d0ca08?wsid=/subscriptions/d4ad7261-832d-46b2-b093-22156001df5b/resourcegroups/aml-quickstarts-180513/workspaces/quick-starts-ws-180513&tid=660b3398-b80e-49d2-bc5b-ac1dc93b5254\", \"run_id\": \"AutoML_a3d7aed5-a1be-4326-869d-3f12d1d0ca08\", \"run_properties\": {\"run_id\": \"AutoML_a3d7aed5-a1be-4326-869d-3f12d1d0ca08\", \"created_utc\": \"2022-02-01T16:57:47.649523Z\", \"properties\": {\"num_iterations\": \"1000\", \"training_type\": \"TrainFull\", \"acquisition_function\": \"EI\", \"primary_metric\": \"AUC_weighted\", \"train_split\": \"0\", \"acquisition_parameter\": \"0\", \"num_cross_validation\": \"5\", \"target\": \"local\", \"AMLSettingsJsonString\": \"{\\\"path\\\":null,\\\"name\\\":\\\"az-capstone-automl\\\",\\\"subscription_id\\\":\\\"d4ad7261-832d-46b2-b093-22156001df5b\\\",\\\"resource_group\\\":\\\"aml-quickstarts-180513\\\",\\\"workspace_name\\\":\\\"quick-starts-ws-180513\\\",\\\"region\\\":\\\"southcentralus\\\",\\\"compute_target\\\":\\\"local\\\",\\\"spark_service\\\":null,\\\"azure_service\\\":\\\"Microsoft.AzureNotebookVM\\\",\\\"many_models\\\":false,\\\"pipeline_fetch_max_batch_size\\\":1,\\\"enable_batch_run\\\":false,\\\"enable_run_restructure\\\":false,\\\"start_auxiliary_runs_before_parent_complete\\\":false,\\\"enable_code_generation\\\":false,\\\"iterations\\\":1000,\\\"primary_metric\\\":\\\"AUC_weighted\\\",\\\"task_type\\\":\\\"classification\\\",\\\"positive_label\\\":null,\\\"data_script\\\":null,\\\"test_size\\\":0.0,\\\"test_include_predictions_only\\\":false,\\\"validation_size\\\":0.0,\\\"n_cross_validations\\\":5,\\\"y_min\\\":null,\\\"y_max\\\":null,\\\"num_classes\\\":null,\\\"featurization\\\":\\\"auto\\\",\\\"_ignore_package_version_incompatibilities\\\":false,\\\"is_timeseries\\\":false,\\\"max_cores_per_iteration\\\":1,\\\"max_concurrent_iterations\\\":1,\\\"iteration_timeout_minutes\\\":null,\\\"mem_in_mb\\\":null,\\\"enforce_time_on_windows\\\":false,\\\"experiment_timeout_minutes\\\":30,\\\"experiment_exit_score\\\":null,\\\"whitelist_models\\\":null,\\\"blacklist_algos\\\":[\\\"TensorFlowLinearClassifier\\\",\\\"TensorFlowDNN\\\"],\\\"supported_models\\\":[\\\"RandomForest\\\",\\\"SGD\\\",\\\"DecisionTree\\\",\\\"MultinomialNaiveBayes\\\",\\\"TensorFlowLinearClassifier\\\",\\\"ExtremeRandomTrees\\\",\\\"BernoulliNaiveBayes\\\",\\\"XGBoostClassifier\\\",\\\"GradientBoosting\\\",\\\"LightGBM\\\",\\\"AveragedPerceptronClassifier\\\",\\\"KNN\\\",\\\"LogisticRegression\\\",\\\"LinearSVM\\\",\\\"SVM\\\",\\\"TensorFlowDNN\\\"],\\\"private_models\\\":[\\\"TabnetClassifier\\\"],\\\"auto_blacklist\\\":true,\\\"blacklist_samples_reached\\\":false,\\\"exclude_nan_labels\\\":true,\\\"verbosity\\\":20,\\\"_debug_log\\\":\\\"automl.log\\\",\\\"show_warnings\\\":false,\\\"model_explainability\\\":true,\\\"service_url\\\":null,\\\"sdk_url\\\":null,\\\"sdk_packages\\\":null,\\\"enable_onnx_compatible_models\\\":false,\\\"enable_split_onnx_featurizer_estimator_models\\\":false,\\\"vm_type\\\":null,\\\"telemetry_verbosity\\\":20,\\\"send_telemetry\\\":true,\\\"enable_dnn\\\":false,\\\"scenario\\\":\\\"SDK-1.13.0\\\",\\\"environment_label\\\":null,\\\"save_mlflow\\\":false,\\\"enable_categorical_indicators\\\":false,\\\"force_text_dnn\\\":false,\\\"enable_feature_sweeping\\\":true,\\\"enable_early_stopping\\\":true,\\\"early_stopping_n_iters\\\":10,\\\"arguments\\\":null,\\\"dataset_id\\\":null,\\\"hyperdrive_config\\\":null,\\\"validation_dataset_id\\\":null,\\\"run_source\\\":null,\\\"metrics\\\":null,\\\"enable_metric_confidence\\\":false,\\\"enable_ensembling\\\":true,\\\"enable_stack_ensembling\\\":true,\\\"ensemble_iterations\\\":15,\\\"enable_tf\\\":false,\\\"enable_subsampling\\\":null,\\\"subsample_seed\\\":null,\\\"enable_nimbusml\\\":false,\\\"enable_streaming\\\":false,\\\"force_streaming\\\":false,\\\"track_child_runs\\\":true,\\\"allowed_private_models\\\":[],\\\"label_column_name\\\":\\\"y_c_shift\\\",\\\"weight_column_name\\\":null,\\\"cv_split_column_names\\\":null,\\\"enable_local_managed\\\":false,\\\"_local_managed_run_id\\\":null,\\\"cost_mode\\\":1,\\\"lag_length\\\":0,\\\"metric_operation\\\":\\\"maximize\\\",\\\"preprocess\\\":true}\", \"DataPrepJsonString\": null, \"EnableSubsampling\": null, \"runTemplate\": \"AutoML\", \"azureml.runsource\": \"automl\", \"display_task_type\": \"classification\", \"dependencies_versions\": \"{\\\"azureml-widgets\\\": \\\"1.37.0\\\", \\\"azureml-train\\\": \\\"1.37.0\\\", \\\"azureml-train-restclients-hyperdrive\\\": \\\"1.37.0\\\", \\\"azureml-train-core\\\": \\\"1.37.0\\\", \\\"azureml-train-automl\\\": \\\"1.37.0\\\", \\\"azureml-train-automl-runtime\\\": \\\"1.37.0\\\", \\\"azureml-train-automl-client\\\": \\\"1.37.0\\\", \\\"azureml-tensorboard\\\": \\\"1.37.0\\\", \\\"azureml-telemetry\\\": \\\"1.37.0\\\", \\\"azureml-sdk\\\": \\\"1.37.0\\\", \\\"azureml-samples\\\": \\\"0+unknown\\\", \\\"azureml-responsibleai\\\": \\\"1.37.0\\\", \\\"azureml-pipeline\\\": \\\"1.37.0\\\", \\\"azureml-pipeline-steps\\\": \\\"1.37.0\\\", \\\"azureml-pipeline-core\\\": \\\"1.37.0\\\", \\\"azureml-opendatasets\\\": \\\"1.37.0\\\", \\\"azureml-mlflow\\\": \\\"1.37.0\\\", \\\"azureml-interpret\\\": \\\"1.37.0\\\", \\\"azureml-inference-server-http\\\": \\\"0.4.2\\\", \\\"azureml-explain-model\\\": \\\"1.37.0\\\", \\\"azureml-defaults\\\": \\\"1.37.0\\\", \\\"azureml-dataset-runtime\\\": \\\"1.37.0\\\", \\\"azureml-dataprep\\\": \\\"2.25.0\\\", \\\"azureml-dataprep-rslex\\\": \\\"2.1.0\\\", \\\"azureml-dataprep-native\\\": \\\"38.0.0\\\", \\\"azureml-datadrift\\\": \\\"1.37.0\\\", \\\"azureml-core\\\": \\\"1.37.0\\\", \\\"azureml-contrib-services\\\": \\\"1.37.0\\\", \\\"azureml-contrib-server\\\": \\\"1.37.0\\\", \\\"azureml-contrib-reinforcementlearning\\\": \\\"1.37.0\\\", \\\"azureml-contrib-pipeline-steps\\\": \\\"1.37.0\\\", \\\"azureml-contrib-notebook\\\": \\\"1.37.0\\\", \\\"azureml-contrib-fairness\\\": \\\"1.37.0\\\", \\\"azureml-contrib-dataset\\\": \\\"1.37.0\\\", \\\"azureml-contrib-automl-pipeline-steps\\\": \\\"1.37.0\\\", \\\"azureml-cli-common\\\": \\\"1.37.0\\\", \\\"azureml-automl-runtime\\\": \\\"1.37.0\\\", \\\"azureml-automl-dnn-nlp\\\": \\\"1.37.0\\\", \\\"azureml-automl-core\\\": \\\"1.37.0\\\", \\\"azureml-accel-models\\\": \\\"1.37.0\\\"}\", \"_aml_system_scenario_identification\": \"Local.Parent\", \"ClientSdkVersion\": \"1.37.0\", \"ClientType\": \"SDK\", \"environment_cpu_name\": \"AzureML-AutoML\", \"environment_cpu_label\": \"prod\", \"environment_gpu_name\": \"AzureML-AutoML-GPU\", \"environment_gpu_label\": \"prod\", \"root_attribution\": \"automl\", \"attribution\": \"AutoML\", \"Orchestrator\": \"AutoML\", \"_azureml.ComputeTargetType\": \"local\", \"ProblemInfoJsonString\": \"{\\\"dataset_num_categorical\\\": 0, \\\"is_sparse\\\": false, \\\"subsampling\\\": false, \\\"has_extra_col\\\": true, \\\"dataset_classes\\\": 3, \\\"dataset_features\\\": 38, \\\"dataset_samples\\\": 2690, \\\"single_frequency_class_detected\\\": false}\", \"azureml.git.repository_uri\": \"https://github.com/renejra/azure-ml-engineer.git\", \"mlflow.source.git.repoURL\": \"https://github.com/renejra/azure-ml-engineer.git\", \"azureml.git.branch\": \"capstone\", \"mlflow.source.git.branch\": \"capstone\", \"azureml.git.commit\": \"a0370bb3c440ba189085e42f5889c1b08e818dd2\", \"mlflow.source.git.commit\": \"a0370bb3c440ba189085e42f5889c1b08e818dd2\", \"azureml.git.dirty\": \"True\"}, \"tags\": {\"model_explain_run\": \"best_run\", \"best_score\": \"0.6679285810226783\", \"best_pipeline\": \"StackEnsemble\", \"automl_best_child_run_id\": \"AutoML_a3d7aed5-a1be-4326-869d-3f12d1d0ca08_31\", \"model_explain_best_run_child_id\": \"AutoML_a3d7aed5-a1be-4326-869d-3f12d1d0ca08_31\"}, \"end_time_utc\": \"2022-02-01T17:18:25.470585Z\", \"status\": \"Completed\", \"log_files\": {}, \"log_groups\": [], \"run_duration\": \"0:20:37\", \"run_number\": \"2\", \"run_queued_details\": {\"status\": \"Completed\", \"details\": null}}, \"child_runs\": [{\"run_id\": \"AutoML_a3d7aed5-a1be-4326-869d-3f12d1d0ca08_0\", \"run_number\": 3, \"metric\": null, \"status\": \"Completed\", \"run_type\": null, \"training_percent\": \"100\", \"start_time\": \"2022-02-01T16:58:10.559585Z\", \"end_time\": \"2022-02-01T16:58:51.980832Z\", \"created_time\": \"2022-02-01T16:58:10.442816Z\", \"created_time_dt\": \"2022-02-01T16:58:10.442816Z\", \"duration\": \"0:00:41\", \"iteration\": \"0\", \"goal\": \"AUC_weighted_max\", \"run_name\": \"MaxAbsScaler, LightGBM\", \"run_properties\": \"copy=True\", \"primary_metric\": 0.64059367, \"best_metric\": 0.64059367}, {\"run_id\": \"AutoML_a3d7aed5-a1be-4326-869d-3f12d1d0ca08_1\", \"run_number\": 4, \"metric\": null, \"status\": \"Completed\", \"run_type\": null, \"training_percent\": \"100\", \"start_time\": \"2022-02-01T16:58:52.39224Z\", \"end_time\": \"2022-02-01T16:59:31.662132Z\", \"created_time\": \"2022-02-01T16:58:52.252227Z\", \"created_time_dt\": \"2022-02-01T16:58:52.252227Z\", \"duration\": \"0:00:39\", \"iteration\": \"1\", \"goal\": \"AUC_weighted_max\", \"run_name\": \"MaxAbsScaler, XGBoostClassifier\", \"run_properties\": \"copy=True\", \"primary_metric\": 0.65437653, \"best_metric\": 0.65437653}, {\"run_id\": \"AutoML_a3d7aed5-a1be-4326-869d-3f12d1d0ca08_2\", \"run_number\": 5, \"metric\": null, \"status\": \"Completed\", \"run_type\": null, \"training_percent\": \"100\", \"start_time\": \"2022-02-01T16:59:32.508303Z\", \"end_time\": \"2022-02-01T17:00:01.133593Z\", \"created_time\": \"2022-02-01T16:59:32.375807Z\", \"created_time_dt\": \"2022-02-01T16:59:32.375807Z\", \"duration\": \"0:00:28\", \"iteration\": \"2\", \"goal\": \"AUC_weighted_max\", \"run_name\": \"MaxAbsScaler, ExtremeRandomTrees\", \"run_properties\": \"copy=True\", \"primary_metric\": 0.64853761, \"best_metric\": 0.65437653}, {\"run_id\": \"AutoML_a3d7aed5-a1be-4326-869d-3f12d1d0ca08_3\", \"run_number\": 6, \"metric\": null, \"status\": \"Completed\", \"run_type\": null, \"training_percent\": \"100\", \"start_time\": \"2022-02-01T17:00:02.637372Z\", \"end_time\": \"2022-02-01T17:00:31.556133Z\", \"created_time\": \"2022-02-01T17:00:02.442182Z\", \"created_time_dt\": \"2022-02-01T17:00:02.442182Z\", \"duration\": \"0:00:29\", \"iteration\": \"3\", \"goal\": \"AUC_weighted_max\", \"run_name\": \"MaxAbsScaler, RandomForest\", \"run_properties\": \"copy=True\", \"primary_metric\": 0.6504728, \"best_metric\": 0.65437653}, {\"run_id\": \"AutoML_a3d7aed5-a1be-4326-869d-3f12d1d0ca08_4\", \"run_number\": 7, \"metric\": null, \"status\": \"Completed\", \"run_type\": null, \"training_percent\": \"100\", \"start_time\": \"2022-02-01T17:00:33.075906Z\", \"end_time\": \"2022-02-01T17:01:02.746278Z\", \"created_time\": \"2022-02-01T17:00:32.896107Z\", \"created_time_dt\": \"2022-02-01T17:00:32.896107Z\", \"duration\": \"0:00:29\", \"iteration\": \"4\", \"goal\": \"AUC_weighted_max\", \"run_name\": \"StandardScalerWrapper, LightGBM\", \"run_properties\": \"\\n    copy=True,\\n    with_mean=False,\\n    with_std=True\\n\", \"primary_metric\": 0.65188298, \"best_metric\": 0.65437653}, {\"run_id\": \"AutoML_a3d7aed5-a1be-4326-869d-3f12d1d0ca08_5\", \"run_number\": 8, \"metric\": null, \"status\": \"Completed\", \"run_type\": null, \"training_percent\": \"100\", \"start_time\": \"2022-02-01T17:01:04.332435Z\", \"end_time\": \"2022-02-01T17:01:33.640445Z\", \"created_time\": \"2022-02-01T17:01:04.154563Z\", \"created_time_dt\": \"2022-02-01T17:01:04.154563Z\", \"duration\": \"0:00:29\", \"iteration\": \"5\", \"goal\": \"AUC_weighted_max\", \"run_name\": \"StandardScalerWrapper, KNN\", \"run_properties\": \"\\n    copy=True,\\n    with_mean=True,\\n    with_std=False\\n\", \"primary_metric\": 0.61227948, \"best_metric\": 0.65437653}, {\"run_id\": \"AutoML_a3d7aed5-a1be-4326-869d-3f12d1d0ca08_6\", \"run_number\": 9, \"metric\": null, \"status\": \"Completed\", \"run_type\": null, \"training_percent\": \"100\", \"start_time\": \"2022-02-01T17:01:35.100633Z\", \"end_time\": \"2022-02-01T17:02:05.005761Z\", \"created_time\": \"2022-02-01T17:01:34.924677Z\", \"created_time_dt\": \"2022-02-01T17:01:34.924677Z\", \"duration\": \"0:00:30\", \"iteration\": \"6\", \"goal\": \"AUC_weighted_max\", \"run_name\": \"SparseNormalizer, XGBoostClassifier\", \"run_properties\": \"copy=True, norm='max'\", \"primary_metric\": 0.64889137, \"best_metric\": 0.65437653}, {\"run_id\": \"AutoML_a3d7aed5-a1be-4326-869d-3f12d1d0ca08_7\", \"run_number\": 10, \"metric\": null, \"status\": \"Completed\", \"run_type\": null, \"training_percent\": \"100\", \"start_time\": \"2022-02-01T17:02:06.415791Z\", \"end_time\": \"2022-02-01T17:02:40.341171Z\", \"created_time\": \"2022-02-01T17:02:06.225376Z\", \"created_time_dt\": \"2022-02-01T17:02:06.225376Z\", \"duration\": \"0:00:34\", \"iteration\": \"7\", \"goal\": \"AUC_weighted_max\", \"run_name\": \"SparseNormalizer, RandomForest\", \"run_properties\": \"copy=True, norm='l2'\", \"primary_metric\": 0.65030399, \"best_metric\": 0.65437653}, {\"run_id\": \"AutoML_a3d7aed5-a1be-4326-869d-3f12d1d0ca08_8\", \"run_number\": 11, \"metric\": null, \"status\": \"Completed\", \"run_type\": null, \"training_percent\": \"100\", \"start_time\": \"2022-02-01T17:02:41.896Z\", \"end_time\": \"2022-02-01T17:03:10.945633Z\", \"created_time\": \"2022-02-01T17:02:41.722484Z\", \"created_time_dt\": \"2022-02-01T17:02:41.722484Z\", \"duration\": \"0:00:29\", \"iteration\": \"8\", \"goal\": \"AUC_weighted_max\", \"run_name\": \"RobustScaler, KNN\", \"run_properties\": \"copy=True, quantile_range=[25, 75], with_centering=False,\\n             with_scaling=True\", \"primary_metric\": 0.63957278, \"best_metric\": 0.65437653}, {\"run_id\": \"AutoML_a3d7aed5-a1be-4326-869d-3f12d1d0ca08_9\", \"run_number\": 12, \"metric\": null, \"status\": \"Completed\", \"run_type\": null, \"training_percent\": \"100\", \"start_time\": \"2022-02-01T17:03:13.664808Z\", \"end_time\": \"2022-02-01T17:03:44.691057Z\", \"created_time\": \"2022-02-01T17:03:13.479357Z\", \"created_time_dt\": \"2022-02-01T17:03:13.479357Z\", \"duration\": \"0:00:31\", \"iteration\": \"9\", \"goal\": \"AUC_weighted_max\", \"run_name\": \"MinMaxScaler, RandomForest\", \"run_properties\": \"copy=True, feature_range=(0, 1\", \"primary_metric\": 0.64487348, \"best_metric\": 0.65437653}, {\"run_id\": \"AutoML_a3d7aed5-a1be-4326-869d-3f12d1d0ca08_10\", \"run_number\": 13, \"metric\": null, \"status\": \"Completed\", \"run_type\": null, \"training_percent\": \"100\", \"start_time\": \"2022-02-01T17:03:46.153162Z\", \"end_time\": \"2022-02-01T17:04:14.360516Z\", \"created_time\": \"2022-02-01T17:03:45.96987Z\", \"created_time_dt\": \"2022-02-01T17:03:45.96987Z\", \"duration\": \"0:00:28\", \"iteration\": \"10\", \"goal\": \"AUC_weighted_max\", \"run_name\": \"StandardScalerWrapper, LogisticRegression\", \"run_properties\": \"\\n    copy=True,\\n    with_mean=True,\\n    with_std=True\\n\", \"primary_metric\": 0.64745402, \"best_metric\": 0.65437653}, {\"run_id\": \"AutoML_a3d7aed5-a1be-4326-869d-3f12d1d0ca08_11\", \"run_number\": 14, \"metric\": null, \"status\": \"Completed\", \"run_type\": null, \"training_percent\": \"100\", \"start_time\": \"2022-02-01T17:04:15.980217Z\", \"end_time\": \"2022-02-01T17:05:59.632452Z\", \"created_time\": \"2022-02-01T17:04:15.799036Z\", \"created_time_dt\": \"2022-02-01T17:04:15.799036Z\", \"duration\": \"0:01:43\", \"iteration\": \"11\", \"goal\": \"AUC_weighted_max\", \"run_name\": \"StandardScalerWrapper, SVM\", \"run_properties\": \"\\n    copy=True,\\n    with_mean=True,\\n    with_std=True\\n\", \"primary_metric\": 0.60606924, \"best_metric\": 0.65437653}, {\"run_id\": \"AutoML_a3d7aed5-a1be-4326-869d-3f12d1d0ca08_12\", \"run_number\": 15, \"metric\": null, \"status\": \"Completed\", \"run_type\": null, \"training_percent\": \"100\", \"start_time\": \"2022-02-01T17:06:01.329355Z\", \"end_time\": \"2022-02-01T17:06:30.769641Z\", \"created_time\": \"2022-02-01T17:06:01.149579Z\", \"created_time_dt\": \"2022-02-01T17:06:01.149579Z\", \"duration\": \"0:00:29\", \"iteration\": \"12\", \"goal\": \"AUC_weighted_max\", \"run_name\": \"StandardScalerWrapper, XGBoostClassifier\", \"run_properties\": \"\\n    copy=True,\\n    with_mean=False,\\n    with_std=False\\n\", \"primary_metric\": 0.63643116, \"best_metric\": 0.65437653}, {\"run_id\": \"AutoML_a3d7aed5-a1be-4326-869d-3f12d1d0ca08_13\", \"run_number\": 16, \"metric\": null, \"status\": \"Completed\", \"run_type\": null, \"training_percent\": \"100\", \"start_time\": \"2022-02-01T17:06:32.504495Z\", \"end_time\": \"2022-02-01T17:07:01.320021Z\", \"created_time\": \"2022-02-01T17:06:32.285334Z\", \"created_time_dt\": \"2022-02-01T17:06:32.285334Z\", \"duration\": \"0:00:29\", \"iteration\": \"13\", \"goal\": \"AUC_weighted_max\", \"run_name\": \"SparseNormalizer, KNN\", \"run_properties\": \"copy=True, norm='max'\", \"primary_metric\": 0.61634105, \"best_metric\": 0.65437653}, {\"run_id\": \"AutoML_a3d7aed5-a1be-4326-869d-3f12d1d0ca08_14\", \"run_number\": 17, \"metric\": null, \"status\": \"Completed\", \"run_type\": null, \"training_percent\": \"100\", \"start_time\": \"2022-02-01T17:07:02.840398Z\", \"end_time\": \"2022-02-01T17:07:34.458271Z\", \"created_time\": \"2022-02-01T17:07:02.655469Z\", \"created_time_dt\": \"2022-02-01T17:07:02.655469Z\", \"duration\": \"0:00:31\", \"iteration\": \"14\", \"goal\": \"AUC_weighted_max\", \"run_name\": \"RobustScaler, ExtremeRandomTrees\", \"run_properties\": \"copy=True, quantile_range=[10, 90], with_centering=True,\\n             with_scaling=False\", \"primary_metric\": 0.6344976, \"best_metric\": 0.65437653}, {\"run_id\": \"AutoML_a3d7aed5-a1be-4326-869d-3f12d1d0ca08_15\", \"run_number\": 18, \"metric\": null, \"status\": \"Completed\", \"run_type\": null, \"training_percent\": \"100\", \"start_time\": \"2022-02-01T17:07:35.929271Z\", \"end_time\": \"2022-02-01T17:08:06.885095Z\", \"created_time\": \"2022-02-01T17:07:35.755819Z\", \"created_time_dt\": \"2022-02-01T17:07:35.755819Z\", \"duration\": \"0:00:31\", \"iteration\": \"15\", \"goal\": \"AUC_weighted_max\", \"run_name\": \"SparseNormalizer, XGBoostClassifier\", \"run_properties\": \"copy=True, norm='max'\", \"primary_metric\": 0.64069025, \"best_metric\": 0.65437653}, {\"run_id\": \"AutoML_a3d7aed5-a1be-4326-869d-3f12d1d0ca08_16\", \"run_number\": 19, \"metric\": null, \"status\": \"Completed\", \"run_type\": null, \"training_percent\": \"100\", \"start_time\": \"2022-02-01T17:08:08.424146Z\", \"end_time\": \"2022-02-01T17:08:37.586795Z\", \"created_time\": \"2022-02-01T17:08:08.193034Z\", \"created_time_dt\": \"2022-02-01T17:08:08.193034Z\", \"duration\": \"0:00:29\", \"iteration\": \"16\", \"goal\": \"AUC_weighted_max\", \"run_name\": \"MinMaxScaler, ExtremeRandomTrees\", \"run_properties\": \"copy=True, feature_range=(0, 1\", \"primary_metric\": 0.65773482, \"best_metric\": 0.65773482}, {\"run_id\": \"AutoML_a3d7aed5-a1be-4326-869d-3f12d1d0ca08_17\", \"run_number\": 20, \"metric\": null, \"status\": \"Completed\", \"run_type\": null, \"training_percent\": \"100\", \"start_time\": \"2022-02-01T17:08:39.041227Z\", \"end_time\": \"2022-02-01T17:09:07.666165Z\", \"created_time\": \"2022-02-01T17:08:38.852795Z\", \"created_time_dt\": \"2022-02-01T17:08:38.852795Z\", \"duration\": \"0:00:28\", \"iteration\": \"17\", \"goal\": \"AUC_weighted_max\", \"run_name\": \"MinMaxScaler, ExtremeRandomTrees\", \"run_properties\": \"copy=True, feature_range=(0, 1\", \"primary_metric\": 0.65113132, \"best_metric\": 0.65773482}, {\"run_id\": \"AutoML_a3d7aed5-a1be-4326-869d-3f12d1d0ca08_18\", \"run_number\": 21, \"metric\": null, \"status\": \"Completed\", \"run_type\": null, \"training_percent\": \"100\", \"start_time\": \"2022-02-01T17:09:09.119994Z\", \"end_time\": \"2022-02-01T17:09:37.214405Z\", \"created_time\": \"2022-02-01T17:09:08.95466Z\", \"created_time_dt\": \"2022-02-01T17:09:08.95466Z\", \"duration\": \"0:00:28\", \"iteration\": \"18\", \"goal\": \"AUC_weighted_max\", \"run_name\": \"SparseNormalizer, LightGBM\", \"run_properties\": \"copy=True, norm='l1'\", \"primary_metric\": 0.6536414, \"best_metric\": 0.65773482}, {\"run_id\": \"AutoML_a3d7aed5-a1be-4326-869d-3f12d1d0ca08_19\", \"run_number\": 22, \"metric\": null, \"status\": \"Completed\", \"run_type\": null, \"training_percent\": \"100\", \"start_time\": \"2022-02-01T17:09:38.59825Z\", \"end_time\": \"2022-02-01T17:10:14.612509Z\", \"created_time\": \"2022-02-01T17:09:38.431399Z\", \"created_time_dt\": \"2022-02-01T17:09:38.431399Z\", \"duration\": \"0:00:36\", \"iteration\": \"19\", \"goal\": \"AUC_weighted_max\", \"run_name\": \"MaxAbsScaler, ExtremeRandomTrees\", \"run_properties\": \"copy=True\", \"primary_metric\": 0.65576695, \"best_metric\": 0.65773482}, {\"run_id\": \"AutoML_a3d7aed5-a1be-4326-869d-3f12d1d0ca08_20\", \"run_number\": 23, \"metric\": null, \"status\": \"Completed\", \"run_type\": null, \"training_percent\": \"100\", \"start_time\": \"2022-02-01T17:10:16.321501Z\", \"end_time\": \"2022-02-01T17:10:47.43487Z\", \"created_time\": \"2022-02-01T17:10:16.116328Z\", \"created_time_dt\": \"2022-02-01T17:10:16.116328Z\", \"duration\": \"0:00:31\", \"iteration\": \"20\", \"goal\": \"AUC_weighted_max\", \"run_name\": \"StandardScalerWrapper, XGBoostClassifier\", \"run_properties\": \"\\n    copy=True,\\n    with_mean=False,\\n    with_std=False\\n\", \"primary_metric\": 0.65313422, \"best_metric\": 0.65773482}, {\"run_id\": \"AutoML_a3d7aed5-a1be-4326-869d-3f12d1d0ca08_21\", \"run_number\": 24, \"metric\": null, \"status\": \"Completed\", \"run_type\": null, \"training_percent\": \"100\", \"start_time\": \"2022-02-01T17:10:49.107125Z\", \"end_time\": \"2022-02-01T17:11:25.623669Z\", \"created_time\": \"2022-02-01T17:10:48.894865Z\", \"created_time_dt\": \"2022-02-01T17:10:48.894865Z\", \"duration\": \"0:00:36\", \"iteration\": \"21\", \"goal\": \"AUC_weighted_max\", \"run_name\": \"StandardScalerWrapper, RandomForest\", \"run_properties\": \"\\n    copy=True,\\n    with_mean=False,\\n    with_std=False\\n\", \"primary_metric\": 0.62741543, \"best_metric\": 0.65773482}, {\"run_id\": \"AutoML_a3d7aed5-a1be-4326-869d-3f12d1d0ca08_22\", \"run_number\": 25, \"metric\": null, \"status\": \"Completed\", \"run_type\": null, \"training_percent\": \"100\", \"start_time\": \"2022-02-01T17:11:27.071366Z\", \"end_time\": \"2022-02-01T17:12:16.284725Z\", \"created_time\": \"2022-02-01T17:11:26.868214Z\", \"created_time_dt\": \"2022-02-01T17:11:26.868214Z\", \"duration\": \"0:00:49\", \"iteration\": \"22\", \"goal\": \"AUC_weighted_max\", \"run_name\": \"StandardScalerWrapper, SVM\", \"run_properties\": \"\\n    copy=True,\\n    with_mean=False,\\n    with_std=True\\n\", \"primary_metric\": 0.42487538, \"best_metric\": 0.65773482}, {\"run_id\": \"AutoML_a3d7aed5-a1be-4326-869d-3f12d1d0ca08_23\", \"run_number\": 26, \"metric\": null, \"status\": \"Completed\", \"run_type\": null, \"training_percent\": \"100\", \"start_time\": \"2022-02-01T17:12:17.788246Z\", \"end_time\": \"2022-02-01T17:13:05.749501Z\", \"created_time\": \"2022-02-01T17:12:17.56732Z\", \"created_time_dt\": \"2022-02-01T17:12:17.56732Z\", \"duration\": \"0:00:48\", \"iteration\": \"23\", \"goal\": \"AUC_weighted_max\", \"run_name\": \"StandardScalerWrapper, SVM\", \"run_properties\": \"\\n    copy=True,\\n    with_mean=False,\\n    with_std=True\\n\", \"primary_metric\": 0.4246899, \"best_metric\": 0.65773482}, {\"run_id\": \"AutoML_a3d7aed5-a1be-4326-869d-3f12d1d0ca08_24\", \"run_number\": 27, \"metric\": null, \"status\": \"Completed\", \"run_type\": null, \"training_percent\": \"100\", \"start_time\": \"2022-02-01T17:13:07.139618Z\", \"end_time\": \"2022-02-01T17:13:56.313502Z\", \"created_time\": \"2022-02-01T17:13:06.961751Z\", \"created_time_dt\": \"2022-02-01T17:13:06.961751Z\", \"duration\": \"0:00:49\", \"iteration\": \"24\", \"goal\": \"AUC_weighted_max\", \"run_name\": \"StandardScalerWrapper, SVM\", \"run_properties\": \"\\n    copy=True,\\n    with_mean=False,\\n    with_std=True\\n\", \"primary_metric\": 0.59745103, \"best_metric\": 0.65773482}, {\"run_id\": \"AutoML_a3d7aed5-a1be-4326-869d-3f12d1d0ca08_25\", \"run_number\": 28, \"metric\": null, \"status\": \"Completed\", \"run_type\": null, \"training_percent\": \"100\", \"start_time\": \"2022-02-01T17:13:58.991515Z\", \"end_time\": \"2022-02-01T17:14:27.912106Z\", \"created_time\": \"2022-02-01T17:13:58.776595Z\", \"created_time_dt\": \"2022-02-01T17:13:58.776595Z\", \"duration\": \"0:00:29\", \"iteration\": \"25\", \"goal\": \"AUC_weighted_max\", \"run_name\": \"SparseNormalizer, ExtremeRandomTrees\", \"run_properties\": \"copy=True, norm='max'\", \"primary_metric\": 0.5655466, \"best_metric\": 0.65773482}, {\"run_id\": \"AutoML_a3d7aed5-a1be-4326-869d-3f12d1d0ca08_26\", \"run_number\": 29, \"metric\": null, \"status\": \"Completed\", \"run_type\": null, \"training_percent\": \"100\", \"start_time\": \"2022-02-01T17:14:29.384964Z\", \"end_time\": \"2022-02-01T17:14:59.764093Z\", \"created_time\": \"2022-02-01T17:14:29.157339Z\", \"created_time_dt\": \"2022-02-01T17:14:29.157339Z\", \"duration\": \"0:00:30\", \"iteration\": \"26\", \"goal\": \"AUC_weighted_max\", \"run_name\": \"RobustScaler, KNN\", \"run_properties\": \"copy=True, quantile_range=[25, 75], with_centering=False,\\n             with_scaling=True\", \"primary_metric\": 0.63040826, \"best_metric\": 0.65773482}, {\"run_id\": \"AutoML_a3d7aed5-a1be-4326-869d-3f12d1d0ca08_27\", \"run_number\": 30, \"metric\": null, \"status\": \"Completed\", \"run_type\": null, \"training_percent\": \"100\", \"start_time\": \"2022-02-01T17:15:01.303743Z\", \"end_time\": \"2022-02-01T17:15:30.028066Z\", \"created_time\": \"2022-02-01T17:15:01.129206Z\", \"created_time_dt\": \"2022-02-01T17:15:01.129206Z\", \"duration\": \"0:00:28\", \"iteration\": \"27\", \"goal\": \"AUC_weighted_max\", \"run_name\": \"StandardScalerWrapper, LightGBM\", \"run_properties\": \"\\n    copy=True,\\n    with_mean=False,\\n    with_std=False\\n\", \"primary_metric\": 0.64713021, \"best_metric\": 0.65773482}, {\"run_id\": \"AutoML_a3d7aed5-a1be-4326-869d-3f12d1d0ca08_28\", \"run_number\": 31, \"metric\": null, \"status\": \"Completed\", \"run_type\": null, \"training_percent\": \"100\", \"start_time\": \"2022-02-01T17:15:31.589413Z\", \"end_time\": \"2022-02-01T17:16:00.27219Z\", \"created_time\": \"2022-02-01T17:15:31.418746Z\", \"created_time_dt\": \"2022-02-01T17:15:31.418746Z\", \"duration\": \"0:00:28\", \"iteration\": \"28\", \"goal\": \"AUC_weighted_max\", \"run_name\": \"MaxAbsScaler, LightGBM\", \"run_properties\": \"copy=True\", \"primary_metric\": 0.65580115, \"best_metric\": 0.65773482}, {\"run_id\": \"AutoML_a3d7aed5-a1be-4326-869d-3f12d1d0ca08_29\", \"run_number\": 32, \"metric\": null, \"status\": \"Completed\", \"run_type\": null, \"training_percent\": \"100\", \"start_time\": \"2022-02-01T17:16:01.73786Z\", \"end_time\": \"2022-02-01T17:16:41.202202Z\", \"created_time\": \"2022-02-01T17:16:01.55597Z\", \"created_time_dt\": \"2022-02-01T17:16:01.55597Z\", \"duration\": \"0:00:39\", \"iteration\": \"29\", \"goal\": \"AUC_weighted_max\", \"run_name\": \"StandardScalerWrapper, ExtremeRandomTrees\", \"run_properties\": \"\\n    copy=True,\\n    with_mean=False,\\n    with_std=True\\n\", \"primary_metric\": 0.6164943, \"best_metric\": 0.65773482}, {\"run_id\": \"AutoML_a3d7aed5-a1be-4326-869d-3f12d1d0ca08_30\", \"run_number\": 33, \"metric\": null, \"status\": \"Completed\", \"run_type\": null, \"training_percent\": \"100\", \"start_time\": \"2022-02-01T17:16:41.602793Z\", \"end_time\": \"2022-02-01T17:17:21.689538Z\", \"created_time\": \"2022-02-01T17:16:41.466476Z\", \"created_time_dt\": \"2022-02-01T17:16:41.466476Z\", \"duration\": \"0:00:40\", \"iteration\": \"30\", \"goal\": \"AUC_weighted_max\", \"run_name\": \"VotingEnsemble\", \"run_properties\": \"\\n    estimators=[('16', Pipeline(\\n        memory=None,\\n        steps=[('minmaxscaler', MinMaxScaler(\\n            copy=True,\\n            feature_range=(0, 1\", \"primary_metric\": 0.66787868, \"best_metric\": 0.66787868}, {\"run_id\": \"AutoML_a3d7aed5-a1be-4326-869d-3f12d1d0ca08_31\", \"run_number\": 34, \"metric\": null, \"status\": \"Completed\", \"run_type\": null, \"training_percent\": \"100\", \"start_time\": \"2022-02-01T17:17:22.097809Z\", \"end_time\": \"2022-02-01T17:18:25.002704Z\", \"created_time\": \"2022-02-01T17:17:21.97747Z\", \"created_time_dt\": \"2022-02-01T17:17:21.97747Z\", \"duration\": \"0:01:03\", \"iteration\": \"31\", \"goal\": \"AUC_weighted_max\", \"run_name\": \"StackEnsemble\", \"run_properties\": \"\\n    base_learners=[('16', Pipeline(\\n        memory=None,\\n        steps=[('minmaxscaler', MinMaxScaler(\\n            copy=True,\\n            feature_range=(0, 1\", \"primary_metric\": 0.66792858, \"best_metric\": 0.66792858}], \"children_metrics\": {\"categories\": [0], \"series\": {\"precision_score_macro\": [{\"categories\": [\"0\", \"1\", \"2\", \"3\", \"4\", \"5\", \"6\", \"7\", \"8\", \"9\", \"10\", \"11\", \"12\", \"13\", \"14\", \"15\", \"16\", \"17\", \"18\", \"19\", \"20\", \"21\", \"22\", \"23\", \"24\", \"25\", \"26\", \"27\", \"28\", \"29\", \"30\", \"31\"], \"mode\": \"markers\", \"name\": \"precision_score_macro\", \"stepped\": false, \"type\": \"scatter\", \"data\": [0.41419055937815674, 0.41572624757204946, 0.44185771601397594, 0.41548363692471446, 0.42253765112408803, 0.3770203273731382, 0.4279457089706316, 0.44462940987066873, 0.41140046853730095, 0.392766045024069, 0.4393555881159938, 0.4019566602286325, 0.4234664102628747, 0.3823388702392782, 0.43190848437391843, 0.4174435910406772, 0.4350088487259652, 0.4458238150344752, 0.4110356318002652, 0.4411662033664828, 0.4243990598139087, 0.416600321160122, 0.1667905824039653, 0.1667905824039653, 0.21804330332112745, 0.1667905824039653, 0.3968652106299341, 0.40912185816116214, 0.4413483425377612, 0.41689710030085136, 0.44192408764446756, 0.4359707645511568]}, {\"categories\": [\"0\", \"1\", \"2\", \"3\", \"4\", \"5\", \"6\", \"7\", \"8\", \"9\", \"10\", \"11\", \"12\", \"13\", \"14\", \"15\", \"16\", \"17\", \"18\", \"19\", \"20\", \"21\", \"22\", \"23\", \"24\", \"25\", \"26\", \"27\", \"28\", \"29\", \"30\", \"31\"], \"mode\": \"lines\", \"name\": \"precision_score_macro_max\", \"stepped\": true, \"type\": \"scatter\", \"data\": [0.41419055937815674, 0.41572624757204946, 0.44185771601397594, 0.44185771601397594, 0.44185771601397594, 0.44185771601397594, 0.44185771601397594, 0.44462940987066873, 0.44462940987066873, 0.44462940987066873, 0.44462940987066873, 0.44462940987066873, 0.44462940987066873, 0.44462940987066873, 0.44462940987066873, 0.44462940987066873, 0.44462940987066873, 0.4458238150344752, 0.4458238150344752, 0.4458238150344752, 0.4458238150344752, 0.4458238150344752, 0.4458238150344752, 0.4458238150344752, 0.4458238150344752, 0.4458238150344752, 0.4458238150344752, 0.4458238150344752, 0.4458238150344752, 0.4458238150344752, 0.4458238150344752, 0.4458238150344752]}], \"accuracy\": [{\"categories\": [\"0\", \"1\", \"2\", \"3\", \"4\", \"5\", \"6\", \"7\", \"8\", \"9\", \"10\", \"11\", \"12\", \"13\", \"14\", \"15\", \"16\", \"17\", \"18\", \"19\", \"20\", \"21\", \"22\", \"23\", \"24\", \"25\", \"26\", \"27\", \"28\", \"29\", \"30\", \"31\"], \"mode\": \"markers\", \"name\": \"accuracy\", \"stepped\": false, \"type\": \"scatter\", \"data\": [0.4933085501858736, 0.5055762081784387, 0.5189591078066915, 0.5055762081784385, 0.5107806691449814, 0.4851301115241635, 0.5122676579925651, 0.48104089219330853, 0.4996282527881041, 0.5070631970260224, 0.5163568773234201, 0.5063197026022304, 0.5022304832713755, 0.4672862453531598, 0.4881040892193308, 0.4962825278810409, 0.5152416356877324, 0.47434944237918214, 0.5070631970260223, 0.47583643122676583, 0.5115241635687733, 0.48847583643122683, 0.5003717472118959, 0.5003717472118959, 0.4985130111524164, 0.5003717472118959, 0.48698884758364314, 0.5022304832713755, 0.5074349442379182, 0.43977695167286246, 0.5078066914498142, 0.5189591078066915]}, {\"categories\": [\"0\", \"1\", \"2\", \"3\", \"4\", \"5\", \"6\", \"7\", \"8\", \"9\", \"10\", \"11\", \"12\", \"13\", \"14\", \"15\", \"16\", \"17\", \"18\", \"19\", \"20\", \"21\", \"22\", \"23\", \"24\", \"25\", \"26\", \"27\", \"28\", \"29\", \"30\", \"31\"], \"mode\": \"lines\", \"name\": \"accuracy_max\", \"stepped\": true, \"type\": \"scatter\", \"data\": [0.4933085501858736, 0.5055762081784387, 0.5189591078066915, 0.5189591078066915, 0.5189591078066915, 0.5189591078066915, 0.5189591078066915, 0.5189591078066915, 0.5189591078066915, 0.5189591078066915, 0.5189591078066915, 0.5189591078066915, 0.5189591078066915, 0.5189591078066915, 0.5189591078066915, 0.5189591078066915, 0.5189591078066915, 0.5189591078066915, 0.5189591078066915, 0.5189591078066915, 0.5189591078066915, 0.5189591078066915, 0.5189591078066915, 0.5189591078066915, 0.5189591078066915, 0.5189591078066915, 0.5189591078066915, 0.5189591078066915, 0.5189591078066915, 0.5189591078066915, 0.5189591078066915, 0.5189591078066915]}], \"matthews_correlation\": [{\"categories\": [\"0\", \"1\", \"2\", \"3\", \"4\", \"5\", \"6\", \"7\", \"8\", \"9\", \"10\", \"11\", \"12\", \"13\", \"14\", \"15\", \"16\", \"17\", \"18\", \"19\", \"20\", \"21\", \"22\", \"23\", \"24\", \"25\", \"26\", \"27\", \"28\", \"29\", \"30\", \"31\"], \"mode\": \"markers\", \"name\": \"matthews_correlation\", \"stepped\": false, \"type\": \"scatter\", \"data\": [0.14374078644410304, 0.1311262064043073, 0.14819850371063886, 0.14478090073937006, 0.11570004803046383, 0.08916429009886176, 0.15330883551516644, 0.18844714902830495, 0.13537838174824673, 0.12684313029665814, 0.15468588414661494, 0.0732692630257324, 0.15196306888403846, 0.0986365109125336, 0.16659857539483552, 0.13972297302960054, 0.14290705707933687, 0.1884863591706018, 0.11047400656045972, 0.18110892145057036, 0.15181863754340824, 0.13905004813951488, 0.0, 0.0, 0.005014936715464674, 0.0, 0.12030088819495408, 0.07459478378165267, 0.07925082465711505, 0.12802413761752882, 0.07926182593292888, 0.15839060580845984]}, {\"categories\": [\"0\", \"1\", \"2\", \"3\", \"4\", \"5\", \"6\", \"7\", \"8\", \"9\", \"10\", \"11\", \"12\", \"13\", \"14\", \"15\", \"16\", \"17\", \"18\", \"19\", \"20\", \"21\", \"22\", \"23\", \"24\", \"25\", \"26\", \"27\", \"28\", \"29\", \"30\", \"31\"], \"mode\": \"lines\", \"name\": \"matthews_correlation_max\", \"stepped\": true, \"type\": \"scatter\", \"data\": [0.14374078644410304, 0.14374078644410304, 0.14819850371063886, 0.14819850371063886, 0.14819850371063886, 0.14819850371063886, 0.15330883551516644, 0.18844714902830495, 0.18844714902830495, 0.18844714902830495, 0.18844714902830495, 0.18844714902830495, 0.18844714902830495, 0.18844714902830495, 0.18844714902830495, 0.18844714902830495, 0.18844714902830495, 0.1884863591706018, 0.1884863591706018, 0.1884863591706018, 0.1884863591706018, 0.1884863591706018, 0.1884863591706018, 0.1884863591706018, 0.1884863591706018, 0.1884863591706018, 0.1884863591706018, 0.1884863591706018, 0.1884863591706018, 0.1884863591706018, 0.1884863591706018, 0.1884863591706018]}], \"average_precision_score_micro\": [{\"categories\": [\"0\", \"1\", \"2\", \"3\", \"4\", \"5\", \"6\", \"7\", \"8\", \"9\", \"10\", \"11\", \"12\", \"13\", \"14\", \"15\", \"16\", \"17\", \"18\", \"19\", \"20\", \"21\", \"22\", \"23\", \"24\", \"25\", \"26\", \"27\", \"28\", \"29\", \"30\", \"31\"], \"mode\": \"markers\", \"name\": \"average_precision_score_micro\", \"stepped\": false, \"type\": \"scatter\", \"data\": [0.5367813058318547, 0.5553546003037105, 0.5515768139881602, 0.5492736285414637, 0.5540029632836292, 0.526340481779755, 0.5539160290481282, 0.5112685226861478, 0.5455270188622019, 0.5481093595585963, 0.5502872384999196, 0.5109658085583911, 0.5343848396346509, 0.5192505746547069, 0.49244200419754963, 0.5423707578904937, 0.5593607896716787, 0.5036163095053988, 0.5568049162374887, 0.5120057050613871, 0.553530284909937, 0.5213601598969023, 0.41095789291826906, 0.4126561412466835, 0.5055555414350468, 0.47942273168657346, 0.5347594048854745, 0.5490971642522113, 0.5555798577406803, 0.47394094966297695, 0.5650731640663531, 0.5683960855948215]}, {\"categories\": [\"0\", \"1\", \"2\", \"3\", \"4\", \"5\", \"6\", \"7\", \"8\", \"9\", \"10\", \"11\", \"12\", \"13\", \"14\", \"15\", \"16\", \"17\", \"18\", \"19\", \"20\", \"21\", \"22\", \"23\", \"24\", \"25\", \"26\", \"27\", \"28\", \"29\", \"30\", \"31\"], \"mode\": \"lines\", \"name\": \"average_precision_score_micro_max\", \"stepped\": true, \"type\": \"scatter\", \"data\": [0.5367813058318547, 0.5553546003037105, 0.5553546003037105, 0.5553546003037105, 0.5553546003037105, 0.5553546003037105, 0.5553546003037105, 0.5553546003037105, 0.5553546003037105, 0.5553546003037105, 0.5553546003037105, 0.5553546003037105, 0.5553546003037105, 0.5553546003037105, 0.5553546003037105, 0.5553546003037105, 0.5593607896716787, 0.5593607896716787, 0.5593607896716787, 0.5593607896716787, 0.5593607896716787, 0.5593607896716787, 0.5593607896716787, 0.5593607896716787, 0.5593607896716787, 0.5593607896716787, 0.5593607896716787, 0.5593607896716787, 0.5593607896716787, 0.5593607896716787, 0.5650731640663531, 0.5683960855948215]}], \"recall_score_weighted\": [{\"categories\": [\"0\", \"1\", \"2\", \"3\", \"4\", \"5\", \"6\", \"7\", \"8\", \"9\", \"10\", \"11\", \"12\", \"13\", \"14\", \"15\", \"16\", \"17\", \"18\", \"19\", \"20\", \"21\", \"22\", \"23\", \"24\", \"25\", \"26\", \"27\", \"28\", \"29\", \"30\", \"31\"], \"mode\": \"markers\", \"name\": \"recall_score_weighted\", \"stepped\": false, \"type\": \"scatter\", \"data\": [0.4933085501858736, 0.5055762081784387, 0.5189591078066915, 0.5055762081784385, 0.5107806691449814, 0.4851301115241635, 0.5122676579925651, 0.48104089219330853, 0.4996282527881041, 0.5070631970260224, 0.5163568773234201, 0.5063197026022304, 0.5022304832713755, 0.4672862453531598, 0.4881040892193308, 0.4962825278810409, 0.5152416356877324, 0.47434944237918214, 0.5070631970260223, 0.47583643122676583, 0.5115241635687733, 0.48847583643122683, 0.5003717472118959, 0.5003717472118959, 0.4985130111524164, 0.5003717472118959, 0.48698884758364314, 0.5022304832713755, 0.5074349442379182, 0.43977695167286246, 0.5078066914498142, 0.5189591078066915]}, {\"categories\": [\"0\", \"1\", \"2\", \"3\", \"4\", \"5\", \"6\", \"7\", \"8\", \"9\", \"10\", \"11\", \"12\", \"13\", \"14\", \"15\", \"16\", \"17\", \"18\", \"19\", \"20\", \"21\", \"22\", \"23\", \"24\", \"25\", \"26\", \"27\", \"28\", \"29\", \"30\", \"31\"], \"mode\": \"lines\", \"name\": \"recall_score_weighted_max\", \"stepped\": true, \"type\": \"scatter\", \"data\": [0.4933085501858736, 0.5055762081784387, 0.5189591078066915, 0.5189591078066915, 0.5189591078066915, 0.5189591078066915, 0.5189591078066915, 0.5189591078066915, 0.5189591078066915, 0.5189591078066915, 0.5189591078066915, 0.5189591078066915, 0.5189591078066915, 0.5189591078066915, 0.5189591078066915, 0.5189591078066915, 0.5189591078066915, 0.5189591078066915, 0.5189591078066915, 0.5189591078066915, 0.5189591078066915, 0.5189591078066915, 0.5189591078066915, 0.5189591078066915, 0.5189591078066915, 0.5189591078066915, 0.5189591078066915, 0.5189591078066915, 0.5189591078066915, 0.5189591078066915, 0.5189591078066915, 0.5189591078066915]}], \"precision_score_weighted\": [{\"categories\": [\"0\", \"1\", \"2\", \"3\", \"4\", \"5\", \"6\", \"7\", \"8\", \"9\", \"10\", \"11\", \"12\", \"13\", \"14\", \"15\", \"16\", \"17\", \"18\", \"19\", \"20\", \"21\", \"22\", \"23\", \"24\", \"25\", \"26\", \"27\", \"28\", \"29\", \"30\", \"31\"], \"mode\": \"markers\", \"name\": \"precision_score_weighted\", \"stepped\": false, \"type\": \"scatter\", \"data\": [0.45716927228431475, 0.45143708764239987, 0.47034364036666626, 0.45505126364325366, 0.4512010240480312, 0.4196127122837696, 0.46493520362977714, 0.5000382360616099, 0.4519130779766735, 0.4314324315328816, 0.47017090161472225, 0.4341898736651123, 0.46317728207594017, 0.42908343798276044, 0.47788360356674897, 0.45727861768128075, 0.4647114661468074, 0.5049747877592483, 0.4426964576503501, 0.4946346536277219, 0.4618075680257676, 0.4579148121758858, 0.2510178134630533, 0.2510178134630533, 0.28863721671491, 0.2510178134630533, 0.4407261654772503, 0.4384405378163632, 0.4604215045538643, 0.46461494061807, 0.4596815591322388, 0.4689070952366706]}, {\"categories\": [\"0\", \"1\", \"2\", \"3\", \"4\", \"5\", \"6\", \"7\", \"8\", \"9\", \"10\", \"11\", \"12\", \"13\", \"14\", \"15\", \"16\", \"17\", \"18\", \"19\", \"20\", \"21\", \"22\", \"23\", \"24\", \"25\", \"26\", \"27\", \"28\", \"29\", \"30\", \"31\"], \"mode\": \"lines\", \"name\": \"precision_score_weighted_max\", \"stepped\": true, \"type\": \"scatter\", \"data\": [0.45716927228431475, 0.45716927228431475, 0.47034364036666626, 0.47034364036666626, 0.47034364036666626, 0.47034364036666626, 0.47034364036666626, 0.5000382360616099, 0.5000382360616099, 0.5000382360616099, 0.5000382360616099, 0.5000382360616099, 0.5000382360616099, 0.5000382360616099, 0.5000382360616099, 0.5000382360616099, 0.5000382360616099, 0.5049747877592483, 0.5049747877592483, 0.5049747877592483, 0.5049747877592483, 0.5049747877592483, 0.5049747877592483, 0.5049747877592483, 0.5049747877592483, 0.5049747877592483, 0.5049747877592483, 0.5049747877592483, 0.5049747877592483, 0.5049747877592483, 0.5049747877592483, 0.5049747877592483]}], \"weighted_accuracy\": [{\"categories\": [\"0\", \"1\", \"2\", \"3\", \"4\", \"5\", \"6\", \"7\", \"8\", \"9\", \"10\", \"11\", \"12\", \"13\", \"14\", \"15\", \"16\", \"17\", \"18\", \"19\", \"20\", \"21\", \"22\", \"23\", \"24\", \"25\", \"26\", \"27\", \"28\", \"29\", \"30\", \"31\"], \"mode\": \"markers\", \"name\": \"weighted_accuracy\", \"stepped\": false, \"type\": \"scatter\", \"data\": [0.5782480326764395, 0.6182816243047362, 0.6397267723522623, 0.6091732799157714, 0.6458832866488999, 0.5992881718243693, 0.6184782834891501, 0.5169310792236146, 0.6008737807930971, 0.6260411246943287, 0.6262516942318976, 0.6628774832043067, 0.5925526788483615, 0.5530789477431944, 0.5503525498333908, 0.5869803557583969, 0.6334862413697816, 0.5035139204689204, 0.6383460501569688, 0.5089638850398839, 0.6175858714406909, 0.5681067075014201, 0.6654966724219805, 0.6654966724219805, 0.6600502248230083, 0.6654966724219805, 0.5823998073052148, 0.6493179943026373, 0.6610765152882456, 0.47180901813464526, 0.6656361077428204, 0.6334206996762388]}, {\"categories\": [\"0\", \"1\", \"2\", \"3\", \"4\", \"5\", \"6\", \"7\", \"8\", \"9\", \"10\", \"11\", \"12\", \"13\", \"14\", \"15\", \"16\", \"17\", \"18\", \"19\", \"20\", \"21\", \"22\", \"23\", \"24\", \"25\", \"26\", \"27\", \"28\", \"29\", \"30\", \"31\"], \"mode\": \"lines\", \"name\": \"weighted_accuracy_max\", \"stepped\": true, \"type\": \"scatter\", \"data\": [0.5782480326764395, 0.6182816243047362, 0.6397267723522623, 0.6397267723522623, 0.6458832866488999, 0.6458832866488999, 0.6458832866488999, 0.6458832866488999, 0.6458832866488999, 0.6458832866488999, 0.6458832866488999, 0.6628774832043067, 0.6628774832043067, 0.6628774832043067, 0.6628774832043067, 0.6628774832043067, 0.6628774832043067, 0.6628774832043067, 0.6628774832043067, 0.6628774832043067, 0.6628774832043067, 0.6628774832043067, 0.6654966724219805, 0.6654966724219805, 0.6654966724219805, 0.6654966724219805, 0.6654966724219805, 0.6654966724219805, 0.6654966724219805, 0.6654966724219805, 0.6656361077428204, 0.6656361077428204]}], \"average_precision_score_macro\": [{\"categories\": [\"0\", \"1\", \"2\", \"3\", \"4\", \"5\", \"6\", \"7\", \"8\", \"9\", \"10\", \"11\", \"12\", \"13\", \"14\", \"15\", \"16\", \"17\", \"18\", \"19\", \"20\", \"21\", \"22\", \"23\", \"24\", \"25\", \"26\", \"27\", \"28\", \"29\", \"30\", \"31\"], \"mode\": \"markers\", \"name\": \"average_precision_score_macro\", \"stepped\": false, \"type\": \"scatter\", \"data\": [0.44038882935739876, 0.45294432991766004, 0.44548268757686416, 0.44424019282847443, 0.45189411518514183, 0.41419824264935395, 0.452955974234664, 0.4424114495035124, 0.43489942436924506, 0.44345151869477634, 0.4550087501962235, 0.41642887365946474, 0.435597357193681, 0.4200147653712573, 0.4347710703049068, 0.4419660929596977, 0.4525727929642363, 0.4409193890605597, 0.45106864454905604, 0.44704524788413397, 0.45163808306698117, 0.42900198753139385, 0.2996812389211844, 0.30012407785707584, 0.40829485385569414, 0.3760741715639988, 0.4244802791143103, 0.4445718560669915, 0.45312221379282897, 0.42498928799803426, 0.4653781234713711, 0.46828134392801246]}, {\"categories\": [\"0\", \"1\", \"2\", \"3\", \"4\", \"5\", \"6\", \"7\", \"8\", \"9\", \"10\", \"11\", \"12\", \"13\", \"14\", \"15\", \"16\", \"17\", \"18\", \"19\", \"20\", \"21\", \"22\", \"23\", \"24\", \"25\", \"26\", \"27\", \"28\", \"29\", \"30\", \"31\"], \"mode\": \"lines\", \"name\": \"average_precision_score_macro_max\", \"stepped\": true, \"type\": \"scatter\", \"data\": [0.44038882935739876, 0.45294432991766004, 0.45294432991766004, 0.45294432991766004, 0.45294432991766004, 0.45294432991766004, 0.452955974234664, 0.452955974234664, 0.452955974234664, 0.452955974234664, 0.4550087501962235, 0.4550087501962235, 0.4550087501962235, 0.4550087501962235, 0.4550087501962235, 0.4550087501962235, 0.4550087501962235, 0.4550087501962235, 0.4550087501962235, 0.4550087501962235, 0.4550087501962235, 0.4550087501962235, 0.4550087501962235, 0.4550087501962235, 0.4550087501962235, 0.4550087501962235, 0.4550087501962235, 0.4550087501962235, 0.4550087501962235, 0.4550087501962235, 0.4653781234713711, 0.46828134392801246]}], \"log_loss\": [{\"categories\": [\"0\", \"1\", \"2\", \"3\", \"4\", \"5\", \"6\", \"7\", \"8\", \"9\", \"10\", \"11\", \"12\", \"13\", \"14\", \"15\", \"16\", \"17\", \"18\", \"19\", \"20\", \"21\", \"22\", \"23\", \"24\", \"25\", \"26\", \"27\", \"28\", \"29\", \"30\", \"31\"], \"mode\": \"markers\", \"name\": \"log_loss\", \"stepped\": false, \"type\": \"scatter\", \"data\": [1.071770754559743, 0.9920812216649635, 0.9915519868843727, 0.9997931965341238, 0.9909566150080256, 1.0394937210528095, 1.0075183331307886, 1.0293516037138357, 1.208554289802135, 0.9939029771709021, 0.9954693479067268, 1.018797306625729, 1.0112358385191167, 2.1555313633153097, 1.0584356476456527, 1.0098838318336283, 0.985468655728655, 1.0354998567700737, 0.9905358830271023, 1.0329588826288567, 0.9924609243813135, 1.1471542194883466, 1.0429979221056729, 1.0414349907702143, 1.0204549629137136, 1.0383943742254338, 1.6151808166414625, 0.9960257382318746, 0.995330290450967, 1.0732067132484757, 0.993850653947959, 0.9787611815286867]}, {\"categories\": [\"0\", \"1\", \"2\", \"3\", \"4\", \"5\", \"6\", \"7\", \"8\", \"9\", \"10\", \"11\", \"12\", \"13\", \"14\", \"15\", \"16\", \"17\", \"18\", \"19\", \"20\", \"21\", \"22\", \"23\", \"24\", \"25\", \"26\", \"27\", \"28\", \"29\", \"30\", \"31\"], \"mode\": \"lines\", \"name\": \"log_loss_min\", \"stepped\": true, \"type\": \"scatter\", \"data\": [1.071770754559743, 0.9920812216649635, 0.9915519868843727, 0.9915519868843727, 0.9909566150080256, 0.9909566150080256, 0.9909566150080256, 0.9909566150080256, 0.9909566150080256, 0.9909566150080256, 0.9909566150080256, 0.9909566150080256, 0.9909566150080256, 0.9909566150080256, 0.9909566150080256, 0.9909566150080256, 0.985468655728655, 0.985468655728655, 0.985468655728655, 0.985468655728655, 0.985468655728655, 0.985468655728655, 0.985468655728655, 0.985468655728655, 0.985468655728655, 0.985468655728655, 0.985468655728655, 0.985468655728655, 0.985468655728655, 0.985468655728655, 0.985468655728655, 0.9787611815286867]}], \"balanced_accuracy\": [{\"categories\": [\"0\", \"1\", \"2\", \"3\", \"4\", \"5\", \"6\", \"7\", \"8\", \"9\", \"10\", \"11\", \"12\", \"13\", \"14\", \"15\", \"16\", \"17\", \"18\", \"19\", \"20\", \"21\", \"22\", \"23\", \"24\", \"25\", \"26\", \"27\", \"28\", \"29\", \"30\", \"31\"], \"mode\": \"markers\", \"name\": \"balanced_accuracy\", \"stepped\": false, \"type\": \"scatter\", \"data\": [0.4075174671546753, 0.39129749916834783, 0.3968653250319535, 0.4009550227126251, 0.3741131868553377, 0.3697059414402197, 0.4047420067939552, 0.44508899952359104, 0.3974275615906621, 0.38694624680711426, 0.405218230419901, 0.3478793177131604, 0.4109671551037876, 0.3805240009700346, 0.42542497554421776, 0.4043503484599952, 0.39596151547123143, 0.44502713791280246, 0.3740345059008516, 0.44258668078174673, 0.40416911403314915, 0.40778761013989345, 0.3333333333333333, 0.3333333333333333, 0.33514322442307776, 0.3333333333333333, 0.3906118529301029, 0.3535083563740016, 0.3520758523917676, 0.4078550796079908, 0.34824564815689435, 0.4032980325342598]}, {\"categories\": [\"0\", \"1\", \"2\", \"3\", \"4\", \"5\", \"6\", \"7\", \"8\", \"9\", \"10\", \"11\", \"12\", \"13\", \"14\", \"15\", \"16\", \"17\", \"18\", \"19\", \"20\", \"21\", \"22\", \"23\", \"24\", \"25\", \"26\", \"27\", \"28\", \"29\", \"30\", \"31\"], \"mode\": \"lines\", \"name\": \"balanced_accuracy_max\", \"stepped\": true, \"type\": \"scatter\", \"data\": [0.4075174671546753, 0.4075174671546753, 0.4075174671546753, 0.4075174671546753, 0.4075174671546753, 0.4075174671546753, 0.4075174671546753, 0.44508899952359104, 0.44508899952359104, 0.44508899952359104, 0.44508899952359104, 0.44508899952359104, 0.44508899952359104, 0.44508899952359104, 0.44508899952359104, 0.44508899952359104, 0.44508899952359104, 0.44508899952359104, 0.44508899952359104, 0.44508899952359104, 0.44508899952359104, 0.44508899952359104, 0.44508899952359104, 0.44508899952359104, 0.44508899952359104, 0.44508899952359104, 0.44508899952359104, 0.44508899952359104, 0.44508899952359104, 0.44508899952359104, 0.44508899952359104, 0.44508899952359104]}], \"norm_macro_recall\": [{\"categories\": [\"0\", \"1\", \"2\", \"3\", \"4\", \"5\", \"6\", \"7\", \"8\", \"9\", \"10\", \"11\", \"12\", \"13\", \"14\", \"15\", \"16\", \"17\", \"18\", \"19\", \"20\", \"21\", \"22\", \"23\", \"24\", \"25\", \"26\", \"27\", \"28\", \"29\", \"30\", \"31\"], \"mode\": \"markers\", \"name\": \"norm_macro_recall\", \"stepped\": false, \"type\": \"scatter\", \"data\": [0.11127620073201298, 0.08694624875252172, 0.09529798754793023, 0.10143253406893762, 0.061169780283006514, 0.054558912160329584, 0.10711301019093289, 0.16763349928538665, 0.09614134238599323, 0.0804193702106714, 0.10782734562985155, 0.021818976569740637, 0.11645073265568143, 0.07078600145505189, 0.13813746331632665, 0.1065255226899928, 0.09394227320684716, 0.16754070686920375, 0.06105175885127738, 0.16388002117262016, 0.10625367104972372, 0.11168141520984018, 0.0, 0.0, 0.0034553239053531242, 0.0, 0.08591777939515438, 0.03026253456100237, 0.028113778587651385, 0.11178261941198622, 0.02236847223534155, 0.10494704880138964]}, {\"categories\": [\"0\", \"1\", \"2\", \"3\", \"4\", \"5\", \"6\", \"7\", \"8\", \"9\", \"10\", \"11\", \"12\", \"13\", \"14\", \"15\", \"16\", \"17\", \"18\", \"19\", \"20\", \"21\", \"22\", \"23\", \"24\", \"25\", \"26\", \"27\", \"28\", \"29\", \"30\", \"31\"], \"mode\": \"lines\", \"name\": \"norm_macro_recall_max\", \"stepped\": true, \"type\": \"scatter\", \"data\": [0.11127620073201298, 0.11127620073201298, 0.11127620073201298, 0.11127620073201298, 0.11127620073201298, 0.11127620073201298, 0.11127620073201298, 0.16763349928538665, 0.16763349928538665, 0.16763349928538665, 0.16763349928538665, 0.16763349928538665, 0.16763349928538665, 0.16763349928538665, 0.16763349928538665, 0.16763349928538665, 0.16763349928538665, 0.16763349928538665, 0.16763349928538665, 0.16763349928538665, 0.16763349928538665, 0.16763349928538665, 0.16763349928538665, 0.16763349928538665, 0.16763349928538665, 0.16763349928538665, 0.16763349928538665, 0.16763349928538665, 0.16763349928538665, 0.16763349928538665, 0.16763349928538665, 0.16763349928538665]}], \"precision_score_micro\": [{\"categories\": [\"0\", \"1\", \"2\", \"3\", \"4\", \"5\", \"6\", \"7\", \"8\", \"9\", \"10\", \"11\", \"12\", \"13\", \"14\", \"15\", \"16\", \"17\", \"18\", \"19\", \"20\", \"21\", \"22\", \"23\", \"24\", \"25\", \"26\", \"27\", \"28\", \"29\", \"30\", \"31\"], \"mode\": \"markers\", \"name\": \"precision_score_micro\", \"stepped\": false, \"type\": \"scatter\", \"data\": [0.4933085501858736, 0.5055762081784387, 0.5189591078066915, 0.5055762081784385, 0.5107806691449814, 0.4851301115241635, 0.5122676579925651, 0.48104089219330853, 0.4996282527881041, 0.5070631970260224, 0.5163568773234201, 0.5063197026022304, 0.5022304832713755, 0.4672862453531598, 0.4881040892193308, 0.4962825278810409, 0.5152416356877324, 0.47434944237918214, 0.5070631970260223, 0.47583643122676583, 0.5115241635687733, 0.48847583643122683, 0.5003717472118959, 0.5003717472118959, 0.4985130111524164, 0.5003717472118959, 0.48698884758364314, 0.5022304832713755, 0.5074349442379182, 0.43977695167286246, 0.5078066914498142, 0.5189591078066915]}, {\"categories\": [\"0\", \"1\", \"2\", \"3\", \"4\", \"5\", \"6\", \"7\", \"8\", \"9\", \"10\", \"11\", \"12\", \"13\", \"14\", \"15\", \"16\", \"17\", \"18\", \"19\", \"20\", \"21\", \"22\", \"23\", \"24\", \"25\", \"26\", \"27\", \"28\", \"29\", \"30\", \"31\"], \"mode\": \"lines\", \"name\": \"precision_score_micro_max\", \"stepped\": true, \"type\": \"scatter\", \"data\": [0.4933085501858736, 0.5055762081784387, 0.5189591078066915, 0.5189591078066915, 0.5189591078066915, 0.5189591078066915, 0.5189591078066915, 0.5189591078066915, 0.5189591078066915, 0.5189591078066915, 0.5189591078066915, 0.5189591078066915, 0.5189591078066915, 0.5189591078066915, 0.5189591078066915, 0.5189591078066915, 0.5189591078066915, 0.5189591078066915, 0.5189591078066915, 0.5189591078066915, 0.5189591078066915, 0.5189591078066915, 0.5189591078066915, 0.5189591078066915, 0.5189591078066915, 0.5189591078066915, 0.5189591078066915, 0.5189591078066915, 0.5189591078066915, 0.5189591078066915, 0.5189591078066915, 0.5189591078066915]}], \"AUC_macro\": [{\"categories\": [\"0\", \"1\", \"2\", \"3\", \"4\", \"5\", \"6\", \"7\", \"8\", \"9\", \"10\", \"11\", \"12\", \"13\", \"14\", \"15\", \"16\", \"17\", \"18\", \"19\", \"20\", \"21\", \"22\", \"23\", \"24\", \"25\", \"26\", \"27\", \"28\", \"29\", \"30\", \"31\"], \"mode\": \"markers\", \"name\": \"AUC_macro\", \"stepped\": false, \"type\": \"scatter\", \"data\": [0.6284701481724453, 0.6431953842657955, 0.6387955694382119, 0.6380919470445909, 0.6410808722369675, 0.5968877523329839, 0.6360304499451939, 0.6367733291794037, 0.6241694199701799, 0.6357807988832344, 0.6383158482237439, 0.5975549131235168, 0.6244311027084748, 0.600953102072118, 0.6256543515535011, 0.6280716748768158, 0.6472875493783043, 0.6365119761695437, 0.6423687118743674, 0.643209687744853, 0.6406734155617231, 0.6146137801605948, 0.4298743926002649, 0.4293119034162962, 0.5911580284806981, 0.5605435131972055, 0.6139771825500511, 0.6371648830302595, 0.6453785276596813, 0.6090998664676754, 0.6569216362888197, 0.657224090171707]}, {\"categories\": [\"0\", \"1\", \"2\", \"3\", \"4\", \"5\", \"6\", \"7\", \"8\", \"9\", \"10\", \"11\", \"12\", \"13\", \"14\", \"15\", \"16\", \"17\", \"18\", \"19\", \"20\", \"21\", \"22\", \"23\", \"24\", \"25\", \"26\", \"27\", \"28\", \"29\", \"30\", \"31\"], \"mode\": \"lines\", \"name\": \"AUC_macro_max\", \"stepped\": true, \"type\": \"scatter\", \"data\": [0.6284701481724453, 0.6431953842657955, 0.6431953842657955, 0.6431953842657955, 0.6431953842657955, 0.6431953842657955, 0.6431953842657955, 0.6431953842657955, 0.6431953842657955, 0.6431953842657955, 0.6431953842657955, 0.6431953842657955, 0.6431953842657955, 0.6431953842657955, 0.6431953842657955, 0.6431953842657955, 0.6472875493783043, 0.6472875493783043, 0.6472875493783043, 0.6472875493783043, 0.6472875493783043, 0.6472875493783043, 0.6472875493783043, 0.6472875493783043, 0.6472875493783043, 0.6472875493783043, 0.6472875493783043, 0.6472875493783043, 0.6472875493783043, 0.6472875493783043, 0.6569216362888197, 0.657224090171707]}], \"f1_score_macro\": [{\"categories\": [\"0\", \"1\", \"2\", \"3\", \"4\", \"5\", \"6\", \"7\", \"8\", \"9\", \"10\", \"11\", \"12\", \"13\", \"14\", \"15\", \"16\", \"17\", \"18\", \"19\", \"20\", \"21\", \"22\", \"23\", \"24\", \"25\", \"26\", \"27\", \"28\", \"29\", \"30\", \"31\"], \"mode\": \"markers\", \"name\": \"f1_score_macro\", \"stepped\": false, \"type\": \"scatter\", \"data\": [0.40144644025928927, 0.37141365869877824, 0.37138363061262425, 0.3863123786805305, 0.3299101139215493, 0.3447168604760601, 0.39065498067337795, 0.442229579710039, 0.3841754496368076, 0.35458545863813173, 0.3885236267182888, 0.26147370909264617, 0.40416785461573, 0.3730045891362743, 0.4139680085240528, 0.39746251662874155, 0.3702970300767053, 0.4410790412904754, 0.3333758418573679, 0.4391143342223178, 0.3896974428071068, 0.40450073288149674, 0.22220589249699452, 0.22220589249699452, 0.23209060296893344, 0.22220589249699452, 0.3792512904124838, 0.28634519139556935, 0.2734785933120606, 0.3921487045728055, 0.26052238073486367, 0.3801583603600981]}, {\"categories\": [\"0\", \"1\", \"2\", \"3\", \"4\", \"5\", \"6\", \"7\", \"8\", \"9\", \"10\", \"11\", \"12\", \"13\", \"14\", \"15\", \"16\", \"17\", \"18\", \"19\", \"20\", \"21\", \"22\", \"23\", \"24\", \"25\", \"26\", \"27\", \"28\", \"29\", \"30\", \"31\"], \"mode\": \"lines\", \"name\": \"f1_score_macro_max\", \"stepped\": true, \"type\": \"scatter\", \"data\": [0.40144644025928927, 0.40144644025928927, 0.40144644025928927, 0.40144644025928927, 0.40144644025928927, 0.40144644025928927, 0.40144644025928927, 0.442229579710039, 0.442229579710039, 0.442229579710039, 0.442229579710039, 0.442229579710039, 0.442229579710039, 0.442229579710039, 0.442229579710039, 0.442229579710039, 0.442229579710039, 0.442229579710039, 0.442229579710039, 0.442229579710039, 0.442229579710039, 0.442229579710039, 0.442229579710039, 0.442229579710039, 0.442229579710039, 0.442229579710039, 0.442229579710039, 0.442229579710039, 0.442229579710039, 0.442229579710039, 0.442229579710039, 0.442229579710039]}], \"recall_score_macro\": [{\"categories\": [\"0\", \"1\", \"2\", \"3\", \"4\", \"5\", \"6\", \"7\", \"8\", \"9\", \"10\", \"11\", \"12\", \"13\", \"14\", \"15\", \"16\", \"17\", \"18\", \"19\", \"20\", \"21\", \"22\", \"23\", \"24\", \"25\", \"26\", \"27\", \"28\", \"29\", \"30\", \"31\"], \"mode\": \"markers\", \"name\": \"recall_score_macro\", \"stepped\": false, \"type\": \"scatter\", \"data\": [0.4075174671546753, 0.39129749916834783, 0.3968653250319535, 0.4009550227126251, 0.3741131868553377, 0.3697059414402197, 0.4047420067939552, 0.44508899952359104, 0.3974275615906621, 0.38694624680711426, 0.405218230419901, 0.3478793177131604, 0.4109671551037876, 0.3805240009700346, 0.42542497554421776, 0.4043503484599952, 0.39596151547123143, 0.44502713791280246, 0.3740345059008516, 0.44258668078174673, 0.40416911403314915, 0.40778761013989345, 0.3333333333333333, 0.3333333333333333, 0.33514322442307776, 0.3333333333333333, 0.3906118529301029, 0.3535083563740016, 0.3520758523917676, 0.4078550796079908, 0.34824564815689435, 0.4032980325342598]}, {\"categories\": [\"0\", \"1\", \"2\", \"3\", \"4\", \"5\", \"6\", \"7\", \"8\", \"9\", \"10\", \"11\", \"12\", \"13\", \"14\", \"15\", \"16\", \"17\", \"18\", \"19\", \"20\", \"21\", \"22\", \"23\", \"24\", \"25\", \"26\", \"27\", \"28\", \"29\", \"30\", \"31\"], \"mode\": \"lines\", \"name\": \"recall_score_macro_max\", \"stepped\": true, \"type\": \"scatter\", \"data\": [0.4075174671546753, 0.4075174671546753, 0.4075174671546753, 0.4075174671546753, 0.4075174671546753, 0.4075174671546753, 0.4075174671546753, 0.44508899952359104, 0.44508899952359104, 0.44508899952359104, 0.44508899952359104, 0.44508899952359104, 0.44508899952359104, 0.44508899952359104, 0.44508899952359104, 0.44508899952359104, 0.44508899952359104, 0.44508899952359104, 0.44508899952359104, 0.44508899952359104, 0.44508899952359104, 0.44508899952359104, 0.44508899952359104, 0.44508899952359104, 0.44508899952359104, 0.44508899952359104, 0.44508899952359104, 0.44508899952359104, 0.44508899952359104, 0.44508899952359104, 0.44508899952359104, 0.44508899952359104]}], \"average_precision_score_weighted\": [{\"categories\": [\"0\", \"1\", \"2\", \"3\", \"4\", \"5\", \"6\", \"7\", \"8\", \"9\", \"10\", \"11\", \"12\", \"13\", \"14\", \"15\", \"16\", \"17\", \"18\", \"19\", \"20\", \"21\", \"22\", \"23\", \"24\", \"25\", \"26\", \"27\", \"28\", \"29\", \"30\", \"31\"], \"mode\": \"markers\", \"name\": \"average_precision_score_weighted\", \"stepped\": false, \"type\": \"scatter\", \"data\": [0.5004629619810226, 0.5118481696331515, 0.5034105937317683, 0.5032589609232383, 0.5094268113409455, 0.4761539494128212, 0.5120072269933602, 0.5050460435433859, 0.49796450291841615, 0.5008924004631499, 0.5100226525739846, 0.46517518195052493, 0.49485693931930275, 0.4816666626013998, 0.4898933136368253, 0.5023752930245236, 0.5116512665859467, 0.5044709756389436, 0.5103903744793178, 0.5089682423996718, 0.5110347985996876, 0.4877031882707249, 0.3365100350607678, 0.33728609042214897, 0.45657097672521, 0.42277110757419106, 0.48815614960335896, 0.5025461067261201, 0.511719953841549, 0.4791397158816794, 0.524522500357109, 0.526810096962131]}, {\"categories\": [\"0\", \"1\", \"2\", \"3\", \"4\", \"5\", \"6\", \"7\", \"8\", \"9\", \"10\", \"11\", \"12\", \"13\", \"14\", \"15\", \"16\", \"17\", \"18\", \"19\", \"20\", \"21\", \"22\", \"23\", \"24\", \"25\", \"26\", \"27\", \"28\", \"29\", \"30\", \"31\"], \"mode\": \"lines\", \"name\": \"average_precision_score_weighted_max\", \"stepped\": true, \"type\": \"scatter\", \"data\": [0.5004629619810226, 0.5118481696331515, 0.5118481696331515, 0.5118481696331515, 0.5118481696331515, 0.5118481696331515, 0.5120072269933602, 0.5120072269933602, 0.5120072269933602, 0.5120072269933602, 0.5120072269933602, 0.5120072269933602, 0.5120072269933602, 0.5120072269933602, 0.5120072269933602, 0.5120072269933602, 0.5120072269933602, 0.5120072269933602, 0.5120072269933602, 0.5120072269933602, 0.5120072269933602, 0.5120072269933602, 0.5120072269933602, 0.5120072269933602, 0.5120072269933602, 0.5120072269933602, 0.5120072269933602, 0.5120072269933602, 0.5120072269933602, 0.5120072269933602, 0.524522500357109, 0.526810096962131]}], \"AUC_micro\": [{\"categories\": [\"0\", \"1\", \"2\", \"3\", \"4\", \"5\", \"6\", \"7\", \"8\", \"9\", \"10\", \"11\", \"12\", \"13\", \"14\", \"15\", \"16\", \"17\", \"18\", \"19\", \"20\", \"21\", \"22\", \"23\", \"24\", \"25\", \"26\", \"27\", \"28\", \"29\", \"30\", \"31\"], \"mode\": \"markers\", \"name\": \"AUC_micro\", \"stepped\": false, \"type\": \"scatter\", \"data\": [0.6802431558436174, 0.6961992647973356, 0.6941764210002626, 0.6923778001962383, 0.6947361147579497, 0.6639446663257832, 0.6910721935849422, 0.6548537886430535, 0.6808691836762897, 0.6917338068849241, 0.693385594450049, 0.6716269813850001, 0.6783678362653915, 0.6581943312005085, 0.6379168336534873, 0.6814444244828014, 0.6991563134837827, 0.6501433783391606, 0.695394273158193, 0.6547273393126132, 0.692961678252097, 0.6692809317173616, 0.6033944389933804, 0.6055012368541064, 0.6686336562512956, 0.6522211550420807, 0.6722628556819281, 0.6916177222537001, 0.6953445226019541, 0.6077358660051686, 0.7013297909094678, 0.7053215820676884]}, {\"categories\": [\"0\", \"1\", \"2\", \"3\", \"4\", \"5\", \"6\", \"7\", \"8\", \"9\", \"10\", \"11\", \"12\", \"13\", \"14\", \"15\", \"16\", \"17\", \"18\", \"19\", \"20\", \"21\", \"22\", \"23\", \"24\", \"25\", \"26\", \"27\", \"28\", \"29\", \"30\", \"31\"], \"mode\": \"lines\", \"name\": \"AUC_micro_max\", \"stepped\": true, \"type\": \"scatter\", \"data\": [0.6802431558436174, 0.6961992647973356, 0.6961992647973356, 0.6961992647973356, 0.6961992647973356, 0.6961992647973356, 0.6961992647973356, 0.6961992647973356, 0.6961992647973356, 0.6961992647973356, 0.6961992647973356, 0.6961992647973356, 0.6961992647973356, 0.6961992647973356, 0.6961992647973356, 0.6961992647973356, 0.6991563134837827, 0.6991563134837827, 0.6991563134837827, 0.6991563134837827, 0.6991563134837827, 0.6991563134837827, 0.6991563134837827, 0.6991563134837827, 0.6991563134837827, 0.6991563134837827, 0.6991563134837827, 0.6991563134837827, 0.6991563134837827, 0.6991563134837827, 0.7013297909094678, 0.7053215820676884]}], \"f1_score_weighted\": [{\"categories\": [\"0\", \"1\", \"2\", \"3\", \"4\", \"5\", \"6\", \"7\", \"8\", \"9\", \"10\", \"11\", \"12\", \"13\", \"14\", \"15\", \"16\", \"17\", \"18\", \"19\", \"20\", \"21\", \"22\", \"23\", \"24\", \"25\", \"26\", \"27\", \"28\", \"29\", \"30\", \"31\"], \"mode\": \"markers\", \"name\": \"f1_score_weighted\", \"stepped\": false, \"type\": \"scatter\", \"data\": [0.4654179404919413, 0.44698885681279615, 0.44894220686633546, 0.458236593333902, 0.41706145481914775, 0.4234628727813652, 0.4630517293005644, 0.48789233054593567, 0.4551455212875554, 0.4340181129569551, 0.46049856648939214, 0.3653826380027801, 0.4693006296538934, 0.43927495292271984, 0.47163112743014945, 0.46305965906431473, 0.4467201288053125, 0.48504160288486, 0.4190672503460783, 0.4824892669539409, 0.46207034029029714, 0.4652339567693433, 0.3341258169328083, 0.3341258169328083, 0.3408218783717709, 0.3341258169328083, 0.4487876299812612, 0.38292939396908876, 0.37351110172431984, 0.4363785575396196, 0.3640528132887861, 0.4560349312220987]}, {\"categories\": [\"0\", \"1\", \"2\", \"3\", \"4\", \"5\", \"6\", \"7\", \"8\", \"9\", \"10\", \"11\", \"12\", \"13\", \"14\", \"15\", \"16\", \"17\", \"18\", \"19\", \"20\", \"21\", \"22\", \"23\", \"24\", \"25\", \"26\", \"27\", \"28\", \"29\", \"30\", \"31\"], \"mode\": \"lines\", \"name\": \"f1_score_weighted_max\", \"stepped\": true, \"type\": \"scatter\", \"data\": [0.4654179404919413, 0.4654179404919413, 0.4654179404919413, 0.4654179404919413, 0.4654179404919413, 0.4654179404919413, 0.4654179404919413, 0.48789233054593567, 0.48789233054593567, 0.48789233054593567, 0.48789233054593567, 0.48789233054593567, 0.48789233054593567, 0.48789233054593567, 0.48789233054593567, 0.48789233054593567, 0.48789233054593567, 0.48789233054593567, 0.48789233054593567, 0.48789233054593567, 0.48789233054593567, 0.48789233054593567, 0.48789233054593567, 0.48789233054593567, 0.48789233054593567, 0.48789233054593567, 0.48789233054593567, 0.48789233054593567, 0.48789233054593567, 0.48789233054593567, 0.48789233054593567, 0.48789233054593567]}], \"recall_score_micro\": [{\"categories\": [\"0\", \"1\", \"2\", \"3\", \"4\", \"5\", \"6\", \"7\", \"8\", \"9\", \"10\", \"11\", \"12\", \"13\", \"14\", \"15\", \"16\", \"17\", \"18\", \"19\", \"20\", \"21\", \"22\", \"23\", \"24\", \"25\", \"26\", \"27\", \"28\", \"29\", \"30\", \"31\"], \"mode\": \"markers\", \"name\": \"recall_score_micro\", \"stepped\": false, \"type\": \"scatter\", \"data\": [0.4933085501858736, 0.5055762081784387, 0.5189591078066915, 0.5055762081784385, 0.5107806691449814, 0.4851301115241635, 0.5122676579925651, 0.48104089219330853, 0.4996282527881041, 0.5070631970260224, 0.5163568773234201, 0.5063197026022304, 0.5022304832713755, 0.4672862453531598, 0.4881040892193308, 0.4962825278810409, 0.5152416356877324, 0.47434944237918214, 0.5070631970260223, 0.47583643122676583, 0.5115241635687733, 0.48847583643122683, 0.5003717472118959, 0.5003717472118959, 0.4985130111524164, 0.5003717472118959, 0.48698884758364314, 0.5022304832713755, 0.5074349442379182, 0.43977695167286246, 0.5078066914498142, 0.5189591078066915]}, {\"categories\": [\"0\", \"1\", \"2\", \"3\", \"4\", \"5\", \"6\", \"7\", \"8\", \"9\", \"10\", \"11\", \"12\", \"13\", \"14\", \"15\", \"16\", \"17\", \"18\", \"19\", \"20\", \"21\", \"22\", \"23\", \"24\", \"25\", \"26\", \"27\", \"28\", \"29\", \"30\", \"31\"], \"mode\": \"lines\", \"name\": \"recall_score_micro_max\", \"stepped\": true, \"type\": \"scatter\", \"data\": [0.4933085501858736, 0.5055762081784387, 0.5189591078066915, 0.5189591078066915, 0.5189591078066915, 0.5189591078066915, 0.5189591078066915, 0.5189591078066915, 0.5189591078066915, 0.5189591078066915, 0.5189591078066915, 0.5189591078066915, 0.5189591078066915, 0.5189591078066915, 0.5189591078066915, 0.5189591078066915, 0.5189591078066915, 0.5189591078066915, 0.5189591078066915, 0.5189591078066915, 0.5189591078066915, 0.5189591078066915, 0.5189591078066915, 0.5189591078066915, 0.5189591078066915, 0.5189591078066915, 0.5189591078066915, 0.5189591078066915, 0.5189591078066915, 0.5189591078066915, 0.5189591078066915, 0.5189591078066915]}], \"AUC_weighted\": [{\"categories\": [\"0\", \"1\", \"2\", \"3\", \"4\", \"5\", \"6\", \"7\", \"8\", \"9\", \"10\", \"11\", \"12\", \"13\", \"14\", \"15\", \"16\", \"17\", \"18\", \"19\", \"20\", \"21\", \"22\", \"23\", \"24\", \"25\", \"26\", \"27\", \"28\", \"29\", \"30\", \"31\"], \"mode\": \"markers\", \"name\": \"AUC_weighted\", \"stepped\": false, \"type\": \"scatter\", \"data\": [0.640593665612886, 0.6543765340884664, 0.6485376099894189, 0.6504728035292218, 0.6518829848903972, 0.612279479147121, 0.6488913666873568, 0.6503039941032662, 0.6395727846909129, 0.6448734755790845, 0.6474540160266468, 0.6060692388680484, 0.6364311591093381, 0.6163410466867351, 0.6344975955426284, 0.6406902463822213, 0.657734823018119, 0.6511313193577104, 0.6536414031541155, 0.6557669533046264, 0.6531342225854357, 0.6274154264683051, 0.4248753809164394, 0.4246898963836768, 0.5974510250058278, 0.5655466040215682, 0.6304082576861971, 0.6471302121666933, 0.6558011507213484, 0.6164942952408126, 0.667878675634182, 0.6679285810226783]}, {\"categories\": [\"0\", \"1\", \"2\", \"3\", \"4\", \"5\", \"6\", \"7\", \"8\", \"9\", \"10\", \"11\", \"12\", \"13\", \"14\", \"15\", \"16\", \"17\", \"18\", \"19\", \"20\", \"21\", \"22\", \"23\", \"24\", \"25\", \"26\", \"27\", \"28\", \"29\", \"30\", \"31\"], \"mode\": \"lines\", \"name\": \"AUC_weighted_max\", \"stepped\": true, \"type\": \"scatter\", \"data\": [0.640593665612886, 0.6543765340884664, 0.6543765340884664, 0.6543765340884664, 0.6543765340884664, 0.6543765340884664, 0.6543765340884664, 0.6543765340884664, 0.6543765340884664, 0.6543765340884664, 0.6543765340884664, 0.6543765340884664, 0.6543765340884664, 0.6543765340884664, 0.6543765340884664, 0.6543765340884664, 0.657734823018119, 0.657734823018119, 0.657734823018119, 0.657734823018119, 0.657734823018119, 0.657734823018119, 0.657734823018119, 0.657734823018119, 0.657734823018119, 0.657734823018119, 0.657734823018119, 0.657734823018119, 0.657734823018119, 0.657734823018119, 0.667878675634182, 0.6679285810226783]}], \"f1_score_micro\": [{\"categories\": [\"0\", \"1\", \"2\", \"3\", \"4\", \"5\", \"6\", \"7\", \"8\", \"9\", \"10\", \"11\", \"12\", \"13\", \"14\", \"15\", \"16\", \"17\", \"18\", \"19\", \"20\", \"21\", \"22\", \"23\", \"24\", \"25\", \"26\", \"27\", \"28\", \"29\", \"30\", \"31\"], \"mode\": \"markers\", \"name\": \"f1_score_micro\", \"stepped\": false, \"type\": \"scatter\", \"data\": [0.4933085501858736, 0.5055762081784387, 0.5189591078066915, 0.5055762081784385, 0.5107806691449814, 0.4851301115241635, 0.5122676579925651, 0.48104089219330853, 0.4996282527881041, 0.5070631970260223, 0.5163568773234201, 0.5063197026022304, 0.5022304832713755, 0.4672862453531598, 0.4881040892193308, 0.4962825278810409, 0.5152416356877324, 0.47434944237918214, 0.5070631970260223, 0.47583643122676583, 0.5115241635687733, 0.4884758364312267, 0.5003717472118959, 0.5003717472118959, 0.4985130111524164, 0.5003717472118959, 0.48698884758364314, 0.5022304832713755, 0.5074349442379182, 0.43977695167286246, 0.5078066914498142, 0.5189591078066915]}, {\"categories\": [\"0\", \"1\", \"2\", \"3\", \"4\", \"5\", \"6\", \"7\", \"8\", \"9\", \"10\", \"11\", \"12\", \"13\", \"14\", \"15\", \"16\", \"17\", \"18\", \"19\", \"20\", \"21\", \"22\", \"23\", \"24\", \"25\", \"26\", \"27\", \"28\", \"29\", \"30\", \"31\"], \"mode\": \"lines\", \"name\": \"f1_score_micro_max\", \"stepped\": true, \"type\": \"scatter\", \"data\": [0.4933085501858736, 0.5055762081784387, 0.5189591078066915, 0.5189591078066915, 0.5189591078066915, 0.5189591078066915, 0.5189591078066915, 0.5189591078066915, 0.5189591078066915, 0.5189591078066915, 0.5189591078066915, 0.5189591078066915, 0.5189591078066915, 0.5189591078066915, 0.5189591078066915, 0.5189591078066915, 0.5189591078066915, 0.5189591078066915, 0.5189591078066915, 0.5189591078066915, 0.5189591078066915, 0.5189591078066915, 0.5189591078066915, 0.5189591078066915, 0.5189591078066915, 0.5189591078066915, 0.5189591078066915, 0.5189591078066915, 0.5189591078066915, 0.5189591078066915, 0.5189591078066915, 0.5189591078066915]}]}, \"metricName\": null, \"primaryMetricName\": \"AUC_weighted\", \"showLegend\": false}, \"run_metrics\": [{\"name\": \"recall_score_weighted\", \"run_id\": \"AutoML_a3d7aed5-a1be-4326-869d-3f12d1d0ca08\", \"categories\": [0], \"series\": [{\"data\": [0.5189591078066915]}]}, {\"name\": \"precision_score_weighted\", \"run_id\": \"AutoML_a3d7aed5-a1be-4326-869d-3f12d1d0ca08\", \"categories\": [0], \"series\": [{\"data\": [0.4689070952366706]}]}, {\"name\": \"AUC_macro\", \"run_id\": \"AutoML_a3d7aed5-a1be-4326-869d-3f12d1d0ca08\", \"categories\": [0], \"series\": [{\"data\": [0.657224090171707]}]}, {\"name\": \"precision_score_micro\", \"run_id\": \"AutoML_a3d7aed5-a1be-4326-869d-3f12d1d0ca08\", \"categories\": [0], \"series\": [{\"data\": [0.5189591078066915]}]}, {\"name\": \"balanced_accuracy\", \"run_id\": \"AutoML_a3d7aed5-a1be-4326-869d-3f12d1d0ca08\", \"categories\": [0], \"series\": [{\"data\": [0.4032980325342598]}]}, {\"name\": \"weighted_accuracy\", \"run_id\": \"AutoML_a3d7aed5-a1be-4326-869d-3f12d1d0ca08\", \"categories\": [0], \"series\": [{\"data\": [0.6334206996762388]}]}, {\"name\": \"average_precision_score_weighted\", \"run_id\": \"AutoML_a3d7aed5-a1be-4326-869d-3f12d1d0ca08\", \"categories\": [0], \"series\": [{\"data\": [0.526810096962131]}]}, {\"name\": \"log_loss\", \"run_id\": \"AutoML_a3d7aed5-a1be-4326-869d-3f12d1d0ca08\", \"categories\": [0], \"series\": [{\"data\": [0.9787611815286867]}]}, {\"name\": \"accuracy\", \"run_id\": \"AutoML_a3d7aed5-a1be-4326-869d-3f12d1d0ca08\", \"categories\": [0], \"series\": [{\"data\": [0.5189591078066915]}]}, {\"name\": \"f1_score_macro\", \"run_id\": \"AutoML_a3d7aed5-a1be-4326-869d-3f12d1d0ca08\", \"categories\": [0], \"series\": [{\"data\": [0.3801583603600981]}]}, {\"name\": \"f1_score_micro\", \"run_id\": \"AutoML_a3d7aed5-a1be-4326-869d-3f12d1d0ca08\", \"categories\": [0], \"series\": [{\"data\": [0.5189591078066915]}]}, {\"name\": \"recall_score_macro\", \"run_id\": \"AutoML_a3d7aed5-a1be-4326-869d-3f12d1d0ca08\", \"categories\": [0], \"series\": [{\"data\": [0.4032980325342598]}]}, {\"name\": \"average_precision_score_micro\", \"run_id\": \"AutoML_a3d7aed5-a1be-4326-869d-3f12d1d0ca08\", \"categories\": [0], \"series\": [{\"data\": [0.5683960855948215]}]}, {\"name\": \"recall_score_micro\", \"run_id\": \"AutoML_a3d7aed5-a1be-4326-869d-3f12d1d0ca08\", \"categories\": [0], \"series\": [{\"data\": [0.5189591078066915]}]}, {\"name\": \"f1_score_weighted\", \"run_id\": \"AutoML_a3d7aed5-a1be-4326-869d-3f12d1d0ca08\", \"categories\": [0], \"series\": [{\"data\": [0.4560349312220987]}]}, {\"name\": \"average_precision_score_macro\", \"run_id\": \"AutoML_a3d7aed5-a1be-4326-869d-3f12d1d0ca08\", \"categories\": [0], \"series\": [{\"data\": [0.46828134392801246]}]}, {\"name\": \"matthews_correlation\", \"run_id\": \"AutoML_a3d7aed5-a1be-4326-869d-3f12d1d0ca08\", \"categories\": [0], \"series\": [{\"data\": [0.15839060580845984]}]}, {\"name\": \"AUC_weighted\", \"run_id\": \"AutoML_a3d7aed5-a1be-4326-869d-3f12d1d0ca08\", \"categories\": [0], \"series\": [{\"data\": [0.6679285810226783]}]}, {\"name\": \"AUC_micro\", \"run_id\": \"AutoML_a3d7aed5-a1be-4326-869d-3f12d1d0ca08\", \"categories\": [0], \"series\": [{\"data\": [0.7053215820676884]}]}, {\"name\": \"norm_macro_recall\", \"run_id\": \"AutoML_a3d7aed5-a1be-4326-869d-3f12d1d0ca08\", \"categories\": [0], \"series\": [{\"data\": [0.10494704880138964]}]}, {\"name\": \"precision_score_macro\", \"run_id\": \"AutoML_a3d7aed5-a1be-4326-869d-3f12d1d0ca08\", \"categories\": [0], \"series\": [{\"data\": [0.4359707645511568]}]}], \"run_logs\": \"\\nRun is completed.\", \"graph\": {}, \"widget_settings\": {\"childWidgetDisplay\": \"popup\", \"send_telemetry\": false, \"log_level\": \"INFO\", \"sdk_version\": \"1.37.0\"}, \"loading\": false}"
          },
          "metadata": {}
        }
      ],
      "execution_count": 23,
      "metadata": {
        "gather": {
          "logged": 1643736460318
        },
        "jupyter": {
          "outputs_hidden": false,
          "source_hidden": false
        },
        "nteract": {
          "transient": {
            "deleting": false
          }
        }
      }
    },
    {
      "cell_type": "markdown",
      "source": [
        "## Best Model\n",
        "\n",
        "TODO: In the cell below, get the best model from the automl experiments and display all the properties of the model."
      ],
      "metadata": {}
    },
    {
      "cell_type": "code",
      "source": [
        "# Retrieve and save best model\n",
        "best_run, model = automl_run.get_output()\n",
        "print(best_run, '\\n')\n",
        "print(model)\n",
        "joblib.dump(value=best_run.id, filename=\"./models/bitcoin-automl.joblib\")"
      ],
      "outputs": [
        {
          "output_type": "stream",
          "name": "stdout",
          "text": "Run(Experiment: az-capstone-automl,\nId: AutoML_a3d7aed5-a1be-4326-869d-3f12d1d0ca08_31,\nType: None,\nStatus: Completed) \n\nPipeline(memory=None,\n         steps=[('datatransformer',\n                 DataTransformer(enable_dnn=False, enable_feature_sweeping=True, feature_sweeping_config={}, feature_sweeping_timeout=86400, featurization_config=None, force_text_dnn=False, is_cross_validation=True, is_onnx_compatible=False, observer=None, task='classification', working_dir='/mnt/batch/tasks/shared/LS_root/mount...\n)), ('svcwrapper', SVCWrapper(C=1.2067926406393288, break_ties=False, cache_size=200, class_weight='balanced', coef0=0.0, decision_function_shape='ovr', degree=3, gamma='scale', kernel='rbf', max_iter=-1, probability=True, random_state=None, shrinking=True, tol=0.001, verbose=False))], verbose=False))], meta_learner=LogisticRegressionCV(Cs=10, class_weight=None, cv=None, dual=False, fit_intercept=True, intercept_scaling=1.0, l1_ratios=None, max_iter=100, multi_class='auto', n_jobs=None, penalty='l2', random_state=None, refit=True, scoring=Scorer(\n    metric='AUC_weighted'\n), solver='lbfgs', tol=0.0001, verbose=0), training_cv_folds=5))],\n         verbose=False)\nY_transformer(['LabelEncoder', LabelEncoder()])\n"
        },
        {
          "output_type": "execute_result",
          "execution_count": 41,
          "data": {
            "text/plain": "['./models/bitcoin-automl.joblib']"
          },
          "metadata": {}
        }
      ],
      "execution_count": 41,
      "metadata": {
        "gather": {
          "logged": 1643748447854
        },
        "jupyter": {
          "outputs_hidden": false,
          "source_hidden": false
        },
        "nteract": {
          "transient": {
            "deleting": false
          }
        }
      }
    },
    {
      "cell_type": "markdown",
      "source": [
        "## Model Deployment\n",
        "\n",
        "Remember you have to deploy only one of the two models you trained but you still need to register both the models.\n",
        "Perform the steps in the rest of this notebook only if you wish to deploy this model.\n",
        "\n",
        "TODO: In the cell below, register the model, create an inference config and deploy the model as a web service."
      ],
      "metadata": {}
    },
    {
      "cell_type": "code",
      "source": [
        "model_name = 'best-automl-model'\r\n",
        "description = \"AutoML model for predicting day-ahead Bitcoin price movements\"\r\n",
        "tags = None\r\n",
        "model = automl_run.register_model(model_name=model_name, description=description, tags=tags)\r\n",
        "print(automl_run.model_id)"
      ],
      "outputs": [
        {
          "output_type": "stream",
          "name": "stdout",
          "text": "best-automl-model\n"
        }
      ],
      "execution_count": 45,
      "metadata": {
        "jupyter": {
          "source_hidden": false,
          "outputs_hidden": false
        },
        "nteract": {
          "transient": {
            "deleting": false
          }
        },
        "gather": {
          "logged": 1643749401642
        }
      }
    },
    {
      "cell_type": "code",
      "source": [
        "from azureml.core.model import Model"
      ],
      "outputs": [],
      "execution_count": 46,
      "metadata": {
        "jupyter": {
          "source_hidden": false,
          "outputs_hidden": false
        },
        "nteract": {
          "transient": {
            "deleting": false
          }
        },
        "gather": {
          "logged": 1643749402127
        }
      }
    },
    {
      "cell_type": "code",
      "source": [
        "best_run"
      ],
      "outputs": [
        {
          "output_type": "execute_result",
          "execution_count": 47,
          "data": {
            "text/plain": "Run(Experiment: az-capstone-automl,\nId: AutoML_a3d7aed5-a1be-4326-869d-3f12d1d0ca08_31,\nType: None,\nStatus: Completed)",
            "text/html": "<table style=\"width:100%\"><tr><th>Experiment</th><th>Id</th><th>Type</th><th>Status</th><th>Details Page</th><th>Docs Page</th></tr><tr><td>az-capstone-automl</td><td>AutoML_a3d7aed5-a1be-4326-869d-3f12d1d0ca08_31</td><td></td><td>Completed</td><td><a href=\"https://ml.azure.com/runs/AutoML_a3d7aed5-a1be-4326-869d-3f12d1d0ca08_31?wsid=/subscriptions/d4ad7261-832d-46b2-b093-22156001df5b/resourcegroups/aml-quickstarts-180513/workspaces/quick-starts-ws-180513&amp;tid=660b3398-b80e-49d2-bc5b-ac1dc93b5254\" target=\"_blank\" rel=\"noopener\">Link to Azure Machine Learning studio</a></td><td><a href=\"https://docs.microsoft.com/en-us/python/api/azureml-core/azureml.core.run.Run?view=azure-ml-py\" target=\"_blank\" rel=\"noopener\">Link to Documentation</a></td></tr></table>"
          },
          "metadata": {}
        }
      ],
      "execution_count": 47,
      "metadata": {
        "jupyter": {
          "source_hidden": false,
          "outputs_hidden": false
        },
        "nteract": {
          "transient": {
            "deleting": false
          }
        },
        "gather": {
          "logged": 1643749404266
        }
      }
    },
    {
      "cell_type": "code",
      "source": [
        "from azureml.core.model import InferenceConfig\n",
        "from azureml.core.webservice import AciWebservice\n",
        "\n",
        "# We need the inference script\n",
        "script_file_name = \"inference/score.py\"\n",
        "best_run.download_file(\"outputs/scoring_file_v_1_0_0.py\", \"inference/score.py\")\n",
        "\n",
        "# Check what is this inference script\n",
        "inference_config = InferenceConfig(environment=env, entry_script=script_file_name)\n",
        "aciconfig = AciWebservice.deploy_configuration(\n",
        "    cpu_cores=2,\n",
        "    memory_gb=2,\n",
        "    tags={\"area\": \"Trading\", \"type\": \"automl_classification\"},\n",
        "    description=\"service for Bitcoin trading signals\"\n",
        ")\n",
        "\n",
        "aci_service_name = model_name.lower()\n",
        "print(aci_service_name)\n",
        "aci_service = Model.deploy(ws, aci_service_name, [model], inference_config, aciconfig)\n",
        "aci_service.wait_for_deployment(True)\n",
        "print(aci_service.state)\n",
        "\n",
        "# aci_service.get_logs()"
      ],
      "outputs": [
        {
          "output_type": "stream",
          "name": "stdout",
          "text": "best-automl-model\n"
        },
        {
          "output_type": "error",
          "ename": "WebserviceException",
          "evalue": "WebserviceException:\n\tMessage: Service best-automl-model with the same name already exists, please use a different service name or delete the existing service.\n\tInnerException None\n\tErrorResponse \n{\n    \"error\": {\n        \"message\": \"Service best-automl-model with the same name already exists, please use a different service name or delete the existing service.\"\n    }\n}",
          "traceback": [
            "\u001b[0;31m---------------------------------------------------------------------------\u001b[0m",
            "\u001b[0;31mWebserviceException\u001b[0m                       Traceback (most recent call last)",
            "\u001b[0;32m<ipython-input-51-f9b845f70b2c>\u001b[0m in \u001b[0;36m<module>\u001b[0;34m\u001b[0m\n\u001b[1;32m     17\u001b[0m \u001b[0maci_service_name\u001b[0m \u001b[0;34m=\u001b[0m \u001b[0mmodel_name\u001b[0m\u001b[0;34m.\u001b[0m\u001b[0mlower\u001b[0m\u001b[0;34m(\u001b[0m\u001b[0;34m)\u001b[0m\u001b[0;34m\u001b[0m\u001b[0;34m\u001b[0m\u001b[0m\n\u001b[1;32m     18\u001b[0m \u001b[0mprint\u001b[0m\u001b[0;34m(\u001b[0m\u001b[0maci_service_name\u001b[0m\u001b[0;34m)\u001b[0m\u001b[0;34m\u001b[0m\u001b[0;34m\u001b[0m\u001b[0m\n\u001b[0;32m---> 19\u001b[0;31m \u001b[0maci_service\u001b[0m \u001b[0;34m=\u001b[0m \u001b[0mModel\u001b[0m\u001b[0;34m.\u001b[0m\u001b[0mdeploy\u001b[0m\u001b[0;34m(\u001b[0m\u001b[0mws\u001b[0m\u001b[0;34m,\u001b[0m \u001b[0maci_service_name\u001b[0m\u001b[0;34m,\u001b[0m \u001b[0;34m[\u001b[0m\u001b[0mmodel\u001b[0m\u001b[0;34m]\u001b[0m\u001b[0;34m,\u001b[0m \u001b[0minference_config\u001b[0m\u001b[0;34m,\u001b[0m \u001b[0maciconfig\u001b[0m\u001b[0;34m)\u001b[0m\u001b[0;34m\u001b[0m\u001b[0;34m\u001b[0m\u001b[0m\n\u001b[0m\u001b[1;32m     20\u001b[0m \u001b[0maci_service\u001b[0m\u001b[0;34m.\u001b[0m\u001b[0mwait_for_deployment\u001b[0m\u001b[0;34m(\u001b[0m\u001b[0;32mTrue\u001b[0m\u001b[0;34m)\u001b[0m\u001b[0;34m\u001b[0m\u001b[0;34m\u001b[0m\u001b[0m\n\u001b[1;32m     21\u001b[0m \u001b[0mprint\u001b[0m\u001b[0;34m(\u001b[0m\u001b[0maci_service\u001b[0m\u001b[0;34m.\u001b[0m\u001b[0mstate\u001b[0m\u001b[0;34m)\u001b[0m\u001b[0;34m\u001b[0m\u001b[0;34m\u001b[0m\u001b[0m\n",
            "\u001b[0;32m/anaconda/envs/azureml_py36/lib/python3.6/site-packages/azureml/core/model.py\u001b[0m in \u001b[0;36mdeploy\u001b[0;34m(workspace, name, models, inference_config, deployment_config, deployment_target, overwrite, show_output)\u001b[0m\n\u001b[1;32m   1668\u001b[0m         \u001b[0;32mif\u001b[0m \u001b[0muse_env_path\u001b[0m\u001b[0;34m:\u001b[0m\u001b[0;34m\u001b[0m\u001b[0;34m\u001b[0m\u001b[0m\n\u001b[1;32m   1669\u001b[0m             return Model._deploy_with_environment(workspace, name, models, inference_config, deployment_config,\n\u001b[0;32m-> 1670\u001b[0;31m                                                   deployment_target, overwrite, show_output)\n\u001b[0m\u001b[1;32m   1671\u001b[0m \u001b[0;34m\u001b[0m\u001b[0m\n\u001b[1;32m   1672\u001b[0m         \u001b[0;31m# ContainerImage-based webservice.\u001b[0m\u001b[0;34m\u001b[0m\u001b[0;34m\u001b[0m\u001b[0;34m\u001b[0m\u001b[0m\n",
            "\u001b[0;32m/anaconda/envs/azureml_py36/lib/python3.6/site-packages/azureml/core/model.py\u001b[0m in \u001b[0;36m_deploy_with_environment\u001b[0;34m(workspace, name, models, inference_config, deployment_config, deployment_target, overwrite, show_output)\u001b[0m\n\u001b[1;32m   1876\u001b[0m         return Model._deploy_with_environment_image_request(workspace, name, environment_image_request,\n\u001b[1;32m   1877\u001b[0m                                                             \u001b[0mdeployment_config\u001b[0m\u001b[0;34m,\u001b[0m \u001b[0mdeployment_target\u001b[0m\u001b[0;34m,\u001b[0m \u001b[0moverwrite\u001b[0m\u001b[0;34m,\u001b[0m\u001b[0;34m\u001b[0m\u001b[0;34m\u001b[0m\u001b[0m\n\u001b[0;32m-> 1878\u001b[0;31m                                                             show_output)\n\u001b[0m\u001b[1;32m   1879\u001b[0m \u001b[0;34m\u001b[0m\u001b[0m\n\u001b[1;32m   1880\u001b[0m     \u001b[0;34m@\u001b[0m\u001b[0mstaticmethod\u001b[0m\u001b[0;34m\u001b[0m\u001b[0;34m\u001b[0m\u001b[0m\n",
            "\u001b[0;32m/anaconda/envs/azureml_py36/lib/python3.6/site-packages/azureml/core/model.py\u001b[0m in \u001b[0;36m_deploy_with_environment_image_request\u001b[0;34m(workspace, name, environment_image_request, deployment_config, deployment_target, overwrite, show_output)\u001b[0m\n\u001b[1;32m   1925\u001b[0m \u001b[0;34m\u001b[0m\u001b[0m\n\u001b[1;32m   1926\u001b[0m         return Webservice._deploy_webservice(workspace, name, webservice_payload, overwrite, webservice_class,\n\u001b[0;32m-> 1927\u001b[0;31m                                              show_output)\n\u001b[0m\u001b[1;32m   1928\u001b[0m \u001b[0;34m\u001b[0m\u001b[0m\n\u001b[1;32m   1929\u001b[0m     \u001b[0;32mdef\u001b[0m \u001b[0mget_sas_urls\u001b[0m\u001b[0;34m(\u001b[0m\u001b[0mself\u001b[0m\u001b[0;34m)\u001b[0m\u001b[0;34m:\u001b[0m\u001b[0;34m\u001b[0m\u001b[0;34m\u001b[0m\u001b[0m\n",
            "\u001b[0;32m/anaconda/envs/azureml_py36/lib/python3.6/site-packages/azureml/core/webservice/webservice.py\u001b[0m in \u001b[0;36m_deploy_webservice\u001b[0;34m(workspace, name, webservice_payload, overwrite, webservice_class, show_output)\u001b[0m\n\u001b[1;32m    825\u001b[0m         \"\"\"\n\u001b[1;32m    826\u001b[0m         \u001b[0;31m# TODO Remove check_for_existing_webservice() later, this check has already included in common validation.\u001b[0m\u001b[0;34m\u001b[0m\u001b[0;34m\u001b[0m\u001b[0;34m\u001b[0m\u001b[0m\n\u001b[0;32m--> 827\u001b[0;31m         \u001b[0mWebservice\u001b[0m\u001b[0;34m.\u001b[0m\u001b[0mcheck_for_existing_webservice\u001b[0m\u001b[0;34m(\u001b[0m\u001b[0mworkspace\u001b[0m\u001b[0;34m,\u001b[0m \u001b[0mname\u001b[0m\u001b[0;34m,\u001b[0m \u001b[0moverwrite\u001b[0m\u001b[0;34m)\u001b[0m\u001b[0;34m\u001b[0m\u001b[0;34m\u001b[0m\u001b[0m\n\u001b[0m\u001b[1;32m    828\u001b[0m         Webservice._check_for_webservice(workspace, name, Webservice._get_deploy_compute_type(webservice_payload),\n\u001b[1;32m    829\u001b[0m                                          webservice_payload, SERVICE_REQUEST_OPERATION_CREATE)\n",
            "\u001b[0;32m/anaconda/envs/azureml_py36/lib/python3.6/site-packages/azureml/core/webservice/webservice.py\u001b[0m in \u001b[0;36mcheck_for_existing_webservice\u001b[0;34m(workspace, name, overwrite, request_func, check_func)\u001b[0m\n\u001b[1;32m    666\u001b[0m                 \u001b[0;32mreturn\u001b[0m \u001b[0mWebservice\u001b[0m\u001b[0;34m.\u001b[0m\u001b[0m_check_validate_error\u001b[0m\u001b[0;34m(\u001b[0m\u001b[0mcontent\u001b[0m\u001b[0;34m)\u001b[0m\u001b[0;34m\u001b[0m\u001b[0;34m\u001b[0m\u001b[0m\n\u001b[1;32m    667\u001b[0m \u001b[0;34m\u001b[0m\u001b[0m\n\u001b[0;32m--> 668\u001b[0;31m         \u001b[0mWebservice\u001b[0m\u001b[0;34m.\u001b[0m\u001b[0m_run_validate_framework\u001b[0m\u001b[0;34m(\u001b[0m\u001b[0mrequest_func\u001b[0m\u001b[0;34m,\u001b[0m \u001b[0mcheck_func\u001b[0m\u001b[0;34m)\u001b[0m\u001b[0;34m\u001b[0m\u001b[0;34m\u001b[0m\u001b[0m\n\u001b[0m\u001b[1;32m    669\u001b[0m \u001b[0;34m\u001b[0m\u001b[0m\n\u001b[1;32m    670\u001b[0m     \u001b[0;34m@\u001b[0m\u001b[0mstaticmethod\u001b[0m\u001b[0;34m\u001b[0m\u001b[0;34m\u001b[0m\u001b[0m\n",
            "\u001b[0;32m/anaconda/envs/azureml_py36/lib/python3.6/site-packages/azureml/core/webservice/webservice.py\u001b[0m in \u001b[0;36m_run_validate_framework\u001b[0;34m(request_func, check_func)\u001b[0m\n\u001b[1;32m    637\u001b[0m             \u001b[0;32mreturn\u001b[0m\u001b[0;34m\u001b[0m\u001b[0;34m\u001b[0m\u001b[0m\n\u001b[1;32m    638\u001b[0m \u001b[0;34m\u001b[0m\u001b[0m\n\u001b[0;32m--> 639\u001b[0;31m         \u001b[0;32mraise\u001b[0m \u001b[0mWebserviceException\u001b[0m\u001b[0;34m(\u001b[0m\u001b[0merror\u001b[0m\u001b[0;34m)\u001b[0m\u001b[0;34m\u001b[0m\u001b[0;34m\u001b[0m\u001b[0m\n\u001b[0m\u001b[1;32m    640\u001b[0m \u001b[0;34m\u001b[0m\u001b[0m\n\u001b[1;32m    641\u001b[0m     \u001b[0;34m@\u001b[0m\u001b[0mstaticmethod\u001b[0m\u001b[0;34m\u001b[0m\u001b[0;34m\u001b[0m\u001b[0m\n",
            "\u001b[0;31mWebserviceException\u001b[0m: WebserviceException:\n\tMessage: Service best-automl-model with the same name already exists, please use a different service name or delete the existing service.\n\tInnerException None\n\tErrorResponse \n{\n    \"error\": {\n        \"message\": \"Service best-automl-model with the same name already exists, please use a different service name or delete the existing service.\"\n    }\n}"
          ]
        }
      ],
      "execution_count": 51,
      "metadata": {
        "gather": {
          "logged": 1598431435189
        },
        "jupyter": {
          "outputs_hidden": false,
          "source_hidden": false
        },
        "nteract": {
          "transient": {
            "deleting": false
          }
        }
      }
    },
    {
      "cell_type": "markdown",
      "source": [
        "TODO: In the cell below, send a request to the web service you deployed to test it."
      ],
      "metadata": {
        "collapsed": true,
        "gather": {
          "logged": 1598431657736
        },
        "jupyter": {
          "outputs_hidden": false,
          "source_hidden": false
        },
        "nteract": {
          "transient": {
            "deleting": false
          }
        }
      }
    },
    {
      "cell_type": "code",
      "source": [
        "X_test_json = X_test.to_json(orient=\"records\")\n",
        "data = '{\"data\": ' + X_test_json + \"}\"\n",
        "headers = {\"Content-Type\": \"application/json\"}\n",
        "\n",
        "resp = requests.post(aci_service.scoring_uri, data, headers=headers)\n",
        "\n",
        "y_pred = json.loads(json.loads(resp.text))[\"result\"]"
      ],
      "outputs": [],
      "execution_count": null,
      "metadata": {
        "gather": {
          "logged": 1598432707604
        },
        "jupyter": {
          "outputs_hidden": false,
          "source_hidden": false
        },
        "nteract": {
          "transient": {
            "deleting": false
          }
        }
      }
    },
    {
      "cell_type": "markdown",
      "source": [
        "### Deletion of endpoints and resources"
      ],
      "metadata": {
        "collapsed": true,
        "gather": {
          "logged": 1598432765711
        },
        "jupyter": {
          "outputs_hidden": false,
          "source_hidden": false
        },
        "nteract": {
          "transient": {
            "deleting": false
          }
        }
      }
    },
    {
      "cell_type": "code",
      "source": [
        "# Deleting the inference compute instance\n",
        "aci_service.delete()\n",
        "\n",
        "# Deleting compute cluster\n",
        "# compute_target.delete()\n",
        "# print('Compute cluster deleted!')"
      ],
      "outputs": [],
      "execution_count": null,
      "metadata": {
        "collapsed": false,
        "pycharm": {
          "name": "#%%\n"
        }
      }
    },
    {
      "cell_type": "markdown",
      "source": [
        "**Submission Checklist**\n",
        "- I have registered the model.\n",
        "- I have deployed the model with the best accuracy as a webservice.\n",
        "- I have tested the webservice by sending a request to the model endpoint.\n",
        "- I have deleted the webservice and shutdown all the computes that I have used.\n",
        "- I have taken a screenshot showing the model endpoint as active.\n",
        "- The project includes a file containing the environment details.\n"
      ],
      "metadata": {}
    },
    {
      "cell_type": "markdown",
      "source": [],
      "metadata": {}
    }
  ],
  "metadata": {
    "kernel_info": {
      "name": "python3"
    },
    "kernelspec": {
      "name": "python3",
      "language": "python",
      "display_name": "Python 3"
    },
    "language_info": {
      "name": "python",
      "version": "3.6.9",
      "mimetype": "text/x-python",
      "codemirror_mode": {
        "name": "ipython",
        "version": 3
      },
      "pygments_lexer": "ipython3",
      "nbconvert_exporter": "python",
      "file_extension": ".py"
    },
    "nteract": {
      "version": "nteract-front-end@1.0.0"
    },
    "microsoft": {
      "host": {
        "AzureML": {
          "notebookHasBeenCompleted": true
        }
      }
    }
  },
  "nbformat": 4,
  "nbformat_minor": 2
}