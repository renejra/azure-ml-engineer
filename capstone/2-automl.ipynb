{
  "cells": [
    {
      "cell_type": "markdown",
      "source": [
        "# Automated ML\n",
        "\n",
        "In this notebook, we will use AutoML to train many different models and do hyperparameter tuning to give trading signals on Bitcoin price movements. To achieve this,\n",
        "\n",
        "We will start by importing necessary dependencies and setting up our AzureML workspace details, along with our experiment and environment. Detailed package dependencies can be found on the [`env.yml`](envs/env.yml). Use `conda install --file envs/env.yml` on your Terminal. We end this first part by creating the compute cluster we will use to train and tune out model."
      ],
      "metadata": {}
    },
    {
      "cell_type": "code",
      "source": [
        "from azureml.core import Workspace, Experiment, Environment, Datastore, Dataset\n",
        "from azureml.core.compute import ComputeTarget, AmlCompute\n",
        "from azureml.train.automl import AutoMLConfig\n",
        "from azureml.widgets import RunDetails\n",
        "\n",
        "import pandas as pd\n",
        "import joblib\n",
        "import os\n",
        "import requests"
      ],
      "outputs": [],
      "execution_count": 1,
      "metadata": {
        "collapsed": false,
        "pycharm": {
          "name": "#%%\n"
        },
        "gather": {
          "logged": 1645203807914
        }
      }
    },
    {
      "cell_type": "code",
      "source": [
        " # Setting up the workspace\n",
        "ws = Workspace.from_config()\n",
        "\n",
        "# Registering and building the environment (not needed in AutoML)\n",
        "env = Environment.from_conda_specification(name = \"azcapstone\", file_path = \"envs/env.yml\")\n",
        "env = env.register(workspace=ws)\n",
        "env_build = env.build(workspace=ws)\n",
        "\n",
        "# Setup the experiment\n",
        "exp_name = 'az-capstone-automl'\n",
        "exp=Experiment(ws, exp_name)\n",
        "\n",
        "# Enable logs\n",
        "run = exp.start_logging()"
      ],
      "outputs": [],
      "execution_count": 2,
      "metadata": {
        "collapsed": false,
        "pycharm": {
          "name": "#%%\n"
        },
        "gather": {
          "logged": 1645203819449
        }
      }
    },
    {
      "cell_type": "markdown",
      "source": [
        "We now deploy the necessary Compute Cluster, or check if there is already an existing one we can use."
      ],
      "metadata": {}
    },
    {
      "cell_type": "code",
      "source": [
        "# Setup the compute cluster\n",
        "compute_name = os.environ.get('CLUSTER_NAME', 'automl-cluster')\n",
        "compute_min_nodes = os.environ.get('CLUSTER_MIN_NODES', 0)\n",
        "compute_max_nodes = os.environ.get('CLUSTER_MAX_NODES', 4)\n",
        "vm_size = os.environ.get('CLUSTER_SKU', 'STANDARD_D2_V2')\n",
        "\n",
        "# Verify if the compute cluster exists\n",
        "if compute_name in ws.compute_targets:\n",
        "    compute_target = ws.compute_targets[compute_name]\n",
        "    if compute_target and type(compute_target) is AmlCompute:\n",
        "        print('found compute target. just use it. ' + compute_name)\n",
        "else:\n",
        "    print('creating a new compute target...')\n",
        "    provisioning_config = AmlCompute.provisioning_configuration(\n",
        "        vm_size=vm_size,\n",
        "        min_nodes=compute_min_nodes,\n",
        "        max_nodes=compute_max_nodes)\n",
        "\n",
        "    # create the cluster\n",
        "    compute_target = ComputeTarget.create(ws, compute_name, provisioning_config)\n",
        "\n",
        "    # poll for a minimum number of nodes and for a specific timeout.\n",
        "    # if no min node count is provided it will use the scale settings for the cluster\n",
        "    compute_target.wait_for_completion(show_output=True, min_node_count=None, timeout_in_minutes=20)\n",
        "\n",
        "     # For a more detailed view of current AmlCompute status, use get_status()\n",
        "    print(compute_target.get_status().serialize())"
      ],
      "outputs": [
        {
          "output_type": "stream",
          "name": "stdout",
          "text": "creating a new compute target...\nInProgress.\nSucceededProvisioning operation finished, operation \"Succeeded\"\nSucceeded\nAmlCompute wait for completion finished\n\nMinimum number of nodes requested have been provisioned\n{'currentNodeCount': 0, 'targetNodeCount': 0, 'nodeStateCounts': {'preparingNodeCount': 0, 'runningNodeCount': 0, 'idleNodeCount': 0, 'unusableNodeCount': 0, 'leavingNodeCount': 0, 'preemptedNodeCount': 0}, 'allocationState': 'Resizing', 'allocationStateTransitionTime': '2022-02-18T17:03:40.473000+00:00', 'errors': None, 'creationTime': '2022-02-18T17:03:40.072032+00:00', 'modifiedTime': '2022-02-18T17:03:43.640872+00:00', 'provisioningState': 'Succeeded', 'provisioningStateTransitionTime': None, 'scaleSettings': {'minNodeCount': 0, 'maxNodeCount': 4, 'nodeIdleTimeBeforeScaleDown': 'PT1800S'}, 'vmPriority': 'Dedicated', 'vmSize': 'STANDARD_D2_V2'}\n"
        }
      ],
      "execution_count": 3,
      "metadata": {
        "collapsed": false,
        "pycharm": {
          "name": "#%%\n"
        },
        "gather": {
          "logged": 1645203826079
        }
      }
    },
    {
      "cell_type": "markdown",
      "source": [
        "## Dataset\n",
        "\n",
        "### Overview\n",
        "\n",
        "The dataset we are using will be the one resulting from the [previous notebook](1-data-sourcing.ipynb) where\n",
        "we dug into data sourcing and did some processing prior this task. The dataset\n",
        "consists on financial data including OHLCV (open, high, low, close, volume) from diverse instruments (indices,\n",
        "commodities, interest rates...) and technical indicators (moving averages, RSI, standard deviation...), that we will\n",
        "use to create a ML-based trading model, that gives BUY, HOLD or SELL signals for Bitcoin trading.\n",
        "\n",
        "If you want to dig more into how the dataset looks like or\n",
        "into how the above-mentioned signals are generated, please refer to the \"labelling the data\" section of\n",
        "the [data sourcing notebook](1-data-sourcing.ipynb) or the latest  print view of the DataFrame's head and/or tail\n",
        "provided on the same file.\n",
        "\n",
        "The task we will be trying to solve is basically a **classification problem**.\n",
        "We are to predict whether the next-day, Bitcoin returns will be on the top 25% most positive returns (BUY, 1),\n",
        "the 25% most negative (SELL, -1), or somewhere in between (HOLD, 0).\n",
        "\n",
        "Since AutoML does grid search over features and normalization procedures, we will take joint, unaltered data as feed\n",
        "in to the model. What we will make is dropping the last features and labels that are not really needed for the task."
      ],
      "metadata": {
        "collapsed": false,
        "pycharm": {
          "name": "#%% md\n"
        }
      }
    },
    {
      "cell_type": "code",
      "source": [
        "# Access the data and drop unneeded columns for AutoML exercise\n",
        "df = pd.read_csv('data/df.csv')\n",
        "print('dataset shape: ', df.shape)\n",
        "print('columns:\\n', df.columns)"
      ],
      "outputs": [
        {
          "output_type": "stream",
          "name": "stdout",
          "text": "dataset shape:  (2708, 34)\ncolumns:\n Index(['Date', 'shangai', 'btc', 'crude oil', 'euro', 'gold', 'silver', 'ftse',\n       'spy', 'hsi', 'nasdaq', 'nikkei', 'rates', 'open', 'high', 'low', 'MA4',\n       'MA50', 'MA80', 'stochRSI', 'RSI', 'btc_std_dev', 'std_dif', 'vol_btc',\n       'hashrate', 'difficulty', 'transactions', 't_cost', 'y_returns',\n       'y_close', 'y_c', 'y_returns_shift', 'y_c_shift', 'y_close_shift'],\n      dtype='object')\n"
        }
      ],
      "execution_count": 4,
      "metadata": {
        "collapsed": false,
        "pycharm": {
          "name": "#%%\n"
        },
        "gather": {
          "logged": 1645203826232
        }
      }
    },
    {
      "cell_type": "code",
      "source": [
        "drop_col_list = ['y_close', 'y_close_shift', 'y_returns_shift'] # our label will be y_c_shift\n",
        "df.drop(columns=drop_col_list, inplace=True)"
      ],
      "outputs": [],
      "execution_count": 5,
      "metadata": {
        "collapsed": false,
        "pycharm": {
          "name": "#%%\n"
        },
        "gather": {
          "logged": 1645203826372
        }
      }
    },
    {
      "cell_type": "code",
      "source": [
        "# Register the dataset\n",
        "datastore = ws.get_default_datastore()\n",
        "dataset = Dataset.Tabular.register_pandas_dataframe(df, datastore, \"automl_dataset\", show_progress=True)\n",
        "df = dataset.to_pandas_dataframe()"
      ],
      "outputs": [
        {
          "output_type": "stream",
          "name": "stdout",
          "text": "Validating arguments.\nArguments validated.\nSuccessfully obtained datastore reference and path.\nUploading file to managed-dataset/8cd670b6-d3f4-4ab1-ba5a-8de10a9f04c3/\nSuccessfully uploaded file to datastore.\nCreating and registering a new dataset.\nSuccessfully created and registered a new dataset.\n"
        }
      ],
      "execution_count": 6,
      "metadata": {
        "collapsed": false,
        "pycharm": {
          "name": "#%%\n"
        },
        "gather": {
          "logged": 1645203831493
        }
      }
    },
    {
      "cell_type": "markdown",
      "source": [
        "## AutoML Configuration\n",
        "\n",
        "Our AutoML run will have the classification task of predicting next day's buy, sell or hold label, or the column\n",
        "`y_c_shift`. Our primary metric will be accuracy, as we need a metric we can compare later with HyperDrive\n",
        "and considering that our problem doesn't have particular implications on false positives or negatives,\n",
        "that would make us opt for recall or precision instead.\n",
        " I'm also adding the automatic featurization, so\n",
        "AutoML takes care of necessary data transformations, trying out different methods.\n",
        "\n",
        "As timeout for this project I will use 30 minutes. The usage of VMs to access Azure on a limited time (1h) adds pressure\n",
        "on this metric. We also need time to analize results afterwards, so air time using the VM is important."
      ],
      "metadata": {}
    },
    {
      "cell_type": "code",
      "source": [
        "automl_settings = {\"featurization\": 'auto'}"
      ],
      "outputs": [],
      "execution_count": 7,
      "metadata": {
        "gather": {
          "logged": 1645203831628
        },
        "jupyter": {
          "outputs_hidden": false,
          "source_hidden": false
        },
        "nteract": {
          "transient": {
            "deleting": false
          }
        }
      }
    },
    {
      "cell_type": "code",
      "source": [
        "# Set parameters for AutoMLConfig\n",
        "automl_config = AutoMLConfig(\n",
        "    experiment_timeout_minutes=30,\n",
        "    task='classification',\n",
        "    primary_metric='accuracy',\n",
        "    training_data=df,\n",
        "    label_column_name='y_c_shift',\n",
        "    n_cross_validations=5,\n",
        "    **automl_settings)"
      ],
      "outputs": [],
      "execution_count": 8,
      "metadata": {
        "collapsed": false,
        "pycharm": {
          "name": "#%%\n"
        },
        "gather": {
          "logged": 1645203831777
        }
      }
    },
    {
      "cell_type": "code",
      "source": [
        "# Submit the experiment run\n",
        "automl_run = exp.submit(automl_config, show_output=True)\n",
        "automl_run.wait_for_completion(show_output=True)"
      ],
      "outputs": [
        {
          "output_type": "stream",
          "name": "stdout",
          "text": "No run_configuration provided, running on local with default configuration\nRunning in the active local environment.\n"
        },
        {
          "output_type": "stream",
          "name": "stderr",
          "text": "2022-02-18:17:03:53,402 INFO     [modeling_bert.py:226] Better speed can be achieved with apex installed from https://www.github.com/nvidia/apex .\n2022-02-18:17:03:53,408 INFO     [modeling_xlnet.py:339] Better speed can be achieved with apex installed from https://www.github.com/nvidia/apex .\n2022-02-18:17:03:56,561 INFO     [utils.py:159] NumExpr defaulting to 4 threads.\n"
        },
        {
          "output_type": "display_data",
          "data": {
            "text/plain": "<IPython.core.display.HTML object>",
            "text/html": "<table style=\"width:100%\"><tr><th>Experiment</th><th>Id</th><th>Type</th><th>Status</th><th>Details Page</th><th>Docs Page</th></tr><tr><td>az-capstone-automl</td><td>AutoML_7948808a-fc20-4b91-881c-b5703f6f4c46</td><td>automl</td><td>Preparing</td><td><a href=\"https://ml.azure.com/runs/AutoML_7948808a-fc20-4b91-881c-b5703f6f4c46?wsid=/subscriptions/510b94ba-e453-4417-988b-fbdc37b55ca7/resourcegroups/aml-quickstarts-186961/workspaces/quick-starts-ws-186961&amp;tid=660b3398-b80e-49d2-bc5b-ac1dc93b5254\" target=\"_blank\" rel=\"noopener\">Link to Azure Machine Learning studio</a></td><td><a href=\"https://docs.microsoft.com/en-us/python/api/overview/azure/ml/intro?view=azure-ml-py\" target=\"_blank\" rel=\"noopener\">Link to Documentation</a></td></tr></table>"
          },
          "metadata": {}
        },
        {
          "output_type": "stream",
          "name": "stdout",
          "text": "Current status: DatasetEvaluation. Gathering dataset statistics.\nCurrent status: FeaturesGeneration. Generating features for the dataset.\nCurrent status: DatasetFeaturization. Beginning to fit featurizers and featurize the dataset.\nCurrent status: DatasetFeaturizationCompleted. Completed fit featurizers and featurizing the dataset.\nCurrent status: DatasetCrossValidationSplit. Generating individually featurized CV splits.\n\n********************************************************************************************\nDATA GUARDRAILS: \n\nTYPE:         Class balancing detection\nSTATUS:       PASSED\nDESCRIPTION:  Your inputs were analyzed, and all classes are balanced in your training data.\n              Learn more about imbalanced data: https://aka.ms/AutomatedMLImbalancedData\n\n********************************************************************************************\n\nTYPE:         Missing feature values imputation\nSTATUS:       DONE\nDESCRIPTION:  If the missing values are expected, let the run complete. Otherwise cancel the current run and use a script to customize the handling of missing feature values that may be more appropriate based on the data type and business requirement.\n              Learn more about missing value imputation: https://aka.ms/AutomatedMLFeaturization\nDETAILS:      \n+------------------------------+------------------------------+------------------------------+\n|Column name                   |Missing value count           |Imputation type               |\n+==============================+==============================+==============================+\n|MA4                           |1                             |mean                          |\n|MA50                          |1                             |mean                          |\n|MA80                          |1                             |mean                          |\n|btc                           |1                             |mean                          |\n|crude oil                     |2                             |mean                          |\n|difficulty                    |1                             |mean                          |\n|euro                          |1                             |mean                          |\n|ftse                          |1                             |mean                          |\n|gold                          |1                             |mean                          |\n|hashrate                      |1                             |mean                          |\n|high                          |1                             |mean                          |\n|hsi                           |1                             |mean                          |\n|low                           |1                             |mean                          |\n|nasdaq                        |1                             |mean                          |\n|nikkei                        |1                             |mean                          |\n|open                          |1                             |mean                          |\n|rates                         |1                             |mean                          |\n|shangai                       |1                             |mean                          |\n|silver                        |1                             |mean                          |\n|spy                           |1                             |mean                          |\n|std_dif                       |1                             |mean                          |\n|t_cost                        |1                             |mean                          |\n|vol_btc                       |1                             |mean                          |\n+------------------------------+------------------------------+------------------------------+\n\n********************************************************************************************\n\nTYPE:         High cardinality feature detection\nSTATUS:       PASSED\nDESCRIPTION:  Your inputs were analyzed, and no high cardinality features were detected.\n              Learn more about high cardinality feature handling: https://aka.ms/AutomatedMLFeaturization\n\n********************************************************************************************\nCurrent status: ModelSelection. Beginning model selection.\n\n********************************************************************************************\nITER: The iteration being evaluated.\nPIPELINE: A summary description of the pipeline being evaluated.\nDURATION: Time taken for the current iteration.\nMETRIC: The result of computing score on the fitted pipeline.\nBEST: The best observed score thus far.\n********************************************************************************************\n\n ITER   PIPELINE                                       DURATION            METRIC      BEST\n    0   MaxAbsScaler LightGBM                          0:00:35             0.4911    0.4911\n    1   MaxAbsScaler XGBoostClassifier                 0:00:33             0.5111    0.5111\n    2   MaxAbsScaler ExtremeRandomTrees                0:00:28             0.4656    0.5111\n    3   SparseNormalizer XGBoostClassifier             0:00:27             0.5041    0.5111\n    4   StandardScalerWrapper KNN                      0:00:27             0.4590    0.5111\n    5   MaxAbsScaler LightGBM                          0:00:26             0.5129    0.5129\n    6   RobustScaler LogisticRegression                0:00:26             0.4823    0.5129\n    7   MaxAbsScaler LightGBM                          0:00:28             0.5007    0.5129\n    8   StandardScalerWrapper KNN                      0:00:34             0.4742    0.5129\n    9   StandardScalerWrapper SVM                      0:00:42             0.5100    0.5129\n   10   StandardScalerWrapper XGBoostClassifier        0:00:26             0.4956    0.5129\n   11   MinMaxScaler RandomForest                      0:00:30             0.4527    0.5129\n   12   StandardScalerWrapper LogisticRegression       0:00:25             0.5159    0.5159\n   13   StandardScalerWrapper KNN                      0:00:26             0.5004    0.5159\n   14   RobustScaler KNN                               0:00:24             0.4531    0.5159\n   15   MinMaxScaler KNN                               0:00:24             0.4701    0.5159\n   16   SparseNormalizer KNN                           0:00:24             0.4797    0.5159\n   17   MaxAbsScaler LogisticRegression                0:00:24             0.5188    0.5188\n   18   StandardScalerWrapper XGBoostClassifier        0:00:25             0.5063    0.5188\n   19   StandardScalerWrapper XGBoostClassifier        0:00:24             0.5170    0.5188\n   20   MaxAbsScaler LogisticRegression                0:00:24             0.5163    0.5188\n   21   StandardScalerWrapper XGBoostClassifier        0:00:26             0.5103    0.5188\n   22   StandardScalerWrapper XGBoostClassifier        0:00:26             0.4996    0.5188\n   23   SparseNormalizer XGBoostClassifier             0:00:26             0.5037    0.5188\n   24   RobustScaler ExtremeRandomTrees                0:00:25             0.5100    0.5188\n   25   MinMaxScaler LogisticRegression                0:00:23             0.5004    0.5188\n   26   MinMaxScaler LightGBM                          0:00:28             0.5159    0.5188\n   27   StandardScalerWrapper ExtremeRandomTrees       0:00:27             0.5059    0.5188\n   28   MaxAbsScaler LightGBM                          0:00:28             0.5011    0.5188\n   29   MaxAbsScaler LightGBM                          0:00:24             0.5056    0.5188\n   30   VotingEnsemble                                 0:00:26             0.5262    0.5262\n   31   StackEnsemble                                  0:00:45             0.5159    0.5262\nStopping criteria reached at iteration 32. Ending experiment.\n********************************************************************************************\nCurrent status: BestRunExplainModel. Best run model explanations started\nCurrent status: ModelExplanationDataSetSetup. Model explanations data setup completed\nCurrent status: PickSurrogateModel. Choosing LightGBM as the surrogate model for explanations\nCurrent status: EngineeredFeatureExplanations. Computation of engineered features started\nCurrent status: EngineeredFeatureExplanations. Computation of engineered features completed\nCurrent status: RawFeaturesExplanations. Computation of raw features started\nCurrent status: RawFeaturesExplanations. Computation of raw features completed\nCurrent status: BestRunExplainModel. Best run model explanations completed\n********************************************************************************************\n"
        },
        {
          "output_type": "stream",
          "name": "stderr",
          "text": "2022-02-18:17:21:42,207 INFO     [explanation_client.py:334] Using default datastore for uploads\n"
        },
        {
          "output_type": "display_data",
          "data": {
            "text/plain": "<IPython.core.display.HTML object>",
            "text/html": "<table style=\"width:100%\"><tr><th>Experiment</th><th>Id</th><th>Type</th><th>Status</th><th>Details Page</th><th>Docs Page</th></tr><tr><td>az-capstone-automl</td><td>AutoML_7948808a-fc20-4b91-881c-b5703f6f4c46</td><td>automl</td><td>Completed</td><td><a href=\"https://ml.azure.com/runs/AutoML_7948808a-fc20-4b91-881c-b5703f6f4c46?wsid=/subscriptions/510b94ba-e453-4417-988b-fbdc37b55ca7/resourcegroups/aml-quickstarts-186961/workspaces/quick-starts-ws-186961&amp;tid=660b3398-b80e-49d2-bc5b-ac1dc93b5254\" target=\"_blank\" rel=\"noopener\">Link to Azure Machine Learning studio</a></td><td><a href=\"https://docs.microsoft.com/en-us/python/api/overview/azure/ml/intro?view=azure-ml-py\" target=\"_blank\" rel=\"noopener\">Link to Documentation</a></td></tr></table>"
          },
          "metadata": {}
        },
        {
          "output_type": "stream",
          "name": "stdout",
          "text": "\n\n********************************************************************************************\nDATA GUARDRAILS: \n\nTYPE:         Class balancing detection\nSTATUS:       PASSED\nDESCRIPTION:  Your inputs were analyzed, and all classes are balanced in your training data.\n              Learn more about imbalanced data: https://aka.ms/AutomatedMLImbalancedData\n\n********************************************************************************************\n\nTYPE:         Missing feature values imputation\nSTATUS:       DONE\nDESCRIPTION:  If the missing values are expected, let the run complete. Otherwise cancel the current run and use a script to customize the handling of missing feature values that may be more appropriate based on the data type and business requirement.\n              Learn more about missing value imputation: https://aka.ms/AutomatedMLFeaturization\nDETAILS:      \n+------------------------------+------------------------------+------------------------------+\n|Column name                   |Missing value count           |Imputation type               |\n+==============================+==============================+==============================+\n|MA4                           |1                             |mean                          |\n|MA50                          |1                             |mean                          |\n|MA80                          |1                             |mean                          |\n|btc                           |1                             |mean                          |\n|crude oil                     |2                             |mean                          |\n|difficulty                    |1                             |mean                          |\n|euro                          |1                             |mean                          |\n|ftse                          |1                             |mean                          |\n|gold                          |1                             |mean                          |\n|hashrate                      |1                             |mean                          |\n|high                          |1                             |mean                          |\n|hsi                           |1                             |mean                          |\n|low                           |1                             |mean                          |\n|nasdaq                        |1                             |mean                          |\n|nikkei                        |1                             |mean                          |\n|open                          |1                             |mean                          |\n|rates                         |1                             |mean                          |\n|shangai                       |1                             |mean                          |\n|silver                        |1                             |mean                          |\n|spy                           |1                             |mean                          |\n|std_dif                       |1                             |mean                          |\n|t_cost                        |1                             |mean                          |\n|vol_btc                       |1                             |mean                          |\n+------------------------------+------------------------------+------------------------------+\n\n********************************************************************************************\n\nTYPE:         High cardinality feature detection\nSTATUS:       PASSED\nDESCRIPTION:  Your inputs were analyzed, and no high cardinality features were detected.\n              Learn more about high cardinality feature handling: https://aka.ms/AutomatedMLFeaturization\n\n********************************************************************************************\n\n********************************************************************************************\nITER: The iteration being evaluated.\nPIPELINE: A summary description of the pipeline being evaluated.\nDURATION: Time taken for the current iteration.\nMETRIC: The result of computing score on the fitted pipeline.\nBEST: The best observed score thus far.\n********************************************************************************************\n\n ITER   PIPELINE                                       DURATION            METRIC      BEST\n    0   MaxAbsScaler LightGBM                          0:00:35             0.4911    0.4911\n    1   MaxAbsScaler XGBoostClassifier                 0:00:33             0.5111    0.5111\n    2   MaxAbsScaler ExtremeRandomTrees                0:00:29             0.4656    0.5111\n    3   SparseNormalizer XGBoostClassifier             0:00:27             0.5041    0.5111\n    4   StandardScalerWrapper KNN                      0:00:28             0.4590    0.5111\n    5   MaxAbsScaler LightGBM                          0:00:26             0.5129    0.5129\n    6   RobustScaler LogisticRegression                0:00:26             0.4823    0.5129\n    7   MaxAbsScaler LightGBM                          0:00:28             0.5007    0.5129\n    8   StandardScalerWrapper KNN                      0:00:35             0.4742    0.5129\n    9   StandardScalerWrapper SVM                      0:00:42             0.5100    0.5129\n   10   StandardScalerWrapper XGBoostClassifier        0:00:27             0.4956    0.5129\n   11   MinMaxScaler RandomForest                      0:00:30             0.4527    0.5129\n   12   StandardScalerWrapper LogisticRegression       0:00:25             0.5159    0.5159\n   13   StandardScalerWrapper KNN                      0:00:26             0.5004    0.5159\n   14   RobustScaler KNN                               0:00:25             0.4531    0.5159\n   15   MinMaxScaler KNN                               0:00:24             0.4701    0.5159\n   16   SparseNormalizer KNN                           0:00:25             0.4797    0.5159\n   17   MaxAbsScaler LogisticRegression                0:00:24             0.5188    0.5188\n   18   StandardScalerWrapper XGBoostClassifier        0:00:25             0.5063    0.5188\n   19   StandardScalerWrapper XGBoostClassifier        0:00:25             0.5170    0.5188\n   20   MaxAbsScaler LogisticRegression                0:00:25             0.5163    0.5188\n   21   StandardScalerWrapper XGBoostClassifier        0:00:27             0.5103    0.5188\n   22   StandardScalerWrapper XGBoostClassifier        0:00:26             0.4996    0.5188\n   23   SparseNormalizer XGBoostClassifier             0:00:26             0.5037    0.5188\n   24   RobustScaler ExtremeRandomTrees                0:00:26             0.5100    0.5188\n   25   MinMaxScaler LogisticRegression                0:00:24             0.5004    0.5188\n   26   MinMaxScaler LightGBM                          0:00:28             0.5159    0.5188\n   27   StandardScalerWrapper ExtremeRandomTrees       0:00:28             0.5059    0.5188\n   28   MaxAbsScaler LightGBM                          0:00:29             0.5011    0.5188\n   29   MaxAbsScaler LightGBM                          0:00:24             0.5056    0.5188\n   30    VotingEnsemble                                0:00:26             0.5262    0.5262\n   31    StackEnsemble                                 0:00:45             0.5159    0.5262\n"
        },
        {
          "output_type": "execute_result",
          "execution_count": 9,
          "data": {
            "text/plain": "{'runId': 'AutoML_7948808a-fc20-4b91-881c-b5703f6f4c46',\n 'target': 'local',\n 'status': 'Completed',\n 'startTimeUtc': '2022-02-18T17:03:58.030749Z',\n 'endTimeUtc': '2022-02-18T17:19:57.663165Z',\n 'services': {},\n 'warnings': [{'source': 'JasmineService',\n   'message': 'No scores improved over last 20 iterations, so experiment stopped early. This early stopping behavior can be disabled by setting enable_early_stopping = False in AutoMLConfig for notebook/python SDK runs.'}],\n 'properties': {'num_iterations': '1000',\n  'training_type': 'TrainFull',\n  'acquisition_function': 'EI',\n  'primary_metric': 'accuracy',\n  'train_split': '0',\n  'acquisition_parameter': '0',\n  'num_cross_validation': '5',\n  'target': 'local',\n  'AMLSettingsJsonString': '{\"path\":null,\"name\":\"az-capstone-automl\",\"subscription_id\":\"510b94ba-e453-4417-988b-fbdc37b55ca7\",\"resource_group\":\"aml-quickstarts-186961\",\"workspace_name\":\"quick-starts-ws-186961\",\"region\":\"southcentralus\",\"compute_target\":\"local\",\"spark_service\":null,\"azure_service\":\"Microsoft.AzureNotebookVM\",\"many_models\":false,\"pipeline_fetch_max_batch_size\":1,\"enable_batch_run\":false,\"enable_run_restructure\":false,\"start_auxiliary_runs_before_parent_complete\":false,\"enable_code_generation\":false,\"iterations\":1000,\"primary_metric\":\"accuracy\",\"task_type\":\"classification\",\"positive_label\":null,\"data_script\":null,\"test_size\":0.0,\"test_include_predictions_only\":false,\"validation_size\":0.0,\"n_cross_validations\":5,\"y_min\":null,\"y_max\":null,\"num_classes\":null,\"featurization\":\"auto\",\"_ignore_package_version_incompatibilities\":false,\"is_timeseries\":false,\"max_cores_per_iteration\":1,\"max_concurrent_iterations\":1,\"iteration_timeout_minutes\":null,\"mem_in_mb\":null,\"enforce_time_on_windows\":false,\"experiment_timeout_minutes\":30,\"experiment_exit_score\":null,\"whitelist_models\":null,\"blacklist_algos\":[\"TensorFlowLinearClassifier\",\"TensorFlowDNN\"],\"supported_models\":[\"TensorFlowDNN\",\"TabnetClassifier\",\"ExtremeRandomTrees\",\"MultinomialNaiveBayes\",\"DecisionTree\",\"RandomForest\",\"GradientBoosting\",\"SGD\",\"LightGBM\",\"XGBoostClassifier\",\"KNN\",\"BernoulliNaiveBayes\",\"AveragedPerceptronClassifier\",\"TensorFlowLinearClassifier\",\"LinearSVM\",\"SVM\",\"LogisticRegression\"],\"private_models\":[],\"auto_blacklist\":true,\"blacklist_samples_reached\":false,\"exclude_nan_labels\":true,\"verbosity\":20,\"_debug_log\":\"automl.log\",\"show_warnings\":false,\"model_explainability\":true,\"service_url\":null,\"sdk_url\":null,\"sdk_packages\":null,\"enable_onnx_compatible_models\":false,\"enable_split_onnx_featurizer_estimator_models\":false,\"vm_type\":null,\"telemetry_verbosity\":20,\"send_telemetry\":true,\"enable_dnn\":false,\"scenario\":\"SDK-1.13.0\",\"environment_label\":null,\"save_mlflow\":false,\"enable_categorical_indicators\":false,\"force_text_dnn\":false,\"enable_feature_sweeping\":true,\"enable_early_stopping\":true,\"early_stopping_n_iters\":10,\"arguments\":null,\"dataset_id\":null,\"hyperdrive_config\":null,\"validation_dataset_id\":null,\"run_source\":null,\"metrics\":null,\"enable_metric_confidence\":false,\"enable_ensembling\":true,\"enable_stack_ensembling\":true,\"ensemble_iterations\":15,\"enable_tf\":false,\"enable_subsampling\":null,\"subsample_seed\":null,\"enable_nimbusml\":false,\"enable_streaming\":false,\"force_streaming\":false,\"track_child_runs\":true,\"allowed_private_models\":[],\"label_column_name\":\"y_c_shift\",\"weight_column_name\":null,\"cv_split_column_names\":null,\"enable_local_managed\":false,\"_local_managed_run_id\":null,\"cost_mode\":1,\"lag_length\":0,\"metric_operation\":\"maximize\",\"preprocess\":true}',\n  'DataPrepJsonString': None,\n  'EnableSubsampling': None,\n  'runTemplate': 'AutoML',\n  'azureml.runsource': 'automl',\n  'display_task_type': 'classification',\n  'dependencies_versions': '{\"azureml-widgets\": \"1.38.0\", \"azureml-train\": \"1.38.0\", \"azureml-train-restclients-hyperdrive\": \"1.38.0\", \"azureml-train-core\": \"1.38.0\", \"azureml-train-automl\": \"1.38.0\", \"azureml-train-automl-runtime\": \"1.38.0\", \"azureml-train-automl-client\": \"1.38.0\", \"azureml-tensorboard\": \"1.38.0\", \"azureml-telemetry\": \"1.38.0\", \"azureml-sdk\": \"1.38.0\", \"azureml-responsibleai\": \"1.38.0\", \"azureml-pipeline\": \"1.38.0\", \"azureml-pipeline-steps\": \"1.38.0\", \"azureml-pipeline-core\": \"1.38.0\", \"azureml-opendatasets\": \"1.38.0\", \"azureml-mlflow\": \"1.38.0\", \"azureml-interpret\": \"1.38.0\", \"azureml-inference-server-http\": \"0.4.2\", \"azureml-explain-model\": \"1.38.0\", \"azureml-defaults\": \"1.38.0\", \"azureml-dataset-runtime\": \"1.38.0\", \"azureml-dataprep\": \"2.26.0\", \"azureml-dataprep-rslex\": \"2.2.0\", \"azureml-dataprep-native\": \"38.0.0\", \"azureml-datadrift\": \"1.38.0\", \"azureml-core\": \"1.38.0\", \"azureml-contrib-services\": \"1.38.0\", \"azureml-contrib-server\": \"1.38.0\", \"azureml-contrib-reinforcementlearning\": \"1.38.0\", \"azureml-contrib-pipeline-steps\": \"1.38.0\", \"azureml-contrib-notebook\": \"1.38.0\", \"azureml-contrib-fairness\": \"1.38.0\", \"azureml-contrib-dataset\": \"1.38.0\", \"azureml-contrib-automl-pipeline-steps\": \"1.38.0\", \"azureml-cli-common\": \"1.38.0\", \"azureml-automl-runtime\": \"1.38.0\", \"azureml-automl-dnn-nlp\": \"1.38.0\", \"azureml-automl-core\": \"1.38.0\", \"azureml-accel-models\": \"1.38.0\"}',\n  '_aml_system_scenario_identification': 'Local.Parent',\n  'ClientSdkVersion': '1.38.0',\n  'ClientType': 'SDK',\n  'environment_cpu_name': 'AzureML-AutoML',\n  'environment_cpu_label': 'py36',\n  'environment_gpu_name': 'AzureML-AutoML-GPU',\n  'environment_gpu_label': 'py36',\n  'root_attribution': 'automl',\n  'attribution': 'AutoML',\n  'Orchestrator': 'AutoML',\n  '_azureml.ComputeTargetType': 'local',\n  'ProblemInfoJsonString': '{\"dataset_num_categorical\": 0, \"is_sparse\": false, \"subsampling\": false, \"has_extra_col\": true, \"dataset_classes\": 3, \"dataset_features\": 39, \"dataset_samples\": 2708, \"single_frequency_class_detected\": false}',\n  'model_output_path': '',\n  'azureml.git.repository_uri': 'https://github.com/renejra/azure-ml-engineer.git',\n  'mlflow.source.git.repoURL': 'https://github.com/renejra/azure-ml-engineer.git',\n  'azureml.git.branch': 'capstone-remote',\n  'mlflow.source.git.branch': 'capstone-remote',\n  'azureml.git.commit': '95efc379a1785659cb8e2afb33694b38b25f1cad',\n  'mlflow.source.git.commit': '95efc379a1785659cb8e2afb33694b38b25f1cad',\n  'azureml.git.dirty': 'True'},\n 'inputDatasets': [],\n 'outputDatasets': [],\n 'logFiles': {},\n 'submittedBy': 'ODL_User 186961'}"
          },
          "metadata": {}
        }
      ],
      "execution_count": 9,
      "metadata": {
        "collapsed": false,
        "pycharm": {
          "name": "#%%\n"
        },
        "gather": {
          "logged": 1645205312195
        }
      }
    },
    {
      "cell_type": "markdown",
      "source": [
        "## Run Details\n",
        "\n",
        "By using the RunDetails widget, we can appreciate different experiments metrics.\n",
        "\n",
        "OPTIONAL: Write about the different models trained and their performance.\n",
        "Why do you think some models did better than others?"
      ],
      "metadata": {}
    },
    {
      "cell_type": "code",
      "source": [
        "RunDetails(automl_run).show()"
      ],
      "outputs": [
        {
          "output_type": "display_data",
          "data": {
            "text/plain": "_AutoMLWidget(widget_settings={'childWidgetDisplay': 'popup', 'send_telemetry': False, 'log_level': 'INFO', 's…",
            "application/vnd.jupyter.widget-view+json": {
              "version_major": 2,
              "version_minor": 0,
              "model_id": "02c43b1947024c31887568be814c0ab4"
            }
          },
          "metadata": {}
        },
        {
          "output_type": "display_data",
          "data": {
            "application/aml.mini.widget.v1": "{\"status\": \"Completed\", \"workbench_run_details_uri\": \"https://ml.azure.com/runs/AutoML_7948808a-fc20-4b91-881c-b5703f6f4c46?wsid=/subscriptions/510b94ba-e453-4417-988b-fbdc37b55ca7/resourcegroups/aml-quickstarts-186961/workspaces/quick-starts-ws-186961&tid=660b3398-b80e-49d2-bc5b-ac1dc93b5254\", \"run_id\": \"AutoML_7948808a-fc20-4b91-881c-b5703f6f4c46\", \"run_properties\": {\"run_id\": \"AutoML_7948808a-fc20-4b91-881c-b5703f6f4c46\", \"created_utc\": \"2022-02-18T17:03:57.267876Z\", \"properties\": {\"num_iterations\": \"1000\", \"training_type\": \"TrainFull\", \"acquisition_function\": \"EI\", \"primary_metric\": \"accuracy\", \"train_split\": \"0\", \"acquisition_parameter\": \"0\", \"num_cross_validation\": \"5\", \"target\": \"local\", \"AMLSettingsJsonString\": \"{\\\"path\\\":null,\\\"name\\\":\\\"az-capstone-automl\\\",\\\"subscription_id\\\":\\\"510b94ba-e453-4417-988b-fbdc37b55ca7\\\",\\\"resource_group\\\":\\\"aml-quickstarts-186961\\\",\\\"workspace_name\\\":\\\"quick-starts-ws-186961\\\",\\\"region\\\":\\\"southcentralus\\\",\\\"compute_target\\\":\\\"local\\\",\\\"spark_service\\\":null,\\\"azure_service\\\":\\\"Microsoft.AzureNotebookVM\\\",\\\"many_models\\\":false,\\\"pipeline_fetch_max_batch_size\\\":1,\\\"enable_batch_run\\\":false,\\\"enable_run_restructure\\\":false,\\\"start_auxiliary_runs_before_parent_complete\\\":false,\\\"enable_code_generation\\\":false,\\\"iterations\\\":1000,\\\"primary_metric\\\":\\\"accuracy\\\",\\\"task_type\\\":\\\"classification\\\",\\\"positive_label\\\":null,\\\"data_script\\\":null,\\\"test_size\\\":0.0,\\\"test_include_predictions_only\\\":false,\\\"validation_size\\\":0.0,\\\"n_cross_validations\\\":5,\\\"y_min\\\":null,\\\"y_max\\\":null,\\\"num_classes\\\":null,\\\"featurization\\\":\\\"auto\\\",\\\"_ignore_package_version_incompatibilities\\\":false,\\\"is_timeseries\\\":false,\\\"max_cores_per_iteration\\\":1,\\\"max_concurrent_iterations\\\":1,\\\"iteration_timeout_minutes\\\":null,\\\"mem_in_mb\\\":null,\\\"enforce_time_on_windows\\\":false,\\\"experiment_timeout_minutes\\\":30,\\\"experiment_exit_score\\\":null,\\\"whitelist_models\\\":null,\\\"blacklist_algos\\\":[\\\"TensorFlowLinearClassifier\\\",\\\"TensorFlowDNN\\\"],\\\"supported_models\\\":[\\\"TensorFlowDNN\\\",\\\"TabnetClassifier\\\",\\\"ExtremeRandomTrees\\\",\\\"MultinomialNaiveBayes\\\",\\\"DecisionTree\\\",\\\"RandomForest\\\",\\\"GradientBoosting\\\",\\\"SGD\\\",\\\"LightGBM\\\",\\\"XGBoostClassifier\\\",\\\"KNN\\\",\\\"BernoulliNaiveBayes\\\",\\\"AveragedPerceptronClassifier\\\",\\\"TensorFlowLinearClassifier\\\",\\\"LinearSVM\\\",\\\"SVM\\\",\\\"LogisticRegression\\\"],\\\"private_models\\\":[],\\\"auto_blacklist\\\":true,\\\"blacklist_samples_reached\\\":false,\\\"exclude_nan_labels\\\":true,\\\"verbosity\\\":20,\\\"_debug_log\\\":\\\"automl.log\\\",\\\"show_warnings\\\":false,\\\"model_explainability\\\":true,\\\"service_url\\\":null,\\\"sdk_url\\\":null,\\\"sdk_packages\\\":null,\\\"enable_onnx_compatible_models\\\":false,\\\"enable_split_onnx_featurizer_estimator_models\\\":false,\\\"vm_type\\\":null,\\\"telemetry_verbosity\\\":20,\\\"send_telemetry\\\":true,\\\"enable_dnn\\\":false,\\\"scenario\\\":\\\"SDK-1.13.0\\\",\\\"environment_label\\\":null,\\\"save_mlflow\\\":false,\\\"enable_categorical_indicators\\\":false,\\\"force_text_dnn\\\":false,\\\"enable_feature_sweeping\\\":true,\\\"enable_early_stopping\\\":true,\\\"early_stopping_n_iters\\\":10,\\\"arguments\\\":null,\\\"dataset_id\\\":null,\\\"hyperdrive_config\\\":null,\\\"validation_dataset_id\\\":null,\\\"run_source\\\":null,\\\"metrics\\\":null,\\\"enable_metric_confidence\\\":false,\\\"enable_ensembling\\\":true,\\\"enable_stack_ensembling\\\":true,\\\"ensemble_iterations\\\":15,\\\"enable_tf\\\":false,\\\"enable_subsampling\\\":null,\\\"subsample_seed\\\":null,\\\"enable_nimbusml\\\":false,\\\"enable_streaming\\\":false,\\\"force_streaming\\\":false,\\\"track_child_runs\\\":true,\\\"allowed_private_models\\\":[],\\\"label_column_name\\\":\\\"y_c_shift\\\",\\\"weight_column_name\\\":null,\\\"cv_split_column_names\\\":null,\\\"enable_local_managed\\\":false,\\\"_local_managed_run_id\\\":null,\\\"cost_mode\\\":1,\\\"lag_length\\\":0,\\\"metric_operation\\\":\\\"maximize\\\",\\\"preprocess\\\":true}\", \"DataPrepJsonString\": null, \"EnableSubsampling\": null, \"runTemplate\": \"AutoML\", \"azureml.runsource\": \"automl\", \"display_task_type\": \"classification\", \"dependencies_versions\": \"{\\\"azureml-widgets\\\": \\\"1.38.0\\\", \\\"azureml-train\\\": \\\"1.38.0\\\", \\\"azureml-train-restclients-hyperdrive\\\": \\\"1.38.0\\\", \\\"azureml-train-core\\\": \\\"1.38.0\\\", \\\"azureml-train-automl\\\": \\\"1.38.0\\\", \\\"azureml-train-automl-runtime\\\": \\\"1.38.0\\\", \\\"azureml-train-automl-client\\\": \\\"1.38.0\\\", \\\"azureml-tensorboard\\\": \\\"1.38.0\\\", \\\"azureml-telemetry\\\": \\\"1.38.0\\\", \\\"azureml-sdk\\\": \\\"1.38.0\\\", \\\"azureml-responsibleai\\\": \\\"1.38.0\\\", \\\"azureml-pipeline\\\": \\\"1.38.0\\\", \\\"azureml-pipeline-steps\\\": \\\"1.38.0\\\", \\\"azureml-pipeline-core\\\": \\\"1.38.0\\\", \\\"azureml-opendatasets\\\": \\\"1.38.0\\\", \\\"azureml-mlflow\\\": \\\"1.38.0\\\", \\\"azureml-interpret\\\": \\\"1.38.0\\\", \\\"azureml-inference-server-http\\\": \\\"0.4.2\\\", \\\"azureml-explain-model\\\": \\\"1.38.0\\\", \\\"azureml-defaults\\\": \\\"1.38.0\\\", \\\"azureml-dataset-runtime\\\": \\\"1.38.0\\\", \\\"azureml-dataprep\\\": \\\"2.26.0\\\", \\\"azureml-dataprep-rslex\\\": \\\"2.2.0\\\", \\\"azureml-dataprep-native\\\": \\\"38.0.0\\\", \\\"azureml-datadrift\\\": \\\"1.38.0\\\", \\\"azureml-core\\\": \\\"1.38.0\\\", \\\"azureml-contrib-services\\\": \\\"1.38.0\\\", \\\"azureml-contrib-server\\\": \\\"1.38.0\\\", \\\"azureml-contrib-reinforcementlearning\\\": \\\"1.38.0\\\", \\\"azureml-contrib-pipeline-steps\\\": \\\"1.38.0\\\", \\\"azureml-contrib-notebook\\\": \\\"1.38.0\\\", \\\"azureml-contrib-fairness\\\": \\\"1.38.0\\\", \\\"azureml-contrib-dataset\\\": \\\"1.38.0\\\", \\\"azureml-contrib-automl-pipeline-steps\\\": \\\"1.38.0\\\", \\\"azureml-cli-common\\\": \\\"1.38.0\\\", \\\"azureml-automl-runtime\\\": \\\"1.38.0\\\", \\\"azureml-automl-dnn-nlp\\\": \\\"1.38.0\\\", \\\"azureml-automl-core\\\": \\\"1.38.0\\\", \\\"azureml-accel-models\\\": \\\"1.38.0\\\"}\", \"_aml_system_scenario_identification\": \"Local.Parent\", \"ClientSdkVersion\": \"1.38.0\", \"ClientType\": \"SDK\", \"environment_cpu_name\": \"AzureML-AutoML\", \"environment_cpu_label\": \"py36\", \"environment_gpu_name\": \"AzureML-AutoML-GPU\", \"environment_gpu_label\": \"py36\", \"root_attribution\": \"automl\", \"attribution\": \"AutoML\", \"Orchestrator\": \"AutoML\", \"_azureml.ComputeTargetType\": \"local\", \"ProblemInfoJsonString\": \"{\\\"dataset_num_categorical\\\": 0, \\\"is_sparse\\\": false, \\\"subsampling\\\": false, \\\"has_extra_col\\\": true, \\\"dataset_classes\\\": 3, \\\"dataset_features\\\": 39, \\\"dataset_samples\\\": 2708, \\\"single_frequency_class_detected\\\": false}\", \"model_output_path\": \"\", \"azureml.git.repository_uri\": \"https://github.com/renejra/azure-ml-engineer.git\", \"mlflow.source.git.repoURL\": \"https://github.com/renejra/azure-ml-engineer.git\", \"azureml.git.branch\": \"capstone-remote\", \"mlflow.source.git.branch\": \"capstone-remote\", \"azureml.git.commit\": \"95efc379a1785659cb8e2afb33694b38b25f1cad\", \"mlflow.source.git.commit\": \"95efc379a1785659cb8e2afb33694b38b25f1cad\", \"azureml.git.dirty\": \"True\"}, \"tags\": {\"model_explain_run\": \"best_run\", \"best_score\": \"0.5262217705356351\", \"best_pipeline\": \"VotingEnsemble\", \"automl_best_child_run_id\": \"AutoML_7948808a-fc20-4b91-881c-b5703f6f4c46_30\", \"model_explain_best_run_child_id\": \"AutoML_7948808a-fc20-4b91-881c-b5703f6f4c46_30\"}, \"end_time_utc\": \"2022-02-18T17:19:57.663165Z\", \"status\": \"Completed\", \"log_files\": {}, \"log_groups\": [], \"run_duration\": \"0:16:00\", \"run_number\": \"1645203837\", \"run_queued_details\": {\"status\": \"Completed\", \"details\": null}}, \"child_runs\": [{\"run_id\": \"AutoML_7948808a-fc20-4b91-881c-b5703f6f4c46_0\", \"run_number\": 1645203851, \"metric\": null, \"status\": \"Completed\", \"run_type\": null, \"training_percent\": \"100\", \"start_time\": \"2022-02-18T17:04:11.8407Z\", \"end_time\": \"2022-02-18T17:04:47.221628Z\", \"created_time\": \"2022-02-18T17:04:11.62614Z\", \"created_time_dt\": \"2022-02-18T17:04:11.62614Z\", \"duration\": \"0:00:35\", \"iteration\": \"0\", \"goal\": \"accuracy_max\", \"run_name\": \"MaxAbsScaler, LightGBM\", \"run_properties\": \"copy=True\", \"primary_metric\": 0.49113436, \"best_metric\": 0.49113436}, {\"run_id\": \"AutoML_7948808a-fc20-4b91-881c-b5703f6f4c46_1\", \"run_number\": 1645203887, \"metric\": null, \"status\": \"Completed\", \"run_type\": null, \"training_percent\": \"100\", \"start_time\": \"2022-02-18T17:04:48.75792Z\", \"end_time\": \"2022-02-18T17:05:22.237298Z\", \"created_time\": \"2022-02-18T17:04:47.505797Z\", \"created_time_dt\": \"2022-02-18T17:04:47.505797Z\", \"duration\": \"0:00:34\", \"iteration\": \"1\", \"goal\": \"accuracy_max\", \"run_name\": \"MaxAbsScaler, XGBoostClassifier\", \"run_properties\": \"copy=True\", \"primary_metric\": 0.51107352, \"best_metric\": 0.51107352}, {\"run_id\": \"AutoML_7948808a-fc20-4b91-881c-b5703f6f4c46_2\", \"run_number\": 1645203922, \"metric\": null, \"status\": \"Completed\", \"run_type\": null, \"training_percent\": \"100\", \"start_time\": \"2022-02-18T17:05:23.109434Z\", \"end_time\": \"2022-02-18T17:05:51.883129Z\", \"created_time\": \"2022-02-18T17:05:22.907007Z\", \"created_time_dt\": \"2022-02-18T17:05:22.907007Z\", \"duration\": \"0:00:28\", \"iteration\": \"2\", \"goal\": \"accuracy_max\", \"run_name\": \"MaxAbsScaler, ExtremeRandomTrees\", \"run_properties\": \"copy=True\", \"primary_metric\": 0.46563764, \"best_metric\": 0.51107352}, {\"run_id\": \"AutoML_7948808a-fc20-4b91-881c-b5703f6f4c46_3\", \"run_number\": 1645203954, \"metric\": null, \"status\": \"Completed\", \"run_type\": null, \"training_percent\": \"100\", \"start_time\": \"2022-02-18T17:05:54.506343Z\", \"end_time\": \"2022-02-18T17:06:21.523202Z\", \"created_time\": \"2022-02-18T17:05:54.28848Z\", \"created_time_dt\": \"2022-02-18T17:05:54.28848Z\", \"duration\": \"0:00:27\", \"iteration\": \"3\", \"goal\": \"accuracy_max\", \"run_name\": \"SparseNormalizer, XGBoostClassifier\", \"run_properties\": \"copy=True, norm='l2'\", \"primary_metric\": 0.50406586, \"best_metric\": 0.51107352}, {\"run_id\": \"AutoML_7948808a-fc20-4b91-881c-b5703f6f4c46_4\", \"run_number\": 1645203982, \"metric\": null, \"status\": \"Completed\", \"run_type\": null, \"training_percent\": \"100\", \"start_time\": \"2022-02-18T17:06:23.070205Z\", \"end_time\": \"2022-02-18T17:06:50.813192Z\", \"created_time\": \"2022-02-18T17:06:22.792152Z\", \"created_time_dt\": \"2022-02-18T17:06:22.792152Z\", \"duration\": \"0:00:28\", \"iteration\": \"4\", \"goal\": \"accuracy_max\", \"run_name\": \"StandardScalerWrapper, KNN\", \"run_properties\": \"\\n    copy=True,\\n    with_mean=False,\\n    with_std=False\\n\", \"primary_metric\": 0.45901263, \"best_metric\": 0.51107352}, {\"run_id\": \"AutoML_7948808a-fc20-4b91-881c-b5703f6f4c46_5\", \"run_number\": 1645204012, \"metric\": null, \"status\": \"Completed\", \"run_type\": null, \"training_percent\": \"100\", \"start_time\": \"2022-02-18T17:06:52.450675Z\", \"end_time\": \"2022-02-18T17:07:18.398892Z\", \"created_time\": \"2022-02-18T17:06:52.237377Z\", \"created_time_dt\": \"2022-02-18T17:06:52.237377Z\", \"duration\": \"0:00:26\", \"iteration\": \"5\", \"goal\": \"accuracy_max\", \"run_name\": \"MaxAbsScaler, LightGBM\", \"run_properties\": \"copy=True\", \"primary_metric\": 0.51292604, \"best_metric\": 0.51292604}, {\"run_id\": \"AutoML_7948808a-fc20-4b91-881c-b5703f6f4c46_6\", \"run_number\": 1645204039, \"metric\": null, \"status\": \"Completed\", \"run_type\": null, \"training_percent\": \"100\", \"start_time\": \"2022-02-18T17:07:19.705537Z\", \"end_time\": \"2022-02-18T17:07:45.725549Z\", \"created_time\": \"2022-02-18T17:07:19.60926Z\", \"created_time_dt\": \"2022-02-18T17:07:19.60926Z\", \"duration\": \"0:00:26\", \"iteration\": \"6\", \"goal\": \"accuracy_max\", \"run_name\": \"RobustScaler, LogisticRegression\", \"run_properties\": \"copy=True, quantile_range=[10, 90], with_centering=True,\\n             with_scaling=True\", \"primary_metric\": 0.48225781, \"best_metric\": 0.51292604}, {\"run_id\": \"AutoML_7948808a-fc20-4b91-881c-b5703f6f4c46_7\", \"run_number\": 1645204066, \"metric\": null, \"status\": \"Completed\", \"run_type\": null, \"training_percent\": \"100\", \"start_time\": \"2022-02-18T17:07:47.004191Z\", \"end_time\": \"2022-02-18T17:08:15.122142Z\", \"created_time\": \"2022-02-18T17:07:46.900875Z\", \"created_time_dt\": \"2022-02-18T17:07:46.900875Z\", \"duration\": \"0:00:28\", \"iteration\": \"7\", \"goal\": \"accuracy_max\", \"run_name\": \"MaxAbsScaler, LightGBM\", \"run_properties\": \"copy=True\", \"primary_metric\": 0.50074756, \"best_metric\": 0.51292604}, {\"run_id\": \"AutoML_7948808a-fc20-4b91-881c-b5703f6f4c46_8\", \"run_number\": 1645204096, \"metric\": null, \"status\": \"Completed\", \"run_type\": null, \"training_percent\": \"100\", \"start_time\": \"2022-02-18T17:08:16.639635Z\", \"end_time\": \"2022-02-18T17:08:51.312064Z\", \"created_time\": \"2022-02-18T17:08:16.535025Z\", \"created_time_dt\": \"2022-02-18T17:08:16.535025Z\", \"duration\": \"0:00:34\", \"iteration\": \"8\", \"goal\": \"accuracy_max\", \"run_name\": \"StandardScalerWrapper, KNN\", \"run_properties\": \"\\n    copy=True,\\n    with_mean=False,\\n    with_std=False\\n\", \"primary_metric\": 0.47415269, \"best_metric\": 0.51292604}, {\"run_id\": \"AutoML_7948808a-fc20-4b91-881c-b5703f6f4c46_9\", \"run_number\": 1645204132, \"metric\": null, \"status\": \"Completed\", \"run_type\": null, \"training_percent\": \"100\", \"start_time\": \"2022-02-18T17:08:52.889579Z\", \"end_time\": \"2022-02-18T17:09:35.297808Z\", \"created_time\": \"2022-02-18T17:08:52.787088Z\", \"created_time_dt\": \"2022-02-18T17:08:52.787088Z\", \"duration\": \"0:00:42\", \"iteration\": \"9\", \"goal\": \"accuracy_max\", \"run_name\": \"StandardScalerWrapper, SVM\", \"run_properties\": \"\\n    copy=True,\\n    with_mean=True,\\n    with_std=True\\n\", \"primary_metric\": 0.50997947, \"best_metric\": 0.51292604}, {\"run_id\": \"AutoML_7948808a-fc20-4b91-881c-b5703f6f4c46_10\", \"run_number\": 1645204176, \"metric\": null, \"status\": \"Completed\", \"run_type\": null, \"training_percent\": \"100\", \"start_time\": \"2022-02-18T17:09:36.730459Z\", \"end_time\": \"2022-02-18T17:10:03.416511Z\", \"created_time\": \"2022-02-18T17:09:36.639543Z\", \"created_time_dt\": \"2022-02-18T17:09:36.639543Z\", \"duration\": \"0:00:26\", \"iteration\": \"10\", \"goal\": \"accuracy_max\", \"run_name\": \"StandardScalerWrapper, XGBoostClassifier\", \"run_properties\": \"\\n    copy=True,\\n    with_mean=False,\\n    with_std=False\\n\", \"primary_metric\": 0.49556309, \"best_metric\": 0.51292604}, {\"run_id\": \"AutoML_7948808a-fc20-4b91-881c-b5703f6f4c46_11\", \"run_number\": 1645204204, \"metric\": null, \"status\": \"Completed\", \"run_type\": null, \"training_percent\": \"100\", \"start_time\": \"2022-02-18T17:10:04.83933Z\", \"end_time\": \"2022-02-18T17:10:34.865337Z\", \"created_time\": \"2022-02-18T17:10:04.750993Z\", \"created_time_dt\": \"2022-02-18T17:10:04.750993Z\", \"duration\": \"0:00:30\", \"iteration\": \"11\", \"goal\": \"accuracy_max\", \"run_name\": \"MinMaxScaler, RandomForest\", \"run_properties\": \"copy=True, feature_range=(0, 1\", \"primary_metric\": 0.45270887, \"best_metric\": 0.51292604}, {\"run_id\": \"AutoML_7948808a-fc20-4b91-881c-b5703f6f4c46_12\", \"run_number\": 1645204236, \"metric\": null, \"status\": \"Completed\", \"run_type\": null, \"training_percent\": \"100\", \"start_time\": \"2022-02-18T17:10:36.30858Z\", \"end_time\": \"2022-02-18T17:11:01.294077Z\", \"created_time\": \"2022-02-18T17:10:36.209541Z\", \"created_time_dt\": \"2022-02-18T17:10:36.209541Z\", \"duration\": \"0:00:25\", \"iteration\": \"12\", \"goal\": \"accuracy_max\", \"run_name\": \"StandardScalerWrapper, LogisticRegression\", \"run_properties\": \"\\n    copy=True,\\n    with_mean=True,\\n    with_std=False\\n\", \"primary_metric\": 0.51588421, \"best_metric\": 0.51588421}, {\"run_id\": \"AutoML_7948808a-fc20-4b91-881c-b5703f6f4c46_13\", \"run_number\": 1645204262, \"metric\": null, \"status\": \"Completed\", \"run_type\": null, \"training_percent\": \"100\", \"start_time\": \"2022-02-18T17:11:02.65088Z\", \"end_time\": \"2022-02-18T17:11:28.639895Z\", \"created_time\": \"2022-02-18T17:11:02.508763Z\", \"created_time_dt\": \"2022-02-18T17:11:02.508763Z\", \"duration\": \"0:00:26\", \"iteration\": \"13\", \"goal\": \"accuracy_max\", \"run_name\": \"StandardScalerWrapper, KNN\", \"run_properties\": \"\\n    copy=True,\\n    with_mean=False,\\n    with_std=True\\n\", \"primary_metric\": 0.50037173, \"best_metric\": 0.51588421}, {\"run_id\": \"AutoML_7948808a-fc20-4b91-881c-b5703f6f4c46_14\", \"run_number\": 1645204290, \"metric\": null, \"status\": \"Completed\", \"run_type\": null, \"training_percent\": \"100\", \"start_time\": \"2022-02-18T17:11:30.251977Z\", \"end_time\": \"2022-02-18T17:11:55.095811Z\", \"created_time\": \"2022-02-18T17:11:30.166511Z\", \"created_time_dt\": \"2022-02-18T17:11:30.166511Z\", \"duration\": \"0:00:24\", \"iteration\": \"14\", \"goal\": \"accuracy_max\", \"run_name\": \"RobustScaler, KNN\", \"run_properties\": \"copy=True, quantile_range=[10, 90], with_centering=False,\\n             with_scaling=True\", \"primary_metric\": 0.45311198, \"best_metric\": 0.51588421}, {\"run_id\": \"AutoML_7948808a-fc20-4b91-881c-b5703f6f4c46_15\", \"run_number\": 1645204316, \"metric\": null, \"status\": \"Completed\", \"run_type\": null, \"training_percent\": \"100\", \"start_time\": \"2022-02-18T17:11:56.465752Z\", \"end_time\": \"2022-02-18T17:12:20.855884Z\", \"created_time\": \"2022-02-18T17:11:56.364821Z\", \"created_time_dt\": \"2022-02-18T17:11:56.364821Z\", \"duration\": \"0:00:24\", \"iteration\": \"15\", \"goal\": \"accuracy_max\", \"run_name\": \"MinMaxScaler, KNN\", \"run_properties\": \"copy=True, feature_range=(0, 1\", \"primary_metric\": 0.47010183, \"best_metric\": 0.51588421}, {\"run_id\": \"AutoML_7948808a-fc20-4b91-881c-b5703f6f4c46_16\", \"run_number\": 1645204342, \"metric\": null, \"status\": \"Completed\", \"run_type\": null, \"training_percent\": \"100\", \"start_time\": \"2022-02-18T17:12:22.235832Z\", \"end_time\": \"2022-02-18T17:12:46.799016Z\", \"created_time\": \"2022-02-18T17:12:22.135302Z\", \"created_time_dt\": \"2022-02-18T17:12:22.135302Z\", \"duration\": \"0:00:24\", \"iteration\": \"16\", \"goal\": \"accuracy_max\", \"run_name\": \"SparseNormalizer, KNN\", \"run_properties\": \"copy=True, norm='max'\", \"primary_metric\": 0.47969388, \"best_metric\": 0.51588421}, {\"run_id\": \"AutoML_7948808a-fc20-4b91-881c-b5703f6f4c46_17\", \"run_number\": 1645204370, \"metric\": null, \"status\": \"Completed\", \"run_type\": null, \"training_percent\": \"100\", \"start_time\": \"2022-02-18T17:12:50.860187Z\", \"end_time\": \"2022-02-18T17:13:15.196027Z\", \"created_time\": \"2022-02-18T17:12:50.756493Z\", \"created_time_dt\": \"2022-02-18T17:12:50.756493Z\", \"duration\": \"0:00:24\", \"iteration\": \"17\", \"goal\": \"accuracy_max\", \"run_name\": \"MaxAbsScaler, LogisticRegression\", \"run_properties\": \"copy=True\", \"primary_metric\": 0.51883556, \"best_metric\": 0.51883556}, {\"run_id\": \"AutoML_7948808a-fc20-4b91-881c-b5703f6f4c46_18\", \"run_number\": 1645204396, \"metric\": null, \"status\": \"Completed\", \"run_type\": null, \"training_percent\": \"100\", \"start_time\": \"2022-02-18T17:13:16.9116Z\", \"end_time\": \"2022-02-18T17:13:41.891553Z\", \"created_time\": \"2022-02-18T17:13:16.770761Z\", \"created_time_dt\": \"2022-02-18T17:13:16.770761Z\", \"duration\": \"0:00:25\", \"iteration\": \"18\", \"goal\": \"accuracy_max\", \"run_name\": \"StandardScalerWrapper, XGBoostClassifier\", \"run_properties\": \"\\n    copy=True,\\n    with_mean=False,\\n    with_std=False\\n\", \"primary_metric\": 0.50628398, \"best_metric\": 0.51883556}, {\"run_id\": \"AutoML_7948808a-fc20-4b91-881c-b5703f6f4c46_19\", \"run_number\": 1645204423, \"metric\": null, \"status\": \"Completed\", \"run_type\": null, \"training_percent\": \"100\", \"start_time\": \"2022-02-18T17:13:43.285656Z\", \"end_time\": \"2022-02-18T17:14:07.842087Z\", \"created_time\": \"2022-02-18T17:13:43.179834Z\", \"created_time_dt\": \"2022-02-18T17:13:43.179834Z\", \"duration\": \"0:00:24\", \"iteration\": \"19\", \"goal\": \"accuracy_max\", \"run_name\": \"StandardScalerWrapper, XGBoostClassifier\", \"run_properties\": \"\\n    copy=True,\\n    with_mean=False,\\n    with_std=False\\n\", \"primary_metric\": 0.51698645, \"best_metric\": 0.51883556}, {\"run_id\": \"AutoML_7948808a-fc20-4b91-881c-b5703f6f4c46_20\", \"run_number\": 1645204449, \"metric\": null, \"status\": \"Completed\", \"run_type\": null, \"training_percent\": \"100\", \"start_time\": \"2022-02-18T17:14:09.274539Z\", \"end_time\": \"2022-02-18T17:14:33.802009Z\", \"created_time\": \"2022-02-18T17:14:09.170654Z\", \"created_time_dt\": \"2022-02-18T17:14:09.170654Z\", \"duration\": \"0:00:24\", \"iteration\": \"20\", \"goal\": \"accuracy_max\", \"run_name\": \"MaxAbsScaler, LogisticRegression\", \"run_properties\": \"copy=True\", \"primary_metric\": 0.51625049, \"best_metric\": 0.51883556}, {\"run_id\": \"AutoML_7948808a-fc20-4b91-881c-b5703f6f4c46_21\", \"run_number\": 1645204475, \"metric\": null, \"status\": \"Completed\", \"run_type\": null, \"training_percent\": \"100\", \"start_time\": \"2022-02-18T17:14:35.265763Z\", \"end_time\": \"2022-02-18T17:15:02.098273Z\", \"created_time\": \"2022-02-18T17:14:35.169719Z\", \"created_time_dt\": \"2022-02-18T17:14:35.169719Z\", \"duration\": \"0:00:26\", \"iteration\": \"21\", \"goal\": \"accuracy_max\", \"run_name\": \"StandardScalerWrapper, XGBoostClassifier\", \"run_properties\": \"\\n    copy=True,\\n    with_mean=False,\\n    with_std=False\\n\", \"primary_metric\": 0.51034506, \"best_metric\": 0.51883556}, {\"run_id\": \"AutoML_7948808a-fc20-4b91-881c-b5703f6f4c46_22\", \"run_number\": 1645204503, \"metric\": null, \"status\": \"Completed\", \"run_type\": null, \"training_percent\": \"100\", \"start_time\": \"2022-02-18T17:15:03.433587Z\", \"end_time\": \"2022-02-18T17:15:29.747097Z\", \"created_time\": \"2022-02-18T17:15:03.317438Z\", \"created_time_dt\": \"2022-02-18T17:15:03.317438Z\", \"duration\": \"0:00:26\", \"iteration\": \"22\", \"goal\": \"accuracy_max\", \"run_name\": \"StandardScalerWrapper, XGBoostClassifier\", \"run_properties\": \"\\n    copy=True,\\n    with_mean=False,\\n    with_std=False\\n\", \"primary_metric\": 0.49964123, \"best_metric\": 0.51883556}, {\"run_id\": \"AutoML_7948808a-fc20-4b91-881c-b5703f6f4c46_23\", \"run_number\": 1645204530, \"metric\": null, \"status\": \"Completed\", \"run_type\": null, \"training_percent\": \"100\", \"start_time\": \"2022-02-18T17:15:31.053285Z\", \"end_time\": \"2022-02-18T17:15:57.271581Z\", \"created_time\": \"2022-02-18T17:15:30.952037Z\", \"created_time_dt\": \"2022-02-18T17:15:30.952037Z\", \"duration\": \"0:00:26\", \"iteration\": \"23\", \"goal\": \"accuracy_max\", \"run_name\": \"SparseNormalizer, XGBoostClassifier\", \"run_properties\": \"copy=True, norm='l1'\", \"primary_metric\": 0.50369345, \"best_metric\": 0.51883556}, {\"run_id\": \"AutoML_7948808a-fc20-4b91-881c-b5703f6f4c46_24\", \"run_number\": 1645204558, \"metric\": null, \"status\": \"Completed\", \"run_type\": null, \"training_percent\": \"100\", \"start_time\": \"2022-02-18T17:15:58.707755Z\", \"end_time\": \"2022-02-18T17:16:24.254499Z\", \"created_time\": \"2022-02-18T17:15:58.609166Z\", \"created_time_dt\": \"2022-02-18T17:15:58.609166Z\", \"duration\": \"0:00:25\", \"iteration\": \"24\", \"goal\": \"accuracy_max\", \"run_name\": \"RobustScaler, ExtremeRandomTrees\", \"run_properties\": \"copy=True, quantile_range=[25, 75], with_centering=True,\\n             with_scaling=False\", \"primary_metric\": 0.50997811, \"best_metric\": 0.51883556}, {\"run_id\": \"AutoML_7948808a-fc20-4b91-881c-b5703f6f4c46_25\", \"run_number\": 1645204586, \"metric\": null, \"status\": \"Completed\", \"run_type\": null, \"training_percent\": \"100\", \"start_time\": \"2022-02-18T17:16:26.487529Z\", \"end_time\": \"2022-02-18T17:16:50.046047Z\", \"created_time\": \"2022-02-18T17:16:26.386673Z\", \"created_time_dt\": \"2022-02-18T17:16:26.386673Z\", \"duration\": \"0:00:23\", \"iteration\": \"25\", \"goal\": \"accuracy_max\", \"run_name\": \"MinMaxScaler, LogisticRegression\", \"run_properties\": \"copy=True, feature_range=(0, 1\", \"primary_metric\": 0.5003806, \"best_metric\": 0.51883556}, {\"run_id\": \"AutoML_7948808a-fc20-4b91-881c-b5703f6f4c46_26\", \"run_number\": 1645204611, \"metric\": null, \"status\": \"Completed\", \"run_type\": null, \"training_percent\": \"100\", \"start_time\": \"2022-02-18T17:16:51.401544Z\", \"end_time\": \"2022-02-18T17:17:19.359083Z\", \"created_time\": \"2022-02-18T17:16:51.302074Z\", \"created_time_dt\": \"2022-02-18T17:16:51.302074Z\", \"duration\": \"0:00:28\", \"iteration\": \"26\", \"goal\": \"accuracy_max\", \"run_name\": \"MinMaxScaler, LightGBM\", \"run_properties\": \"copy=True, feature_range=(0, 1\", \"primary_metric\": 0.51588694, \"best_metric\": 0.51883556}, {\"run_id\": \"AutoML_7948808a-fc20-4b91-881c-b5703f6f4c46_27\", \"run_number\": 1645204640, \"metric\": null, \"status\": \"Completed\", \"run_type\": null, \"training_percent\": \"100\", \"start_time\": \"2022-02-18T17:17:20.950763Z\", \"end_time\": \"2022-02-18T17:17:48.843018Z\", \"created_time\": \"2022-02-18T17:17:20.858532Z\", \"created_time_dt\": \"2022-02-18T17:17:20.858532Z\", \"duration\": \"0:00:27\", \"iteration\": \"27\", \"goal\": \"accuracy_max\", \"run_name\": \"StandardScalerWrapper, ExtremeRandomTrees\", \"run_properties\": \"\\n    copy=True,\\n    with_mean=False,\\n    with_std=False\\n\", \"primary_metric\": 0.50591702, \"best_metric\": 0.51883556}, {\"run_id\": \"AutoML_7948808a-fc20-4b91-881c-b5703f6f4c46_28\", \"run_number\": 1645204670, \"metric\": null, \"status\": \"Completed\", \"run_type\": null, \"training_percent\": \"100\", \"start_time\": \"2022-02-18T17:17:50.347802Z\", \"end_time\": \"2022-02-18T17:18:19.032987Z\", \"created_time\": \"2022-02-18T17:17:50.262284Z\", \"created_time_dt\": \"2022-02-18T17:17:50.262284Z\", \"duration\": \"0:00:28\", \"iteration\": \"28\", \"goal\": \"accuracy_max\", \"run_name\": \"MaxAbsScaler, LightGBM\", \"run_properties\": \"copy=True\", \"primary_metric\": 0.50111997, \"best_metric\": 0.51883556}, {\"run_id\": \"AutoML_7948808a-fc20-4b91-881c-b5703f6f4c46_29\", \"run_number\": 1645204700, \"metric\": null, \"status\": \"Completed\", \"run_type\": null, \"training_percent\": \"100\", \"start_time\": \"2022-02-18T17:18:20.37073Z\", \"end_time\": \"2022-02-18T17:18:44.762841Z\", \"created_time\": \"2022-02-18T17:18:20.26969Z\", \"created_time_dt\": \"2022-02-18T17:18:20.26969Z\", \"duration\": \"0:00:24\", \"iteration\": \"29\", \"goal\": \"accuracy_max\", \"run_name\": \"MaxAbsScaler, LightGBM\", \"run_properties\": \"copy=True\", \"primary_metric\": 0.50555074, \"best_metric\": 0.51883556}, {\"run_id\": \"AutoML_7948808a-fc20-4b91-881c-b5703f6f4c46_30\", \"run_number\": 1645204724, \"metric\": null, \"status\": \"Completed\", \"run_type\": null, \"training_percent\": \"100\", \"start_time\": \"2022-02-18T17:18:45.071354Z\", \"end_time\": \"2022-02-18T17:19:11.521909Z\", \"created_time\": \"2022-02-18T17:18:44.966546Z\", \"created_time_dt\": \"2022-02-18T17:18:44.966546Z\", \"duration\": \"0:00:26\", \"iteration\": \"30\", \"goal\": \"accuracy_max\", \"run_name\": \"VotingEnsemble\", \"run_properties\": \"\\n    estimators=[('17', Pipeline(\\n        memory=None,\\n        steps=[('maxabsscaler', MaxAbsScaler(\\n            copy=True\\n        \", \"primary_metric\": 0.52622177, \"best_metric\": 0.52622177}, {\"run_id\": \"AutoML_7948808a-fc20-4b91-881c-b5703f6f4c46_31\", \"run_number\": 1645204751, \"metric\": null, \"status\": \"Completed\", \"run_type\": null, \"training_percent\": \"100\", \"start_time\": \"2022-02-18T17:19:11.852461Z\", \"end_time\": \"2022-02-18T17:19:57.327184Z\", \"created_time\": \"2022-02-18T17:19:11.753177Z\", \"created_time_dt\": \"2022-02-18T17:19:11.753177Z\", \"duration\": \"0:00:45\", \"iteration\": \"31\", \"goal\": \"accuracy_max\", \"run_name\": \"StackEnsemble\", \"run_properties\": \"\\n    base_learners=[('17', Pipeline(\\n        memory=None,\\n        steps=[('maxabsscaler', MaxAbsScaler(\\n            copy=True\\n        \", \"primary_metric\": 0.51586989, \"best_metric\": 0.52622177}], \"children_metrics\": {\"categories\": [0], \"series\": {\"f1_score_macro\": [{\"categories\": [\"0\", \"1\", \"2\", \"3\", \"4\", \"5\", \"6\", \"7\", \"8\", \"9\", \"10\", \"11\", \"12\", \"13\", \"14\", \"15\", \"16\", \"17\", \"18\", \"19\", \"20\", \"21\", \"22\", \"23\", \"24\", \"25\", \"26\", \"27\", \"28\", \"29\", \"30\", \"31\"], \"mode\": \"markers\", \"name\": \"f1_score_macro\", \"stepped\": false, \"type\": \"scatter\", \"data\": [0.3965346030750195, 0.3810634232894089, 0.41295163505234356, 0.3871537905214001, 0.3813672049439778, 0.36535922927545783, 0.4448383331829956, 0.23026984495634095, 0.38621635339305815, 0.31700234436993247, 0.3952299053458484, 0.40450764151940877, 0.3477010189932449, 0.37074113094792777, 0.3761828279968952, 0.3808855697831127, 0.38576117887867045, 0.3774805980742543, 0.38078994789304443, 0.3950988274377744, 0.3864275833632557, 0.4069755208547735, 0.22582509361708675, 0.3899326112441456, 0.31185838662853277, 0.22224648477236836, 0.3763362864570251, 0.28078831515832314, 0.23122633198625625, 0.29274942323516934, 0.3932451452725806, 0.39412757166516166]}, {\"categories\": [\"0\", \"1\", \"2\", \"3\", \"4\", \"5\", \"6\", \"7\", \"8\", \"9\", \"10\", \"11\", \"12\", \"13\", \"14\", \"15\", \"16\", \"17\", \"18\", \"19\", \"20\", \"21\", \"22\", \"23\", \"24\", \"25\", \"26\", \"27\", \"28\", \"29\", \"30\", \"31\"], \"mode\": \"lines\", \"name\": \"f1_score_macro_max\", \"stepped\": true, \"type\": \"scatter\", \"data\": [0.3965346030750195, 0.3965346030750195, 0.41295163505234356, 0.41295163505234356, 0.41295163505234356, 0.41295163505234356, 0.4448383331829956, 0.4448383331829956, 0.4448383331829956, 0.4448383331829956, 0.4448383331829956, 0.4448383331829956, 0.4448383331829956, 0.4448383331829956, 0.4448383331829956, 0.4448383331829956, 0.4448383331829956, 0.4448383331829956, 0.4448383331829956, 0.4448383331829956, 0.4448383331829956, 0.4448383331829956, 0.4448383331829956, 0.4448383331829956, 0.4448383331829956, 0.4448383331829956, 0.4448383331829956, 0.4448383331829956, 0.4448383331829956, 0.4448383331829956, 0.4448383331829956, 0.4448383331829956]}], \"weighted_accuracy\": [{\"categories\": [\"0\", \"1\", \"2\", \"3\", \"4\", \"5\", \"6\", \"7\", \"8\", \"9\", \"10\", \"11\", \"12\", \"13\", \"14\", \"15\", \"16\", \"17\", \"18\", \"19\", \"20\", \"21\", \"22\", \"23\", \"24\", \"25\", \"26\", \"27\", \"28\", \"29\", \"30\", \"31\"], \"mode\": \"markers\", \"name\": \"weighted_accuracy\", \"stepped\": false, \"type\": \"scatter\", \"data\": [0.5781641807844391, 0.6223657442335597, 0.5069320773110209, 0.6066771591471439, 0.5325151961054051, 0.6335904106561443, 0.5179666157446982, 0.6641586881256684, 0.5557391167119452, 0.6498226439587133, 0.5870476014906927, 0.48710168130053966, 0.6449998758846738, 0.6100176763211385, 0.5258572669508359, 0.5521190979085961, 0.565872330639969, 0.636695110477792, 0.6139939924031038, 0.6232418327472583, 0.6277572609908366, 0.6049570907081012, 0.6637092664440566, 0.6038295235741437, 0.6515278185766186, 0.6656552302183468, 0.6326573405258943, 0.6553537771007555, 0.6643175220031914, 0.652149862680725, 0.640275976978873, 0.6212314364092405]}, {\"categories\": [\"0\", \"1\", \"2\", \"3\", \"4\", \"5\", \"6\", \"7\", \"8\", \"9\", \"10\", \"11\", \"12\", \"13\", \"14\", \"15\", \"16\", \"17\", \"18\", \"19\", \"20\", \"21\", \"22\", \"23\", \"24\", \"25\", \"26\", \"27\", \"28\", \"29\", \"30\", \"31\"], \"mode\": \"lines\", \"name\": \"weighted_accuracy_max\", \"stepped\": true, \"type\": \"scatter\", \"data\": [0.5781641807844391, 0.6223657442335597, 0.6223657442335597, 0.6223657442335597, 0.6223657442335597, 0.6335904106561443, 0.6335904106561443, 0.6641586881256684, 0.6641586881256684, 0.6641586881256684, 0.6641586881256684, 0.6641586881256684, 0.6641586881256684, 0.6641586881256684, 0.6641586881256684, 0.6641586881256684, 0.6641586881256684, 0.6641586881256684, 0.6641586881256684, 0.6641586881256684, 0.6641586881256684, 0.6641586881256684, 0.6641586881256684, 0.6641586881256684, 0.6641586881256684, 0.6656552302183468, 0.6656552302183468, 0.6656552302183468, 0.6656552302183468, 0.6656552302183468, 0.6656552302183468, 0.6656552302183468]}], \"recall_score_macro\": [{\"categories\": [\"0\", \"1\", \"2\", \"3\", \"4\", \"5\", \"6\", \"7\", \"8\", \"9\", \"10\", \"11\", \"12\", \"13\", \"14\", \"15\", \"16\", \"17\", \"18\", \"19\", \"20\", \"21\", \"22\", \"23\", \"24\", \"25\", \"26\", \"27\", \"28\", \"29\", \"30\", \"31\"], \"mode\": \"markers\", \"name\": \"recall_score_macro\", \"stepped\": false, \"type\": \"scatter\", \"data\": [0.40335712036218085, 0.3983436114239619, 0.42464158924797896, 0.40049177166610406, 0.38476093331205286, 0.390972144909524, 0.44604781224532825, 0.3355625887244606, 0.3917612639729689, 0.3685816522670251, 0.4031721493757213, 0.41853645735485506, 0.385738588753339, 0.38967345688349686, 0.3796630094229135, 0.38736448502921295, 0.3925427298325114, 0.4000236287590252, 0.3976930727085407, 0.4096818752264791, 0.4036130696117258, 0.414782461140092, 0.33379757486088535, 0.402624715788495, 0.36717783464398035, 0.3333333333333333, 0.39798889839674745, 0.35523120818650106, 0.33626340625813256, 0.3576063506922602, 0.41115600837480615, 0.4096303534309901]}, {\"categories\": [\"0\", \"1\", \"2\", \"3\", \"4\", \"5\", \"6\", \"7\", \"8\", \"9\", \"10\", \"11\", \"12\", \"13\", \"14\", \"15\", \"16\", \"17\", \"18\", \"19\", \"20\", \"21\", \"22\", \"23\", \"24\", \"25\", \"26\", \"27\", \"28\", \"29\", \"30\", \"31\"], \"mode\": \"lines\", \"name\": \"recall_score_macro_max\", \"stepped\": true, \"type\": \"scatter\", \"data\": [0.40335712036218085, 0.40335712036218085, 0.42464158924797896, 0.42464158924797896, 0.42464158924797896, 0.42464158924797896, 0.44604781224532825, 0.44604781224532825, 0.44604781224532825, 0.44604781224532825, 0.44604781224532825, 0.44604781224532825, 0.44604781224532825, 0.44604781224532825, 0.44604781224532825, 0.44604781224532825, 0.44604781224532825, 0.44604781224532825, 0.44604781224532825, 0.44604781224532825, 0.44604781224532825, 0.44604781224532825, 0.44604781224532825, 0.44604781224532825, 0.44604781224532825, 0.44604781224532825, 0.44604781224532825, 0.44604781224532825, 0.44604781224532825, 0.44604781224532825, 0.44604781224532825, 0.44604781224532825]}], \"matthews_correlation\": [{\"categories\": [\"0\", \"1\", \"2\", \"3\", \"4\", \"5\", \"6\", \"7\", \"8\", \"9\", \"10\", \"11\", \"12\", \"13\", \"14\", \"15\", \"16\", \"17\", \"18\", \"19\", \"20\", \"21\", \"22\", \"23\", \"24\", \"25\", \"26\", \"27\", \"28\", \"29\", \"30\", \"31\"], \"mode\": \"markers\", \"name\": \"matthews_correlation\", \"stepped\": false, \"type\": \"scatter\", \"data\": [0.13999323978646522, 0.14410907080364038, 0.15372429760526585, 0.14297352944072195, 0.10263620716805291, 0.1386568747367697, 0.18642799819670622, 0.03095357058442231, 0.11405561435247365, 0.10863794772746813, 0.13906130267407532, 0.14438795023461165, 0.13394396431919242, 0.1278289564194383, 0.09358197282969206, 0.1087304006796505, 0.11748900869852, 0.15311359263025626, 0.137225442971109, 0.1610501250063588, 0.1542323063432882, 0.15903255060187454, 0.0036670950564595163, 0.14312665039241884, 0.10542279460758344, 0.0, 0.1475546623064116, 0.08295927455947508, 0.03199113118778056, 0.08456732701967302, 0.17132098348584746, 0.1626401165108413]}, {\"categories\": [\"0\", \"1\", \"2\", \"3\", \"4\", \"5\", \"6\", \"7\", \"8\", \"9\", \"10\", \"11\", \"12\", \"13\", \"14\", \"15\", \"16\", \"17\", \"18\", \"19\", \"20\", \"21\", \"22\", \"23\", \"24\", \"25\", \"26\", \"27\", \"28\", \"29\", \"30\", \"31\"], \"mode\": \"lines\", \"name\": \"matthews_correlation_max\", \"stepped\": true, \"type\": \"scatter\", \"data\": [0.13999323978646522, 0.14410907080364038, 0.15372429760526585, 0.15372429760526585, 0.15372429760526585, 0.15372429760526585, 0.18642799819670622, 0.18642799819670622, 0.18642799819670622, 0.18642799819670622, 0.18642799819670622, 0.18642799819670622, 0.18642799819670622, 0.18642799819670622, 0.18642799819670622, 0.18642799819670622, 0.18642799819670622, 0.18642799819670622, 0.18642799819670622, 0.18642799819670622, 0.18642799819670622, 0.18642799819670622, 0.18642799819670622, 0.18642799819670622, 0.18642799819670622, 0.18642799819670622, 0.18642799819670622, 0.18642799819670622, 0.18642799819670622, 0.18642799819670622, 0.18642799819670622, 0.18642799819670622]}], \"precision_score_micro\": [{\"categories\": [\"0\", \"1\", \"2\", \"3\", \"4\", \"5\", \"6\", \"7\", \"8\", \"9\", \"10\", \"11\", \"12\", \"13\", \"14\", \"15\", \"16\", \"17\", \"18\", \"19\", \"20\", \"21\", \"22\", \"23\", \"24\", \"25\", \"26\", \"27\", \"28\", \"29\", \"30\", \"31\"], \"mode\": \"markers\", \"name\": \"precision_score_micro\", \"stepped\": false, \"type\": \"scatter\", \"data\": [0.4911343623602595, 0.5110735210864124, 0.46563763974053785, 0.5040658613610166, 0.4590126252464003, 0.5129260423842685, 0.4822578114875419, 0.5007475564589287, 0.4741526897708903, 0.5099794694804618, 0.4955630887177633, 0.4527088690480251, 0.5158842105981135, 0.5003717319982812, 0.45311197659111524, 0.47010183410521716, 0.47969388381499345, 0.5188355580413475, 0.5062839759636043, 0.5169864471287966, 0.516250485979906, 0.5103450627851934, 0.49964122746587913, 0.5036934472856743, 0.5099781053263397, 0.500380599000075, 0.5158869389063575, 0.5059170185047506, 0.5011199705342709, 0.505550743122958, 0.5262217705356351, 0.515869886979831]}, {\"categories\": [\"0\", \"1\", \"2\", \"3\", \"4\", \"5\", \"6\", \"7\", \"8\", \"9\", \"10\", \"11\", \"12\", \"13\", \"14\", \"15\", \"16\", \"17\", \"18\", \"19\", \"20\", \"21\", \"22\", \"23\", \"24\", \"25\", \"26\", \"27\", \"28\", \"29\", \"30\", \"31\"], \"mode\": \"lines\", \"name\": \"precision_score_micro_max\", \"stepped\": true, \"type\": \"scatter\", \"data\": [0.4911343623602595, 0.5110735210864124, 0.5110735210864124, 0.5110735210864124, 0.5110735210864124, 0.5129260423842685, 0.5129260423842685, 0.5129260423842685, 0.5129260423842685, 0.5129260423842685, 0.5129260423842685, 0.5129260423842685, 0.5158842105981135, 0.5158842105981135, 0.5158842105981135, 0.5158842105981135, 0.5158842105981135, 0.5188355580413475, 0.5188355580413475, 0.5188355580413475, 0.5188355580413475, 0.5188355580413475, 0.5188355580413475, 0.5188355580413475, 0.5188355580413475, 0.5188355580413475, 0.5188355580413475, 0.5188355580413475, 0.5188355580413475, 0.5188355580413475, 0.5262217705356351, 0.5262217705356351]}], \"precision_score_macro\": [{\"categories\": [\"0\", \"1\", \"2\", \"3\", \"4\", \"5\", \"6\", \"7\", \"8\", \"9\", \"10\", \"11\", \"12\", \"13\", \"14\", \"15\", \"16\", \"17\", \"18\", \"19\", \"20\", \"21\", \"22\", \"23\", \"24\", \"25\", \"26\", \"27\", \"28\", \"29\", \"30\", \"31\"], \"mode\": \"markers\", \"name\": \"precision_score_macro\", \"stepped\": false, \"type\": \"scatter\", \"data\": [0.40982846473649986, 0.4308002488551792, 0.43151819552841425, 0.4153484007813601, 0.3853446407410109, 0.42754599749718636, 0.44633009081862723, 0.3787337730370993, 0.39767355124768705, 0.4316372787442201, 0.41606939933226633, 0.42789394874749664, 0.4400412227121976, 0.4041462861491193, 0.38074806974033115, 0.3888182490701176, 0.39947151625582333, 0.4402121472971334, 0.4214385898962819, 0.43987817208815827, 0.43655917842741243, 0.43746554102860974, 0.20037144574244792, 0.41615757957817634, 0.44177667982999064, 0.16679353300002503, 0.43285388216768467, 0.4177221567501127, 0.38718428743653616, 0.41335487898609874, 0.45813101026236486, 0.44274411938942365]}, {\"categories\": [\"0\", \"1\", \"2\", \"3\", \"4\", \"5\", \"6\", \"7\", \"8\", \"9\", \"10\", \"11\", \"12\", \"13\", \"14\", \"15\", \"16\", \"17\", \"18\", \"19\", \"20\", \"21\", \"22\", \"23\", \"24\", \"25\", \"26\", \"27\", \"28\", \"29\", \"30\", \"31\"], \"mode\": \"lines\", \"name\": \"precision_score_macro_max\", \"stepped\": true, \"type\": \"scatter\", \"data\": [0.40982846473649986, 0.4308002488551792, 0.43151819552841425, 0.43151819552841425, 0.43151819552841425, 0.43151819552841425, 0.44633009081862723, 0.44633009081862723, 0.44633009081862723, 0.44633009081862723, 0.44633009081862723, 0.44633009081862723, 0.44633009081862723, 0.44633009081862723, 0.44633009081862723, 0.44633009081862723, 0.44633009081862723, 0.44633009081862723, 0.44633009081862723, 0.44633009081862723, 0.44633009081862723, 0.44633009081862723, 0.44633009081862723, 0.44633009081862723, 0.44633009081862723, 0.44633009081862723, 0.44633009081862723, 0.44633009081862723, 0.44633009081862723, 0.44633009081862723, 0.45813101026236486, 0.45813101026236486]}], \"recall_score_weighted\": [{\"categories\": [\"0\", \"1\", \"2\", \"3\", \"4\", \"5\", \"6\", \"7\", \"8\", \"9\", \"10\", \"11\", \"12\", \"13\", \"14\", \"15\", \"16\", \"17\", \"18\", \"19\", \"20\", \"21\", \"22\", \"23\", \"24\", \"25\", \"26\", \"27\", \"28\", \"29\", \"30\", \"31\"], \"mode\": \"markers\", \"name\": \"recall_score_weighted\", \"stepped\": false, \"type\": \"scatter\", \"data\": [0.4911343623602595, 0.5110735210864124, 0.46563763974053785, 0.5040658613610166, 0.4590126252464003, 0.5129260423842685, 0.4822578114875419, 0.5007475564589287, 0.4741526897708903, 0.5099794694804618, 0.4955630887177633, 0.4527088690480251, 0.5158842105981135, 0.5003717319982812, 0.45311197659111524, 0.47010183410521716, 0.47969388381499345, 0.5188355580413475, 0.5062839759636043, 0.5169864471287966, 0.516250485979906, 0.5103450627851934, 0.49964122746587913, 0.5036934472856743, 0.5099781053263397, 0.500380599000075, 0.5158869389063575, 0.5059170185047506, 0.5011199705342709, 0.505550743122958, 0.5262217705356351, 0.515869886979831]}, {\"categories\": [\"0\", \"1\", \"2\", \"3\", \"4\", \"5\", \"6\", \"7\", \"8\", \"9\", \"10\", \"11\", \"12\", \"13\", \"14\", \"15\", \"16\", \"17\", \"18\", \"19\", \"20\", \"21\", \"22\", \"23\", \"24\", \"25\", \"26\", \"27\", \"28\", \"29\", \"30\", \"31\"], \"mode\": \"lines\", \"name\": \"recall_score_weighted_max\", \"stepped\": true, \"type\": \"scatter\", \"data\": [0.4911343623602595, 0.5110735210864124, 0.5110735210864124, 0.5110735210864124, 0.5110735210864124, 0.5129260423842685, 0.5129260423842685, 0.5129260423842685, 0.5129260423842685, 0.5129260423842685, 0.5129260423842685, 0.5129260423842685, 0.5158842105981135, 0.5158842105981135, 0.5158842105981135, 0.5158842105981135, 0.5158842105981135, 0.5188355580413475, 0.5188355580413475, 0.5188355580413475, 0.5188355580413475, 0.5188355580413475, 0.5188355580413475, 0.5188355580413475, 0.5188355580413475, 0.5188355580413475, 0.5188355580413475, 0.5188355580413475, 0.5188355580413475, 0.5188355580413475, 0.5262217705356351, 0.5262217705356351]}], \"average_precision_score_weighted\": [{\"categories\": [\"0\", \"1\", \"2\", \"3\", \"4\", \"5\", \"6\", \"7\", \"8\", \"9\", \"10\", \"11\", \"12\", \"13\", \"14\", \"15\", \"16\", \"17\", \"18\", \"19\", \"20\", \"21\", \"22\", \"23\", \"24\", \"25\", \"26\", \"27\", \"28\", \"29\", \"30\", \"31\"], \"mode\": \"markers\", \"name\": \"average_precision_score_weighted\", \"stepped\": false, \"type\": \"scatter\", \"data\": [0.497443076234914, 0.5138175428021969, 0.4914139717244398, 0.5000956925320901, 0.4602729700543492, 0.5119214353485856, 0.5148240999094849, 0.5066619312150676, 0.47255006669205146, 0.4948736842457212, 0.4946565530914695, 0.48214302565658684, 0.4791005401374887, 0.49965389116345993, 0.4522104727243019, 0.4633241632574717, 0.47390577991677496, 0.5126587449170349, 0.5076019309827962, 0.5117808799695818, 0.5105189713782083, 0.504154540293712, 0.4952134473647587, 0.5049911183820173, 0.503034373981493, 0.4285876944787207, 0.5103990032083797, 0.49960051902002744, 0.5015115897144711, 0.5058790158077989, 0.5183918800041305, 0.526237317954733]}, {\"categories\": [\"0\", \"1\", \"2\", \"3\", \"4\", \"5\", \"6\", \"7\", \"8\", \"9\", \"10\", \"11\", \"12\", \"13\", \"14\", \"15\", \"16\", \"17\", \"18\", \"19\", \"20\", \"21\", \"22\", \"23\", \"24\", \"25\", \"26\", \"27\", \"28\", \"29\", \"30\", \"31\"], \"mode\": \"lines\", \"name\": \"average_precision_score_weighted_max\", \"stepped\": true, \"type\": \"scatter\", \"data\": [0.497443076234914, 0.5138175428021969, 0.5138175428021969, 0.5138175428021969, 0.5138175428021969, 0.5138175428021969, 0.5148240999094849, 0.5148240999094849, 0.5148240999094849, 0.5148240999094849, 0.5148240999094849, 0.5148240999094849, 0.5148240999094849, 0.5148240999094849, 0.5148240999094849, 0.5148240999094849, 0.5148240999094849, 0.5148240999094849, 0.5148240999094849, 0.5148240999094849, 0.5148240999094849, 0.5148240999094849, 0.5148240999094849, 0.5148240999094849, 0.5148240999094849, 0.5148240999094849, 0.5148240999094849, 0.5148240999094849, 0.5148240999094849, 0.5148240999094849, 0.5183918800041305, 0.526237317954733]}], \"balanced_accuracy\": [{\"categories\": [\"0\", \"1\", \"2\", \"3\", \"4\", \"5\", \"6\", \"7\", \"8\", \"9\", \"10\", \"11\", \"12\", \"13\", \"14\", \"15\", \"16\", \"17\", \"18\", \"19\", \"20\", \"21\", \"22\", \"23\", \"24\", \"25\", \"26\", \"27\", \"28\", \"29\", \"30\", \"31\"], \"mode\": \"markers\", \"name\": \"balanced_accuracy\", \"stepped\": false, \"type\": \"scatter\", \"data\": [0.40335712036218085, 0.3983436114239619, 0.42464158924797896, 0.40049177166610406, 0.38476093331205286, 0.390972144909524, 0.44604781224532825, 0.3355625887244606, 0.3917612639729689, 0.3685816522670251, 0.4031721493757213, 0.41853645735485506, 0.385738588753339, 0.38967345688349686, 0.3796630094229135, 0.38736448502921295, 0.3925427298325114, 0.4000236287590252, 0.3976930727085407, 0.4096818752264791, 0.4036130696117258, 0.414782461140092, 0.33379757486088535, 0.402624715788495, 0.36717783464398035, 0.3333333333333333, 0.39798889839674745, 0.35523120818650106, 0.33626340625813256, 0.3576063506922602, 0.41115600837480615, 0.4096303534309901]}, {\"categories\": [\"0\", \"1\", \"2\", \"3\", \"4\", \"5\", \"6\", \"7\", \"8\", \"9\", \"10\", \"11\", \"12\", \"13\", \"14\", \"15\", \"16\", \"17\", \"18\", \"19\", \"20\", \"21\", \"22\", \"23\", \"24\", \"25\", \"26\", \"27\", \"28\", \"29\", \"30\", \"31\"], \"mode\": \"lines\", \"name\": \"balanced_accuracy_max\", \"stepped\": true, \"type\": \"scatter\", \"data\": [0.40335712036218085, 0.40335712036218085, 0.42464158924797896, 0.42464158924797896, 0.42464158924797896, 0.42464158924797896, 0.44604781224532825, 0.44604781224532825, 0.44604781224532825, 0.44604781224532825, 0.44604781224532825, 0.44604781224532825, 0.44604781224532825, 0.44604781224532825, 0.44604781224532825, 0.44604781224532825, 0.44604781224532825, 0.44604781224532825, 0.44604781224532825, 0.44604781224532825, 0.44604781224532825, 0.44604781224532825, 0.44604781224532825, 0.44604781224532825, 0.44604781224532825, 0.44604781224532825, 0.44604781224532825, 0.44604781224532825, 0.44604781224532825, 0.44604781224532825, 0.44604781224532825, 0.44604781224532825]}], \"precision_score_weighted\": [{\"categories\": [\"0\", \"1\", \"2\", \"3\", \"4\", \"5\", \"6\", \"7\", \"8\", \"9\", \"10\", \"11\", \"12\", \"13\", \"14\", \"15\", \"16\", \"17\", \"18\", \"19\", \"20\", \"21\", \"22\", \"23\", \"24\", \"25\", \"26\", \"27\", \"28\", \"29\", \"30\", \"31\"], \"mode\": \"markers\", \"name\": \"precision_score_weighted\", \"stepped\": false, \"type\": \"scatter\", \"data\": [0.4546361947436502, 0.46438912689448975, 0.47651059753539665, 0.4553697649427897, 0.43399093392644944, 0.46035495765103845, 0.4979958071530401, 0.4090994106231719, 0.44160155368747056, 0.4577604260132276, 0.4571155487632936, 0.4743806949683315, 0.4670560944978693, 0.4450194412081929, 0.429801766458224, 0.4354651309959012, 0.4426585094908453, 0.4712684051933942, 0.4558906245016792, 0.4738966713803666, 0.46975386055889856, 0.4719157944432043, 0.2764257854338285, 0.45609492124622647, 0.46345581264066904, 0.2508312533730004, 0.4654402441838902, 0.44184148430676223, 0.41413960105578307, 0.441218065157447, 0.4859983537055637, 0.47676188732831637]}, {\"categories\": [\"0\", \"1\", \"2\", \"3\", \"4\", \"5\", \"6\", \"7\", \"8\", \"9\", \"10\", \"11\", \"12\", \"13\", \"14\", \"15\", \"16\", \"17\", \"18\", \"19\", \"20\", \"21\", \"22\", \"23\", \"24\", \"25\", \"26\", \"27\", \"28\", \"29\", \"30\", \"31\"], \"mode\": \"lines\", \"name\": \"precision_score_weighted_max\", \"stepped\": true, \"type\": \"scatter\", \"data\": [0.4546361947436502, 0.46438912689448975, 0.47651059753539665, 0.47651059753539665, 0.47651059753539665, 0.47651059753539665, 0.4979958071530401, 0.4979958071530401, 0.4979958071530401, 0.4979958071530401, 0.4979958071530401, 0.4979958071530401, 0.4979958071530401, 0.4979958071530401, 0.4979958071530401, 0.4979958071530401, 0.4979958071530401, 0.4979958071530401, 0.4979958071530401, 0.4979958071530401, 0.4979958071530401, 0.4979958071530401, 0.4979958071530401, 0.4979958071530401, 0.4979958071530401, 0.4979958071530401, 0.4979958071530401, 0.4979958071530401, 0.4979958071530401, 0.4979958071530401, 0.4979958071530401, 0.4979958071530401]}], \"f1_score_weighted\": [{\"categories\": [\"0\", \"1\", \"2\", \"3\", \"4\", \"5\", \"6\", \"7\", \"8\", \"9\", \"10\", \"11\", \"12\", \"13\", \"14\", \"15\", \"16\", \"17\", \"18\", \"19\", \"20\", \"21\", \"22\", \"23\", \"24\", \"25\", \"26\", \"27\", \"28\", \"29\", \"30\", \"31\"], \"mode\": \"markers\", \"name\": \"f1_score_weighted\", \"stepped\": false, \"type\": \"scatter\", \"data\": [0.46238081377659646, 0.45496067167838206, 0.45966973107703035, 0.45873221518602925, 0.44261227446294615, 0.44430145391164555, 0.488653229498511, 0.34030926081687957, 0.44910959325203115, 0.4070207800088143, 0.4616387418890187, 0.4492695577372226, 0.4302622304086355, 0.4463227327850435, 0.4372445090212761, 0.4451741727364723, 0.4505503282549429, 0.4537089418009962, 0.4525528972046594, 0.46636232339465333, 0.45997119630739747, 0.4719834317525601, 0.336640435554617, 0.46003894956212144, 0.40223524382531545, 0.334021743683045, 0.4526320301455045, 0.37812315032240446, 0.3404302792887485, 0.3875810392866147, 0.46626047840808776, 0.46541105797742055]}, {\"categories\": [\"0\", \"1\", \"2\", \"3\", \"4\", \"5\", \"6\", \"7\", \"8\", \"9\", \"10\", \"11\", \"12\", \"13\", \"14\", \"15\", \"16\", \"17\", \"18\", \"19\", \"20\", \"21\", \"22\", \"23\", \"24\", \"25\", \"26\", \"27\", \"28\", \"29\", \"30\", \"31\"], \"mode\": \"lines\", \"name\": \"f1_score_weighted_max\", \"stepped\": true, \"type\": \"scatter\", \"data\": [0.46238081377659646, 0.46238081377659646, 0.46238081377659646, 0.46238081377659646, 0.46238081377659646, 0.46238081377659646, 0.488653229498511, 0.488653229498511, 0.488653229498511, 0.488653229498511, 0.488653229498511, 0.488653229498511, 0.488653229498511, 0.488653229498511, 0.488653229498511, 0.488653229498511, 0.488653229498511, 0.488653229498511, 0.488653229498511, 0.488653229498511, 0.488653229498511, 0.488653229498511, 0.488653229498511, 0.488653229498511, 0.488653229498511, 0.488653229498511, 0.488653229498511, 0.488653229498511, 0.488653229498511, 0.488653229498511, 0.488653229498511, 0.488653229498511]}], \"AUC_micro\": [{\"categories\": [\"0\", \"1\", \"2\", \"3\", \"4\", \"5\", \"6\", \"7\", \"8\", \"9\", \"10\", \"11\", \"12\", \"13\", \"14\", \"15\", \"16\", \"17\", \"18\", \"19\", \"20\", \"21\", \"22\", \"23\", \"24\", \"25\", \"26\", \"27\", \"28\", \"29\", \"30\", \"31\"], \"mode\": \"markers\", \"name\": \"AUC_micro\", \"stepped\": false, \"type\": \"scatter\", \"data\": [0.6762513516510313, 0.6926792267764004, 0.6311090734805669, 0.6862678232537813, 0.6374208291517182, 0.695046183065575, 0.6493970543398572, 0.690190904630994, 0.6515122765057692, 0.6867680903064368, 0.6766744801023826, 0.6165819806293567, 0.6809258062780257, 0.6827029754160064, 0.6260929256363426, 0.6399973169712263, 0.6552638736377357, 0.6947658567917827, 0.6915150455191188, 0.6943808400085765, 0.6932634969999661, 0.6878597228175127, 0.6868816190100763, 0.6868154108244047, 0.6907811085600187, 0.6495012415969782, 0.6934441724611073, 0.688434802926032, 0.6870995702465057, 0.6909038706769971, 0.6997457470652353, 0.7016790326112139]}, {\"categories\": [\"0\", \"1\", \"2\", \"3\", \"4\", \"5\", \"6\", \"7\", \"8\", \"9\", \"10\", \"11\", \"12\", \"13\", \"14\", \"15\", \"16\", \"17\", \"18\", \"19\", \"20\", \"21\", \"22\", \"23\", \"24\", \"25\", \"26\", \"27\", \"28\", \"29\", \"30\", \"31\"], \"mode\": \"lines\", \"name\": \"AUC_micro_max\", \"stepped\": true, \"type\": \"scatter\", \"data\": [0.6762513516510313, 0.6926792267764004, 0.6926792267764004, 0.6926792267764004, 0.6926792267764004, 0.695046183065575, 0.695046183065575, 0.695046183065575, 0.695046183065575, 0.695046183065575, 0.695046183065575, 0.695046183065575, 0.695046183065575, 0.695046183065575, 0.695046183065575, 0.695046183065575, 0.695046183065575, 0.695046183065575, 0.695046183065575, 0.695046183065575, 0.695046183065575, 0.695046183065575, 0.695046183065575, 0.695046183065575, 0.695046183065575, 0.695046183065575, 0.695046183065575, 0.695046183065575, 0.695046183065575, 0.695046183065575, 0.6997457470652353, 0.7016790326112139]}], \"recall_score_micro\": [{\"categories\": [\"0\", \"1\", \"2\", \"3\", \"4\", \"5\", \"6\", \"7\", \"8\", \"9\", \"10\", \"11\", \"12\", \"13\", \"14\", \"15\", \"16\", \"17\", \"18\", \"19\", \"20\", \"21\", \"22\", \"23\", \"24\", \"25\", \"26\", \"27\", \"28\", \"29\", \"30\", \"31\"], \"mode\": \"markers\", \"name\": \"recall_score_micro\", \"stepped\": false, \"type\": \"scatter\", \"data\": [0.4911343623602595, 0.5110735210864124, 0.46563763974053785, 0.5040658613610166, 0.4590126252464003, 0.5129260423842685, 0.4822578114875419, 0.5007475564589287, 0.4741526897708903, 0.5099794694804618, 0.4955630887177633, 0.4527088690480251, 0.5158842105981135, 0.5003717319982812, 0.45311197659111524, 0.47010183410521716, 0.47969388381499345, 0.5188355580413475, 0.5062839759636043, 0.5169864471287966, 0.516250485979906, 0.5103450627851934, 0.49964122746587913, 0.5036934472856743, 0.5099781053263397, 0.500380599000075, 0.5158869389063575, 0.5059170185047506, 0.5011199705342709, 0.505550743122958, 0.5262217705356351, 0.515869886979831]}, {\"categories\": [\"0\", \"1\", \"2\", \"3\", \"4\", \"5\", \"6\", \"7\", \"8\", \"9\", \"10\", \"11\", \"12\", \"13\", \"14\", \"15\", \"16\", \"17\", \"18\", \"19\", \"20\", \"21\", \"22\", \"23\", \"24\", \"25\", \"26\", \"27\", \"28\", \"29\", \"30\", \"31\"], \"mode\": \"lines\", \"name\": \"recall_score_micro_max\", \"stepped\": true, \"type\": \"scatter\", \"data\": [0.4911343623602595, 0.5110735210864124, 0.5110735210864124, 0.5110735210864124, 0.5110735210864124, 0.5129260423842685, 0.5129260423842685, 0.5129260423842685, 0.5129260423842685, 0.5129260423842685, 0.5129260423842685, 0.5129260423842685, 0.5158842105981135, 0.5158842105981135, 0.5158842105981135, 0.5158842105981135, 0.5158842105981135, 0.5188355580413475, 0.5188355580413475, 0.5188355580413475, 0.5188355580413475, 0.5188355580413475, 0.5188355580413475, 0.5188355580413475, 0.5188355580413475, 0.5188355580413475, 0.5188355580413475, 0.5188355580413475, 0.5188355580413475, 0.5188355580413475, 0.5262217705356351, 0.5262217705356351]}], \"f1_score_micro\": [{\"categories\": [\"0\", \"1\", \"2\", \"3\", \"4\", \"5\", \"6\", \"7\", \"8\", \"9\", \"10\", \"11\", \"12\", \"13\", \"14\", \"15\", \"16\", \"17\", \"18\", \"19\", \"20\", \"21\", \"22\", \"23\", \"24\", \"25\", \"26\", \"27\", \"28\", \"29\", \"30\", \"31\"], \"mode\": \"markers\", \"name\": \"f1_score_micro\", \"stepped\": false, \"type\": \"scatter\", \"data\": [0.4911343623602595, 0.5110735210864124, 0.46563763974053785, 0.5040658613610166, 0.4590126252464003, 0.5129260423842685, 0.4822578114875419, 0.5007475564589287, 0.4741526897708903, 0.5099794694804618, 0.4955630887177633, 0.452708869048025, 0.5158842105981135, 0.5003717319982812, 0.45311197659111524, 0.47010183410521716, 0.47969388381499345, 0.5188355580413475, 0.5062839759636043, 0.5169864471287966, 0.516250485979906, 0.5103450627851934, 0.49964122746587913, 0.5036934472856743, 0.5099781053263397, 0.500380599000075, 0.5158869389063575, 0.5059170185047506, 0.5011199705342709, 0.505550743122958, 0.5262217705356351, 0.515869886979831]}, {\"categories\": [\"0\", \"1\", \"2\", \"3\", \"4\", \"5\", \"6\", \"7\", \"8\", \"9\", \"10\", \"11\", \"12\", \"13\", \"14\", \"15\", \"16\", \"17\", \"18\", \"19\", \"20\", \"21\", \"22\", \"23\", \"24\", \"25\", \"26\", \"27\", \"28\", \"29\", \"30\", \"31\"], \"mode\": \"lines\", \"name\": \"f1_score_micro_max\", \"stepped\": true, \"type\": \"scatter\", \"data\": [0.4911343623602595, 0.5110735210864124, 0.5110735210864124, 0.5110735210864124, 0.5110735210864124, 0.5129260423842685, 0.5129260423842685, 0.5129260423842685, 0.5129260423842685, 0.5129260423842685, 0.5129260423842685, 0.5129260423842685, 0.5158842105981135, 0.5158842105981135, 0.5158842105981135, 0.5158842105981135, 0.5158842105981135, 0.5188355580413475, 0.5188355580413475, 0.5188355580413475, 0.5188355580413475, 0.5188355580413475, 0.5188355580413475, 0.5188355580413475, 0.5188355580413475, 0.5188355580413475, 0.5188355580413475, 0.5188355580413475, 0.5188355580413475, 0.5188355580413475, 0.5262217705356351, 0.5262217705356351]}], \"average_precision_score_micro\": [{\"categories\": [\"0\", \"1\", \"2\", \"3\", \"4\", \"5\", \"6\", \"7\", \"8\", \"9\", \"10\", \"11\", \"12\", \"13\", \"14\", \"15\", \"16\", \"17\", \"18\", \"19\", \"20\", \"21\", \"22\", \"23\", \"24\", \"25\", \"26\", \"27\", \"28\", \"29\", \"30\", \"31\"], \"mode\": \"markers\", \"name\": \"average_precision_score_micro\", \"stepped\": false, \"type\": \"scatter\", \"data\": [0.5341932773936253, 0.5550475426824688, 0.4899551552223807, 0.5477945983295105, 0.48295161318109797, 0.5568110815189006, 0.49885240857235685, 0.5536398429443083, 0.5062359915336521, 0.5409965378702577, 0.5340248823279887, 0.4801642763688892, 0.525380642521385, 0.5503166272178985, 0.4720726772654039, 0.4941994290592569, 0.5128164690776125, 0.5545653671714217, 0.5531480931805939, 0.5573294365744281, 0.5513214397802702, 0.5470844790311779, 0.5404114997149333, 0.5471925899420926, 0.5495858069148599, 0.48325241502876287, 0.5563996186842846, 0.5454264650644942, 0.5492844376293631, 0.554570955974667, 0.5643399854001072, 0.5641574703450258]}, {\"categories\": [\"0\", \"1\", \"2\", \"3\", \"4\", \"5\", \"6\", \"7\", \"8\", \"9\", \"10\", \"11\", \"12\", \"13\", \"14\", \"15\", \"16\", \"17\", \"18\", \"19\", \"20\", \"21\", \"22\", \"23\", \"24\", \"25\", \"26\", \"27\", \"28\", \"29\", \"30\", \"31\"], \"mode\": \"lines\", \"name\": \"average_precision_score_micro_max\", \"stepped\": true, \"type\": \"scatter\", \"data\": [0.5341932773936253, 0.5550475426824688, 0.5550475426824688, 0.5550475426824688, 0.5550475426824688, 0.5568110815189006, 0.5568110815189006, 0.5568110815189006, 0.5568110815189006, 0.5568110815189006, 0.5568110815189006, 0.5568110815189006, 0.5568110815189006, 0.5568110815189006, 0.5568110815189006, 0.5568110815189006, 0.5568110815189006, 0.5568110815189006, 0.5568110815189006, 0.5573294365744281, 0.5573294365744281, 0.5573294365744281, 0.5573294365744281, 0.5573294365744281, 0.5573294365744281, 0.5573294365744281, 0.5573294365744281, 0.5573294365744281, 0.5573294365744281, 0.5573294365744281, 0.5643399854001072, 0.5643399854001072]}], \"average_precision_score_macro\": [{\"categories\": [\"0\", \"1\", \"2\", \"3\", \"4\", \"5\", \"6\", \"7\", \"8\", \"9\", \"10\", \"11\", \"12\", \"13\", \"14\", \"15\", \"16\", \"17\", \"18\", \"19\", \"20\", \"21\", \"22\", \"23\", \"24\", \"25\", \"26\", \"27\", \"28\", \"29\", \"30\", \"31\"], \"mode\": \"markers\", \"name\": \"average_precision_score_macro\", \"stepped\": false, \"type\": \"scatter\", \"data\": [0.43663113639470036, 0.45483336871249647, 0.43553610722455016, 0.43777905827498076, 0.4002649284584451, 0.45253627263338536, 0.45780521862350004, 0.44611132223398486, 0.4109435566673517, 0.43826977697050856, 0.4345860547068782, 0.4276255897822632, 0.4279363802503898, 0.43493927314773195, 0.39267196482453404, 0.4032199140116856, 0.4124452386943271, 0.45576251903652426, 0.44770679493363585, 0.451276020632373, 0.45429416131717837, 0.44523873788874574, 0.4394473190597069, 0.44345143846453894, 0.4452091067157105, 0.38117866729736377, 0.45043457361327643, 0.44267866216827506, 0.44105043824807966, 0.44447748612236726, 0.4574498688241723, 0.4686634522412175]}, {\"categories\": [\"0\", \"1\", \"2\", \"3\", \"4\", \"5\", \"6\", \"7\", \"8\", \"9\", \"10\", \"11\", \"12\", \"13\", \"14\", \"15\", \"16\", \"17\", \"18\", \"19\", \"20\", \"21\", \"22\", \"23\", \"24\", \"25\", \"26\", \"27\", \"28\", \"29\", \"30\", \"31\"], \"mode\": \"lines\", \"name\": \"average_precision_score_macro_max\", \"stepped\": true, \"type\": \"scatter\", \"data\": [0.43663113639470036, 0.45483336871249647, 0.45483336871249647, 0.45483336871249647, 0.45483336871249647, 0.45483336871249647, 0.45780521862350004, 0.45780521862350004, 0.45780521862350004, 0.45780521862350004, 0.45780521862350004, 0.45780521862350004, 0.45780521862350004, 0.45780521862350004, 0.45780521862350004, 0.45780521862350004, 0.45780521862350004, 0.45780521862350004, 0.45780521862350004, 0.45780521862350004, 0.45780521862350004, 0.45780521862350004, 0.45780521862350004, 0.45780521862350004, 0.45780521862350004, 0.45780521862350004, 0.45780521862350004, 0.45780521862350004, 0.45780521862350004, 0.45780521862350004, 0.45780521862350004, 0.4686634522412175]}], \"accuracy\": [{\"categories\": [\"0\", \"1\", \"2\", \"3\", \"4\", \"5\", \"6\", \"7\", \"8\", \"9\", \"10\", \"11\", \"12\", \"13\", \"14\", \"15\", \"16\", \"17\", \"18\", \"19\", \"20\", \"21\", \"22\", \"23\", \"24\", \"25\", \"26\", \"27\", \"28\", \"29\", \"30\", \"31\"], \"mode\": \"markers\", \"name\": \"accuracy\", \"stepped\": false, \"type\": \"scatter\", \"data\": [0.4911343623602595, 0.5110735210864124, 0.46563763974053785, 0.5040658613610166, 0.4590126252464003, 0.5129260423842685, 0.4822578114875419, 0.5007475564589287, 0.4741526897708903, 0.5099794694804618, 0.4955630887177633, 0.4527088690480251, 0.5158842105981135, 0.5003717319982812, 0.45311197659111524, 0.47010183410521716, 0.47969388381499345, 0.5188355580413475, 0.5062839759636043, 0.5169864471287966, 0.516250485979906, 0.5103450627851934, 0.49964122746587913, 0.5036934472856743, 0.5099781053263397, 0.500380599000075, 0.5158869389063575, 0.5059170185047506, 0.5011199705342709, 0.505550743122958, 0.5262217705356351, 0.515869886979831]}, {\"categories\": [\"0\", \"1\", \"2\", \"3\", \"4\", \"5\", \"6\", \"7\", \"8\", \"9\", \"10\", \"11\", \"12\", \"13\", \"14\", \"15\", \"16\", \"17\", \"18\", \"19\", \"20\", \"21\", \"22\", \"23\", \"24\", \"25\", \"26\", \"27\", \"28\", \"29\", \"30\", \"31\"], \"mode\": \"lines\", \"name\": \"accuracy_max\", \"stepped\": true, \"type\": \"scatter\", \"data\": [0.4911343623602595, 0.5110735210864124, 0.5110735210864124, 0.5110735210864124, 0.5110735210864124, 0.5129260423842685, 0.5129260423842685, 0.5129260423842685, 0.5129260423842685, 0.5129260423842685, 0.5129260423842685, 0.5129260423842685, 0.5158842105981135, 0.5158842105981135, 0.5158842105981135, 0.5158842105981135, 0.5158842105981135, 0.5188355580413475, 0.5188355580413475, 0.5188355580413475, 0.5188355580413475, 0.5188355580413475, 0.5188355580413475, 0.5188355580413475, 0.5188355580413475, 0.5188355580413475, 0.5188355580413475, 0.5188355580413475, 0.5188355580413475, 0.5188355580413475, 0.5262217705356351, 0.5262217705356351]}], \"AUC_macro\": [{\"categories\": [\"0\", \"1\", \"2\", \"3\", \"4\", \"5\", \"6\", \"7\", \"8\", \"9\", \"10\", \"11\", \"12\", \"13\", \"14\", \"15\", \"16\", \"17\", \"18\", \"19\", \"20\", \"21\", \"22\", \"23\", \"24\", \"25\", \"26\", \"27\", \"28\", \"29\", \"30\", \"31\"], \"mode\": \"markers\", \"name\": \"AUC_macro\", \"stepped\": false, \"type\": \"scatter\", \"data\": [0.6228616957853972, 0.6381480333820919, 0.6229534711519933, 0.6310955615545253, 0.5820683401946755, 0.6422002522521064, 0.6374401811414991, 0.6380688292957978, 0.5929408087673752, 0.6278511738507764, 0.621236948560244, 0.6144349068656525, 0.6119735777706806, 0.6257162732716649, 0.5671755734215992, 0.5771917412532883, 0.5942440122903383, 0.6407403341360128, 0.6373073880265008, 0.6419851742820268, 0.6386384577665083, 0.6335657478491371, 0.6307222631666065, 0.6343768472760568, 0.6363797354908594, 0.5612074515066545, 0.6402209371307936, 0.6324695737178448, 0.6319688062722062, 0.6379970656941794, 0.6494884239833302, 0.652004183433476]}, {\"categories\": [\"0\", \"1\", \"2\", \"3\", \"4\", \"5\", \"6\", \"7\", \"8\", \"9\", \"10\", \"11\", \"12\", \"13\", \"14\", \"15\", \"16\", \"17\", \"18\", \"19\", \"20\", \"21\", \"22\", \"23\", \"24\", \"25\", \"26\", \"27\", \"28\", \"29\", \"30\", \"31\"], \"mode\": \"lines\", \"name\": \"AUC_macro_max\", \"stepped\": true, \"type\": \"scatter\", \"data\": [0.6228616957853972, 0.6381480333820919, 0.6381480333820919, 0.6381480333820919, 0.6381480333820919, 0.6422002522521064, 0.6422002522521064, 0.6422002522521064, 0.6422002522521064, 0.6422002522521064, 0.6422002522521064, 0.6422002522521064, 0.6422002522521064, 0.6422002522521064, 0.6422002522521064, 0.6422002522521064, 0.6422002522521064, 0.6422002522521064, 0.6422002522521064, 0.6422002522521064, 0.6422002522521064, 0.6422002522521064, 0.6422002522521064, 0.6422002522521064, 0.6422002522521064, 0.6422002522521064, 0.6422002522521064, 0.6422002522521064, 0.6422002522521064, 0.6422002522521064, 0.6494884239833302, 0.652004183433476]}], \"AUC_weighted\": [{\"categories\": [\"0\", \"1\", \"2\", \"3\", \"4\", \"5\", \"6\", \"7\", \"8\", \"9\", \"10\", \"11\", \"12\", \"13\", \"14\", \"15\", \"16\", \"17\", \"18\", \"19\", \"20\", \"21\", \"22\", \"23\", \"24\", \"25\", \"26\", \"27\", \"28\", \"29\", \"30\", \"31\"], \"mode\": \"markers\", \"name\": \"AUC_weighted\", \"stepped\": false, \"type\": \"scatter\", \"data\": [0.6362958235751981, 0.6506489916849589, 0.6310916273621008, 0.6457389832528655, 0.5967873629934802, 0.6543135670689605, 0.6487785691866861, 0.6501941363851922, 0.6084370029833822, 0.6412812520145655, 0.634454038390295, 0.6222195544135757, 0.6218605737814163, 0.6413250240861877, 0.5831741352096269, 0.5928340814035759, 0.6099310247119288, 0.6511788026210537, 0.6495114281827886, 0.6545953374023348, 0.6491402241510074, 0.6468218544742518, 0.6393158247756359, 0.6475900552002908, 0.6455379155245446, 0.5658710587872191, 0.6521878216264069, 0.6416253697055275, 0.6444534452084268, 0.6499217497487291, 0.6620469687706404, 0.6628825348047179]}, {\"categories\": [\"0\", \"1\", \"2\", \"3\", \"4\", \"5\", \"6\", \"7\", \"8\", \"9\", \"10\", \"11\", \"12\", \"13\", \"14\", \"15\", \"16\", \"17\", \"18\", \"19\", \"20\", \"21\", \"22\", \"23\", \"24\", \"25\", \"26\", \"27\", \"28\", \"29\", \"30\", \"31\"], \"mode\": \"lines\", \"name\": \"AUC_weighted_max\", \"stepped\": true, \"type\": \"scatter\", \"data\": [0.6362958235751981, 0.6506489916849589, 0.6506489916849589, 0.6506489916849589, 0.6506489916849589, 0.6543135670689605, 0.6543135670689605, 0.6543135670689605, 0.6543135670689605, 0.6543135670689605, 0.6543135670689605, 0.6543135670689605, 0.6543135670689605, 0.6543135670689605, 0.6543135670689605, 0.6543135670689605, 0.6543135670689605, 0.6543135670689605, 0.6543135670689605, 0.6545953374023348, 0.6545953374023348, 0.6545953374023348, 0.6545953374023348, 0.6545953374023348, 0.6545953374023348, 0.6545953374023348, 0.6545953374023348, 0.6545953374023348, 0.6545953374023348, 0.6545953374023348, 0.6620469687706404, 0.6628825348047179]}], \"log_loss\": [{\"categories\": [\"0\", \"1\", \"2\", \"3\", \"4\", \"5\", \"6\", \"7\", \"8\", \"9\", \"10\", \"11\", \"12\", \"13\", \"14\", \"15\", \"16\", \"17\", \"18\", \"19\", \"20\", \"21\", \"22\", \"23\", \"24\", \"25\", \"26\", \"27\", \"28\", \"29\", \"30\", \"31\"], \"mode\": \"markers\", \"name\": \"log_loss\", \"stepped\": false, \"type\": \"scatter\", \"data\": [1.0802871555689286, 0.9957609035797095, 1.0591292197961597, 1.01088207709874, 4.987952961294049, 0.9900932220951958, 1.0441603344641694, 1.005168594793531, 2.8546681255337822, 1.000807678022923, 1.0122123564925842, 1.06555887163778, 1.0078548402163992, 1.0328569162984942, 7.12265847348521, 4.520108827468556, 2.175201825945016, 0.9930348400842096, 1.008373079513217, 1.006398817287098, 0.9964998592963976, 1.006774794265837, 1.0110951403579747, 1.007125326709382, 0.9976956288533667, 1.0370212993145498, 0.9910712752316458, 0.9999107763549041, 1.0053270767213223, 0.9949564191787728, 0.9863956063713729, 0.9829993068445202]}, {\"categories\": [\"0\", \"1\", \"2\", \"3\", \"4\", \"5\", \"6\", \"7\", \"8\", \"9\", \"10\", \"11\", \"12\", \"13\", \"14\", \"15\", \"16\", \"17\", \"18\", \"19\", \"20\", \"21\", \"22\", \"23\", \"24\", \"25\", \"26\", \"27\", \"28\", \"29\", \"30\", \"31\"], \"mode\": \"lines\", \"name\": \"log_loss_min\", \"stepped\": true, \"type\": \"scatter\", \"data\": [1.0802871555689286, 0.9957609035797095, 0.9957609035797095, 0.9957609035797095, 0.9957609035797095, 0.9900932220951958, 0.9900932220951958, 0.9900932220951958, 0.9900932220951958, 0.9900932220951958, 0.9900932220951958, 0.9900932220951958, 0.9900932220951958, 0.9900932220951958, 0.9900932220951958, 0.9900932220951958, 0.9900932220951958, 0.9900932220951958, 0.9900932220951958, 0.9900932220951958, 0.9900932220951958, 0.9900932220951958, 0.9900932220951958, 0.9900932220951958, 0.9900932220951958, 0.9900932220951958, 0.9900932220951958, 0.9900932220951958, 0.9900932220951958, 0.9900932220951958, 0.9863956063713729, 0.9829993068445202]}], \"norm_macro_recall\": [{\"categories\": [\"0\", \"1\", \"2\", \"3\", \"4\", \"5\", \"6\", \"7\", \"8\", \"9\", \"10\", \"11\", \"12\", \"13\", \"14\", \"15\", \"16\", \"17\", \"18\", \"19\", \"20\", \"21\", \"22\", \"23\", \"24\", \"25\", \"26\", \"27\", \"28\", \"29\", \"30\", \"31\"], \"mode\": \"markers\", \"name\": \"norm_macro_recall\", \"stepped\": false, \"type\": \"scatter\", \"data\": [0.10503568054327131, 0.09751541713594292, 0.13696238387196852, 0.10073765749915611, 0.07714139996807926, 0.08645821736428598, 0.1690717183679924, 0.0044632860717655366, 0.08764189595945338, 0.05287247840053767, 0.10475822406358189, 0.12780468603228262, 0.07860788313000856, 0.08451018532524539, 0.06949451413437022, 0.08104672754381952, 0.08881409474876709, 0.10003544313853781, 0.09653960906281099, 0.11452281283971869, 0.10541960441758873, 0.12217369171013803, 0.0006963622913280175, 0.10393707368274252, 0.05076675196597058, 0.0, 0.09698334759512119, 0.03284681227975164, 0.004395109387198847, 0.03640952603839034, 0.11673401256220928, 0.11444553014648515]}, {\"categories\": [\"0\", \"1\", \"2\", \"3\", \"4\", \"5\", \"6\", \"7\", \"8\", \"9\", \"10\", \"11\", \"12\", \"13\", \"14\", \"15\", \"16\", \"17\", \"18\", \"19\", \"20\", \"21\", \"22\", \"23\", \"24\", \"25\", \"26\", \"27\", \"28\", \"29\", \"30\", \"31\"], \"mode\": \"lines\", \"name\": \"norm_macro_recall_max\", \"stepped\": true, \"type\": \"scatter\", \"data\": [0.10503568054327131, 0.10503568054327131, 0.13696238387196852, 0.13696238387196852, 0.13696238387196852, 0.13696238387196852, 0.1690717183679924, 0.1690717183679924, 0.1690717183679924, 0.1690717183679924, 0.1690717183679924, 0.1690717183679924, 0.1690717183679924, 0.1690717183679924, 0.1690717183679924, 0.1690717183679924, 0.1690717183679924, 0.1690717183679924, 0.1690717183679924, 0.1690717183679924, 0.1690717183679924, 0.1690717183679924, 0.1690717183679924, 0.1690717183679924, 0.1690717183679924, 0.1690717183679924, 0.1690717183679924, 0.1690717183679924, 0.1690717183679924, 0.1690717183679924, 0.1690717183679924, 0.1690717183679924]}]}, \"metricName\": null, \"primaryMetricName\": \"accuracy\", \"showLegend\": false}, \"run_metrics\": [{\"name\": \"norm_macro_recall\", \"run_id\": \"AutoML_7948808a-fc20-4b91-881c-b5703f6f4c46\", \"categories\": [0], \"series\": [{\"data\": [0.11673401256220928]}]}, {\"name\": \"AUC_weighted\", \"run_id\": \"AutoML_7948808a-fc20-4b91-881c-b5703f6f4c46\", \"categories\": [0], \"series\": [{\"data\": [0.6620469687706404]}]}, {\"name\": \"average_precision_score_macro\", \"run_id\": \"AutoML_7948808a-fc20-4b91-881c-b5703f6f4c46\", \"categories\": [0], \"series\": [{\"data\": [0.4574498688241723]}]}, {\"name\": \"AUC_micro\", \"run_id\": \"AutoML_7948808a-fc20-4b91-881c-b5703f6f4c46\", \"categories\": [0], \"series\": [{\"data\": [0.6997457470652353]}]}, {\"name\": \"f1_score_micro\", \"run_id\": \"AutoML_7948808a-fc20-4b91-881c-b5703f6f4c46\", \"categories\": [0], \"series\": [{\"data\": [0.5262217705356351]}]}, {\"name\": \"precision_score_weighted\", \"run_id\": \"AutoML_7948808a-fc20-4b91-881c-b5703f6f4c46\", \"categories\": [0], \"series\": [{\"data\": [0.4859983537055637]}]}, {\"name\": \"recall_score_micro\", \"run_id\": \"AutoML_7948808a-fc20-4b91-881c-b5703f6f4c46\", \"categories\": [0], \"series\": [{\"data\": [0.5262217705356351]}]}, {\"name\": \"log_loss\", \"run_id\": \"AutoML_7948808a-fc20-4b91-881c-b5703f6f4c46\", \"categories\": [0], \"series\": [{\"data\": [0.9863956063713729]}]}, {\"name\": \"AUC_macro\", \"run_id\": \"AutoML_7948808a-fc20-4b91-881c-b5703f6f4c46\", \"categories\": [0], \"series\": [{\"data\": [0.6494884239833302]}]}, {\"name\": \"average_precision_score_weighted\", \"run_id\": \"AutoML_7948808a-fc20-4b91-881c-b5703f6f4c46\", \"categories\": [0], \"series\": [{\"data\": [0.5183918800041305]}]}, {\"name\": \"recall_score_macro\", \"run_id\": \"AutoML_7948808a-fc20-4b91-881c-b5703f6f4c46\", \"categories\": [0], \"series\": [{\"data\": [0.41115600837480615]}]}, {\"name\": \"weighted_accuracy\", \"run_id\": \"AutoML_7948808a-fc20-4b91-881c-b5703f6f4c46\", \"categories\": [0], \"series\": [{\"data\": [0.640275976978873]}]}, {\"name\": \"accuracy\", \"run_id\": \"AutoML_7948808a-fc20-4b91-881c-b5703f6f4c46\", \"categories\": [0], \"series\": [{\"data\": [0.5262217705356351]}]}, {\"name\": \"precision_score_micro\", \"run_id\": \"AutoML_7948808a-fc20-4b91-881c-b5703f6f4c46\", \"categories\": [0], \"series\": [{\"data\": [0.5262217705356351]}]}, {\"name\": \"average_precision_score_micro\", \"run_id\": \"AutoML_7948808a-fc20-4b91-881c-b5703f6f4c46\", \"categories\": [0], \"series\": [{\"data\": [0.5643399854001072]}]}, {\"name\": \"matthews_correlation\", \"run_id\": \"AutoML_7948808a-fc20-4b91-881c-b5703f6f4c46\", \"categories\": [0], \"series\": [{\"data\": [0.17132098348584746]}]}, {\"name\": \"f1_score_weighted\", \"run_id\": \"AutoML_7948808a-fc20-4b91-881c-b5703f6f4c46\", \"categories\": [0], \"series\": [{\"data\": [0.46626047840808776]}]}, {\"name\": \"balanced_accuracy\", \"run_id\": \"AutoML_7948808a-fc20-4b91-881c-b5703f6f4c46\", \"categories\": [0], \"series\": [{\"data\": [0.41115600837480615]}]}, {\"name\": \"recall_score_weighted\", \"run_id\": \"AutoML_7948808a-fc20-4b91-881c-b5703f6f4c46\", \"categories\": [0], \"series\": [{\"data\": [0.5262217705356351]}]}, {\"name\": \"precision_score_macro\", \"run_id\": \"AutoML_7948808a-fc20-4b91-881c-b5703f6f4c46\", \"categories\": [0], \"series\": [{\"data\": [0.45813101026236486]}]}, {\"name\": \"f1_score_macro\", \"run_id\": \"AutoML_7948808a-fc20-4b91-881c-b5703f6f4c46\", \"categories\": [0], \"series\": [{\"data\": [0.3932451452725806]}]}], \"run_logs\": \"\\nRun is completed.\", \"graph\": {}, \"widget_settings\": {\"childWidgetDisplay\": \"popup\", \"send_telemetry\": false, \"log_level\": \"INFO\", \"sdk_version\": \"1.38.0\"}, \"loading\": false}"
          },
          "metadata": {}
        }
      ],
      "execution_count": 10,
      "metadata": {
        "gather": {
          "logged": 1645205312388
        },
        "jupyter": {
          "outputs_hidden": false,
          "source_hidden": false
        },
        "nteract": {
          "transient": {
            "deleting": false
          }
        }
      }
    },
    {
      "cell_type": "markdown",
      "source": [
        "## Best Model\n",
        "\n",
        "After training and tuning with AutoML, we are interested on the best performing model. We will get it as an output in the following lines of code, and display its properties."
      ],
      "metadata": {}
    },
    {
      "cell_type": "code",
      "source": [
        "# Retrieve and save best model\n",
        "best_run, model = automl_run.get_output()\n",
        "print(best_run, '\\n')\n",
        "print(model)\n",
        "joblib.dump(value=best_run.id, filename=\"./inference/bitcoin-automl.joblib\")"
      ],
      "outputs": [
        {
          "output_type": "stream",
          "name": "stdout",
          "text": "Run(Experiment: az-capstone-automl,\nId: AutoML_7948808a-fc20-4b91-881c-b5703f6f4c46_30,\nType: None,\nStatus: Completed) \n\nPipeline(memory=None,\n         steps=[('datatransformer',\n                 DataTransformer(enable_dnn=False, enable_feature_sweeping=True, feature_sweeping_config={}, feature_sweeping_timeout=86400, featurization_config=None, force_text_dnn=False, is_cross_validation=True, is_onnx_compatible=False, observer=None, task='classification', working_dir='/mnt/batch/tasks/shared/LS_root/mount...\n    gpu_training_param_dict={'processing_unit_type': 'cpu'}\n), random_state=None))], verbose=False))], flatten_transform=None, weights=[0.07142857142857142, 0.21428571428571427, 0.07142857142857142, 0.14285714285714285, 0.07142857142857142, 0.07142857142857142, 0.07142857142857142, 0.07142857142857142, 0.07142857142857142, 0.07142857142857142, 0.07142857142857142]))],\n         verbose=False)\nY_transformer(['LabelEncoder', LabelEncoder()])\n"
        },
        {
          "output_type": "execute_result",
          "execution_count": 11,
          "data": {
            "text/plain": "['./inference/bitcoin-automl.joblib']"
          },
          "metadata": {}
        }
      ],
      "execution_count": 11,
      "metadata": {
        "gather": {
          "logged": 1645205313146
        },
        "jupyter": {
          "outputs_hidden": false,
          "source_hidden": false
        },
        "nteract": {
          "transient": {
            "deleting": false
          }
        }
      }
    },
    {
      "cell_type": "markdown",
      "source": [
        "## Model Deployment\n",
        "\n",
        "We will deploy the AutoML model as an REST endpoint. For this, we will first register the model, and then download a `score.py` script used for scoring, as well as a `conda_env.yml` file that will be used in our compute instance to install dependencies. We will also download the model as a pickle file. All these files can be found in the [`inference`](inference/) directory.\n",
        "\n",
        "Before deploying the model, we will pass in required scripts, dependencies and configuration for a compute instance, as an inference config object, and then deploy the model as a web service."
      ],
      "metadata": {}
    },
    {
      "cell_type": "code",
      "source": [
        "model_name = 'best-automl-model'\n",
        "description = \"AutoML model for predicting day-ahead Bitcoin price movements\"\n",
        "tags = None\n",
        "model = automl_run.register_model(model_name=model_name, description=description, tags=tags)\n",
        "print(automl_run.model_id)"
      ],
      "outputs": [
        {
          "output_type": "stream",
          "name": "stdout",
          "text": "best-automl-model\n"
        }
      ],
      "execution_count": 12,
      "metadata": {
        "jupyter": {
          "source_hidden": false,
          "outputs_hidden": false
        },
        "nteract": {
          "transient": {
            "deleting": false
          }
        },
        "gather": {
          "logged": 1645205314187
        }
      }
    },
    {
      "cell_type": "code",
      "source": [
        "from azureml.core.model import Model"
      ],
      "outputs": [],
      "execution_count": 13,
      "metadata": {
        "jupyter": {
          "source_hidden": false,
          "outputs_hidden": false
        },
        "nteract": {
          "transient": {
            "deleting": false
          }
        },
        "gather": {
          "logged": 1645205314329
        }
      }
    },
    {
      "cell_type": "code",
      "source": [
        "best_run"
      ],
      "outputs": [
        {
          "output_type": "execute_result",
          "execution_count": 14,
          "data": {
            "text/plain": "Run(Experiment: az-capstone-automl,\nId: AutoML_7948808a-fc20-4b91-881c-b5703f6f4c46_30,\nType: None,\nStatus: Completed)",
            "text/html": "<table style=\"width:100%\"><tr><th>Experiment</th><th>Id</th><th>Type</th><th>Status</th><th>Details Page</th><th>Docs Page</th></tr><tr><td>az-capstone-automl</td><td>AutoML_7948808a-fc20-4b91-881c-b5703f6f4c46_30</td><td></td><td>Completed</td><td><a href=\"https://ml.azure.com/runs/AutoML_7948808a-fc20-4b91-881c-b5703f6f4c46_30?wsid=/subscriptions/510b94ba-e453-4417-988b-fbdc37b55ca7/resourcegroups/aml-quickstarts-186961/workspaces/quick-starts-ws-186961&amp;tid=660b3398-b80e-49d2-bc5b-ac1dc93b5254\" target=\"_blank\" rel=\"noopener\">Link to Azure Machine Learning studio</a></td><td><a href=\"https://docs.microsoft.com/en-us/python/api/azureml-core/azureml.core.run.Run?view=azure-ml-py\" target=\"_blank\" rel=\"noopener\">Link to Documentation</a></td></tr></table>"
          },
          "metadata": {}
        }
      ],
      "execution_count": 14,
      "metadata": {
        "jupyter": {
          "source_hidden": false,
          "outputs_hidden": false
        },
        "nteract": {
          "transient": {
            "deleting": false
          }
        },
        "gather": {
          "logged": 1645205314508
        }
      }
    },
    {
      "cell_type": "code",
      "source": [
        "from azureml.core.model import InferenceConfig\n",
        "from azureml.core.webservice import AciWebservice\n",
        "\n",
        "best_run.download_file('outputs/conda_env_v_1_0_0.yml', 'inference/conda_env.yml')\n",
        "best_run.download_file(\"outputs/scoring_file_v_1_0_0.py\", \"inference/score.py\")\n",
        "best_run.download_file('outputs/model.pkl', 'inference/model.pkl')"
      ],
      "outputs": [],
      "execution_count": 15,
      "metadata": {
        "gather": {
          "logged": 1645205315122
        },
        "jupyter": {
          "outputs_hidden": false,
          "source_hidden": false
        },
        "nteract": {
          "transient": {
            "deleting": false
          }
        }
      }
    },
    {
      "cell_type": "code",
      "source": [
        "print('Best Run Id: ', best_run.id)\r\n",
        "best_run_metrics = best_run.get_metrics()\r\n",
        "\r\n",
        "for i in best_run_metrics:\r\n",
        "    print(i, best_run_metrics[i])"
      ],
      "outputs": [
        {
          "output_type": "stream",
          "name": "stdout",
          "text": "Best Run Id:  AutoML_7948808a-fc20-4b91-881c-b5703f6f4c46_30\nf1_score_macro 0.3932451452725806\nweighted_accuracy 0.640275976978873\nrecall_score_macro 0.41115600837480615\nmatthews_correlation 0.17132098348584746\nprecision_score_micro 0.5262217705356351\nprecision_score_macro 0.45813101026236486\nrecall_score_weighted 0.5262217705356351\naverage_precision_score_weighted 0.5183918800041305\nbalanced_accuracy 0.41115600837480615\nprecision_score_weighted 0.4859983537055637\nf1_score_weighted 0.46626047840808776\nAUC_micro 0.6997457470652353\nrecall_score_micro 0.5262217705356351\nf1_score_micro 0.5262217705356351\naverage_precision_score_micro 0.5643399854001072\naverage_precision_score_macro 0.4574498688241723\naccuracy 0.5262217705356351\nAUC_macro 0.6494884239833302\nAUC_weighted 0.6620469687706404\nlog_loss 0.9863956063713729\nnorm_macro_recall 0.11673401256220928\nconfusion_matrix aml://artifactId/ExperimentRun/dcid.AutoML_7948808a-fc20-4b91-881c-b5703f6f4c46_30/confusion_matrix\naccuracy_table aml://artifactId/ExperimentRun/dcid.AutoML_7948808a-fc20-4b91-881c-b5703f6f4c46_30/accuracy_table\n"
        }
      ],
      "execution_count": 24,
      "metadata": {
        "jupyter": {
          "source_hidden": false,
          "outputs_hidden": false
        },
        "nteract": {
          "transient": {
            "deleting": false
          }
        },
        "gather": {
          "logged": 1645216954170
        }
      }
    },
    {
      "cell_type": "code",
      "source": [
        "script_file_name = \"./inference/score.py\"\n",
        "env = Environment.from_conda_specification(name=\"automl-env\", file_path=\"inference/conda_env.yml\")\n",
        "\n",
        "inference_config = InferenceConfig(environment=env, entry_script=script_file_name)\n",
        "\n",
        "aciconfig = AciWebservice.deploy_configuration(\n",
        "    cpu_cores=2,\n",
        "    memory_gb=2,\n",
        "    tags={\"area\": \"Trading\", \"type\": \"automl_classification\"},\n",
        "    description=\"service for Bitcoin trading signals\"\n",
        ")\n",
        "\n",
        "aci_service_name = model_name.lower()\n",
        "print(aci_service_name)\n",
        "\n",
        "aci_service = Model.deploy(ws, aci_service_name, [model], inference_config, aciconfig)\n",
        "aci_service.wait_for_deployment(True)\n",
        "print(aci_service.state)\n",
        "\n",
        "aci_service.get_logs()"
      ],
      "outputs": [
        {
          "output_type": "stream",
          "name": "stdout",
          "text": "best-automl-model\nTips: You can try get_logs(): https://aka.ms/debugimage#dockerlog or local deployment: https://aka.ms/debugimage#debug-locally to debug if deployment takes longer than 10 minutes.\nRunning\n2022-02-18 17:28:38+00:00 Creating Container Registry if not exists.\n2022-02-18 17:28:39+00:00 Registering the environment.\n2022-02-18 17:28:40+00:00 Use the existing image.\n2022-02-18 17:28:40+00:00 Generating deployment configuration.\n2022-02-18 17:28:40+00:00 Submitting deployment to compute.\n2022-02-18 17:28:43+00:00 Checking the status of deployment best-automl-model..\n2022-02-18 17:31:25+00:00 Checking the status of inference endpoint best-automl-model.\nSucceeded\nACI service creation operation finished, operation \"Succeeded\"\nHealthy\n"
        },
        {
          "output_type": "execute_result",
          "execution_count": 16,
          "data": {
            "text/plain": "'2022-02-18T17:31:16,083583000+00:00 - rsyslog/run \\n2022-02-18T17:31:16,083632700+00:00 - gunicorn/run \\nDynamic Python package installation is disabled.\\nStarting HTTP server\\n2022-02-18T17:31:16,085402800+00:00 - iot-server/run \\n2022-02-18T17:31:16,086866600+00:00 - nginx/run \\nrsyslogd: /azureml-envs/azureml_4943656157e05766fedf432d8be562a4/lib/libuuid.so.1: no version information available (required by rsyslogd)\\nEdgeHubConnectionString and IOTEDGE_IOTHUBHOSTNAME are not set. Exiting...\\n2022-02-18T17:31:16,309166600+00:00 - iot-server/finish 1 0\\n2022-02-18T17:31:16,311364000+00:00 - Exit code 1 is normal. Not restarting iot-server.\\nStarting gunicorn 20.1.0\\nListening at: http://127.0.0.1:31311 (84)\\nUsing worker: sync\\nworker timeout is set to 300\\nBooting worker with pid: 112\\nSPARK_HOME not set. Skipping PySpark Initialization.\\nGenerating new fontManager, this may take some time...\\nInitializing logger\\n2022-02-18 17:31:18,873 | root | INFO | Starting up app insights client\\nlogging socket was found. logging is available.\\nlogging socket was found. logging is available.\\n2022-02-18 17:31:18,874 | root | INFO | Starting up request id generator\\n2022-02-18 17:31:18,874 | root | INFO | Starting up app insight hooks\\n2022-02-18 17:31:18,874 | root | INFO | Invoking user\\'s init function\\n2022-02-18 17:31:22,381 | azureml.core | WARNING | Failure while loading azureml_run_type_providers. Failed to load entrypoint hyperdrive = azureml.train.hyperdrive:HyperDriveRun._from_run_dto with exception (urllib3 1.26.8 (/azureml-envs/azureml_4943656157e05766fedf432d8be562a4/lib/python3.6/site-packages), Requirement.parse(\\'urllib3<=1.26.7,>=1.23\\'), {\\'azureml-core\\'}).\\nFailure while loading azureml_run_type_providers. Failed to load entrypoint hyperdrive = azureml.train.hyperdrive:HyperDriveRun._from_run_dto with exception (urllib3 1.26.8 (/azureml-envs/azureml_4943656157e05766fedf432d8be562a4/lib/python3.6/site-packages), Requirement.parse(\\'urllib3<=1.26.7,>=1.23\\'), {\\'azureml-core\\'}).\\n2022-02-18 17:31:22,432 | azureml.core | WARNING | Failure while loading azureml_run_type_providers. Failed to load entrypoint automl = azureml.train.automl.run:AutoMLRun._from_run_dto with exception (urllib3 1.26.8 (/azureml-envs/azureml_4943656157e05766fedf432d8be562a4/lib/python3.6/site-packages), Requirement.parse(\\'urllib3<=1.26.7,>=1.23\\'), {\\'azureml-core\\'}).\\nFailure while loading azureml_run_type_providers. Failed to load entrypoint automl = azureml.train.automl.run:AutoMLRun._from_run_dto with exception (urllib3 1.26.8 (/azureml-envs/azureml_4943656157e05766fedf432d8be562a4/lib/python3.6/site-packages), Requirement.parse(\\'urllib3<=1.26.7,>=1.23\\'), {\\'azureml-core\\'}).\\n2022-02-18 17:31:22,437 | azureml.core | WARNING | Failure while loading azureml_run_type_providers. Failed to load entrypoint azureml.scriptrun = azureml.core.script_run:ScriptRun._from_run_dto with exception (urllib3 1.26.8 (/azureml-envs/azureml_4943656157e05766fedf432d8be562a4/lib/python3.6/site-packages), Requirement.parse(\\'urllib3<=1.26.7,>=1.23\\')).\\nFailure while loading azureml_run_type_providers. Failed to load entrypoint azureml.scriptrun = azureml.core.script_run:ScriptRun._from_run_dto with exception (urllib3 1.26.8 (/azureml-envs/azureml_4943656157e05766fedf432d8be562a4/lib/python3.6/site-packages), Requirement.parse(\\'urllib3<=1.26.7,>=1.23\\')).\\n2022-02-18 17:31:23,087 | root | INFO | Users\\'s init has completed successfully\\n2022-02-18 17:31:23,093 | root | INFO | Skipping middleware: dbg_model_info as it\\'s not enabled.\\n2022-02-18 17:31:23,093 | root | INFO | Skipping middleware: dbg_resource_usage as it\\'s not enabled.\\nGenerating swagger file: /tmp/tmpe7chz2w8\\n2022-02-18 17:31:23,096 | root | INFO | Scoring timeout is found from os.environ: 60000 ms\\n2022-02-18 17:31:25,337 | root | INFO | 200\\n127.0.0.1 - - [18/Feb/2022:17:31:25 +0000] \"GET /swagger.json HTTP/1.0\" 200 4314 \"-\" \"Go-http-client/1.1\"\\n2022-02-18 17:31:30,623 | root | INFO | 200\\n127.0.0.1 - - [18/Feb/2022:17:31:30 +0000] \"GET /swagger.json HTTP/1.0\" 200 4314 \"-\" \"Go-http-client/1.1\"\\n'"
          },
          "metadata": {}
        }
      ],
      "execution_count": 16,
      "metadata": {
        "jupyter": {
          "source_hidden": false,
          "outputs_hidden": false
        },
        "nteract": {
          "transient": {
            "deleting": false
          }
        },
        "gather": {
          "logged": 1645205491286
        }
      }
    },
    {
      "cell_type": "markdown",
      "source": [
        "Ok, so everything seems to be working fine. \r\n",
        "\r\n",
        "Now we will just test the endpoint serving our model with some test data. We need to consider that the score.py file will expect the data in a certain format.\r\n",
        "AzureML expects the data columns to be in alphabetical order. In the lines below, we make necesary transformations and then \r\n",
        "pass in our data as JSON and ping our endpoint with Python's request library. If everything goes well, we get a response from the API and some\r\n",
        "predictions within it in form of a list."
      ],
      "metadata": {
        "collapsed": true,
        "gather": {
          "logged": 1598431657736
        },
        "jupyter": {
          "outputs_hidden": false,
          "source_hidden": false
        },
        "nteract": {
          "transient": {
            "deleting": false
          }
        }
      }
    },
    {
      "cell_type": "code",
      "source": [
        "import json\n",
        "\n",
        "print(f'Will test endpoint: {aci_service.scoring_uri}')\n",
        "X_test_json = df[sorted(df.columns)].drop(columns=['y_c_shift']).tail().to_json(orient=\"records\")\n",
        "\n",
        "data = '{\"data\": ' + X_test_json + \"}\"\n",
        "headers = {\"Content-Type\": \"application/json\"}"
      ],
      "outputs": [
        {
          "output_type": "stream",
          "name": "stdout",
          "text": "Will test endpoint: http://518b0eb2-b0fe-472b-9e58-0d276d32d3d3.southcentralus.azurecontainer.io/score\n"
        }
      ],
      "execution_count": 20,
      "metadata": {
        "jupyter": {
          "source_hidden": false,
          "outputs_hidden": false
        },
        "nteract": {
          "transient": {
            "deleting": false
          }
        },
        "gather": {
          "logged": 1645213037761
        }
      }
    },
    {
      "cell_type": "code",
      "source": [
        "resp = requests.post(aci_service.scoring_uri, data, headers=headers)\n",
        "y_pred = json.loads(json.loads(resp.text))\n",
        "print(y_pred)"
      ],
      "outputs": [
        {
          "output_type": "stream",
          "name": "stdout",
          "text": "{'result': [0.0, 0.0, 0.0, 0.0, 0.0]}\n"
        }
      ],
      "execution_count": 21,
      "metadata": {
        "gather": {
          "logged": 1645213040103
        },
        "jupyter": {
          "outputs_hidden": false,
          "source_hidden": false
        },
        "nteract": {
          "transient": {
            "deleting": false
          }
        }
      }
    },
    {
      "cell_type": "markdown",
      "source": [
        "### Deletion of endpoints and resources\n",
        "\n",
        "In this notebook we've created both a compute cluster and a compute instance that needs to be taken down. In the following cell we delete the used resources as a closure."
      ],
      "metadata": {
        "collapsed": true,
        "gather": {
          "logged": 1598432765711
        },
        "jupyter": {
          "outputs_hidden": false,
          "source_hidden": false
        },
        "nteract": {
          "transient": {
            "deleting": false
          }
        }
      }
    },
    {
      "cell_type": "code",
      "source": [
        "# Deleting the inference compute instance\n",
        "aci_service.delete()\n",
        "print('Compute cluster deleted!')\n",
        "\n",
        "# Deleting compute cluster\n",
        "compute_target.delete()\n",
        "print('Compute cluster deleted!')"
      ],
      "outputs": [
        {
          "output_type": "stream",
          "name": "stdout",
          "text": "Compute cluster deleted!\nCompute cluster deleted!\n"
        }
      ],
      "execution_count": 22,
      "metadata": {
        "collapsed": false,
        "pycharm": {
          "name": "#%%\n"
        },
        "gather": {
          "logged": 1645213778116
        }
      }
    },
    {
      "cell_type": "markdown",
      "source": [
        "**Submission Checklist**\n",
        "- (DONE) I have registered the model.\n",
        "- (DONE) I have deployed the model with the best accuracy as a webservice.\n",
        "- (DONE) I have tested the webservice by sending a request to the model endpoint.\n",
        "- (DONE) I have deleted the webservice and shutdown all the computes that I have used.\n",
        "- (DONE) I have taken a screenshot showing the model endpoint as active.\n",
        "- (DONE) The project includes a file containing the environment details (see the inference directory).\n"
      ],
      "metadata": {
        "pycharm": {
          "name": "#%% md\n"
        }
      }
    }
  ],
  "metadata": {
    "kernel_info": {
      "name": "python3-azureml"
    },
    "kernelspec": {
      "name": "python3-azureml",
      "language": "python",
      "display_name": "Python 3.6 - AzureML"
    },
    "language_info": {
      "name": "python",
      "version": "3.6.9",
      "mimetype": "text/x-python",
      "codemirror_mode": {
        "name": "ipython",
        "version": 3
      },
      "pygments_lexer": "ipython3",
      "nbconvert_exporter": "python",
      "file_extension": ".py"
    },
    "nteract": {
      "version": "nteract-front-end@1.0.0"
    },
    "microsoft": {
      "host": {
        "AzureML": {
          "notebookHasBeenCompleted": true
        }
      }
    }
  },
  "nbformat": 4,
  "nbformat_minor": 2
}