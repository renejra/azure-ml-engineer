{
 "cells": [
  {
   "cell_type": "markdown",
   "source": [
    "# Automated ML\n",
    "\n",
    "In this notebook, we will use AutoML to train many different models and do hyperparameter tuning to give trading signals on Bitcoin price movements. To achieve this,\n",
    "\n",
    "We will start by importing necessary dependencies and setting up our AzureML workspace details, along with our experiment and environment. Detailed package dependencies can be found on the [`env.yml`](envs/env.yml). Use `conda install --file envs/env.yml` on your Terminal. We end this first part by creating the compute cluster we will use to train and tune out model."
   ],
   "metadata": {}
  },
  {
   "cell_type": "code",
   "source": [
    "from azureml.core import Workspace, Experiment, Environment, Datastore, Dataset\n",
    "from azureml.core.compute import ComputeTarget, AmlCompute\n",
    "from azureml.train.automl import AutoMLConfig\n",
    "from azureml.widgets import RunDetails\n",
    "\n",
    "import pandas as pd\n",
    "import joblib\n",
    "import os\n",
    "import requests"
   ],
   "outputs": [],
   "execution_count": 1,
   "metadata": {
    "collapsed": false,
    "pycharm": {
     "name": "#%%\n"
    },
    "gather": {
     "logged": 1645125254340
    }
   }
  },
  {
   "cell_type": "code",
   "source": [
    " # Setting up the workspace\n",
    "ws = Workspace.from_config()\n",
    "\n",
    "# Registering and building the environment (not needed in AutoML)\n",
    "env = Environment.from_conda_specification(name = \"azcapstone\", file_path = \"envs/env.yml\")\n",
    "env = env.register(workspace=ws)\n",
    "env_build = env.build(workspace=ws)\n",
    "\n",
    "# Setup the experiment\n",
    "exp_name = 'az-capstone-automl'\n",
    "exp=Experiment(ws, exp_name)\n",
    "\n",
    "# Enable logs\n",
    "run = exp.start_logging()"
   ],
   "outputs": [],
   "execution_count": 2,
   "metadata": {
    "collapsed": false,
    "pycharm": {
     "name": "#%%\n"
    },
    "gather": {
     "logged": 1645125261032
    }
   }
  },
  {
   "cell_type": "markdown",
   "source": [
    "We now deploy the necessary Compute Cluster, or check if there is already an existing one we can use."
   ],
   "metadata": {}
  },
  {
   "cell_type": "code",
   "source": [
    "# Setup the compute cluster\n",
    "compute_name = os.environ.get('CLUSTER_NAME', 'automl-cluster')\n",
    "compute_min_nodes = os.environ.get('CLUSTER_MIN_NODES', 0)\n",
    "compute_max_nodes = os.environ.get('CLUSTER_MAX_NODES', 4)\n",
    "vm_size = os.environ.get('CLUSTER_SKU', 'STANDARD_D2_V2')\n",
    "\n",
    "# Verify if the compute cluster exists\n",
    "if compute_name in ws.compute_targets:\n",
    "    compute_target = ws.compute_targets[compute_name]\n",
    "    if compute_target and type(compute_target) is AmlCompute:\n",
    "        print('found compute target. just use it. ' + compute_name)\n",
    "else:\n",
    "    print('creating a new compute target...')\n",
    "    provisioning_config = AmlCompute.provisioning_configuration(\n",
    "        vm_size=vm_size,\n",
    "        min_nodes=compute_min_nodes,\n",
    "        max_nodes=compute_max_nodes)\n",
    "\n",
    "    # create the cluster\n",
    "    compute_target = ComputeTarget.create(ws, compute_name, provisioning_config)\n",
    "\n",
    "    # poll for a minimum number of nodes and for a specific timeout.\n",
    "    # if no min node count is provided it will use the scale settings for the cluster\n",
    "    compute_target.wait_for_completion(show_output=True, min_node_count=None, timeout_in_minutes=20)\n",
    "\n",
    "     # For a more detailed view of current AmlCompute status, use get_status()\n",
    "    print(compute_target.get_status().serialize())"
   ],
   "outputs": [
    {
     "output_type": "stream",
     "name": "stdout",
     "text": "creating a new compute target...\nInProgress.\nSucceededProvisioning operation finished, operation \"Succeeded\"\nSucceeded\nAmlCompute wait for completion finished\n\nMinimum number of nodes requested have been provisioned\n{'currentNodeCount': 0, 'targetNodeCount': 0, 'nodeStateCounts': {'preparingNodeCount': 0, 'runningNodeCount': 0, 'idleNodeCount': 0, 'unusableNodeCount': 0, 'leavingNodeCount': 0, 'preemptedNodeCount': 0}, 'allocationState': 'Resizing', 'allocationStateTransitionTime': '2022-02-17T19:14:21.913000+00:00', 'errors': None, 'creationTime': '2022-02-17T19:14:21.510422+00:00', 'modifiedTime': '2022-02-17T19:14:25.164593+00:00', 'provisioningState': 'Succeeded', 'provisioningStateTransitionTime': None, 'scaleSettings': {'minNodeCount': 0, 'maxNodeCount': 4, 'nodeIdleTimeBeforeScaleDown': 'PT1800S'}, 'vmPriority': 'Dedicated', 'vmSize': 'STANDARD_D2_V2'}\n"
    }
   ],
   "execution_count": 3,
   "metadata": {
    "collapsed": false,
    "pycharm": {
     "name": "#%%\n"
    },
    "gather": {
     "logged": 1645125267237
    }
   }
  },
  {
   "cell_type": "markdown",
   "source": [
    "## Dataset\n",
    "\n",
    "### Overview\n",
    "\n",
    "The dataset we are using will be the one resulting from the [previous notebook](1-data-sourcing.ipynb) where\n",
    "we dug into data sourcing and did some processing prior this task. The dataset\n",
    "consists on financial data including OHLCV (open, high, low, close, volume) from diverse instruments (indices,\n",
    "commodities, interest rates...) and technical indicators (moving averages, RSI, standard deviation...), that we will\n",
    "use to create a ML-based trading model, that gives BUY, HOLD or SELL signals for Bitcoin trading.\n",
    "\n",
    "If you want to dig more into how the dataset looks like or\n",
    "into how the above-mentioned signals are generated, please refer to the \"labelling the data\" section of\n",
    "the [data sourcing notebook](1-data-sourcing.ipynb) or the latest  print view of the DataFrame's head and/or tail\n",
    "provided on the same file.\n",
    "\n",
    "The task we will be trying to solve is basically a **classification problem**.\n",
    "We are to predict whether the next-day, Bitcoin returns will be on the top 25% most positive returns (BUY, 1),\n",
    "the 25% most negative (SELL, -1), or somewhere in between (HOLD, 0).\n",
    "\n",
    "Since AutoML does grid search over features and normalization procedures, we will take joint, unaltered data as feed\n",
    "in to the model. What we will make is dropping the last features and labels that are not really needed for the task."
   ],
   "metadata": {
    "collapsed": false,
    "pycharm": {
     "name": "#%% md\n"
    }
   }
  },
  {
   "cell_type": "code",
   "source": [
    "# Access the data and drop unneeded columns for AutoML exercise\n",
    "df = pd.read_csv('data/df.csv')\n",
    "print('dataset shape: ', df.shape)\n",
    "print('columns:\\n', df.columns)"
   ],
   "outputs": [
    {
     "output_type": "stream",
     "name": "stdout",
     "text": "dataset shape:  (2703, 34)\ncolumns:\n Index(['Date', 'shangai', 'btc', 'crude oil', 'euro', 'gold', 'silver', 'ftse',\n       'spy', 'hsi', 'nasdaq', 'nikkei', 'rates', 'open', 'high', 'low', 'MA4',\n       'MA50', 'MA80', 'stochRSI', 'RSI', 'btc_std_dev', 'std_dif', 'vol_btc',\n       'hashrate', 'difficulty', 'transactions', 't_cost', 'y_returns',\n       'y_close', 'y_c', 'y_returns_shift', 'y_c_shift', 'y_close_shift'],\n      dtype='object')\n"
    }
   ],
   "execution_count": 4,
   "metadata": {
    "collapsed": false,
    "pycharm": {
     "name": "#%%\n"
    },
    "gather": {
     "logged": 1645125267513
    }
   }
  },
  {
   "cell_type": "code",
   "source": [
    "drop_col_list = ['y_close', 'y_close_shift', 'y_returns_shift'] # our label will be y_c_shift\n",
    "df.drop(columns=drop_col_list, inplace=True)"
   ],
   "outputs": [],
   "execution_count": 5,
   "metadata": {
    "collapsed": false,
    "pycharm": {
     "name": "#%%\n"
    },
    "gather": {
     "logged": 1645125267726
    }
   }
  },
  {
   "cell_type": "code",
   "source": [
    "# Register the dataset\n",
    "datastore = ws.get_default_datastore()\n",
    "dataset = Dataset.Tabular.register_pandas_dataframe(df, datastore, \"automl_dataset\", show_progress=True)\n",
    "df = dataset.to_pandas_dataframe()"
   ],
   "outputs": [
    {
     "output_type": "stream",
     "name": "stdout",
     "text": "Validating arguments.\nArguments validated.\nSuccessfully obtained datastore reference and path.\nUploading file to managed-dataset/7c945c1d-0df9-4610-b56f-475bc2355261/\nSuccessfully uploaded file to datastore.\nCreating and registering a new dataset.\nSuccessfully created and registered a new dataset.\n"
    }
   ],
   "execution_count": 6,
   "metadata": {
    "collapsed": false,
    "pycharm": {
     "name": "#%%\n"
    },
    "gather": {
     "logged": 1645125276303
    }
   }
  },
  {
   "cell_type": "markdown",
   "source": [
    "## AutoML Configuration\n",
    "\n",
    "Our AutoML run will have the classification task of predicting next day's buy, sell or hold label, or the column\n",
    "`y_c_shift`. Our primary metric will be accuracy, as we need a metric we can compare later with HyperDrive\n",
    "and considering that our problem doesn't have particular implications on false positives or negatives,\n",
    "that would make us opt for recall or precision instead.\n",
    " I'm also adding the automatic featurization, so\n",
    "AutoML takes care of necessary data transformations, trying out different methods.\n",
    "\n",
    "As timeout for this project I will use 30 minutes. The usage of VMs to access Azure on a limited time (1h) adds pressure\n",
    "on this metric. We also need time to analize results afterwards, so air time using the VM is important."
   ],
   "metadata": {}
  },
  {
   "cell_type": "code",
   "source": [
    "automl_settings = {\"featurization\": 'auto'}"
   ],
   "outputs": [],
   "execution_count": 7,
   "metadata": {
    "gather": {
     "logged": 1645125276531
    },
    "jupyter": {
     "outputs_hidden": false,
     "source_hidden": false
    },
    "nteract": {
     "transient": {
      "deleting": false
     }
    }
   }
  },
  {
   "cell_type": "code",
   "source": [
    "# Set parameters for AutoMLConfig\n",
    "automl_config = AutoMLConfig(\n",
    "    experiment_timeout_minutes=30,\n",
    "    task='classification',\n",
    "    primary_metric='accuracy',\n",
    "    training_data=df,\n",
    "    label_column_name='y_c_shift',\n",
    "    n_cross_validations=5,\n",
    "    **automl_settings)"
   ],
   "outputs": [],
   "execution_count": 8,
   "metadata": {
    "collapsed": false,
    "pycharm": {
     "name": "#%%\n"
    },
    "gather": {
     "logged": 1645125276782
    }
   }
  },
  {
   "cell_type": "code",
   "source": [
    "# Submit the experiment run\n",
    "automl_run = exp.submit(automl_config, show_output=True)\n",
    "automl_run.wait_for_completion(show_output=True)"
   ],
   "outputs": [
    {
     "output_type": "stream",
     "name": "stdout",
     "text": "No run_configuration provided, running on local with default configuration\nRunning in the active local environment.\n"
    },
    {
     "output_type": "stream",
     "name": "stderr",
     "text": "2022-02-17:19:14:59,929 INFO     [modeling_bert.py:226] Better speed can be achieved with apex installed from https://www.github.com/nvidia/apex .\n2022-02-17:19:14:59,936 INFO     [modeling_xlnet.py:339] Better speed can be achieved with apex installed from https://www.github.com/nvidia/apex .\n2022-02-17:19:15:36,12 INFO     [utils.py:159] NumExpr defaulting to 4 threads.\n"
    },
    {
     "output_type": "display_data",
     "data": {
      "text/plain": "<IPython.core.display.HTML object>",
      "text/html": "<table style=\"width:100%\"><tr><th>Experiment</th><th>Id</th><th>Type</th><th>Status</th><th>Details Page</th><th>Docs Page</th></tr><tr><td>az-capstone-automl</td><td>AutoML_480e612b-584b-4f21-aa42-0bff7fc5bfb1</td><td>automl</td><td>Preparing</td><td><a href=\"https://ml.azure.com/runs/AutoML_480e612b-584b-4f21-aa42-0bff7fc5bfb1?wsid=/subscriptions/2c48c51c-bd47-40d4-abbe-fb8eabd19c8c/resourcegroups/aml-quickstarts-186496/workspaces/quick-starts-ws-186496&amp;tid=660b3398-b80e-49d2-bc5b-ac1dc93b5254\" target=\"_blank\" rel=\"noopener\">Link to Azure Machine Learning studio</a></td><td><a href=\"https://docs.microsoft.com/en-us/python/api/overview/azure/ml/intro?view=azure-ml-py\" target=\"_blank\" rel=\"noopener\">Link to Documentation</a></td></tr></table>"
     },
     "metadata": {}
    },
    {
     "output_type": "stream",
     "name": "stdout",
     "text": "Current status: DatasetEvaluation. Gathering dataset statistics.\nCurrent status: FeaturesGeneration. Generating features for the dataset.\nCurrent status: DatasetFeaturization. Beginning to fit featurizers and featurize the dataset.\nCurrent status: DatasetFeaturizationCompleted. Completed fit featurizers and featurizing the dataset.\nCurrent status: DatasetCrossValidationSplit. Generating individually featurized CV splits.\n\n********************************************************************************************\nDATA GUARDRAILS: \n\nTYPE:         Class balancing detection\nSTATUS:       PASSED\nDESCRIPTION:  Your inputs were analyzed, and all classes are balanced in your training data.\n              Learn more about imbalanced data: https://aka.ms/AutomatedMLImbalancedData\n\n********************************************************************************************\n\nTYPE:         Missing feature values imputation\nSTATUS:       DONE\nDESCRIPTION:  If the missing values are expected, let the run complete. Otherwise cancel the current run and use a script to customize the handling of missing feature values that may be more appropriate based on the data type and business requirement.\n              Learn more about missing value imputation: https://aka.ms/AutomatedMLFeaturization\nDETAILS:      \n+------------------------------+------------------------------+------------------------------+\n|Column name                   |Missing value count           |Imputation type               |\n+==============================+==============================+==============================+\n|MA4                           |1                             |mean                          |\n|MA50                          |1                             |mean                          |\n|MA80                          |1                             |mean                          |\n|btc                           |1                             |mean                          |\n|crude oil                     |2                             |mean                          |\n|difficulty                    |1                             |mean                          |\n|euro                          |1                             |mean                          |\n|ftse                          |1                             |mean                          |\n|gold                          |1                             |mean                          |\n|hashrate                      |1                             |mean                          |\n|high                          |1                             |mean                          |\n|hsi                           |1                             |mean                          |\n|low                           |1                             |mean                          |\n|nasdaq                        |1                             |mean                          |\n|nikkei                        |1                             |mean                          |\n|open                          |1                             |mean                          |\n|rates                         |1                             |mean                          |\n|shangai                       |1                             |mean                          |\n|silver                        |1                             |mean                          |\n|spy                           |1                             |mean                          |\n|std_dif                       |1                             |mean                          |\n|t_cost                        |1                             |mean                          |\n|vol_btc                       |1                             |mean                          |\n+------------------------------+------------------------------+------------------------------+\n\n********************************************************************************************\n\nTYPE:         High cardinality feature detection\nSTATUS:       PASSED\nDESCRIPTION:  Your inputs were analyzed, and no high cardinality features were detected.\n              Learn more about high cardinality feature handling: https://aka.ms/AutomatedMLFeaturization\n\n********************************************************************************************\nCurrent status: ModelSelection. Beginning model selection.\n\n********************************************************************************************\nITER: The iteration being evaluated.\nPIPELINE: A summary description of the pipeline being evaluated.\nDURATION: Time taken for the current iteration.\nMETRIC: The result of computing score on the fitted pipeline.\nBEST: The best observed score thus far.\n********************************************************************************************\n\n ITER   PIPELINE                                       DURATION            METRIC      BEST\n    0   MaxAbsScaler LightGBM                          0:00:35             0.4935    0.4935\n    1   MaxAbsScaler XGBoostClassifier                 0:00:32             0.5050    0.5050\n    2   MaxAbsScaler ExtremeRandomTrees                0:00:26             0.4606    0.5050\n    3   SparseNormalizer XGBoostClassifier             0:00:27             0.5009    0.5050\n    4   StandardScalerWrapper KNN                      0:00:25             0.4724    0.5050\n    5   MaxAbsScaler LightGBM                          0:00:25             0.5072    0.5072\n    6   RobustScaler LogisticRegression                0:00:25             0.4776    0.5072\n    7   MaxAbsScaler LightGBM                          0:00:27             0.5009    0.5072\n    8   StandardScalerWrapper KNN                      0:00:25             0.4769    0.5072\n    9   StandardScalerWrapper SVM                      0:00:43             0.5142    0.5142\n   10   StandardScalerWrapper XGBoostClassifier        0:00:26             0.5061    0.5142\n   11   MinMaxScaler RandomForest                      0:00:28             0.4499    0.5142\n   12   StandardScalerWrapper LogisticRegression       0:00:24             0.5139    0.5142\n   13   StandardScalerWrapper KNN                      0:00:25             0.4969    0.5142\n   14   RobustScaler KNN                               0:00:25             0.4636    0.5142\n   15   MinMaxScaler KNN                               0:00:24             0.4739    0.5142\n   16   SparseNormalizer KNN                           0:00:25             0.4773    0.5142\n   17   MaxAbsScaler LogisticRegression                0:00:26             0.5116    0.5142\n   18   StandardScalerWrapper XGBoostClassifier        0:00:25             0.5120    0.5142\n   19   StandardScalerWrapper XGBoostClassifier        0:00:29             0.5098    0.5142\n   20   MaxAbsScaler LogisticRegression                0:00:25             0.5146    0.5146\n   21   StandardScalerWrapper XGBoostClassifier        0:00:27             0.4976    0.5146\n   22   StandardScalerWrapper XGBoostClassifier        0:00:28             0.5006    0.5146\n   23   SparseNormalizer XGBoostClassifier             0:00:29             0.5002    0.5146\n   24   RobustScaler ExtremeRandomTrees                0:00:26             0.4998    0.5146\n   25   MinMaxScaler LogisticRegression                0:00:24             0.4995    0.5146\n   26   MinMaxScaler LightGBM                          0:00:27             0.5065    0.5146\n   27   StandardScalerWrapper ExtremeRandomTrees       0:00:27             0.5009    0.5146\n   28   MaxAbsScaler LightGBM                          0:00:24             0.5006    0.5146\n   29   SparseNormalizer LightGBM                      0:00:25             0.5013    0.5146\n   30   MaxAbsScaler LogisticRegression                0:00:24             0.4995    0.5146\n   31   VotingEnsemble                                 0:00:25             0.5183    0.5183\n   32   StackEnsemble                                  0:00:38             0.5153    0.5183\nStopping criteria reached at iteration 33. Ending experiment.\n********************************************************************************************\nCurrent status: BestRunExplainModel. Best run model explanations started\nCurrent status: ModelExplanationDataSetSetup. Model explanations data setup completed\nCurrent status: PickSurrogateModel. Choosing LightGBM as the surrogate model for explanations\nCurrent status: EngineeredFeatureExplanations. Computation of engineered features started\nCurrent status: EngineeredFeatureExplanations. Computation of engineered features completed\nCurrent status: RawFeaturesExplanations. Computation of raw features started\nCurrent status: RawFeaturesExplanations. Computation of raw features completed\nCurrent status: BestRunExplainModel. Best run model explanations completed\n********************************************************************************************\n"
    },
    {
     "output_type": "stream",
     "name": "stderr",
     "text": "2022-02-17:19:33:48,282 INFO     [explanation_client.py:334] Using default datastore for uploads\n"
    },
    {
     "output_type": "display_data",
     "data": {
      "text/plain": "<IPython.core.display.HTML object>",
      "text/html": "<table style=\"width:100%\"><tr><th>Experiment</th><th>Id</th><th>Type</th><th>Status</th><th>Details Page</th><th>Docs Page</th></tr><tr><td>az-capstone-automl</td><td>AutoML_480e612b-584b-4f21-aa42-0bff7fc5bfb1</td><td>automl</td><td>Completed</td><td><a href=\"https://ml.azure.com/runs/AutoML_480e612b-584b-4f21-aa42-0bff7fc5bfb1?wsid=/subscriptions/2c48c51c-bd47-40d4-abbe-fb8eabd19c8c/resourcegroups/aml-quickstarts-186496/workspaces/quick-starts-ws-186496&amp;tid=660b3398-b80e-49d2-bc5b-ac1dc93b5254\" target=\"_blank\" rel=\"noopener\">Link to Azure Machine Learning studio</a></td><td><a href=\"https://docs.microsoft.com/en-us/python/api/overview/azure/ml/intro?view=azure-ml-py\" target=\"_blank\" rel=\"noopener\">Link to Documentation</a></td></tr></table>"
     },
     "metadata": {}
    },
    {
     "output_type": "stream",
     "name": "stdout",
     "text": "\n\n********************************************************************************************\nDATA GUARDRAILS: \n\nTYPE:         Class balancing detection\nSTATUS:       PASSED\nDESCRIPTION:  Your inputs were analyzed, and all classes are balanced in your training data.\n              Learn more about imbalanced data: https://aka.ms/AutomatedMLImbalancedData\n\n********************************************************************************************\n\nTYPE:         Missing feature values imputation\nSTATUS:       DONE\nDESCRIPTION:  If the missing values are expected, let the run complete. Otherwise cancel the current run and use a script to customize the handling of missing feature values that may be more appropriate based on the data type and business requirement.\n              Learn more about missing value imputation: https://aka.ms/AutomatedMLFeaturization\nDETAILS:      \n+------------------------------+------------------------------+------------------------------+\n|Column name                   |Missing value count           |Imputation type               |\n+==============================+==============================+==============================+\n|MA4                           |1                             |mean                          |\n|MA50                          |1                             |mean                          |\n|MA80                          |1                             |mean                          |\n|btc                           |1                             |mean                          |\n|crude oil                     |2                             |mean                          |\n|difficulty                    |1                             |mean                          |\n|euro                          |1                             |mean                          |\n|ftse                          |1                             |mean                          |\n|gold                          |1                             |mean                          |\n|hashrate                      |1                             |mean                          |\n|high                          |1                             |mean                          |\n|hsi                           |1                             |mean                          |\n|low                           |1                             |mean                          |\n|nasdaq                        |1                             |mean                          |\n|nikkei                        |1                             |mean                          |\n|open                          |1                             |mean                          |\n|rates                         |1                             |mean                          |\n|shangai                       |1                             |mean                          |\n|silver                        |1                             |mean                          |\n|spy                           |1                             |mean                          |\n|std_dif                       |1                             |mean                          |\n|t_cost                        |1                             |mean                          |\n|vol_btc                       |1                             |mean                          |\n+------------------------------+------------------------------+------------------------------+\n\n********************************************************************************************\n\nTYPE:         High cardinality feature detection\nSTATUS:       PASSED\nDESCRIPTION:  Your inputs were analyzed, and no high cardinality features were detected.\n              Learn more about high cardinality feature handling: https://aka.ms/AutomatedMLFeaturization\n\n********************************************************************************************\n\n********************************************************************************************\nITER: The iteration being evaluated.\nPIPELINE: A summary description of the pipeline being evaluated.\nDURATION: Time taken for the current iteration.\nMETRIC: The result of computing score on the fitted pipeline.\nBEST: The best observed score thus far.\n********************************************************************************************\n\n ITER   PIPELINE                                       DURATION            METRIC      BEST\n    0   MaxAbsScaler LightGBM                          0:00:35             0.4935    0.4935\n    1   MaxAbsScaler XGBoostClassifier                 0:00:33             0.5050    0.5050\n    2   MaxAbsScaler ExtremeRandomTrees                0:00:26             0.4606    0.5050\n    3   SparseNormalizer XGBoostClassifier             0:00:27             0.5009    0.5050\n    4   StandardScalerWrapper KNN                      0:00:25             0.4724    0.5050\n    5   MaxAbsScaler LightGBM                          0:00:25             0.5072    0.5072\n    6   RobustScaler LogisticRegression                0:00:26             0.4776    0.5072\n    7   MaxAbsScaler LightGBM                          0:00:27             0.5009    0.5072\n    8   StandardScalerWrapper KNN                      0:00:25             0.4769    0.5072\n    9   StandardScalerWrapper SVM                      0:00:44             0.5142    0.5142\n   10   StandardScalerWrapper XGBoostClassifier        0:00:26             0.5061    0.5142\n   11   MinMaxScaler RandomForest                      0:00:28             0.4499    0.5142\n   12   StandardScalerWrapper LogisticRegression       0:00:25             0.5139    0.5142\n   13   StandardScalerWrapper KNN                      0:00:25             0.4969    0.5142\n   14   RobustScaler KNN                               0:00:25             0.4636    0.5142\n   15   MinMaxScaler KNN                               0:00:25             0.4739    0.5142\n   16   SparseNormalizer KNN                           0:00:25             0.4773    0.5142\n   17   MaxAbsScaler LogisticRegression                0:00:27             0.5116    0.5142\n   18   StandardScalerWrapper XGBoostClassifier        0:00:25             0.5120    0.5142\n   19   StandardScalerWrapper XGBoostClassifier        0:00:29             0.5098    0.5142\n   20   MaxAbsScaler LogisticRegression                0:00:26             0.5146    0.5146\n   21   StandardScalerWrapper XGBoostClassifier        0:00:28             0.4976    0.5146\n   22   StandardScalerWrapper XGBoostClassifier        0:00:29             0.5006    0.5146\n   23   SparseNormalizer XGBoostClassifier             0:00:29             0.5002    0.5146\n   24   RobustScaler ExtremeRandomTrees                0:00:27             0.4998    0.5146\n   25   MinMaxScaler LogisticRegression                0:00:24             0.4995    0.5146\n   26   MinMaxScaler LightGBM                          0:00:28             0.5065    0.5146\n   27   StandardScalerWrapper ExtremeRandomTrees       0:00:28             0.5009    0.5146\n   28   MaxAbsScaler LightGBM                          0:00:25             0.5006    0.5146\n   29   SparseNormalizer LightGBM                      0:00:25             0.5013    0.5146\n   30   MaxAbsScaler LogisticRegression                0:00:24             0.4995    0.5146\n   31    VotingEnsemble                                0:00:26             0.5183    0.5183\n   32    StackEnsemble                                 0:00:38             0.5153    0.5183\n"
    },
    {
     "output_type": "execute_result",
     "execution_count": 9,
     "data": {
      "text/plain": "{'runId': 'AutoML_480e612b-584b-4f21-aa42-0bff7fc5bfb1',\n 'target': 'local',\n 'status': 'Completed',\n 'startTimeUtc': '2022-02-17T19:15:37.901974Z',\n 'endTimeUtc': '2022-02-17T19:31:51.722752Z',\n 'services': {},\n 'warnings': [{'source': 'JasmineService',\n   'message': 'No scores improved over last 20 iterations, so experiment stopped early. This early stopping behavior can be disabled by setting enable_early_stopping = False in AutoMLConfig for notebook/python SDK runs.'}],\n 'properties': {'num_iterations': '1000',\n  'training_type': 'TrainFull',\n  'acquisition_function': 'EI',\n  'primary_metric': 'accuracy',\n  'train_split': '0',\n  'acquisition_parameter': '0',\n  'num_cross_validation': '5',\n  'target': 'local',\n  'AMLSettingsJsonString': '{\"path\":null,\"name\":\"az-capstone-automl\",\"subscription_id\":\"2c48c51c-bd47-40d4-abbe-fb8eabd19c8c\",\"resource_group\":\"aml-quickstarts-186496\",\"workspace_name\":\"quick-starts-ws-186496\",\"region\":\"southcentralus\",\"compute_target\":\"local\",\"spark_service\":null,\"azure_service\":\"Microsoft.AzureNotebookVM\",\"many_models\":false,\"pipeline_fetch_max_batch_size\":1,\"enable_batch_run\":false,\"enable_run_restructure\":false,\"start_auxiliary_runs_before_parent_complete\":false,\"enable_code_generation\":false,\"iterations\":1000,\"primary_metric\":\"accuracy\",\"task_type\":\"classification\",\"positive_label\":null,\"data_script\":null,\"test_size\":0.0,\"test_include_predictions_only\":false,\"validation_size\":0.0,\"n_cross_validations\":5,\"y_min\":null,\"y_max\":null,\"num_classes\":null,\"featurization\":\"auto\",\"_ignore_package_version_incompatibilities\":false,\"is_timeseries\":false,\"max_cores_per_iteration\":1,\"max_concurrent_iterations\":1,\"iteration_timeout_minutes\":null,\"mem_in_mb\":null,\"enforce_time_on_windows\":false,\"experiment_timeout_minutes\":30,\"experiment_exit_score\":null,\"whitelist_models\":null,\"blacklist_algos\":[\"TensorFlowLinearClassifier\",\"TensorFlowDNN\"],\"supported_models\":[\"MultinomialNaiveBayes\",\"XGBoostClassifier\",\"TensorFlowLinearClassifier\",\"TensorFlowDNN\",\"LinearSVM\",\"KNN\",\"DecisionTree\",\"TabnetClassifier\",\"ExtremeRandomTrees\",\"BernoulliNaiveBayes\",\"LogisticRegression\",\"RandomForest\",\"SGD\",\"SVM\",\"GradientBoosting\",\"AveragedPerceptronClassifier\",\"LightGBM\"],\"private_models\":[],\"auto_blacklist\":true,\"blacklist_samples_reached\":false,\"exclude_nan_labels\":true,\"verbosity\":20,\"_debug_log\":\"automl.log\",\"show_warnings\":false,\"model_explainability\":true,\"service_url\":null,\"sdk_url\":null,\"sdk_packages\":null,\"enable_onnx_compatible_models\":false,\"enable_split_onnx_featurizer_estimator_models\":false,\"vm_type\":null,\"telemetry_verbosity\":20,\"send_telemetry\":true,\"enable_dnn\":false,\"scenario\":\"SDK-1.13.0\",\"environment_label\":null,\"save_mlflow\":false,\"enable_categorical_indicators\":false,\"force_text_dnn\":false,\"enable_feature_sweeping\":true,\"enable_early_stopping\":true,\"early_stopping_n_iters\":10,\"arguments\":null,\"dataset_id\":null,\"hyperdrive_config\":null,\"validation_dataset_id\":null,\"run_source\":null,\"metrics\":null,\"enable_metric_confidence\":false,\"enable_ensembling\":true,\"enable_stack_ensembling\":true,\"ensemble_iterations\":15,\"enable_tf\":false,\"enable_subsampling\":null,\"subsample_seed\":null,\"enable_nimbusml\":false,\"enable_streaming\":false,\"force_streaming\":false,\"track_child_runs\":true,\"allowed_private_models\":[],\"label_column_name\":\"y_c_shift\",\"weight_column_name\":null,\"cv_split_column_names\":null,\"enable_local_managed\":false,\"_local_managed_run_id\":null,\"cost_mode\":1,\"lag_length\":0,\"metric_operation\":\"maximize\",\"preprocess\":true}',\n  'DataPrepJsonString': None,\n  'EnableSubsampling': None,\n  'runTemplate': 'AutoML',\n  'azureml.runsource': 'automl',\n  'display_task_type': 'classification',\n  'dependencies_versions': '{\"azureml-widgets\": \"1.38.0\", \"azureml-train\": \"1.38.0\", \"azureml-train-restclients-hyperdrive\": \"1.38.0\", \"azureml-train-core\": \"1.38.0\", \"azureml-train-automl\": \"1.38.0\", \"azureml-train-automl-runtime\": \"1.38.0\", \"azureml-train-automl-client\": \"1.38.0\", \"azureml-tensorboard\": \"1.38.0\", \"azureml-telemetry\": \"1.38.0\", \"azureml-sdk\": \"1.38.0\", \"azureml-responsibleai\": \"1.38.0\", \"azureml-pipeline\": \"1.38.0\", \"azureml-pipeline-steps\": \"1.38.0\", \"azureml-pipeline-core\": \"1.38.0\", \"azureml-opendatasets\": \"1.38.0\", \"azureml-mlflow\": \"1.38.0\", \"azureml-interpret\": \"1.38.0\", \"azureml-inference-server-http\": \"0.4.2\", \"azureml-explain-model\": \"1.38.0\", \"azureml-defaults\": \"1.38.0\", \"azureml-dataset-runtime\": \"1.38.0\", \"azureml-dataprep\": \"2.26.0\", \"azureml-dataprep-rslex\": \"2.2.0\", \"azureml-dataprep-native\": \"38.0.0\", \"azureml-datadrift\": \"1.38.0\", \"azureml-core\": \"1.38.0\", \"azureml-contrib-services\": \"1.38.0\", \"azureml-contrib-server\": \"1.38.0\", \"azureml-contrib-reinforcementlearning\": \"1.38.0\", \"azureml-contrib-pipeline-steps\": \"1.38.0\", \"azureml-contrib-notebook\": \"1.38.0\", \"azureml-contrib-fairness\": \"1.38.0\", \"azureml-contrib-dataset\": \"1.38.0\", \"azureml-contrib-automl-pipeline-steps\": \"1.38.0\", \"azureml-cli-common\": \"1.38.0\", \"azureml-automl-runtime\": \"1.38.0\", \"azureml-automl-dnn-nlp\": \"1.38.0\", \"azureml-automl-core\": \"1.38.0\", \"azureml-accel-models\": \"1.38.0\"}',\n  '_aml_system_scenario_identification': 'Local.Parent',\n  'ClientSdkVersion': '1.38.0',\n  'ClientType': 'SDK',\n  'environment_cpu_name': 'AzureML-AutoML',\n  'environment_cpu_label': 'py36',\n  'environment_gpu_name': 'AzureML-AutoML-GPU',\n  'environment_gpu_label': 'py36',\n  'root_attribution': 'automl',\n  'attribution': 'AutoML',\n  'Orchestrator': 'AutoML',\n  '_azureml.ComputeTargetType': 'local',\n  'ProblemInfoJsonString': '{\"dataset_num_categorical\": 0, \"is_sparse\": false, \"subsampling\": false, \"has_extra_col\": true, \"dataset_classes\": 3, \"dataset_features\": 38, \"dataset_samples\": 2703, \"single_frequency_class_detected\": false}',\n  'model_output_path': '',\n  'azureml.git.repository_uri': 'https://github.com/renejra/azure-ml-engineer.git',\n  'mlflow.source.git.repoURL': 'https://github.com/renejra/azure-ml-engineer.git',\n  'azureml.git.branch': 'capstone-remote',\n  'mlflow.source.git.branch': 'capstone-remote',\n  'azureml.git.commit': '71bdc4f3d6679624190e905c87534053fd99515d',\n  'mlflow.source.git.commit': '71bdc4f3d6679624190e905c87534053fd99515d',\n  'azureml.git.dirty': 'True'},\n 'inputDatasets': [],\n 'outputDatasets': [],\n 'logFiles': {},\n 'submittedBy': 'ODL_User 186496'}"
     },
     "metadata": {}
    }
   ],
   "execution_count": 9,
   "metadata": {
    "collapsed": false,
    "pycharm": {
     "name": "#%%\n"
    },
    "gather": {
     "logged": 1645126863841
    }
   }
  },
  {
   "cell_type": "markdown",
   "source": [
    "## Run Details\n",
    "\n",
    "By using the RunDetails widget, we can appreciate different experiments metrics.\n",
    "\n",
    "OPTIONAL: Write about the different models trained and their performance.\n",
    "Why do you think some models did better than others?"
   ],
   "metadata": {}
  },
  {
   "cell_type": "code",
   "source": [
    "RunDetails(automl_run).show()"
   ],
   "outputs": [
    {
     "output_type": "display_data",
     "data": {
      "text/plain": "_AutoMLWidget(widget_settings={'childWidgetDisplay': 'popup', 'send_telemetry': False, 'log_level': 'INFO', 's…",
      "application/vnd.jupyter.widget-view+json": {
       "version_major": 2,
       "version_minor": 0,
       "model_id": "6919cd4619b445438d9f2a862b4cbad7"
      }
     },
     "metadata": {}
    },
    {
     "output_type": "display_data",
     "data": {
      "application/aml.mini.widget.v1": "{\"status\": \"Completed\", \"workbench_run_details_uri\": \"https://ml.azure.com/runs/AutoML_480e612b-584b-4f21-aa42-0bff7fc5bfb1?wsid=/subscriptions/2c48c51c-bd47-40d4-abbe-fb8eabd19c8c/resourcegroups/aml-quickstarts-186496/workspaces/quick-starts-ws-186496&tid=660b3398-b80e-49d2-bc5b-ac1dc93b5254\", \"run_id\": \"AutoML_480e612b-584b-4f21-aa42-0bff7fc5bfb1\", \"run_properties\": {\"run_id\": \"AutoML_480e612b-584b-4f21-aa42-0bff7fc5bfb1\", \"created_utc\": \"2022-02-17T19:15:37.429357Z\", \"properties\": {\"num_iterations\": \"1000\", \"training_type\": \"TrainFull\", \"acquisition_function\": \"EI\", \"primary_metric\": \"accuracy\", \"train_split\": \"0\", \"acquisition_parameter\": \"0\", \"num_cross_validation\": \"5\", \"target\": \"local\", \"AMLSettingsJsonString\": \"{\\\"path\\\":null,\\\"name\\\":\\\"az-capstone-automl\\\",\\\"subscription_id\\\":\\\"2c48c51c-bd47-40d4-abbe-fb8eabd19c8c\\\",\\\"resource_group\\\":\\\"aml-quickstarts-186496\\\",\\\"workspace_name\\\":\\\"quick-starts-ws-186496\\\",\\\"region\\\":\\\"southcentralus\\\",\\\"compute_target\\\":\\\"local\\\",\\\"spark_service\\\":null,\\\"azure_service\\\":\\\"Microsoft.AzureNotebookVM\\\",\\\"many_models\\\":false,\\\"pipeline_fetch_max_batch_size\\\":1,\\\"enable_batch_run\\\":false,\\\"enable_run_restructure\\\":false,\\\"start_auxiliary_runs_before_parent_complete\\\":false,\\\"enable_code_generation\\\":false,\\\"iterations\\\":1000,\\\"primary_metric\\\":\\\"accuracy\\\",\\\"task_type\\\":\\\"classification\\\",\\\"positive_label\\\":null,\\\"data_script\\\":null,\\\"test_size\\\":0.0,\\\"test_include_predictions_only\\\":false,\\\"validation_size\\\":0.0,\\\"n_cross_validations\\\":5,\\\"y_min\\\":null,\\\"y_max\\\":null,\\\"num_classes\\\":null,\\\"featurization\\\":\\\"auto\\\",\\\"_ignore_package_version_incompatibilities\\\":false,\\\"is_timeseries\\\":false,\\\"max_cores_per_iteration\\\":1,\\\"max_concurrent_iterations\\\":1,\\\"iteration_timeout_minutes\\\":null,\\\"mem_in_mb\\\":null,\\\"enforce_time_on_windows\\\":false,\\\"experiment_timeout_minutes\\\":30,\\\"experiment_exit_score\\\":null,\\\"whitelist_models\\\":null,\\\"blacklist_algos\\\":[\\\"TensorFlowLinearClassifier\\\",\\\"TensorFlowDNN\\\"],\\\"supported_models\\\":[\\\"MultinomialNaiveBayes\\\",\\\"XGBoostClassifier\\\",\\\"TensorFlowLinearClassifier\\\",\\\"TensorFlowDNN\\\",\\\"LinearSVM\\\",\\\"KNN\\\",\\\"DecisionTree\\\",\\\"TabnetClassifier\\\",\\\"ExtremeRandomTrees\\\",\\\"BernoulliNaiveBayes\\\",\\\"LogisticRegression\\\",\\\"RandomForest\\\",\\\"SGD\\\",\\\"SVM\\\",\\\"GradientBoosting\\\",\\\"AveragedPerceptronClassifier\\\",\\\"LightGBM\\\"],\\\"private_models\\\":[],\\\"auto_blacklist\\\":true,\\\"blacklist_samples_reached\\\":false,\\\"exclude_nan_labels\\\":true,\\\"verbosity\\\":20,\\\"_debug_log\\\":\\\"automl.log\\\",\\\"show_warnings\\\":false,\\\"model_explainability\\\":true,\\\"service_url\\\":null,\\\"sdk_url\\\":null,\\\"sdk_packages\\\":null,\\\"enable_onnx_compatible_models\\\":false,\\\"enable_split_onnx_featurizer_estimator_models\\\":false,\\\"vm_type\\\":null,\\\"telemetry_verbosity\\\":20,\\\"send_telemetry\\\":true,\\\"enable_dnn\\\":false,\\\"scenario\\\":\\\"SDK-1.13.0\\\",\\\"environment_label\\\":null,\\\"save_mlflow\\\":false,\\\"enable_categorical_indicators\\\":false,\\\"force_text_dnn\\\":false,\\\"enable_feature_sweeping\\\":true,\\\"enable_early_stopping\\\":true,\\\"early_stopping_n_iters\\\":10,\\\"arguments\\\":null,\\\"dataset_id\\\":null,\\\"hyperdrive_config\\\":null,\\\"validation_dataset_id\\\":null,\\\"run_source\\\":null,\\\"metrics\\\":null,\\\"enable_metric_confidence\\\":false,\\\"enable_ensembling\\\":true,\\\"enable_stack_ensembling\\\":true,\\\"ensemble_iterations\\\":15,\\\"enable_tf\\\":false,\\\"enable_subsampling\\\":null,\\\"subsample_seed\\\":null,\\\"enable_nimbusml\\\":false,\\\"enable_streaming\\\":false,\\\"force_streaming\\\":false,\\\"track_child_runs\\\":true,\\\"allowed_private_models\\\":[],\\\"label_column_name\\\":\\\"y_c_shift\\\",\\\"weight_column_name\\\":null,\\\"cv_split_column_names\\\":null,\\\"enable_local_managed\\\":false,\\\"_local_managed_run_id\\\":null,\\\"cost_mode\\\":1,\\\"lag_length\\\":0,\\\"metric_operation\\\":\\\"maximize\\\",\\\"preprocess\\\":true}\", \"DataPrepJsonString\": null, \"EnableSubsampling\": null, \"runTemplate\": \"AutoML\", \"azureml.runsource\": \"automl\", \"display_task_type\": \"classification\", \"dependencies_versions\": \"{\\\"azureml-widgets\\\": \\\"1.38.0\\\", \\\"azureml-train\\\": \\\"1.38.0\\\", \\\"azureml-train-restclients-hyperdrive\\\": \\\"1.38.0\\\", \\\"azureml-train-core\\\": \\\"1.38.0\\\", \\\"azureml-train-automl\\\": \\\"1.38.0\\\", \\\"azureml-train-automl-runtime\\\": \\\"1.38.0\\\", \\\"azureml-train-automl-client\\\": \\\"1.38.0\\\", \\\"azureml-tensorboard\\\": \\\"1.38.0\\\", \\\"azureml-telemetry\\\": \\\"1.38.0\\\", \\\"azureml-sdk\\\": \\\"1.38.0\\\", \\\"azureml-responsibleai\\\": \\\"1.38.0\\\", \\\"azureml-pipeline\\\": \\\"1.38.0\\\", \\\"azureml-pipeline-steps\\\": \\\"1.38.0\\\", \\\"azureml-pipeline-core\\\": \\\"1.38.0\\\", \\\"azureml-opendatasets\\\": \\\"1.38.0\\\", \\\"azureml-mlflow\\\": \\\"1.38.0\\\", \\\"azureml-interpret\\\": \\\"1.38.0\\\", \\\"azureml-inference-server-http\\\": \\\"0.4.2\\\", \\\"azureml-explain-model\\\": \\\"1.38.0\\\", \\\"azureml-defaults\\\": \\\"1.38.0\\\", \\\"azureml-dataset-runtime\\\": \\\"1.38.0\\\", \\\"azureml-dataprep\\\": \\\"2.26.0\\\", \\\"azureml-dataprep-rslex\\\": \\\"2.2.0\\\", \\\"azureml-dataprep-native\\\": \\\"38.0.0\\\", \\\"azureml-datadrift\\\": \\\"1.38.0\\\", \\\"azureml-core\\\": \\\"1.38.0\\\", \\\"azureml-contrib-services\\\": \\\"1.38.0\\\", \\\"azureml-contrib-server\\\": \\\"1.38.0\\\", \\\"azureml-contrib-reinforcementlearning\\\": \\\"1.38.0\\\", \\\"azureml-contrib-pipeline-steps\\\": \\\"1.38.0\\\", \\\"azureml-contrib-notebook\\\": \\\"1.38.0\\\", \\\"azureml-contrib-fairness\\\": \\\"1.38.0\\\", \\\"azureml-contrib-dataset\\\": \\\"1.38.0\\\", \\\"azureml-contrib-automl-pipeline-steps\\\": \\\"1.38.0\\\", \\\"azureml-cli-common\\\": \\\"1.38.0\\\", \\\"azureml-automl-runtime\\\": \\\"1.38.0\\\", \\\"azureml-automl-dnn-nlp\\\": \\\"1.38.0\\\", \\\"azureml-automl-core\\\": \\\"1.38.0\\\", \\\"azureml-accel-models\\\": \\\"1.38.0\\\"}\", \"_aml_system_scenario_identification\": \"Local.Parent\", \"ClientSdkVersion\": \"1.38.0\", \"ClientType\": \"SDK\", \"environment_cpu_name\": \"AzureML-AutoML\", \"environment_cpu_label\": \"py36\", \"environment_gpu_name\": \"AzureML-AutoML-GPU\", \"environment_gpu_label\": \"py36\", \"root_attribution\": \"automl\", \"attribution\": \"AutoML\", \"Orchestrator\": \"AutoML\", \"_azureml.ComputeTargetType\": \"local\", \"ProblemInfoJsonString\": \"{\\\"dataset_num_categorical\\\": 0, \\\"is_sparse\\\": false, \\\"subsampling\\\": false, \\\"has_extra_col\\\": true, \\\"dataset_classes\\\": 3, \\\"dataset_features\\\": 38, \\\"dataset_samples\\\": 2703, \\\"single_frequency_class_detected\\\": false}\", \"model_output_path\": \"\", \"azureml.git.repository_uri\": \"https://github.com/renejra/azure-ml-engineer.git\", \"mlflow.source.git.repoURL\": \"https://github.com/renejra/azure-ml-engineer.git\", \"azureml.git.branch\": \"capstone-remote\", \"mlflow.source.git.branch\": \"capstone-remote\", \"azureml.git.commit\": \"71bdc4f3d6679624190e905c87534053fd99515d\", \"mlflow.source.git.commit\": \"71bdc4f3d6679624190e905c87534053fd99515d\", \"azureml.git.dirty\": \"True\"}, \"tags\": {\"model_explain_run\": \"best_run\", \"best_score\": \"0.518312452933525\", \"best_pipeline\": \"VotingEnsemble\", \"automl_best_child_run_id\": \"AutoML_480e612b-584b-4f21-aa42-0bff7fc5bfb1_31\", \"model_explain_best_run_child_id\": \"AutoML_480e612b-584b-4f21-aa42-0bff7fc5bfb1_31\"}, \"end_time_utc\": \"2022-02-17T19:31:51.722752Z\", \"status\": \"Completed\", \"log_files\": {}, \"log_groups\": [], \"run_duration\": \"0:16:14\", \"run_number\": \"1645125337\", \"run_queued_details\": {\"status\": \"Completed\", \"details\": null}}, \"child_runs\": [{\"run_id\": \"AutoML_480e612b-584b-4f21-aa42-0bff7fc5bfb1_0\", \"run_number\": 1645125355, \"metric\": null, \"status\": \"Completed\", \"run_type\": null, \"training_percent\": \"100\", \"start_time\": \"2022-02-17T19:15:55.114226Z\", \"end_time\": \"2022-02-17T19:16:30.523499Z\", \"created_time\": \"2022-02-17T19:15:55.008407Z\", \"created_time_dt\": \"2022-02-17T19:15:55.008407Z\", \"duration\": \"0:00:35\", \"iteration\": \"0\", \"goal\": \"accuracy_max\", \"run_name\": \"MaxAbsScaler, LightGBM\", \"run_properties\": \"copy=True\", \"primary_metric\": 0.49351955, \"best_metric\": 0.49351955}, {\"run_id\": \"AutoML_480e612b-584b-4f21-aa42-0bff7fc5bfb1_1\", \"run_number\": 1645125390, \"metric\": null, \"status\": \"Completed\", \"run_type\": null, \"training_percent\": \"100\", \"start_time\": \"2022-02-17T19:16:30.830807Z\", \"end_time\": \"2022-02-17T19:17:03.613082Z\", \"created_time\": \"2022-02-17T19:16:30.733387Z\", \"created_time_dt\": \"2022-02-17T19:16:30.733387Z\", \"duration\": \"0:00:32\", \"iteration\": \"1\", \"goal\": \"accuracy_max\", \"run_name\": \"MaxAbsScaler, XGBoostClassifier\", \"run_properties\": \"copy=True\", \"primary_metric\": 0.50499555, \"best_metric\": 0.50499555}, {\"run_id\": \"AutoML_480e612b-584b-4f21-aa42-0bff7fc5bfb1_2\", \"run_number\": 1645125424, \"metric\": null, \"status\": \"Completed\", \"run_type\": null, \"training_percent\": \"100\", \"start_time\": \"2022-02-17T19:17:04.340979Z\", \"end_time\": \"2022-02-17T19:17:30.489844Z\", \"created_time\": \"2022-02-17T19:17:04.225602Z\", \"created_time_dt\": \"2022-02-17T19:17:04.225602Z\", \"duration\": \"0:00:26\", \"iteration\": \"2\", \"goal\": \"accuracy_max\", \"run_name\": \"MaxAbsScaler, ExtremeRandomTrees\", \"run_properties\": \"copy=True\", \"primary_metric\": 0.46058328, \"best_metric\": 0.50499555}, {\"run_id\": \"AutoML_480e612b-584b-4f21-aa42-0bff7fc5bfb1_3\", \"run_number\": 1645125451, \"metric\": null, \"status\": \"Completed\", \"run_type\": null, \"training_percent\": \"100\", \"start_time\": \"2022-02-17T19:17:31.835424Z\", \"end_time\": \"2022-02-17T19:17:58.711519Z\", \"created_time\": \"2022-02-17T19:17:31.717662Z\", \"created_time_dt\": \"2022-02-17T19:17:31.717662Z\", \"duration\": \"0:00:26\", \"iteration\": \"3\", \"goal\": \"accuracy_max\", \"run_name\": \"SparseNormalizer, XGBoostClassifier\", \"run_properties\": \"copy=True, norm='l2'\", \"primary_metric\": 0.50091737, \"best_metric\": 0.50499555}, {\"run_id\": \"AutoML_480e612b-584b-4f21-aa42-0bff7fc5bfb1_4\", \"run_number\": 1645125479, \"metric\": null, \"status\": \"Completed\", \"run_type\": null, \"training_percent\": \"100\", \"start_time\": \"2022-02-17T19:17:59.969503Z\", \"end_time\": \"2022-02-17T19:18:24.911375Z\", \"created_time\": \"2022-02-17T19:17:59.869456Z\", \"created_time_dt\": \"2022-02-17T19:17:59.869456Z\", \"duration\": \"0:00:25\", \"iteration\": \"4\", \"goal\": \"accuracy_max\", \"run_name\": \"StandardScalerWrapper, KNN\", \"run_properties\": \"\\n    copy=True,\\n    with_mean=False,\\n    with_std=False\\n\", \"primary_metric\": 0.47244061, \"best_metric\": 0.50499555}, {\"run_id\": \"AutoML_480e612b-584b-4f21-aa42-0bff7fc5bfb1_5\", \"run_number\": 1645125506, \"metric\": null, \"status\": \"Completed\", \"run_type\": null, \"training_percent\": \"100\", \"start_time\": \"2022-02-17T19:18:26.224522Z\", \"end_time\": \"2022-02-17T19:18:51.539163Z\", \"created_time\": \"2022-02-17T19:18:26.116588Z\", \"created_time_dt\": \"2022-02-17T19:18:26.116588Z\", \"duration\": \"0:00:25\", \"iteration\": \"5\", \"goal\": \"accuracy_max\", \"run_name\": \"MaxAbsScaler, LightGBM\", \"run_properties\": \"copy=True\", \"primary_metric\": 0.50720203, \"best_metric\": 0.50720203}, {\"run_id\": \"AutoML_480e612b-584b-4f21-aa42-0bff7fc5bfb1_6\", \"run_number\": 1645125534, \"metric\": null, \"status\": \"Completed\", \"run_type\": null, \"training_percent\": \"100\", \"start_time\": \"2022-02-17T19:18:54.661324Z\", \"end_time\": \"2022-02-17T19:19:20.208103Z\", \"created_time\": \"2022-02-17T19:18:54.545975Z\", \"created_time_dt\": \"2022-02-17T19:18:54.545975Z\", \"duration\": \"0:00:25\", \"iteration\": \"6\", \"goal\": \"accuracy_max\", \"run_name\": \"RobustScaler, LogisticRegression\", \"run_properties\": \"copy=True, quantile_range=[10, 90], with_centering=True,\\n             with_scaling=True\", \"primary_metric\": 0.477608, \"best_metric\": 0.50720203}, {\"run_id\": \"AutoML_480e612b-584b-4f21-aa42-0bff7fc5bfb1_7\", \"run_number\": 1645125562, \"metric\": null, \"status\": \"Completed\", \"run_type\": null, \"training_percent\": \"100\", \"start_time\": \"2022-02-17T19:19:22.672363Z\", \"end_time\": \"2022-02-17T19:19:49.707797Z\", \"created_time\": \"2022-02-17T19:19:22.543842Z\", \"created_time_dt\": \"2022-02-17T19:19:22.543842Z\", \"duration\": \"0:00:27\", \"iteration\": \"7\", \"goal\": \"accuracy_max\", \"run_name\": \"MaxAbsScaler, LightGBM\", \"run_properties\": \"copy=True\", \"primary_metric\": 0.50093038, \"best_metric\": 0.50720203}, {\"run_id\": \"AutoML_480e612b-584b-4f21-aa42-0bff7fc5bfb1_8\", \"run_number\": 1645125590, \"metric\": null, \"status\": \"Completed\", \"run_type\": null, \"training_percent\": \"100\", \"start_time\": \"2022-02-17T19:19:51.074577Z\", \"end_time\": \"2022-02-17T19:20:16.480253Z\", \"created_time\": \"2022-02-17T19:19:50.967574Z\", \"created_time_dt\": \"2022-02-17T19:19:50.967574Z\", \"duration\": \"0:00:25\", \"iteration\": \"8\", \"goal\": \"accuracy_max\", \"run_name\": \"StandardScalerWrapper, KNN\", \"run_properties\": \"\\n    copy=True,\\n    with_mean=False,\\n    with_std=False\\n\", \"primary_metric\": 0.47688163, \"best_metric\": 0.50720203}, {\"run_id\": \"AutoML_480e612b-584b-4f21-aa42-0bff7fc5bfb1_9\", \"run_number\": 1645125617, \"metric\": null, \"status\": \"Completed\", \"run_type\": null, \"training_percent\": \"100\", \"start_time\": \"2022-02-17T19:20:17.848112Z\", \"end_time\": \"2022-02-17T19:21:01.501255Z\", \"created_time\": \"2022-02-17T19:20:17.730206Z\", \"created_time_dt\": \"2022-02-17T19:20:17.730206Z\", \"duration\": \"0:00:43\", \"iteration\": \"9\", \"goal\": \"accuracy_max\", \"run_name\": \"StandardScalerWrapper, SVM\", \"run_properties\": \"\\n    copy=True,\\n    with_mean=True,\\n    with_std=True\\n\", \"primary_metric\": 0.51423975, \"best_metric\": 0.51423975}, {\"run_id\": \"AutoML_480e612b-584b-4f21-aa42-0bff7fc5bfb1_10\", \"run_number\": 1645125662, \"metric\": null, \"status\": \"Completed\", \"run_type\": null, \"training_percent\": \"100\", \"start_time\": \"2022-02-17T19:21:03.099593Z\", \"end_time\": \"2022-02-17T19:21:29.338082Z\", \"created_time\": \"2022-02-17T19:21:02.963594Z\", \"created_time_dt\": \"2022-02-17T19:21:02.963594Z\", \"duration\": \"0:00:26\", \"iteration\": \"10\", \"goal\": \"accuracy_max\", \"run_name\": \"StandardScalerWrapper, XGBoostClassifier\", \"run_properties\": \"\\n    copy=True,\\n    with_mean=False,\\n    with_std=False\\n\", \"primary_metric\": 0.50609639, \"best_metric\": 0.51423975}, {\"run_id\": \"AutoML_480e612b-584b-4f21-aa42-0bff7fc5bfb1_11\", \"run_number\": 1645125690, \"metric\": null, \"status\": \"Completed\", \"run_type\": null, \"training_percent\": \"100\", \"start_time\": \"2022-02-17T19:21:31.640931Z\", \"end_time\": \"2022-02-17T19:22:00.034605Z\", \"created_time\": \"2022-02-17T19:21:30.471364Z\", \"created_time_dt\": \"2022-02-17T19:21:30.471364Z\", \"duration\": \"0:00:29\", \"iteration\": \"11\", \"goal\": \"accuracy_max\", \"run_name\": \"MinMaxScaler, RandomForest\", \"run_properties\": \"copy=True, feature_range=(0, 1\", \"primary_metric\": 0.44986103, \"best_metric\": 0.51423975}, {\"run_id\": \"AutoML_480e612b-584b-4f21-aa42-0bff7fc5bfb1_12\", \"run_number\": 1645125721, \"metric\": null, \"status\": \"Completed\", \"run_type\": null, \"training_percent\": \"100\", \"start_time\": \"2022-02-17T19:22:01.430652Z\", \"end_time\": \"2022-02-17T19:22:26.28524Z\", \"created_time\": \"2022-02-17T19:22:01.316118Z\", \"created_time_dt\": \"2022-02-17T19:22:01.316118Z\", \"duration\": \"0:00:24\", \"iteration\": \"12\", \"goal\": \"accuracy_max\", \"run_name\": \"StandardScalerWrapper, LogisticRegression\", \"run_properties\": \"\\n    copy=True,\\n    with_mean=True,\\n    with_std=False\\n\", \"primary_metric\": 0.51387554, \"best_metric\": 0.51423975}, {\"run_id\": \"AutoML_480e612b-584b-4f21-aa42-0bff7fc5bfb1_13\", \"run_number\": 1645125747, \"metric\": null, \"status\": \"Completed\", \"run_type\": null, \"training_percent\": \"100\", \"start_time\": \"2022-02-17T19:22:27.728112Z\", \"end_time\": \"2022-02-17T19:22:52.753837Z\", \"created_time\": \"2022-02-17T19:22:27.552296Z\", \"created_time_dt\": \"2022-02-17T19:22:27.552296Z\", \"duration\": \"0:00:25\", \"iteration\": \"13\", \"goal\": \"accuracy_max\", \"run_name\": \"StandardScalerWrapper, KNN\", \"run_properties\": \"\\n    copy=True,\\n    with_mean=False,\\n    with_std=True\\n\", \"primary_metric\": 0.49685493, \"best_metric\": 0.51423975}, {\"run_id\": \"AutoML_480e612b-584b-4f21-aa42-0bff7fc5bfb1_14\", \"run_number\": 1645125775, \"metric\": null, \"status\": \"Completed\", \"run_type\": null, \"training_percent\": \"100\", \"start_time\": \"2022-02-17T19:22:55.264145Z\", \"end_time\": \"2022-02-17T19:23:20.653633Z\", \"created_time\": \"2022-02-17T19:22:55.124306Z\", \"created_time_dt\": \"2022-02-17T19:22:55.124306Z\", \"duration\": \"0:00:25\", \"iteration\": \"14\", \"goal\": \"accuracy_max\", \"run_name\": \"RobustScaler, KNN\", \"run_properties\": \"copy=True, quantile_range=[10, 90], with_centering=False,\\n             with_scaling=True\", \"primary_metric\": 0.46356747, \"best_metric\": 0.51423975}, {\"run_id\": \"AutoML_480e612b-584b-4f21-aa42-0bff7fc5bfb1_15\", \"run_number\": 1645125801, \"metric\": null, \"status\": \"Completed\", \"run_type\": null, \"training_percent\": \"100\", \"start_time\": \"2022-02-17T19:23:22.071516Z\", \"end_time\": \"2022-02-17T19:23:46.849485Z\", \"created_time\": \"2022-02-17T19:23:21.934243Z\", \"created_time_dt\": \"2022-02-17T19:23:21.934243Z\", \"duration\": \"0:00:24\", \"iteration\": \"15\", \"goal\": \"accuracy_max\", \"run_name\": \"MinMaxScaler, KNN\", \"run_properties\": \"copy=True, feature_range=(0, 1\", \"primary_metric\": 0.4739262, \"best_metric\": 0.51423975}, {\"run_id\": \"AutoML_480e612b-584b-4f21-aa42-0bff7fc5bfb1_16\", \"run_number\": 1645125828, \"metric\": null, \"status\": \"Completed\", \"run_type\": null, \"training_percent\": \"100\", \"start_time\": \"2022-02-17T19:23:48.172656Z\", \"end_time\": \"2022-02-17T19:24:13.312251Z\", \"created_time\": \"2022-02-17T19:23:48.065231Z\", \"created_time_dt\": \"2022-02-17T19:23:48.065231Z\", \"duration\": \"0:00:25\", \"iteration\": \"16\", \"goal\": \"accuracy_max\", \"run_name\": \"SparseNormalizer, KNN\", \"run_properties\": \"copy=True, norm='max'\", \"primary_metric\": 0.477252, \"best_metric\": 0.51423975}, {\"run_id\": \"AutoML_480e612b-584b-4f21-aa42-0bff7fc5bfb1_17\", \"run_number\": 1645125854, \"metric\": null, \"status\": \"Completed\", \"run_type\": null, \"training_percent\": \"100\", \"start_time\": \"2022-02-17T19:24:14.74653Z\", \"end_time\": \"2022-02-17T19:24:41.347545Z\", \"created_time\": \"2022-02-17T19:24:14.631216Z\", \"created_time_dt\": \"2022-02-17T19:24:14.631216Z\", \"duration\": \"0:00:26\", \"iteration\": \"17\", \"goal\": \"accuracy_max\", \"run_name\": \"MaxAbsScaler, LogisticRegression\", \"run_properties\": \"copy=True\", \"primary_metric\": 0.51164989, \"best_metric\": 0.51423975}, {\"run_id\": \"AutoML_480e612b-584b-4f21-aa42-0bff7fc5bfb1_18\", \"run_number\": 1645125882, \"metric\": null, \"status\": \"Completed\", \"run_type\": null, \"training_percent\": \"100\", \"start_time\": \"2022-02-17T19:24:42.609996Z\", \"end_time\": \"2022-02-17T19:25:07.931864Z\", \"created_time\": \"2022-02-17T19:24:42.504123Z\", \"created_time_dt\": \"2022-02-17T19:24:42.504123Z\", \"duration\": \"0:00:25\", \"iteration\": \"18\", \"goal\": \"accuracy_max\", \"run_name\": \"StandardScalerWrapper, XGBoostClassifier\", \"run_properties\": \"\\n    copy=True,\\n    with_mean=False,\\n    with_std=False\\n\", \"primary_metric\": 0.51202574, \"best_metric\": 0.51423975}, {\"run_id\": \"AutoML_480e612b-584b-4f21-aa42-0bff7fc5bfb1_19\", \"run_number\": 1645125909, \"metric\": null, \"status\": \"Completed\", \"run_type\": null, \"training_percent\": \"100\", \"start_time\": \"2022-02-17T19:25:09.220299Z\", \"end_time\": \"2022-02-17T19:25:38.379225Z\", \"created_time\": \"2022-02-17T19:25:09.097213Z\", \"created_time_dt\": \"2022-02-17T19:25:09.097213Z\", \"duration\": \"0:00:29\", \"iteration\": \"19\", \"goal\": \"accuracy_max\", \"run_name\": \"StandardScalerWrapper, XGBoostClassifier\", \"run_properties\": \"\\n    copy=True,\\n    with_mean=False,\\n    with_std=False\\n\", \"primary_metric\": 0.50980557, \"best_metric\": 0.51423975}, {\"run_id\": \"AutoML_480e612b-584b-4f21-aa42-0bff7fc5bfb1_20\", \"run_number\": 1645125939, \"metric\": null, \"status\": \"Completed\", \"run_type\": null, \"training_percent\": \"100\", \"start_time\": \"2022-02-17T19:25:39.783605Z\", \"end_time\": \"2022-02-17T19:26:05.583399Z\", \"created_time\": \"2022-02-17T19:25:39.674791Z\", \"created_time_dt\": \"2022-02-17T19:25:39.674791Z\", \"duration\": \"0:00:25\", \"iteration\": \"20\", \"goal\": \"accuracy_max\", \"run_name\": \"MaxAbsScaler, LogisticRegression\", \"run_properties\": \"copy=True\", \"primary_metric\": 0.51460738, \"best_metric\": 0.51460738}, {\"run_id\": \"AutoML_480e612b-584b-4f21-aa42-0bff7fc5bfb1_21\", \"run_number\": 1645125966, \"metric\": null, \"status\": \"Completed\", \"run_type\": null, \"training_percent\": \"100\", \"start_time\": \"2022-02-17T19:26:07.005372Z\", \"end_time\": \"2022-02-17T19:26:34.535051Z\", \"created_time\": \"2022-02-17T19:26:06.891559Z\", \"created_time_dt\": \"2022-02-17T19:26:06.891559Z\", \"duration\": \"0:00:27\", \"iteration\": \"21\", \"goal\": \"accuracy_max\", \"run_name\": \"StandardScalerWrapper, XGBoostClassifier\", \"run_properties\": \"\\n    copy=True,\\n    with_mean=False,\\n    with_std=False\\n\", \"primary_metric\": 0.4975943, \"best_metric\": 0.51460738}, {\"run_id\": \"AutoML_480e612b-584b-4f21-aa42-0bff7fc5bfb1_22\", \"run_number\": 1645125995, \"metric\": null, \"status\": \"Completed\", \"run_type\": null, \"training_percent\": \"100\", \"start_time\": \"2022-02-17T19:26:35.973156Z\", \"end_time\": \"2022-02-17T19:27:04.639376Z\", \"created_time\": \"2022-02-17T19:26:35.870294Z\", \"created_time_dt\": \"2022-02-17T19:26:35.870294Z\", \"duration\": \"0:00:28\", \"iteration\": \"22\", \"goal\": \"accuracy_max\", \"run_name\": \"StandardScalerWrapper, XGBoostClassifier\", \"run_properties\": \"\\n    copy=True,\\n    with_mean=False,\\n    with_std=False\\n\", \"primary_metric\": 0.50056001, \"best_metric\": 0.51460738}, {\"run_id\": \"AutoML_480e612b-584b-4f21-aa42-0bff7fc5bfb1_23\", \"run_number\": 1645126025, \"metric\": null, \"status\": \"Completed\", \"run_type\": null, \"training_percent\": \"100\", \"start_time\": \"2022-02-17T19:27:06.044505Z\", \"end_time\": \"2022-02-17T19:27:34.958179Z\", \"created_time\": \"2022-02-17T19:27:05.941064Z\", \"created_time_dt\": \"2022-02-17T19:27:05.941064Z\", \"duration\": \"0:00:29\", \"iteration\": \"23\", \"goal\": \"accuracy_max\", \"run_name\": \"SparseNormalizer, XGBoostClassifier\", \"run_properties\": \"copy=True, norm='l1'\", \"primary_metric\": 0.50018416, \"best_metric\": 0.51460738}, {\"run_id\": \"AutoML_480e612b-584b-4f21-aa42-0bff7fc5bfb1_24\", \"run_number\": 1645126056, \"metric\": null, \"status\": \"Completed\", \"run_type\": null, \"training_percent\": \"100\", \"start_time\": \"2022-02-17T19:27:36.262625Z\", \"end_time\": \"2022-02-17T19:28:02.859706Z\", \"created_time\": \"2022-02-17T19:27:36.156052Z\", \"created_time_dt\": \"2022-02-17T19:27:36.156052Z\", \"duration\": \"0:00:26\", \"iteration\": \"24\", \"goal\": \"accuracy_max\", \"run_name\": \"RobustScaler, ExtremeRandomTrees\", \"run_properties\": \"copy=True, quantile_range=[25, 75], with_centering=True,\\n             with_scaling=False\", \"primary_metric\": 0.49981995, \"best_metric\": 0.51460738}, {\"run_id\": \"AutoML_480e612b-584b-4f21-aa42-0bff7fc5bfb1_25\", \"run_number\": 1645126085, \"metric\": null, \"status\": \"Completed\", \"run_type\": null, \"training_percent\": \"100\", \"start_time\": \"2022-02-17T19:28:05.22003Z\", \"end_time\": \"2022-02-17T19:28:29.185025Z\", \"created_time\": \"2022-02-17T19:28:05.084975Z\", \"created_time_dt\": \"2022-02-17T19:28:05.084975Z\", \"duration\": \"0:00:24\", \"iteration\": \"25\", \"goal\": \"accuracy_max\", \"run_name\": \"MinMaxScaler, LogisticRegression\", \"run_properties\": \"copy=True, feature_range=(0, 1\", \"primary_metric\": 0.49945163, \"best_metric\": 0.51460738}, {\"run_id\": \"AutoML_480e612b-584b-4f21-aa42-0bff7fc5bfb1_26\", \"run_number\": 1645126110, \"metric\": null, \"status\": \"Completed\", \"run_type\": null, \"training_percent\": \"100\", \"start_time\": \"2022-02-17T19:28:30.888741Z\", \"end_time\": \"2022-02-17T19:28:58.722205Z\", \"created_time\": \"2022-02-17T19:28:30.774852Z\", \"created_time_dt\": \"2022-02-17T19:28:30.774852Z\", \"duration\": \"0:00:27\", \"iteration\": \"26\", \"goal\": \"accuracy_max\", \"run_name\": \"MinMaxScaler, LightGBM\", \"run_properties\": \"copy=True, feature_range=(0, 1\", \"primary_metric\": 0.50647429, \"best_metric\": 0.51460738}, {\"run_id\": \"AutoML_480e612b-584b-4f21-aa42-0bff7fc5bfb1_27\", \"run_number\": 1645126139, \"metric\": null, \"status\": \"Completed\", \"run_type\": null, \"training_percent\": \"100\", \"start_time\": \"2022-02-17T19:29:00.045212Z\", \"end_time\": \"2022-02-17T19:29:27.887397Z\", \"created_time\": \"2022-02-17T19:28:59.934479Z\", \"created_time_dt\": \"2022-02-17T19:28:59.934479Z\", \"duration\": \"0:00:27\", \"iteration\": \"27\", \"goal\": \"accuracy_max\", \"run_name\": \"StandardScalerWrapper, ExtremeRandomTrees\", \"run_properties\": \"\\n    copy=True,\\n    with_mean=False,\\n    with_std=False\\n\", \"primary_metric\": 0.50093038, \"best_metric\": 0.51460738}, {\"run_id\": \"AutoML_480e612b-584b-4f21-aa42-0bff7fc5bfb1_28\", \"run_number\": 1645126169, \"metric\": null, \"status\": \"Completed\", \"run_type\": null, \"training_percent\": \"100\", \"start_time\": \"2022-02-17T19:29:29.302671Z\", \"end_time\": \"2022-02-17T19:29:54.187264Z\", \"created_time\": \"2022-02-17T19:29:29.167671Z\", \"created_time_dt\": \"2022-02-17T19:29:29.167671Z\", \"duration\": \"0:00:25\", \"iteration\": \"28\", \"goal\": \"accuracy_max\", \"run_name\": \"MaxAbsScaler, LightGBM\", \"run_properties\": \"copy=True\", \"primary_metric\": 0.50056343, \"best_metric\": 0.51460738}, {\"run_id\": \"AutoML_480e612b-584b-4f21-aa42-0bff7fc5bfb1_29\", \"run_number\": 1645126195, \"metric\": null, \"status\": \"Completed\", \"run_type\": null, \"training_percent\": \"100\", \"start_time\": \"2022-02-17T19:29:55.256684Z\", \"end_time\": \"2022-02-17T19:30:20.387756Z\", \"created_time\": \"2022-02-17T19:29:55.149885Z\", \"created_time_dt\": \"2022-02-17T19:29:55.149885Z\", \"duration\": \"0:00:25\", \"iteration\": \"29\", \"goal\": \"accuracy_max\", \"run_name\": \"SparseNormalizer, LightGBM\", \"run_properties\": \"copy=True, norm='l2'\", \"primary_metric\": 0.50130143, \"best_metric\": 0.51460738}, {\"run_id\": \"AutoML_480e612b-584b-4f21-aa42-0bff7fc5bfb1_30\", \"run_number\": 1645126222, \"metric\": null, \"status\": \"Completed\", \"run_type\": null, \"training_percent\": \"100\", \"start_time\": \"2022-02-17T19:30:22.726848Z\", \"end_time\": \"2022-02-17T19:30:47.112438Z\", \"created_time\": \"2022-02-17T19:30:22.596657Z\", \"created_time_dt\": \"2022-02-17T19:30:22.596657Z\", \"duration\": \"0:00:24\", \"iteration\": \"30\", \"goal\": \"accuracy_max\", \"run_name\": \"MaxAbsScaler, LogisticRegression\", \"run_properties\": \"copy=True\", \"primary_metric\": 0.49945163, \"best_metric\": 0.51460738}, {\"run_id\": \"AutoML_480e612b-584b-4f21-aa42-0bff7fc5bfb1_31\", \"run_number\": 1645126247, \"metric\": null, \"status\": \"Completed\", \"run_type\": null, \"training_percent\": \"100\", \"start_time\": \"2022-02-17T19:30:47.407169Z\", \"end_time\": \"2022-02-17T19:31:13.015076Z\", \"created_time\": \"2022-02-17T19:30:47.305182Z\", \"created_time_dt\": \"2022-02-17T19:30:47.305182Z\", \"duration\": \"0:00:25\", \"iteration\": \"31\", \"goal\": \"accuracy_max\", \"run_name\": \"VotingEnsemble\", \"run_properties\": \"\\n    estimators=[('20', Pipeline(\\n        memory=None,\\n        steps=[('maxabsscaler', MaxAbsScaler(\\n            copy=True\\n        \", \"primary_metric\": 0.51831245, \"best_metric\": 0.51831245}, {\"run_id\": \"AutoML_480e612b-584b-4f21-aa42-0bff7fc5bfb1_32\", \"run_number\": 1645126273, \"metric\": null, \"status\": \"Completed\", \"run_type\": null, \"training_percent\": \"100\", \"start_time\": \"2022-02-17T19:31:13.380339Z\", \"end_time\": \"2022-02-17T19:31:51.362809Z\", \"created_time\": \"2022-02-17T19:31:13.258695Z\", \"created_time_dt\": \"2022-02-17T19:31:13.258695Z\", \"duration\": \"0:00:38\", \"iteration\": \"32\", \"goal\": \"accuracy_max\", \"run_name\": \"StackEnsemble\", \"run_properties\": \"\\n    base_learners=[('20', Pipeline(\\n        memory=None,\\n        steps=[('maxabsscaler', MaxAbsScaler(\\n            copy=True\\n        \", \"primary_metric\": 0.51534538, \"best_metric\": 0.51831245}], \"children_metrics\": {\"categories\": [0], \"series\": {\"balanced_accuracy\": [{\"categories\": [\"0\", \"1\", \"2\", \"3\", \"4\", \"5\", \"6\", \"7\", \"8\", \"9\", \"10\", \"11\", \"12\", \"13\", \"14\", \"15\", \"16\", \"17\", \"18\", \"19\", \"20\", \"21\", \"22\", \"23\", \"24\", \"25\", \"26\", \"27\", \"28\", \"29\", \"30\", \"31\", \"32\"], \"mode\": \"markers\", \"name\": \"balanced_accuracy\", \"stepped\": false, \"type\": \"scatter\", \"data\": [0.4042499462292623, 0.38918124199902715, 0.41294360455836926, 0.3966198414121328, 0.40185230737092353, 0.3892826192871297, 0.4441573005964058, 0.337545397035505, 0.3975549249258393, 0.37780797225130935, 0.41457025170369066, 0.4145017867868395, 0.38414288346667025, 0.38732871574696925, 0.39113302396886607, 0.3933812939346951, 0.39350820109585943, 0.3911697397527205, 0.40464738717290094, 0.40341321385367834, 0.4000912437771878, 0.39971714792009105, 0.3380345271947751, 0.4017967921750406, 0.3552628467660695, 0.3333333333333333, 0.385697475023007, 0.35377179842781337, 0.33584907293663896, 0.3468652385197387, 0.3333333333333333, 0.3970602830709681, 0.4044760401917036]}, {\"categories\": [\"0\", \"1\", \"2\", \"3\", \"4\", \"5\", \"6\", \"7\", \"8\", \"9\", \"10\", \"11\", \"12\", \"13\", \"14\", \"15\", \"16\", \"17\", \"18\", \"19\", \"20\", \"21\", \"22\", \"23\", \"24\", \"25\", \"26\", \"27\", \"28\", \"29\", \"30\", \"31\", \"32\"], \"mode\": \"lines\", \"name\": \"balanced_accuracy_max\", \"stepped\": true, \"type\": \"scatter\", \"data\": [0.4042499462292623, 0.4042499462292623, 0.41294360455836926, 0.41294360455836926, 0.41294360455836926, 0.41294360455836926, 0.4441573005964058, 0.4441573005964058, 0.4441573005964058, 0.4441573005964058, 0.4441573005964058, 0.4441573005964058, 0.4441573005964058, 0.4441573005964058, 0.4441573005964058, 0.4441573005964058, 0.4441573005964058, 0.4441573005964058, 0.4441573005964058, 0.4441573005964058, 0.4441573005964058, 0.4441573005964058, 0.4441573005964058, 0.4441573005964058, 0.4441573005964058, 0.4441573005964058, 0.4441573005964058, 0.4441573005964058, 0.4441573005964058, 0.4441573005964058, 0.4441573005964058, 0.4441573005964058, 0.4441573005964058]}], \"average_precision_score_micro\": [{\"categories\": [\"0\", \"1\", \"2\", \"3\", \"4\", \"5\", \"6\", \"7\", \"8\", \"9\", \"10\", \"11\", \"12\", \"13\", \"14\", \"15\", \"16\", \"17\", \"18\", \"19\", \"20\", \"21\", \"22\", \"23\", \"24\", \"25\", \"26\", \"27\", \"28\", \"29\", \"30\", \"31\", \"32\"], \"mode\": \"markers\", \"name\": \"average_precision_score_micro\", \"stepped\": false, \"type\": \"scatter\", \"data\": [0.5326461991948326, 0.5498232626657691, 0.4814716518345451, 0.5496815345052672, 0.4848957285340239, 0.5583813363694156, 0.49478777614626984, 0.5559571526180191, 0.5105240493752006, 0.5465350134805564, 0.5322487945314156, 0.47805756924183074, 0.5277566114766664, 0.5503240227031134, 0.48378369904485047, 0.5094218250823856, 0.5175713545552036, 0.5516920415108029, 0.552558562226786, 0.5527506489779593, 0.5512222986320622, 0.5480530338511775, 0.539868717658371, 0.545554324612751, 0.5444529866347988, 0.4822535394738946, 0.5562352911902714, 0.5422148772175132, 0.5455330455780836, 0.5541707265763367, 0.4848814346319985, 0.5593104622284963, 0.5598798885950297]}, {\"categories\": [\"0\", \"1\", \"2\", \"3\", \"4\", \"5\", \"6\", \"7\", \"8\", \"9\", \"10\", \"11\", \"12\", \"13\", \"14\", \"15\", \"16\", \"17\", \"18\", \"19\", \"20\", \"21\", \"22\", \"23\", \"24\", \"25\", \"26\", \"27\", \"28\", \"29\", \"30\", \"31\", \"32\"], \"mode\": \"lines\", \"name\": \"average_precision_score_micro_max\", \"stepped\": true, \"type\": \"scatter\", \"data\": [0.5326461991948326, 0.5498232626657691, 0.5498232626657691, 0.5498232626657691, 0.5498232626657691, 0.5583813363694156, 0.5583813363694156, 0.5583813363694156, 0.5583813363694156, 0.5583813363694156, 0.5583813363694156, 0.5583813363694156, 0.5583813363694156, 0.5583813363694156, 0.5583813363694156, 0.5583813363694156, 0.5583813363694156, 0.5583813363694156, 0.5583813363694156, 0.5583813363694156, 0.5583813363694156, 0.5583813363694156, 0.5583813363694156, 0.5583813363694156, 0.5583813363694156, 0.5583813363694156, 0.5583813363694156, 0.5583813363694156, 0.5583813363694156, 0.5583813363694156, 0.5583813363694156, 0.5593104622284963, 0.5598798885950297]}], \"recall_score_macro\": [{\"categories\": [\"0\", \"1\", \"2\", \"3\", \"4\", \"5\", \"6\", \"7\", \"8\", \"9\", \"10\", \"11\", \"12\", \"13\", \"14\", \"15\", \"16\", \"17\", \"18\", \"19\", \"20\", \"21\", \"22\", \"23\", \"24\", \"25\", \"26\", \"27\", \"28\", \"29\", \"30\", \"31\", \"32\"], \"mode\": \"markers\", \"name\": \"recall_score_macro\", \"stepped\": false, \"type\": \"scatter\", \"data\": [0.4042499462292623, 0.38918124199902715, 0.41294360455836926, 0.3966198414121328, 0.40185230737092353, 0.3892826192871297, 0.4441573005964058, 0.337545397035505, 0.3975549249258393, 0.37780797225130935, 0.41457025170369066, 0.4145017867868395, 0.38414288346667025, 0.38732871574696925, 0.39113302396886607, 0.3933812939346951, 0.39350820109585943, 0.3911697397527205, 0.40464738717290094, 0.40341321385367834, 0.4000912437771878, 0.39971714792009105, 0.3380345271947751, 0.4017967921750406, 0.3552628467660695, 0.3333333333333333, 0.385697475023007, 0.35377179842781337, 0.33584907293663896, 0.3468652385197387, 0.3333333333333333, 0.3970602830709681, 0.4044760401917036]}, {\"categories\": [\"0\", \"1\", \"2\", \"3\", \"4\", \"5\", \"6\", \"7\", \"8\", \"9\", \"10\", \"11\", \"12\", \"13\", \"14\", \"15\", \"16\", \"17\", \"18\", \"19\", \"20\", \"21\", \"22\", \"23\", \"24\", \"25\", \"26\", \"27\", \"28\", \"29\", \"30\", \"31\", \"32\"], \"mode\": \"lines\", \"name\": \"recall_score_macro_max\", \"stepped\": true, \"type\": \"scatter\", \"data\": [0.4042499462292623, 0.4042499462292623, 0.41294360455836926, 0.41294360455836926, 0.41294360455836926, 0.41294360455836926, 0.4441573005964058, 0.4441573005964058, 0.4441573005964058, 0.4441573005964058, 0.4441573005964058, 0.4441573005964058, 0.4441573005964058, 0.4441573005964058, 0.4441573005964058, 0.4441573005964058, 0.4441573005964058, 0.4441573005964058, 0.4441573005964058, 0.4441573005964058, 0.4441573005964058, 0.4441573005964058, 0.4441573005964058, 0.4441573005964058, 0.4441573005964058, 0.4441573005964058, 0.4441573005964058, 0.4441573005964058, 0.4441573005964058, 0.4441573005964058, 0.4441573005964058, 0.4441573005964058, 0.4441573005964058]}], \"AUC_macro\": [{\"categories\": [\"0\", \"1\", \"2\", \"3\", \"4\", \"5\", \"6\", \"7\", \"8\", \"9\", \"10\", \"11\", \"12\", \"13\", \"14\", \"15\", \"16\", \"17\", \"18\", \"19\", \"20\", \"21\", \"22\", \"23\", \"24\", \"25\", \"26\", \"27\", \"28\", \"29\", \"30\", \"31\", \"32\"], \"mode\": \"markers\", \"name\": \"AUC_macro\", \"stepped\": false, \"type\": \"scatter\", \"data\": [0.6245699020703052, 0.6350666048449799, 0.6195278676477788, 0.6389372225276032, 0.5879088911310336, 0.6463869596677575, 0.6362704043826464, 0.6434623073388211, 0.5977017833096074, 0.636912444875434, 0.625830847536432, 0.6154014192038909, 0.6172804660372679, 0.632009865692442, 0.5818802435893232, 0.5961546109902522, 0.6003296078567569, 0.6402690756434295, 0.6409335605296261, 0.6439333585369685, 0.6404086925545207, 0.6375401160466616, 0.6332992080979121, 0.6330745412981023, 0.6336811296756204, 0.5627067499599473, 0.6421218175332318, 0.6306484413433702, 0.6314249260678944, 0.6430796740035575, 0.5673848393495142, 0.6481042253170161, 0.6504044683183086]}, {\"categories\": [\"0\", \"1\", \"2\", \"3\", \"4\", \"5\", \"6\", \"7\", \"8\", \"9\", \"10\", \"11\", \"12\", \"13\", \"14\", \"15\", \"16\", \"17\", \"18\", \"19\", \"20\", \"21\", \"22\", \"23\", \"24\", \"25\", \"26\", \"27\", \"28\", \"29\", \"30\", \"31\", \"32\"], \"mode\": \"lines\", \"name\": \"AUC_macro_max\", \"stepped\": true, \"type\": \"scatter\", \"data\": [0.6245699020703052, 0.6350666048449799, 0.6350666048449799, 0.6389372225276032, 0.6389372225276032, 0.6463869596677575, 0.6463869596677575, 0.6463869596677575, 0.6463869596677575, 0.6463869596677575, 0.6463869596677575, 0.6463869596677575, 0.6463869596677575, 0.6463869596677575, 0.6463869596677575, 0.6463869596677575, 0.6463869596677575, 0.6463869596677575, 0.6463869596677575, 0.6463869596677575, 0.6463869596677575, 0.6463869596677575, 0.6463869596677575, 0.6463869596677575, 0.6463869596677575, 0.6463869596677575, 0.6463869596677575, 0.6463869596677575, 0.6463869596677575, 0.6463869596677575, 0.6463869596677575, 0.6481042253170161, 0.6504044683183086]}], \"matthews_correlation\": [{\"categories\": [\"0\", \"1\", \"2\", \"3\", \"4\", \"5\", \"6\", \"7\", \"8\", \"9\", \"10\", \"11\", \"12\", \"13\", \"14\", \"15\", \"16\", \"17\", \"18\", \"19\", \"20\", \"21\", \"22\", \"23\", \"24\", \"25\", \"26\", \"27\", \"28\", \"29\", \"30\", \"31\", \"32\"], \"mode\": \"markers\", \"name\": \"matthews_correlation\", \"stepped\": false, \"type\": \"scatter\", \"data\": [0.14250923962640544, 0.1314233017028498, 0.14241677982720172, 0.136910172478028, 0.1278707660023923, 0.13149400887659646, 0.1831059851698775, 0.03479556743660318, 0.1252302350115836, 0.12681912202287965, 0.15937153435688142, 0.13812163098966226, 0.1295565182193136, 0.12364128491175137, 0.11093676961416518, 0.11831885173037657, 0.11934750942431535, 0.13806982950652222, 0.15311286012036984, 0.15081888098950155, 0.15000072740425557, 0.1376412770752903, 0.02665834038670418, 0.1423987279338619, 0.07620631473590558, 0.0, 0.12683157149235985, 0.07506177070222453, 0.025894349563336184, 0.06148810210744575, 0.0, 0.15029668451664935, 0.15727667031527023]}, {\"categories\": [\"0\", \"1\", \"2\", \"3\", \"4\", \"5\", \"6\", \"7\", \"8\", \"9\", \"10\", \"11\", \"12\", \"13\", \"14\", \"15\", \"16\", \"17\", \"18\", \"19\", \"20\", \"21\", \"22\", \"23\", \"24\", \"25\", \"26\", \"27\", \"28\", \"29\", \"30\", \"31\", \"32\"], \"mode\": \"lines\", \"name\": \"matthews_correlation_max\", \"stepped\": true, \"type\": \"scatter\", \"data\": [0.14250923962640544, 0.14250923962640544, 0.14250923962640544, 0.14250923962640544, 0.14250923962640544, 0.14250923962640544, 0.1831059851698775, 0.1831059851698775, 0.1831059851698775, 0.1831059851698775, 0.1831059851698775, 0.1831059851698775, 0.1831059851698775, 0.1831059851698775, 0.1831059851698775, 0.1831059851698775, 0.1831059851698775, 0.1831059851698775, 0.1831059851698775, 0.1831059851698775, 0.1831059851698775, 0.1831059851698775, 0.1831059851698775, 0.1831059851698775, 0.1831059851698775, 0.1831059851698775, 0.1831059851698775, 0.1831059851698775, 0.1831059851698775, 0.1831059851698775, 0.1831059851698775, 0.1831059851698775, 0.1831059851698775]}], \"AUC_weighted\": [{\"categories\": [\"0\", \"1\", \"2\", \"3\", \"4\", \"5\", \"6\", \"7\", \"8\", \"9\", \"10\", \"11\", \"12\", \"13\", \"14\", \"15\", \"16\", \"17\", \"18\", \"19\", \"20\", \"21\", \"22\", \"23\", \"24\", \"25\", \"26\", \"27\", \"28\", \"29\", \"30\", \"31\", \"32\"], \"mode\": \"markers\", \"name\": \"AUC_weighted\", \"stepped\": false, \"type\": \"scatter\", \"data\": [0.6377779638363642, 0.64808970106692, 0.6294035990267892, 0.6516605316015879, 0.6027526367648923, 0.6584033355067014, 0.6475986917218568, 0.6563573058339829, 0.6137916017749588, 0.6483232947491706, 0.638031526641579, 0.6236783525581029, 0.6268981859699648, 0.6460830291039369, 0.5972757689239365, 0.6122428149495664, 0.6164188398524681, 0.6508552854081473, 0.6530930951758174, 0.656113869587531, 0.6509228639130515, 0.6500324689190349, 0.6415821004024003, 0.6467545793496138, 0.643288370478652, 0.5671595427490745, 0.6538378047676544, 0.6398017282552908, 0.6439610569736197, 0.6543039126823283, 0.572075835034829, 0.6588773042570851, 0.6616246721866827]}, {\"categories\": [\"0\", \"1\", \"2\", \"3\", \"4\", \"5\", \"6\", \"7\", \"8\", \"9\", \"10\", \"11\", \"12\", \"13\", \"14\", \"15\", \"16\", \"17\", \"18\", \"19\", \"20\", \"21\", \"22\", \"23\", \"24\", \"25\", \"26\", \"27\", \"28\", \"29\", \"30\", \"31\", \"32\"], \"mode\": \"lines\", \"name\": \"AUC_weighted_max\", \"stepped\": true, \"type\": \"scatter\", \"data\": [0.6377779638363642, 0.64808970106692, 0.64808970106692, 0.6516605316015879, 0.6516605316015879, 0.6584033355067014, 0.6584033355067014, 0.6584033355067014, 0.6584033355067014, 0.6584033355067014, 0.6584033355067014, 0.6584033355067014, 0.6584033355067014, 0.6584033355067014, 0.6584033355067014, 0.6584033355067014, 0.6584033355067014, 0.6584033355067014, 0.6584033355067014, 0.6584033355067014, 0.6584033355067014, 0.6584033355067014, 0.6584033355067014, 0.6584033355067014, 0.6584033355067014, 0.6584033355067014, 0.6584033355067014, 0.6584033355067014, 0.6584033355067014, 0.6584033355067014, 0.6584033355067014, 0.6588773042570851, 0.6616246721866827]}], \"AUC_micro\": [{\"categories\": [\"0\", \"1\", \"2\", \"3\", \"4\", \"5\", \"6\", \"7\", \"8\", \"9\", \"10\", \"11\", \"12\", \"13\", \"14\", \"15\", \"16\", \"17\", \"18\", \"19\", \"20\", \"21\", \"22\", \"23\", \"24\", \"25\", \"26\", \"27\", \"28\", \"29\", \"30\", \"31\", \"32\"], \"mode\": \"markers\", \"name\": \"AUC_micro\", \"stepped\": false, \"type\": \"scatter\", \"data\": [0.6770184013961483, 0.6896121402902974, 0.6293325498851029, 0.6897997317268633, 0.6422822981143639, 0.6959857186904178, 0.6474865726189933, 0.6925091174537704, 0.6545760076934138, 0.6916473584711387, 0.6780266945467096, 0.6181697394009158, 0.6825581033815995, 0.6862616218552885, 0.6377604056399059, 0.6531003697281828, 0.6583465222438486, 0.693686397076394, 0.6923152860589722, 0.6933250158628816, 0.6935659329790691, 0.6884331181304247, 0.6882331895483675, 0.6839786104326592, 0.6881212443796108, 0.6514651326402554, 0.6930316536741788, 0.6869222714722264, 0.6865142842739935, 0.6928055917084855, 0.6547939106059791, 0.6983751788202073, 0.6987396398099104]}, {\"categories\": [\"0\", \"1\", \"2\", \"3\", \"4\", \"5\", \"6\", \"7\", \"8\", \"9\", \"10\", \"11\", \"12\", \"13\", \"14\", \"15\", \"16\", \"17\", \"18\", \"19\", \"20\", \"21\", \"22\", \"23\", \"24\", \"25\", \"26\", \"27\", \"28\", \"29\", \"30\", \"31\", \"32\"], \"mode\": \"lines\", \"name\": \"AUC_micro_max\", \"stepped\": true, \"type\": \"scatter\", \"data\": [0.6770184013961483, 0.6896121402902974, 0.6896121402902974, 0.6897997317268633, 0.6897997317268633, 0.6959857186904178, 0.6959857186904178, 0.6959857186904178, 0.6959857186904178, 0.6959857186904178, 0.6959857186904178, 0.6959857186904178, 0.6959857186904178, 0.6959857186904178, 0.6959857186904178, 0.6959857186904178, 0.6959857186904178, 0.6959857186904178, 0.6959857186904178, 0.6959857186904178, 0.6959857186904178, 0.6959857186904178, 0.6959857186904178, 0.6959857186904178, 0.6959857186904178, 0.6959857186904178, 0.6959857186904178, 0.6959857186904178, 0.6959857186904178, 0.6959857186904178, 0.6959857186904178, 0.6983751788202073, 0.6987396398099104]}], \"log_loss\": [{\"categories\": [\"0\", \"1\", \"2\", \"3\", \"4\", \"5\", \"6\", \"7\", \"8\", \"9\", \"10\", \"11\", \"12\", \"13\", \"14\", \"15\", \"16\", \"17\", \"18\", \"19\", \"20\", \"21\", \"22\", \"23\", \"24\", \"25\", \"26\", \"27\", \"28\", \"29\", \"30\", \"31\", \"32\"], \"mode\": \"markers\", \"name\": \"log_loss\", \"stepped\": false, \"type\": \"scatter\", \"data\": [1.078266738308997, 0.9985809778818876, 1.0605895213540242, 1.0085410166933015, 5.205678600865156, 0.9878864864769945, 1.0455070199346492, 1.0037383410452327, 2.832849931955677, 0.996006417250306, 1.011471868448892, 1.0647722012539165, 1.007299942482439, 1.0296186416866189, 6.935328227251659, 4.3278336674061615, 2.174253753049593, 0.9940722419193987, 1.0083686954530786, 1.0072436615023825, 0.9958888468961, 1.006717945596966, 1.0104851990869566, 1.008751973111792, 0.9988865160893863, 1.0371780833267674, 0.9907353231670184, 1.0009098237063283, 1.0063682616706209, 0.9984842334985842, 1.0344649797678023, 0.9889115038227307, 0.985625881928933]}, {\"categories\": [\"0\", \"1\", \"2\", \"3\", \"4\", \"5\", \"6\", \"7\", \"8\", \"9\", \"10\", \"11\", \"12\", \"13\", \"14\", \"15\", \"16\", \"17\", \"18\", \"19\", \"20\", \"21\", \"22\", \"23\", \"24\", \"25\", \"26\", \"27\", \"28\", \"29\", \"30\", \"31\", \"32\"], \"mode\": \"lines\", \"name\": \"log_loss_min\", \"stepped\": true, \"type\": \"scatter\", \"data\": [1.078266738308997, 0.9985809778818876, 0.9985809778818876, 0.9985809778818876, 0.9985809778818876, 0.9878864864769945, 0.9878864864769945, 0.9878864864769945, 0.9878864864769945, 0.9878864864769945, 0.9878864864769945, 0.9878864864769945, 0.9878864864769945, 0.9878864864769945, 0.9878864864769945, 0.9878864864769945, 0.9878864864769945, 0.9878864864769945, 0.9878864864769945, 0.9878864864769945, 0.9878864864769945, 0.9878864864769945, 0.9878864864769945, 0.9878864864769945, 0.9878864864769945, 0.9878864864769945, 0.9878864864769945, 0.9878864864769945, 0.9878864864769945, 0.9878864864769945, 0.9878864864769945, 0.9878864864769945, 0.985625881928933]}], \"precision_score_weighted\": [{\"categories\": [\"0\", \"1\", \"2\", \"3\", \"4\", \"5\", \"6\", \"7\", \"8\", \"9\", \"10\", \"11\", \"12\", \"13\", \"14\", \"15\", \"16\", \"17\", \"18\", \"19\", \"20\", \"21\", \"22\", \"23\", \"24\", \"25\", \"26\", \"27\", \"28\", \"29\", \"30\", \"31\", \"32\"], \"mode\": \"markers\", \"name\": \"precision_score_weighted\", \"stepped\": false, \"type\": \"scatter\", \"data\": [0.4547914992700731, 0.44842699629634275, 0.47038818440985936, 0.4520549814520374, 0.4509683699329237, 0.4537284130334337, 0.49575736552766864, 0.41346959306636644, 0.4486820945639023, 0.47212569862977827, 0.46762889553667675, 0.46857916405739514, 0.46651371635564953, 0.44239577585788653, 0.4389404794828501, 0.44188432138024386, 0.44447193698113735, 0.46473471722246645, 0.4671505198536926, 0.4624728801488242, 0.4671594421917783, 0.45514862146162116, 0.2968360239862556, 0.45630951922475615, 0.44135623674034435, 0.24961020151253033, 0.4526137609203067, 0.44023794781296777, 0.3536136082501781, 0.42231879020921265, 0.24961020151253033, 0.47311726868933174, 0.4729752419805954]}, {\"categories\": [\"0\", \"1\", \"2\", \"3\", \"4\", \"5\", \"6\", \"7\", \"8\", \"9\", \"10\", \"11\", \"12\", \"13\", \"14\", \"15\", \"16\", \"17\", \"18\", \"19\", \"20\", \"21\", \"22\", \"23\", \"24\", \"25\", \"26\", \"27\", \"28\", \"29\", \"30\", \"31\", \"32\"], \"mode\": \"lines\", \"name\": \"precision_score_weighted_max\", \"stepped\": true, \"type\": \"scatter\", \"data\": [0.4547914992700731, 0.4547914992700731, 0.47038818440985936, 0.47038818440985936, 0.47038818440985936, 0.47038818440985936, 0.49575736552766864, 0.49575736552766864, 0.49575736552766864, 0.49575736552766864, 0.49575736552766864, 0.49575736552766864, 0.49575736552766864, 0.49575736552766864, 0.49575736552766864, 0.49575736552766864, 0.49575736552766864, 0.49575736552766864, 0.49575736552766864, 0.49575736552766864, 0.49575736552766864, 0.49575736552766864, 0.49575736552766864, 0.49575736552766864, 0.49575736552766864, 0.49575736552766864, 0.49575736552766864, 0.49575736552766864, 0.49575736552766864, 0.49575736552766864, 0.49575736552766864, 0.49575736552766864, 0.49575736552766864]}], \"accuracy\": [{\"categories\": [\"0\", \"1\", \"2\", \"3\", \"4\", \"5\", \"6\", \"7\", \"8\", \"9\", \"10\", \"11\", \"12\", \"13\", \"14\", \"15\", \"16\", \"17\", \"18\", \"19\", \"20\", \"21\", \"22\", \"23\", \"24\", \"25\", \"26\", \"27\", \"28\", \"29\", \"30\", \"31\", \"32\"], \"mode\": \"markers\", \"name\": \"accuracy\", \"stepped\": false, \"type\": \"scatter\", \"data\": [0.4935195454234271, 0.5049955500787294, 0.4605832819880879, 0.5009173683850208, 0.47244061066611903, 0.5072020264256862, 0.4776079961662217, 0.5009303758471966, 0.47688163209420137, 0.5142397480659958, 0.5060963921407544, 0.449861025535702, 0.5138755391250771, 0.49685493256657765, 0.4635674676524954, 0.47392619976723493, 0.4772520024645718, 0.5116498938864928, 0.5120257410830423, 0.5098055726706374, 0.5146073800232766, 0.4975943041007736, 0.5005600054768262, 0.5001841582802766, 0.4998199493393579, 0.49945163277880467, 0.5064742931471213, 0.5009303758471966, 0.5005634284931882, 0.5013014308208393, 0.49945163277880467, 0.518312452933525, 0.5153453823509276]}, {\"categories\": [\"0\", \"1\", \"2\", \"3\", \"4\", \"5\", \"6\", \"7\", \"8\", \"9\", \"10\", \"11\", \"12\", \"13\", \"14\", \"15\", \"16\", \"17\", \"18\", \"19\", \"20\", \"21\", \"22\", \"23\", \"24\", \"25\", \"26\", \"27\", \"28\", \"29\", \"30\", \"31\", \"32\"], \"mode\": \"lines\", \"name\": \"accuracy_max\", \"stepped\": true, \"type\": \"scatter\", \"data\": [0.4935195454234271, 0.5049955500787294, 0.5049955500787294, 0.5049955500787294, 0.5049955500787294, 0.5072020264256862, 0.5072020264256862, 0.5072020264256862, 0.5072020264256862, 0.5142397480659958, 0.5142397480659958, 0.5142397480659958, 0.5142397480659958, 0.5142397480659958, 0.5142397480659958, 0.5142397480659958, 0.5142397480659958, 0.5142397480659958, 0.5142397480659958, 0.5142397480659958, 0.5146073800232766, 0.5146073800232766, 0.5146073800232766, 0.5146073800232766, 0.5146073800232766, 0.5146073800232766, 0.5146073800232766, 0.5146073800232766, 0.5146073800232766, 0.5146073800232766, 0.5146073800232766, 0.518312452933525, 0.518312452933525]}], \"recall_score_weighted\": [{\"categories\": [\"0\", \"1\", \"2\", \"3\", \"4\", \"5\", \"6\", \"7\", \"8\", \"9\", \"10\", \"11\", \"12\", \"13\", \"14\", \"15\", \"16\", \"17\", \"18\", \"19\", \"20\", \"21\", \"22\", \"23\", \"24\", \"25\", \"26\", \"27\", \"28\", \"29\", \"30\", \"31\", \"32\"], \"mode\": \"markers\", \"name\": \"recall_score_weighted\", \"stepped\": false, \"type\": \"scatter\", \"data\": [0.4935195454234271, 0.5049955500787294, 0.4605832819880879, 0.5009173683850208, 0.47244061066611903, 0.5072020264256862, 0.4776079961662217, 0.5009303758471966, 0.47688163209420137, 0.5142397480659958, 0.5060963921407544, 0.449861025535702, 0.5138755391250771, 0.49685493256657765, 0.4635674676524954, 0.47392619976723493, 0.4772520024645718, 0.5116498938864928, 0.5120257410830423, 0.5098055726706374, 0.5146073800232766, 0.4975943041007736, 0.5005600054768262, 0.5001841582802766, 0.4998199493393579, 0.49945163277880467, 0.5064742931471213, 0.5009303758471966, 0.5005634284931882, 0.5013014308208393, 0.49945163277880467, 0.518312452933525, 0.5153453823509276]}, {\"categories\": [\"0\", \"1\", \"2\", \"3\", \"4\", \"5\", \"6\", \"7\", \"8\", \"9\", \"10\", \"11\", \"12\", \"13\", \"14\", \"15\", \"16\", \"17\", \"18\", \"19\", \"20\", \"21\", \"22\", \"23\", \"24\", \"25\", \"26\", \"27\", \"28\", \"29\", \"30\", \"31\", \"32\"], \"mode\": \"lines\", \"name\": \"recall_score_weighted_max\", \"stepped\": true, \"type\": \"scatter\", \"data\": [0.4935195454234271, 0.5049955500787294, 0.5049955500787294, 0.5049955500787294, 0.5049955500787294, 0.5072020264256862, 0.5072020264256862, 0.5072020264256862, 0.5072020264256862, 0.5142397480659958, 0.5142397480659958, 0.5142397480659958, 0.5142397480659958, 0.5142397480659958, 0.5142397480659958, 0.5142397480659958, 0.5142397480659958, 0.5142397480659958, 0.5142397480659958, 0.5142397480659958, 0.5146073800232766, 0.5146073800232766, 0.5146073800232766, 0.5146073800232766, 0.5146073800232766, 0.5146073800232766, 0.5146073800232766, 0.5146073800232766, 0.5146073800232766, 0.5146073800232766, 0.5146073800232766, 0.518312452933525, 0.518312452933525]}], \"recall_score_micro\": [{\"categories\": [\"0\", \"1\", \"2\", \"3\", \"4\", \"5\", \"6\", \"7\", \"8\", \"9\", \"10\", \"11\", \"12\", \"13\", \"14\", \"15\", \"16\", \"17\", \"18\", \"19\", \"20\", \"21\", \"22\", \"23\", \"24\", \"25\", \"26\", \"27\", \"28\", \"29\", \"30\", \"31\", \"32\"], \"mode\": \"markers\", \"name\": \"recall_score_micro\", \"stepped\": false, \"type\": \"scatter\", \"data\": [0.4935195454234271, 0.5049955500787294, 0.4605832819880879, 0.5009173683850208, 0.47244061066611903, 0.5072020264256862, 0.4776079961662217, 0.5009303758471966, 0.47688163209420137, 0.5142397480659958, 0.5060963921407544, 0.449861025535702, 0.5138755391250771, 0.49685493256657765, 0.4635674676524954, 0.47392619976723493, 0.4772520024645718, 0.5116498938864928, 0.5120257410830423, 0.5098055726706374, 0.5146073800232766, 0.4975943041007736, 0.5005600054768262, 0.5001841582802766, 0.4998199493393579, 0.49945163277880467, 0.5064742931471213, 0.5009303758471966, 0.5005634284931882, 0.5013014308208393, 0.49945163277880467, 0.518312452933525, 0.5153453823509276]}, {\"categories\": [\"0\", \"1\", \"2\", \"3\", \"4\", \"5\", \"6\", \"7\", \"8\", \"9\", \"10\", \"11\", \"12\", \"13\", \"14\", \"15\", \"16\", \"17\", \"18\", \"19\", \"20\", \"21\", \"22\", \"23\", \"24\", \"25\", \"26\", \"27\", \"28\", \"29\", \"30\", \"31\", \"32\"], \"mode\": \"lines\", \"name\": \"recall_score_micro_max\", \"stepped\": true, \"type\": \"scatter\", \"data\": [0.4935195454234271, 0.5049955500787294, 0.5049955500787294, 0.5049955500787294, 0.5049955500787294, 0.5072020264256862, 0.5072020264256862, 0.5072020264256862, 0.5072020264256862, 0.5142397480659958, 0.5142397480659958, 0.5142397480659958, 0.5142397480659958, 0.5142397480659958, 0.5142397480659958, 0.5142397480659958, 0.5142397480659958, 0.5142397480659958, 0.5142397480659958, 0.5142397480659958, 0.5146073800232766, 0.5146073800232766, 0.5146073800232766, 0.5146073800232766, 0.5146073800232766, 0.5146073800232766, 0.5146073800232766, 0.5146073800232766, 0.5146073800232766, 0.5146073800232766, 0.5146073800232766, 0.518312452933525, 0.518312452933525]}], \"norm_macro_recall\": [{\"categories\": [\"0\", \"1\", \"2\", \"3\", \"4\", \"5\", \"6\", \"7\", \"8\", \"9\", \"10\", \"11\", \"12\", \"13\", \"14\", \"15\", \"16\", \"17\", \"18\", \"19\", \"20\", \"21\", \"22\", \"23\", \"24\", \"25\", \"26\", \"27\", \"28\", \"29\", \"30\", \"31\", \"32\"], \"mode\": \"markers\", \"name\": \"norm_macro_recall\", \"stepped\": false, \"type\": \"scatter\", \"data\": [0.10637491934389345, 0.08377186299854078, 0.11941540683755383, 0.09492976211819922, 0.1027784610563853, 0.08392392893069459, 0.16623595089460874, 0.006323706595789251, 0.09633238738875899, 0.06671195837696406, 0.12185537755553602, 0.12175268018025927, 0.0762143252000054, 0.08099307362045395, 0.08669953595329914, 0.09007194090204274, 0.09026230164378915, 0.0867546096290808, 0.1069710807593515, 0.10511982078051765, 0.1001368656657817, 0.09957572188013666, 0.007410213731230762, 0.10269518826256101, 0.032894270149104246, 0.0, 0.07854621253451043, 0.030657697641720105, 0.004158224789573916, 0.020297857779608117, 0.0, 0.09559042460645213, 0.10671406028755534]}, {\"categories\": [\"0\", \"1\", \"2\", \"3\", \"4\", \"5\", \"6\", \"7\", \"8\", \"9\", \"10\", \"11\", \"12\", \"13\", \"14\", \"15\", \"16\", \"17\", \"18\", \"19\", \"20\", \"21\", \"22\", \"23\", \"24\", \"25\", \"26\", \"27\", \"28\", \"29\", \"30\", \"31\", \"32\"], \"mode\": \"lines\", \"name\": \"norm_macro_recall_max\", \"stepped\": true, \"type\": \"scatter\", \"data\": [0.10637491934389345, 0.10637491934389345, 0.11941540683755383, 0.11941540683755383, 0.11941540683755383, 0.11941540683755383, 0.16623595089460874, 0.16623595089460874, 0.16623595089460874, 0.16623595089460874, 0.16623595089460874, 0.16623595089460874, 0.16623595089460874, 0.16623595089460874, 0.16623595089460874, 0.16623595089460874, 0.16623595089460874, 0.16623595089460874, 0.16623595089460874, 0.16623595089460874, 0.16623595089460874, 0.16623595089460874, 0.16623595089460874, 0.16623595089460874, 0.16623595089460874, 0.16623595089460874, 0.16623595089460874, 0.16623595089460874, 0.16623595089460874, 0.16623595089460874, 0.16623595089460874, 0.16623595089460874, 0.16623595089460874]}], \"weighted_accuracy\": [{\"categories\": [\"0\", \"1\", \"2\", \"3\", \"4\", \"5\", \"6\", \"7\", \"8\", \"9\", \"10\", \"11\", \"12\", \"13\", \"14\", \"15\", \"16\", \"17\", \"18\", \"19\", \"20\", \"21\", \"22\", \"23\", \"24\", \"25\", \"26\", \"27\", \"28\", \"29\", \"30\", \"31\", \"32\"], \"mode\": \"markers\", \"name\": \"weighted_accuracy\", \"stepped\": false, \"type\": \"scatter\", \"data\": [0.5825021629488573, 0.6203509443752416, 0.5079867590301674, 0.6046401843345863, 0.5428085333553314, 0.6247465874039602, 0.5109559809537365, 0.6635876931956938, 0.5558227266506, 0.6505511288821515, 0.5974409351844294, 0.48497018719532586, 0.6432786145043258, 0.6059423323181721, 0.5355359493441431, 0.5541150798276149, 0.560705609806277, 0.6316793516057282, 0.6191370594872885, 0.6157339508270965, 0.6288390558401022, 0.5951287970705013, 0.6623079472147733, 0.598071902821923, 0.643863563115211, 0.664839709747648, 0.6268178743156081, 0.6474195459824624, 0.6645617123972322, 0.6551750234614137, 0.664839709747648, 0.6391948289216456, 0.6263126528918338]}, {\"categories\": [\"0\", \"1\", \"2\", \"3\", \"4\", \"5\", \"6\", \"7\", \"8\", \"9\", \"10\", \"11\", \"12\", \"13\", \"14\", \"15\", \"16\", \"17\", \"18\", \"19\", \"20\", \"21\", \"22\", \"23\", \"24\", \"25\", \"26\", \"27\", \"28\", \"29\", \"30\", \"31\", \"32\"], \"mode\": \"lines\", \"name\": \"weighted_accuracy_max\", \"stepped\": true, \"type\": \"scatter\", \"data\": [0.5825021629488573, 0.6203509443752416, 0.6203509443752416, 0.6203509443752416, 0.6203509443752416, 0.6247465874039602, 0.6247465874039602, 0.6635876931956938, 0.6635876931956938, 0.6635876931956938, 0.6635876931956938, 0.6635876931956938, 0.6635876931956938, 0.6635876931956938, 0.6635876931956938, 0.6635876931956938, 0.6635876931956938, 0.6635876931956938, 0.6635876931956938, 0.6635876931956938, 0.6635876931956938, 0.6635876931956938, 0.6635876931956938, 0.6635876931956938, 0.6635876931956938, 0.664839709747648, 0.664839709747648, 0.664839709747648, 0.664839709747648, 0.664839709747648, 0.664839709747648, 0.664839709747648, 0.664839709747648]}], \"average_precision_score_weighted\": [{\"categories\": [\"0\", \"1\", \"2\", \"3\", \"4\", \"5\", \"6\", \"7\", \"8\", \"9\", \"10\", \"11\", \"12\", \"13\", \"14\", \"15\", \"16\", \"17\", \"18\", \"19\", \"20\", \"21\", \"22\", \"23\", \"24\", \"25\", \"26\", \"27\", \"28\", \"29\", \"30\", \"31\", \"32\"], \"mode\": \"markers\", \"name\": \"average_precision_score_weighted\", \"stepped\": false, \"type\": \"scatter\", \"data\": [0.4955597997172424, 0.5061307046236065, 0.48778136967287733, 0.5044776302678102, 0.4623370677615323, 0.5115632357883625, 0.5121945537720327, 0.5108695328368464, 0.4770267520753631, 0.5030639087787764, 0.49466733682387637, 0.48142759905041405, 0.4815270457347278, 0.5023072201808291, 0.4611196680595892, 0.4773306309040299, 0.48026495853520546, 0.510079526182022, 0.5073443338735171, 0.5068010414430193, 0.5104775566485412, 0.5058150477302835, 0.4948766860447167, 0.5042744320032353, 0.49911460991413054, 0.42868745995556756, 0.509797424851604, 0.49671104363144225, 0.4948593388585857, 0.5067355927840258, 0.4319424977365899, 0.5170576487397374, 0.5170968076810538]}, {\"categories\": [\"0\", \"1\", \"2\", \"3\", \"4\", \"5\", \"6\", \"7\", \"8\", \"9\", \"10\", \"11\", \"12\", \"13\", \"14\", \"15\", \"16\", \"17\", \"18\", \"19\", \"20\", \"21\", \"22\", \"23\", \"24\", \"25\", \"26\", \"27\", \"28\", \"29\", \"30\", \"31\", \"32\"], \"mode\": \"lines\", \"name\": \"average_precision_score_weighted_max\", \"stepped\": true, \"type\": \"scatter\", \"data\": [0.4955597997172424, 0.5061307046236065, 0.5061307046236065, 0.5061307046236065, 0.5061307046236065, 0.5115632357883625, 0.5121945537720327, 0.5121945537720327, 0.5121945537720327, 0.5121945537720327, 0.5121945537720327, 0.5121945537720327, 0.5121945537720327, 0.5121945537720327, 0.5121945537720327, 0.5121945537720327, 0.5121945537720327, 0.5121945537720327, 0.5121945537720327, 0.5121945537720327, 0.5121945537720327, 0.5121945537720327, 0.5121945537720327, 0.5121945537720327, 0.5121945537720327, 0.5121945537720327, 0.5121945537720327, 0.5121945537720327, 0.5121945537720327, 0.5121945537720327, 0.5121945537720327, 0.5170576487397374, 0.5170968076810538]}], \"precision_score_macro\": [{\"categories\": [\"0\", \"1\", \"2\", \"3\", \"4\", \"5\", \"6\", \"7\", \"8\", \"9\", \"10\", \"11\", \"12\", \"13\", \"14\", \"15\", \"16\", \"17\", \"18\", \"19\", \"20\", \"21\", \"22\", \"23\", \"24\", \"25\", \"26\", \"27\", \"28\", \"29\", \"30\", \"31\", \"32\"], \"mode\": \"markers\", \"name\": \"precision_score_macro\", \"stepped\": false, \"type\": \"scatter\", \"data\": [0.41131086923853166, 0.41050434161151284, 0.4217859294461876, 0.41228710442845984, 0.40618912881574465, 0.41872762723157936, 0.44392686608592846, 0.38257450169770657, 0.40424607845804256, 0.45095896499025656, 0.42814920755837377, 0.42276411501618316, 0.44108126594054653, 0.4010767154470818, 0.3927552645783917, 0.39687997388710483, 0.4014498058294224, 0.43362642095639387, 0.4324856207161426, 0.4248806461967655, 0.435405645345236, 0.4156922181455913, 0.22828970828531941, 0.416018036622423, 0.4148296696896776, 0.1664838775929349, 0.4185695232602911, 0.40958360112880215, 0.30625920900290443, 0.3910872815881898, 0.1664838775929349, 0.4443988200832204, 0.44079766166756673]}, {\"categories\": [\"0\", \"1\", \"2\", \"3\", \"4\", \"5\", \"6\", \"7\", \"8\", \"9\", \"10\", \"11\", \"12\", \"13\", \"14\", \"15\", \"16\", \"17\", \"18\", \"19\", \"20\", \"21\", \"22\", \"23\", \"24\", \"25\", \"26\", \"27\", \"28\", \"29\", \"30\", \"31\", \"32\"], \"mode\": \"lines\", \"name\": \"precision_score_macro_max\", \"stepped\": true, \"type\": \"scatter\", \"data\": [0.41131086923853166, 0.41131086923853166, 0.4217859294461876, 0.4217859294461876, 0.4217859294461876, 0.4217859294461876, 0.44392686608592846, 0.44392686608592846, 0.44392686608592846, 0.45095896499025656, 0.45095896499025656, 0.45095896499025656, 0.45095896499025656, 0.45095896499025656, 0.45095896499025656, 0.45095896499025656, 0.45095896499025656, 0.45095896499025656, 0.45095896499025656, 0.45095896499025656, 0.45095896499025656, 0.45095896499025656, 0.45095896499025656, 0.45095896499025656, 0.45095896499025656, 0.45095896499025656, 0.45095896499025656, 0.45095896499025656, 0.45095896499025656, 0.45095896499025656, 0.45095896499025656, 0.45095896499025656, 0.45095896499025656]}], \"f1_score_macro\": [{\"categories\": [\"0\", \"1\", \"2\", \"3\", \"4\", \"5\", \"6\", \"7\", \"8\", \"9\", \"10\", \"11\", \"12\", \"13\", \"14\", \"15\", \"16\", \"17\", \"18\", \"19\", \"20\", \"21\", \"22\", \"23\", \"24\", \"25\", \"26\", \"27\", \"28\", \"29\", \"30\", \"31\", \"32\"], \"mode\": \"markers\", \"name\": \"f1_score_macro\", \"stepped\": false, \"type\": \"scatter\", \"data\": [0.39671388941220476, 0.36691819874852083, 0.40716738881550524, 0.38241774195790124, 0.39976608470909586, 0.36445339030313295, 0.44197926489959016, 0.23486677778758427, 0.39376070695213417, 0.3314063026741526, 0.40674269993116685, 0.4006844993214981, 0.34720667767858077, 0.3686245307363075, 0.3881735564479287, 0.38841812180847396, 0.3880616254490193, 0.3655716777032378, 0.3892184544905735, 0.3887317112083731, 0.38021186574626425, 0.3884433314734464, 0.23625775618528108, 0.3912691850674156, 0.2919580874893203, 0.22202834617428585, 0.35835711967138983, 0.28443941593147964, 0.22939935932622899, 0.2661660768019992, 0.22202834617428585, 0.3714532541059669, 0.3835429638424913]}, {\"categories\": [\"0\", \"1\", \"2\", \"3\", \"4\", \"5\", \"6\", \"7\", \"8\", \"9\", \"10\", \"11\", \"12\", \"13\", \"14\", \"15\", \"16\", \"17\", \"18\", \"19\", \"20\", \"21\", \"22\", \"23\", \"24\", \"25\", \"26\", \"27\", \"28\", \"29\", \"30\", \"31\", \"32\"], \"mode\": \"lines\", \"name\": \"f1_score_macro_max\", \"stepped\": true, \"type\": \"scatter\", \"data\": [0.39671388941220476, 0.39671388941220476, 0.40716738881550524, 0.40716738881550524, 0.40716738881550524, 0.40716738881550524, 0.44197926489959016, 0.44197926489959016, 0.44197926489959016, 0.44197926489959016, 0.44197926489959016, 0.44197926489959016, 0.44197926489959016, 0.44197926489959016, 0.44197926489959016, 0.44197926489959016, 0.44197926489959016, 0.44197926489959016, 0.44197926489959016, 0.44197926489959016, 0.44197926489959016, 0.44197926489959016, 0.44197926489959016, 0.44197926489959016, 0.44197926489959016, 0.44197926489959016, 0.44197926489959016, 0.44197926489959016, 0.44197926489959016, 0.44197926489959016, 0.44197926489959016, 0.44197926489959016, 0.44197926489959016]}], \"f1_score_micro\": [{\"categories\": [\"0\", \"1\", \"2\", \"3\", \"4\", \"5\", \"6\", \"7\", \"8\", \"9\", \"10\", \"11\", \"12\", \"13\", \"14\", \"15\", \"16\", \"17\", \"18\", \"19\", \"20\", \"21\", \"22\", \"23\", \"24\", \"25\", \"26\", \"27\", \"28\", \"29\", \"30\", \"31\", \"32\"], \"mode\": \"markers\", \"name\": \"f1_score_micro\", \"stepped\": false, \"type\": \"scatter\", \"data\": [0.4935195454234271, 0.5049955500787294, 0.4605832819880879, 0.5009173683850208, 0.47244061066611903, 0.5072020264256862, 0.4776079961662217, 0.5009303758471966, 0.47688163209420137, 0.5142397480659958, 0.5060963921407544, 0.449861025535702, 0.5138755391250771, 0.49685493256657765, 0.4635674676524954, 0.47392619976723493, 0.4772520024645718, 0.5116498938864928, 0.5120257410830423, 0.5098055726706374, 0.5146073800232766, 0.4975943041007736, 0.5005600054768262, 0.5001841582802766, 0.4998199493393579, 0.49945163277880467, 0.5064742931471213, 0.5009303758471966, 0.5005634284931882, 0.5013014308208393, 0.49945163277880467, 0.518312452933525, 0.5153453823509276]}, {\"categories\": [\"0\", \"1\", \"2\", \"3\", \"4\", \"5\", \"6\", \"7\", \"8\", \"9\", \"10\", \"11\", \"12\", \"13\", \"14\", \"15\", \"16\", \"17\", \"18\", \"19\", \"20\", \"21\", \"22\", \"23\", \"24\", \"25\", \"26\", \"27\", \"28\", \"29\", \"30\", \"31\", \"32\"], \"mode\": \"lines\", \"name\": \"f1_score_micro_max\", \"stepped\": true, \"type\": \"scatter\", \"data\": [0.4935195454234271, 0.5049955500787294, 0.5049955500787294, 0.5049955500787294, 0.5049955500787294, 0.5072020264256862, 0.5072020264256862, 0.5072020264256862, 0.5072020264256862, 0.5142397480659958, 0.5142397480659958, 0.5142397480659958, 0.5142397480659958, 0.5142397480659958, 0.5142397480659958, 0.5142397480659958, 0.5142397480659958, 0.5142397480659958, 0.5142397480659958, 0.5142397480659958, 0.5146073800232766, 0.5146073800232766, 0.5146073800232766, 0.5146073800232766, 0.5146073800232766, 0.5146073800232766, 0.5146073800232766, 0.5146073800232766, 0.5146073800232766, 0.5146073800232766, 0.5146073800232766, 0.518312452933525, 0.518312452933525]}], \"f1_score_weighted\": [{\"categories\": [\"0\", \"1\", \"2\", \"3\", \"4\", \"5\", \"6\", \"7\", \"8\", \"9\", \"10\", \"11\", \"12\", \"13\", \"14\", \"15\", \"16\", \"17\", \"18\", \"19\", \"20\", \"21\", \"22\", \"23\", \"24\", \"25\", \"26\", \"27\", \"28\", \"29\", \"30\", \"31\", \"32\"], \"mode\": \"markers\", \"name\": \"f1_score_weighted\", \"stepped\": false, \"type\": \"scatter\", \"data\": [0.46265609520618234, 0.44401481968032364, 0.45751252340214876, 0.45428028512406815, 0.45737810864461537, 0.44173838419251554, 0.484595428387837, 0.34291850396966733, 0.45548475779100145, 0.4169082221459094, 0.4719807238355271, 0.4453186346381958, 0.42871121181985056, 0.4438092870636793, 0.44726871710360266, 0.4508408240995099, 0.4512689811975316, 0.4433103803982295, 0.4606274979520708, 0.4606924164664691, 0.4543738410609617, 0.457056264066266, 0.34406843275413684, 0.4604280087919098, 0.3857992668417384, 0.3328182270347519, 0.4370308973483822, 0.3802427200762433, 0.3387181946939532, 0.3663482424549874, 0.3328182270347519, 0.4486376890236592, 0.4567665410851058]}, {\"categories\": [\"0\", \"1\", \"2\", \"3\", \"4\", \"5\", \"6\", \"7\", \"8\", \"9\", \"10\", \"11\", \"12\", \"13\", \"14\", \"15\", \"16\", \"17\", \"18\", \"19\", \"20\", \"21\", \"22\", \"23\", \"24\", \"25\", \"26\", \"27\", \"28\", \"29\", \"30\", \"31\", \"32\"], \"mode\": \"lines\", \"name\": \"f1_score_weighted_max\", \"stepped\": true, \"type\": \"scatter\", \"data\": [0.46265609520618234, 0.46265609520618234, 0.46265609520618234, 0.46265609520618234, 0.46265609520618234, 0.46265609520618234, 0.484595428387837, 0.484595428387837, 0.484595428387837, 0.484595428387837, 0.484595428387837, 0.484595428387837, 0.484595428387837, 0.484595428387837, 0.484595428387837, 0.484595428387837, 0.484595428387837, 0.484595428387837, 0.484595428387837, 0.484595428387837, 0.484595428387837, 0.484595428387837, 0.484595428387837, 0.484595428387837, 0.484595428387837, 0.484595428387837, 0.484595428387837, 0.484595428387837, 0.484595428387837, 0.484595428387837, 0.484595428387837, 0.484595428387837, 0.484595428387837]}], \"average_precision_score_macro\": [{\"categories\": [\"0\", \"1\", \"2\", \"3\", \"4\", \"5\", \"6\", \"7\", \"8\", \"9\", \"10\", \"11\", \"12\", \"13\", \"14\", \"15\", \"16\", \"17\", \"18\", \"19\", \"20\", \"21\", \"22\", \"23\", \"24\", \"25\", \"26\", \"27\", \"28\", \"29\", \"30\", \"31\", \"32\"], \"mode\": \"markers\", \"name\": \"average_precision_score_macro\", \"stepped\": false, \"type\": \"scatter\", \"data\": [0.4353962712031449, 0.4459211078454204, 0.4313606481878064, 0.4440446127841472, 0.40461991014118237, 0.45098722408375974, 0.45594124020271637, 0.45095494394006064, 0.41627811506579293, 0.44735203564928544, 0.43656526158683784, 0.42688896538126464, 0.4301301846256062, 0.4400076020779153, 0.4024426582161443, 0.415867396060731, 0.41886140761690455, 0.45416898391849775, 0.44782609240122556, 0.44661143765884964, 0.45476007058630863, 0.4459268219085339, 0.4402644378082498, 0.44207553042815906, 0.44238010523203924, 0.38347741436713634, 0.4497944607960108, 0.4407513601134877, 0.43489724786201905, 0.4466000917194607, 0.3867720827815531, 0.45959274058309185, 0.4588891122147299]}, {\"categories\": [\"0\", \"1\", \"2\", \"3\", \"4\", \"5\", \"6\", \"7\", \"8\", \"9\", \"10\", \"11\", \"12\", \"13\", \"14\", \"15\", \"16\", \"17\", \"18\", \"19\", \"20\", \"21\", \"22\", \"23\", \"24\", \"25\", \"26\", \"27\", \"28\", \"29\", \"30\", \"31\", \"32\"], \"mode\": \"lines\", \"name\": \"average_precision_score_macro_max\", \"stepped\": true, \"type\": \"scatter\", \"data\": [0.4353962712031449, 0.4459211078454204, 0.4459211078454204, 0.4459211078454204, 0.4459211078454204, 0.45098722408375974, 0.45594124020271637, 0.45594124020271637, 0.45594124020271637, 0.45594124020271637, 0.45594124020271637, 0.45594124020271637, 0.45594124020271637, 0.45594124020271637, 0.45594124020271637, 0.45594124020271637, 0.45594124020271637, 0.45594124020271637, 0.45594124020271637, 0.45594124020271637, 0.45594124020271637, 0.45594124020271637, 0.45594124020271637, 0.45594124020271637, 0.45594124020271637, 0.45594124020271637, 0.45594124020271637, 0.45594124020271637, 0.45594124020271637, 0.45594124020271637, 0.45594124020271637, 0.45959274058309185, 0.45959274058309185]}], \"precision_score_micro\": [{\"categories\": [\"0\", \"1\", \"2\", \"3\", \"4\", \"5\", \"6\", \"7\", \"8\", \"9\", \"10\", \"11\", \"12\", \"13\", \"14\", \"15\", \"16\", \"17\", \"18\", \"19\", \"20\", \"21\", \"22\", \"23\", \"24\", \"25\", \"26\", \"27\", \"28\", \"29\", \"30\", \"31\", \"32\"], \"mode\": \"markers\", \"name\": \"precision_score_micro\", \"stepped\": false, \"type\": \"scatter\", \"data\": [0.4935195454234271, 0.5049955500787294, 0.4605832819880879, 0.5009173683850208, 0.47244061066611903, 0.5072020264256862, 0.4776079961662217, 0.5009303758471966, 0.47688163209420137, 0.5142397480659958, 0.5060963921407544, 0.449861025535702, 0.5138755391250771, 0.49685493256657765, 0.4635674676524954, 0.47392619976723493, 0.4772520024645718, 0.5116498938864928, 0.5120257410830423, 0.5098055726706374, 0.5146073800232766, 0.4975943041007736, 0.5005600054768262, 0.5001841582802766, 0.4998199493393579, 0.49945163277880467, 0.5064742931471213, 0.5009303758471966, 0.5005634284931882, 0.5013014308208393, 0.49945163277880467, 0.518312452933525, 0.5153453823509276]}, {\"categories\": [\"0\", \"1\", \"2\", \"3\", \"4\", \"5\", \"6\", \"7\", \"8\", \"9\", \"10\", \"11\", \"12\", \"13\", \"14\", \"15\", \"16\", \"17\", \"18\", \"19\", \"20\", \"21\", \"22\", \"23\", \"24\", \"25\", \"26\", \"27\", \"28\", \"29\", \"30\", \"31\", \"32\"], \"mode\": \"lines\", \"name\": \"precision_score_micro_max\", \"stepped\": true, \"type\": \"scatter\", \"data\": [0.4935195454234271, 0.5049955500787294, 0.5049955500787294, 0.5049955500787294, 0.5049955500787294, 0.5072020264256862, 0.5072020264256862, 0.5072020264256862, 0.5072020264256862, 0.5142397480659958, 0.5142397480659958, 0.5142397480659958, 0.5142397480659958, 0.5142397480659958, 0.5142397480659958, 0.5142397480659958, 0.5142397480659958, 0.5142397480659958, 0.5142397480659958, 0.5142397480659958, 0.5146073800232766, 0.5146073800232766, 0.5146073800232766, 0.5146073800232766, 0.5146073800232766, 0.5146073800232766, 0.5146073800232766, 0.5146073800232766, 0.5146073800232766, 0.5146073800232766, 0.5146073800232766, 0.518312452933525, 0.518312452933525]}]}, \"metricName\": null, \"primaryMetricName\": \"accuracy\", \"showLegend\": false}, \"run_metrics\": [{\"name\": \"f1_score_micro\", \"run_id\": \"AutoML_480e612b-584b-4f21-aa42-0bff7fc5bfb1\", \"categories\": [0], \"series\": [{\"data\": [0.518312452933525]}]}, {\"name\": \"f1_score_macro\", \"run_id\": \"AutoML_480e612b-584b-4f21-aa42-0bff7fc5bfb1\", \"categories\": [0], \"series\": [{\"data\": [0.3714532541059669]}]}, {\"name\": \"recall_score_weighted\", \"run_id\": \"AutoML_480e612b-584b-4f21-aa42-0bff7fc5bfb1\", \"categories\": [0], \"series\": [{\"data\": [0.518312452933525]}]}, {\"name\": \"precision_score_micro\", \"run_id\": \"AutoML_480e612b-584b-4f21-aa42-0bff7fc5bfb1\", \"categories\": [0], \"series\": [{\"data\": [0.518312452933525]}]}, {\"name\": \"average_precision_score_weighted\", \"run_id\": \"AutoML_480e612b-584b-4f21-aa42-0bff7fc5bfb1\", \"categories\": [0], \"series\": [{\"data\": [0.5170576487397374]}]}, {\"name\": \"recall_score_micro\", \"run_id\": \"AutoML_480e612b-584b-4f21-aa42-0bff7fc5bfb1\", \"categories\": [0], \"series\": [{\"data\": [0.518312452933525]}]}, {\"name\": \"accuracy\", \"run_id\": \"AutoML_480e612b-584b-4f21-aa42-0bff7fc5bfb1\", \"categories\": [0], \"series\": [{\"data\": [0.518312452933525]}]}, {\"name\": \"precision_score_macro\", \"run_id\": \"AutoML_480e612b-584b-4f21-aa42-0bff7fc5bfb1\", \"categories\": [0], \"series\": [{\"data\": [0.4443988200832204]}]}, {\"name\": \"norm_macro_recall\", \"run_id\": \"AutoML_480e612b-584b-4f21-aa42-0bff7fc5bfb1\", \"categories\": [0], \"series\": [{\"data\": [0.09559042460645213]}]}, {\"name\": \"weighted_accuracy\", \"run_id\": \"AutoML_480e612b-584b-4f21-aa42-0bff7fc5bfb1\", \"categories\": [0], \"series\": [{\"data\": [0.6391948289216456]}]}, {\"name\": \"AUC_macro\", \"run_id\": \"AutoML_480e612b-584b-4f21-aa42-0bff7fc5bfb1\", \"categories\": [0], \"series\": [{\"data\": [0.6481042253170161]}]}, {\"name\": \"log_loss\", \"run_id\": \"AutoML_480e612b-584b-4f21-aa42-0bff7fc5bfb1\", \"categories\": [0], \"series\": [{\"data\": [0.9889115038227307]}]}, {\"name\": \"AUC_weighted\", \"run_id\": \"AutoML_480e612b-584b-4f21-aa42-0bff7fc5bfb1\", \"categories\": [0], \"series\": [{\"data\": [0.6588773042570851]}]}, {\"name\": \"f1_score_weighted\", \"run_id\": \"AutoML_480e612b-584b-4f21-aa42-0bff7fc5bfb1\", \"categories\": [0], \"series\": [{\"data\": [0.4486376890236592]}]}, {\"name\": \"average_precision_score_macro\", \"run_id\": \"AutoML_480e612b-584b-4f21-aa42-0bff7fc5bfb1\", \"categories\": [0], \"series\": [{\"data\": [0.45959274058309185]}]}, {\"name\": \"recall_score_macro\", \"run_id\": \"AutoML_480e612b-584b-4f21-aa42-0bff7fc5bfb1\", \"categories\": [0], \"series\": [{\"data\": [0.3970602830709681]}]}, {\"name\": \"precision_score_weighted\", \"run_id\": \"AutoML_480e612b-584b-4f21-aa42-0bff7fc5bfb1\", \"categories\": [0], \"series\": [{\"data\": [0.47311726868933174]}]}, {\"name\": \"matthews_correlation\", \"run_id\": \"AutoML_480e612b-584b-4f21-aa42-0bff7fc5bfb1\", \"categories\": [0], \"series\": [{\"data\": [0.15029668451664935]}]}, {\"name\": \"AUC_micro\", \"run_id\": \"AutoML_480e612b-584b-4f21-aa42-0bff7fc5bfb1\", \"categories\": [0], \"series\": [{\"data\": [0.6983751788202073]}]}, {\"name\": \"balanced_accuracy\", \"run_id\": \"AutoML_480e612b-584b-4f21-aa42-0bff7fc5bfb1\", \"categories\": [0], \"series\": [{\"data\": [0.3970602830709681]}]}, {\"name\": \"average_precision_score_micro\", \"run_id\": \"AutoML_480e612b-584b-4f21-aa42-0bff7fc5bfb1\", \"categories\": [0], \"series\": [{\"data\": [0.5593104622284963]}]}], \"run_logs\": \"\\nRun is completed.\", \"graph\": {}, \"widget_settings\": {\"childWidgetDisplay\": \"popup\", \"send_telemetry\": false, \"log_level\": \"INFO\", \"sdk_version\": \"1.38.0\"}, \"loading\": false}"
     },
     "metadata": {}
    }
   ],
   "execution_count": 10,
   "metadata": {
    "gather": {
     "logged": 1645126864015
    },
    "jupyter": {
     "outputs_hidden": false,
     "source_hidden": false
    },
    "nteract": {
     "transient": {
      "deleting": false
     }
    }
   }
  },
  {
   "cell_type": "markdown",
   "source": [
    "## Best Model\n",
    "\n",
    "After training and tuning with AutoML, we are interested on the best performing model. We will get it as an output in the following lines of code, and display its properties."
   ],
   "metadata": {}
  },
  {
   "cell_type": "code",
   "source": [
    "# Retrieve and save best model\n",
    "best_run, model = automl_run.get_output()\n",
    "print(best_run, '\\n')\n",
    "print(model)\n",
    "joblib.dump(value=best_run.id, filename=\"./inference/bitcoin-automl.joblib\")"
   ],
   "outputs": [
    {
     "output_type": "stream",
     "name": "stdout",
     "text": "Run(Experiment: az-capstone-automl,\nId: AutoML_480e612b-584b-4f21-aa42-0bff7fc5bfb1_31,\nType: None,\nStatus: Completed) \n\nPipeline(memory=None,\n         steps=[('datatransformer',\n                 DataTransformer(enable_dnn=False, enable_feature_sweeping=True, feature_sweeping_config={}, feature_sweeping_timeout=86400, featurization_config=None, force_text_dnn=False, is_cross_validation=True, is_onnx_compatible=False, observer=None, task='classification', working_dir='/mnt/batch/tasks/shared/LS_root/mount...\n), random_state=0, reg_alpha=0.7291666666666667, reg_lambda=2.3958333333333335, subsample=0.8, tree_method='auto'))], verbose=False)), ('17', Pipeline(memory=None, steps=[('maxabsscaler', MaxAbsScaler(copy=True)), ('logisticregression', LogisticRegression(C=1.7575106248547894, class_weight=None, dual=False, fit_intercept=True, intercept_scaling=1, l1_ratio=None, max_iter=100, multi_class='multinomial', n_jobs=1, penalty='l2', random_state=None, solver='lbfgs', tol=0.0001, verbose=0, warm_start=False))], verbose=False))], flatten_transform=None, weights=[0.2, 0.1, 0.1, 0.2, 0.4]))],\n         verbose=False)\nY_transformer(['LabelEncoder', LabelEncoder()])\n"
    },
    {
     "output_type": "execute_result",
     "execution_count": 14,
     "data": {
      "text/plain": "['./inference/bitcoin-automl.joblib']"
     },
     "metadata": {}
    }
   ],
   "execution_count": 14,
   "metadata": {
    "gather": {
     "logged": 1645127237474
    },
    "jupyter": {
     "outputs_hidden": false,
     "source_hidden": false
    },
    "nteract": {
     "transient": {
      "deleting": false
     }
    }
   }
  },
  {
   "cell_type": "markdown",
   "source": [
    "## Model Deployment\n",
    "\n",
    "We will deploy the AutoML model as an REST endpoint. For this, we will first register the model, and then download a `score.py` script used for scoring, as well as a `conda_env.yml` file that will be used in our compute instance to install dependencies. We will also download the model as a pickle file. All these files can be found in the [`inference`](inference/) directory.\n",
    "\n",
    "Before deploying the model, we will pass in required scripts, dependencies and configuration for a compute instance, as an inference config object, and then deploy the model as a web service."
   ],
   "metadata": {}
  },
  {
   "cell_type": "code",
   "source": [
    "model_name = 'best-automl-model'\n",
    "description = \"AutoML model for predicting day-ahead Bitcoin price movements\"\n",
    "tags = None\n",
    "model = automl_run.register_model(model_name=model_name, description=description, tags=tags)\n",
    "print(automl_run.model_id)"
   ],
   "outputs": [
    {
     "output_type": "stream",
     "name": "stdout",
     "text": "best-automl-model\n"
    }
   ],
   "execution_count": 15,
   "metadata": {
    "jupyter": {
     "source_hidden": false,
     "outputs_hidden": false
    },
    "nteract": {
     "transient": {
      "deleting": false
     }
    },
    "gather": {
     "logged": 1645127247221
    }
   }
  },
  {
   "cell_type": "code",
   "source": [
    "from azureml.core.model import Model"
   ],
   "outputs": [],
   "execution_count": 16,
   "metadata": {
    "jupyter": {
     "source_hidden": false,
     "outputs_hidden": false
    },
    "nteract": {
     "transient": {
      "deleting": false
     }
    },
    "gather": {
     "logged": 1645127309594
    }
   }
  },
  {
   "cell_type": "code",
   "source": [
    "best_run"
   ],
   "outputs": [
    {
     "output_type": "execute_result",
     "execution_count": 17,
     "data": {
      "text/plain": "Run(Experiment: az-capstone-automl,\nId: AutoML_480e612b-584b-4f21-aa42-0bff7fc5bfb1_31,\nType: None,\nStatus: Completed)",
      "text/html": "<table style=\"width:100%\"><tr><th>Experiment</th><th>Id</th><th>Type</th><th>Status</th><th>Details Page</th><th>Docs Page</th></tr><tr><td>az-capstone-automl</td><td>AutoML_480e612b-584b-4f21-aa42-0bff7fc5bfb1_31</td><td></td><td>Completed</td><td><a href=\"https://ml.azure.com/runs/AutoML_480e612b-584b-4f21-aa42-0bff7fc5bfb1_31?wsid=/subscriptions/2c48c51c-bd47-40d4-abbe-fb8eabd19c8c/resourcegroups/aml-quickstarts-186496/workspaces/quick-starts-ws-186496&amp;tid=660b3398-b80e-49d2-bc5b-ac1dc93b5254\" target=\"_blank\" rel=\"noopener\">Link to Azure Machine Learning studio</a></td><td><a href=\"https://docs.microsoft.com/en-us/python/api/azureml-core/azureml.core.run.Run?view=azure-ml-py\" target=\"_blank\" rel=\"noopener\">Link to Documentation</a></td></tr></table>"
     },
     "metadata": {}
    }
   ],
   "execution_count": 17,
   "metadata": {
    "jupyter": {
     "source_hidden": false,
     "outputs_hidden": false
    },
    "nteract": {
     "transient": {
      "deleting": false
     }
    },
    "gather": {
     "logged": 1645127310739
    }
   }
  },
  {
   "cell_type": "code",
   "source": [
    "from azureml.core.model import InferenceConfig\n",
    "from azureml.core.webservice import AciWebservice\n",
    "\n",
    "best_run.download_file('outputs/conda_env_v_1_0_0.yml', 'inference/conda_env.yml')\n",
    "best_run.download_file(\"outputs/scoring_file_v_1_0_0.py\", \"inference/score.py\")\n",
    "best_run.download_file('outputs/model.pkl', 'inference/model.pkl')"
   ],
   "outputs": [],
   "execution_count": 20,
   "metadata": {
    "gather": {
     "logged": 1645128037135
    },
    "jupyter": {
     "outputs_hidden": false,
     "source_hidden": false
    },
    "nteract": {
     "transient": {
      "deleting": false
     }
    }
   }
  },
  {
   "cell_type": "code",
   "source": [
    "script_file_name = \"./inference/score.py\"\n",
    "env = Environment.from_conda_specification(name=\"automl-env\", file_path=\"inference/conda_env.yml\")\n",
    "\n",
    "inference_config = InferenceConfig(environment=env, entry_script=script_file_name)\n",
    "\n",
    "aciconfig = AciWebservice.deploy_configuration(\n",
    "    cpu_cores=2,\n",
    "    memory_gb=2,\n",
    "    tags={\"area\": \"Trading\", \"type\": \"automl_classification\"},\n",
    "    description=\"service for Bitcoin trading signals\"\n",
    ")\n",
    "\n",
    "aci_service_name = model_name.lower()\n",
    "print(aci_service_name)\n",
    "\n",
    "aci_service = Model.deploy(ws, aci_service_name, [model], inference_config, aciconfig)\n",
    "aci_service.wait_for_deployment(True)\n",
    "print(aci_service.state)\n",
    "\n",
    "aci_service.get_logs()"
   ],
   "outputs": [
    {
     "output_type": "stream",
     "name": "stdout",
     "text": "best-automl-model\nTips: You can try get_logs(): https://aka.ms/debugimage#dockerlog or local deployment: https://aka.ms/debugimage#debug-locally to debug if deployment takes longer than 10 minutes.\nRunning\n2022-02-17 20:02:38+00:00 Creating Container Registry if not exists.\n2022-02-17 20:02:39+00:00 Registering the environment.\n2022-02-17 20:02:40+00:00 Building image..\n2022-02-17 20:14:23+00:00 Generating deployment configuration.\n2022-02-17 20:14:24+00:00 Submitting deployment to compute..\n2022-02-17 20:14:27+00:00 Checking the status of deployment best-automl-model..\n2022-02-17 20:17:13+00:00 Checking the status of inference endpoint best-automl-model.\nSucceeded\nACI service creation operation finished, operation \"Succeeded\"\nHealthy\n"
    },
    {
     "output_type": "execute_result",
     "execution_count": 23,
     "data": {
      "text/plain": "'2022-02-17T20:16:55,906924700+00:00 - gunicorn/run \\nDynamic Python package installation is disabled.\\nStarting HTTP server\\n2022-02-17T20:16:55,912064700+00:00 - rsyslog/run \\n2022-02-17T20:16:55,919377000+00:00 - iot-server/run \\n2022-02-17T20:16:55,941041900+00:00 - nginx/run \\nrsyslogd: /azureml-envs/azureml_4943656157e05766fedf432d8be562a4/lib/libuuid.so.1: no version information available (required by rsyslogd)\\nEdgeHubConnectionString and IOTEDGE_IOTHUBHOSTNAME are not set. Exiting...\\n2022-02-17T20:16:56,185710700+00:00 - iot-server/finish 1 0\\n2022-02-17T20:16:56,188016800+00:00 - Exit code 1 is normal. Not restarting iot-server.\\nStarting gunicorn 20.1.0\\nListening at: http://127.0.0.1:31311 (78)\\nUsing worker: sync\\nworker timeout is set to 300\\nBooting worker with pid: 107\\nSPARK_HOME not set. Skipping PySpark Initialization.\\nGenerating new fontManager, this may take some time...\\nInitializing logger\\n2022-02-17 20:16:58,353 | root | INFO | Starting up app insights client\\nlogging socket was found. logging is available.\\nlogging socket was found. logging is available.\\n2022-02-17 20:16:58,354 | root | INFO | Starting up request id generator\\n2022-02-17 20:16:58,354 | root | INFO | Starting up app insight hooks\\n2022-02-17 20:16:58,354 | root | INFO | Invoking user\\'s init function\\n2022-02-17 20:17:01,627 | azureml.core | WARNING | Failure while loading azureml_run_type_providers. Failed to load entrypoint hyperdrive = azureml.train.hyperdrive:HyperDriveRun._from_run_dto with exception (urllib3 1.26.8 (/azureml-envs/azureml_4943656157e05766fedf432d8be562a4/lib/python3.6/site-packages), Requirement.parse(\\'urllib3<=1.26.7,>=1.23\\'), {\\'azureml-core\\'}).\\nFailure while loading azureml_run_type_providers. Failed to load entrypoint hyperdrive = azureml.train.hyperdrive:HyperDriveRun._from_run_dto with exception (urllib3 1.26.8 (/azureml-envs/azureml_4943656157e05766fedf432d8be562a4/lib/python3.6/site-packages), Requirement.parse(\\'urllib3<=1.26.7,>=1.23\\'), {\\'azureml-core\\'}).\\n2022-02-17 20:17:01,682 | azureml.core | WARNING | Failure while loading azureml_run_type_providers. Failed to load entrypoint automl = azureml.train.automl.run:AutoMLRun._from_run_dto with exception (urllib3 1.26.8 (/azureml-envs/azureml_4943656157e05766fedf432d8be562a4/lib/python3.6/site-packages), Requirement.parse(\\'urllib3<=1.26.7,>=1.23\\'), {\\'azureml-core\\'}).\\nFailure while loading azureml_run_type_providers. Failed to load entrypoint automl = azureml.train.automl.run:AutoMLRun._from_run_dto with exception (urllib3 1.26.8 (/azureml-envs/azureml_4943656157e05766fedf432d8be562a4/lib/python3.6/site-packages), Requirement.parse(\\'urllib3<=1.26.7,>=1.23\\'), {\\'azureml-core\\'}).\\n2022-02-17 20:17:01,684 | azureml.core | WARNING | Failure while loading azureml_run_type_providers. Failed to load entrypoint azureml.scriptrun = azureml.core.script_run:ScriptRun._from_run_dto with exception (urllib3 1.26.8 (/azureml-envs/azureml_4943656157e05766fedf432d8be562a4/lib/python3.6/site-packages), Requirement.parse(\\'urllib3<=1.26.7,>=1.23\\')).\\nFailure while loading azureml_run_type_providers. Failed to load entrypoint azureml.scriptrun = azureml.core.script_run:ScriptRun._from_run_dto with exception (urllib3 1.26.8 (/azureml-envs/azureml_4943656157e05766fedf432d8be562a4/lib/python3.6/site-packages), Requirement.parse(\\'urllib3<=1.26.7,>=1.23\\')).\\n2022-02-17 20:17:02,210 | root | INFO | Users\\'s init has completed successfully\\n2022-02-17 20:17:02,213 | root | INFO | Skipping middleware: dbg_model_info as it\\'s not enabled.\\n2022-02-17 20:17:02,213 | root | INFO | Skipping middleware: dbg_resource_usage as it\\'s not enabled.\\nGenerating swagger file: /tmp/tmpihu7x3x5\\n2022-02-17 20:17:02,218 | root | INFO | Scoring timeout is found from os.environ: 60000 ms\\n2022-02-17 20:17:13,938 | root | INFO | 200\\n127.0.0.1 - - [17/Feb/2022:20:17:13 +0000] \"GET /swagger.json HTTP/1.0\" 200 4248 \"-\" \"Go-http-client/1.1\"\\n2022-02-17 20:17:16,617 | root | INFO | 200\\n127.0.0.1 - - [17/Feb/2022:20:17:16 +0000] \"GET /swagger.json HTTP/1.0\" 200 4248 \"-\" \"Go-http-client/1.1\"\\n'"
     },
     "metadata": {}
    }
   ],
   "execution_count": 23,
   "metadata": {
    "jupyter": {
     "source_hidden": false,
     "outputs_hidden": false
    },
    "nteract": {
     "transient": {
      "deleting": false
     }
    },
    "gather": {
     "logged": 1645129037170
    }
   }
  },
  {
   "cell_type": "markdown",
   "source": [
    "Ok, so everything seems to be working fine. Now we will just test the model with some test data."
   ],
   "metadata": {
    "collapsed": true,
    "gather": {
     "logged": 1598431657736
    },
    "jupyter": {
     "outputs_hidden": false,
     "source_hidden": false
    },
    "nteract": {
     "transient": {
      "deleting": false
     }
    }
   }
  },
  {
   "cell_type": "code",
   "source": [
    "import json\n",
    "\n",
    "print(f'Will test endpoint: {aci_service.scoring_uri}')\n",
    "X_test_json = df[sorted(df.columns)].drop(columns=['y_c_shift']).tail().to_json(orient=\"records\")\n",
    "\n",
    "data = '{\"data\": ' + X_test_json + \"}\"\n",
    "headers = {\"Content-Type\": \"application/json\"}"
   ],
   "outputs": [
    {
     "output_type": "stream",
     "name": "stdout",
     "text": "Will test endpoint: http://96ee9485-efec-451f-85b6-4f6d11031cb8.southcentralus.azurecontainer.io/score\n"
    }
   ],
   "execution_count": 45,
   "metadata": {
    "jupyter": {
     "source_hidden": false,
     "outputs_hidden": false
    },
    "nteract": {
     "transient": {
      "deleting": false
     }
    },
    "gather": {
     "logged": 1645130739395
    }
   }
  },
  {
   "cell_type": "code",
   "source": [
    "resp = requests.post(aci_service.scoring_uri, data, headers=headers)\n",
    "y_pred = json.loads(json.loads(resp.text))\n",
    "print(y_pred)"
   ],
   "outputs": [
    {
     "output_type": "stream",
     "name": "stdout",
     "text": "{'result': [0.0, 0.0, 0.0, 0.0, 0.0]}\n"
    }
   ],
   "execution_count": 46,
   "metadata": {
    "gather": {
     "logged": 1645130750351
    },
    "jupyter": {
     "outputs_hidden": false,
     "source_hidden": false
    },
    "nteract": {
     "transient": {
      "deleting": false
     }
    }
   }
  },
  {
   "cell_type": "markdown",
   "source": [
    "### Deletion of endpoints and resources\n",
    "\n",
    "In this notebook we've created both a compute cluster and a compute instance that needs to be taken down. In the following cell we delete the used resources as a closure."
   ],
   "metadata": {
    "collapsed": true,
    "gather": {
     "logged": 1598432765711
    },
    "jupyter": {
     "outputs_hidden": false,
     "source_hidden": false
    },
    "nteract": {
     "transient": {
      "deleting": false
     }
    }
   }
  },
  {
   "cell_type": "code",
   "source": [
    "# Deleting the inference compute instance\n",
    "aci_service.delete()\n",
    "\n",
    "# Deleting compute cluster\n",
    "compute_target.delete()\n",
    "# print('Compute cluster deleted!')"
   ],
   "outputs": [],
   "execution_count": 47,
   "metadata": {
    "collapsed": false,
    "pycharm": {
     "name": "#%%\n"
    },
    "gather": {
     "logged": 1645130769093
    }
   }
  },
  {
   "cell_type": "markdown",
   "source": [
    "**Submission Checklist**\n",
    "- (DONE) I have registered the model.\n",
    "- (DONE) I have deployed the model with the best accuracy as a webservice.\n",
    "- (DONE) I have tested the webservice by sending a request to the model endpoint.\n",
    "- (DONE) I have deleted the webservice and shutdown all the computes that I have used.\n",
    "- I have taken a screenshot showing the model endpoint as active.\n",
    "- (DONE) The project includes a file containing the environment details (see the inference directory).\n"
   ],
   "metadata": {
    "pycharm": {
     "name": "#%% md\n"
    }
   }
  }
 ],
 "metadata": {
  "kernel_info": {
   "name": "python3-azureml"
  },
  "kernelspec": {
   "name": "python3-azureml",
   "language": "python",
   "display_name": "Python 3.6 - AzureML"
  },
  "language_info": {
   "name": "python",
   "version": "3.6.9",
   "mimetype": "text/x-python",
   "codemirror_mode": {
    "name": "ipython",
    "version": 3
   },
   "pygments_lexer": "ipython3",
   "nbconvert_exporter": "python",
   "file_extension": ".py"
  },
  "nteract": {
   "version": "nteract-front-end@1.0.0"
  },
  "microsoft": {
   "host": {
    "AzureML": {
     "notebookHasBeenCompleted": true
    }
   }
  }
 },
 "nbformat": 4,
 "nbformat_minor": 2
}