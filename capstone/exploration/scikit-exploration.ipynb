{
 "cells": [
  {
   "cell_type": "code",
   "execution_count": 7,
   "metadata": {
    "collapsed": true,
    "pycharm": {
     "name": "#%%\n"
    }
   },
   "outputs": [],
   "source": [
    "import sklearn"
   ]
  },
  {
   "cell_type": "code",
   "source": [
    "import pandas as pd"
   ],
   "metadata": {
    "collapsed": false,
    "pycharm": {
     "name": "#%%\n"
    }
   },
   "execution_count": 8,
   "outputs": []
  },
  {
   "cell_type": "code",
   "execution_count": 19,
   "outputs": [],
   "source": [
    "df = pd.read_csv('../data/df.csv')"
   ],
   "metadata": {
    "collapsed": false,
    "pycharm": {
     "name": "#%%\n"
    }
   }
  },
  {
   "cell_type": "code",
   "execution_count": 20,
   "outputs": [
    {
     "data": {
      "text/plain": "            Date   shangai       btc  crude oil      euro      gold    silver  \\\n0     2014-09-18       NaN       NaN        NaN       NaN       NaN       NaN   \n1     2014-09-19 -2.536749 -1.254626   2.157013  2.859478 -0.770139 -0.016573   \n2     2014-09-20 -2.536749 -1.234372   2.157013  2.859478 -0.770139 -0.016573   \n3     2014-09-21 -2.536749 -1.248775   2.157013  2.859478 -0.770139 -0.016573   \n4     2014-09-22 -2.678615 -1.243977   2.119813  2.717636 -0.762993 -0.040819   \n...          ...       ...       ...        ...       ...       ...       ...   \n2685  2022-01-24  0.889979  1.359086   1.758532 -0.168031  1.638283  1.511634   \n2686  2022-01-25  0.673315  1.363783   1.862765 -0.203576  1.672784  1.533852   \n2687  2022-01-26  0.727649  1.362190   1.940556 -0.243793  1.601043  1.514279   \n2688  2022-01-27  0.579210  1.366652   1.907854 -0.369513  1.483989  1.258280   \n2689  2022-01-28  0.498810  1.376601   1.917162 -0.569780  1.456787  1.171740   \n\n          ftse       spy       hsi  ...  hashrate  difficulty  transactions  \\\n0          NaN       NaN       NaN  ...       NaN         NaN     -1.413504   \n1    -0.070641 -1.202629 -0.433993  ... -1.760487   -1.792800     -1.412568   \n2    -0.070641 -1.202629 -0.433993  ... -1.726138   -1.792800     -1.412259   \n3    -0.070641 -1.202629 -0.433993  ... -1.774438   -1.792800     -1.412472   \n4    -0.186950 -1.234731 -0.560423  ... -1.774438   -1.792800     -1.411576   \n...        ...       ...       ...  ...       ...         ...           ...   \n2685  0.729664  1.931821 -0.309503  ...  1.228915    1.216554      1.806558   \n2686  0.854375  1.882956 -0.456411  ...  1.234809    1.216554      1.807879   \n2687  1.017452  1.876980 -0.439815  ...  1.165236    1.216554      1.809180   \n2688  1.155929  1.855440 -0.614519  ...  1.168646    1.216554      1.810456   \n2689  1.011353  1.951424 -0.708917  ...  1.240626    1.216554      1.811703   \n\n        t_cost  y_returns       y_close       y_c  y_returns_shift  y_c_shift  \\\n0          NaN  -0.071926    424.440002 -1.414477        -0.069843       -1.0   \n1    -0.026333  -0.069843    394.795990 -1.414477         0.035735        1.0   \n2    -0.047936   0.035735    408.903992  1.413425        -0.024659       -1.0   \n3     0.004043  -0.024659    398.821014 -1.414477         0.008352        0.0   \n4    -0.247654   0.008352    402.152008 -0.000526         0.083647        1.0   \n...        ...        ...           ...       ...              ...        ...   \n2685  1.266997   0.010407  36654.328125 -0.000526         0.008176        0.0   \n2686  1.321220   0.008176  36954.003906 -0.000526        -0.002757        0.0   \n2687  1.224792  -0.002757  36852.121094 -0.000526         0.007764        0.0   \n2688  1.220465   0.007764  37138.234375 -0.000526         0.017397        0.0   \n2689  1.348962   0.017397  37784.332031 -0.000526         0.009365        0.0   \n\n      y_close_shift  \n0        394.795990  \n1        408.903992  \n2        398.821014  \n3        402.152008  \n4        435.790985  \n...             ...  \n2685   36954.003906  \n2686   36852.121094  \n2687   37138.234375  \n2688   37784.332031  \n2689   38138.179688  \n\n[2690 rows x 34 columns]",
      "text/html": "<div>\n<style scoped>\n    .dataframe tbody tr th:only-of-type {\n        vertical-align: middle;\n    }\n\n    .dataframe tbody tr th {\n        vertical-align: top;\n    }\n\n    .dataframe thead th {\n        text-align: right;\n    }\n</style>\n<table border=\"1\" class=\"dataframe\">\n  <thead>\n    <tr style=\"text-align: right;\">\n      <th></th>\n      <th>Date</th>\n      <th>shangai</th>\n      <th>btc</th>\n      <th>crude oil</th>\n      <th>euro</th>\n      <th>gold</th>\n      <th>silver</th>\n      <th>ftse</th>\n      <th>spy</th>\n      <th>hsi</th>\n      <th>...</th>\n      <th>hashrate</th>\n      <th>difficulty</th>\n      <th>transactions</th>\n      <th>t_cost</th>\n      <th>y_returns</th>\n      <th>y_close</th>\n      <th>y_c</th>\n      <th>y_returns_shift</th>\n      <th>y_c_shift</th>\n      <th>y_close_shift</th>\n    </tr>\n  </thead>\n  <tbody>\n    <tr>\n      <th>0</th>\n      <td>2014-09-18</td>\n      <td>NaN</td>\n      <td>NaN</td>\n      <td>NaN</td>\n      <td>NaN</td>\n      <td>NaN</td>\n      <td>NaN</td>\n      <td>NaN</td>\n      <td>NaN</td>\n      <td>NaN</td>\n      <td>...</td>\n      <td>NaN</td>\n      <td>NaN</td>\n      <td>-1.413504</td>\n      <td>NaN</td>\n      <td>-0.071926</td>\n      <td>424.440002</td>\n      <td>-1.414477</td>\n      <td>-0.069843</td>\n      <td>-1.0</td>\n      <td>394.795990</td>\n    </tr>\n    <tr>\n      <th>1</th>\n      <td>2014-09-19</td>\n      <td>-2.536749</td>\n      <td>-1.254626</td>\n      <td>2.157013</td>\n      <td>2.859478</td>\n      <td>-0.770139</td>\n      <td>-0.016573</td>\n      <td>-0.070641</td>\n      <td>-1.202629</td>\n      <td>-0.433993</td>\n      <td>...</td>\n      <td>-1.760487</td>\n      <td>-1.792800</td>\n      <td>-1.412568</td>\n      <td>-0.026333</td>\n      <td>-0.069843</td>\n      <td>394.795990</td>\n      <td>-1.414477</td>\n      <td>0.035735</td>\n      <td>1.0</td>\n      <td>408.903992</td>\n    </tr>\n    <tr>\n      <th>2</th>\n      <td>2014-09-20</td>\n      <td>-2.536749</td>\n      <td>-1.234372</td>\n      <td>2.157013</td>\n      <td>2.859478</td>\n      <td>-0.770139</td>\n      <td>-0.016573</td>\n      <td>-0.070641</td>\n      <td>-1.202629</td>\n      <td>-0.433993</td>\n      <td>...</td>\n      <td>-1.726138</td>\n      <td>-1.792800</td>\n      <td>-1.412259</td>\n      <td>-0.047936</td>\n      <td>0.035735</td>\n      <td>408.903992</td>\n      <td>1.413425</td>\n      <td>-0.024659</td>\n      <td>-1.0</td>\n      <td>398.821014</td>\n    </tr>\n    <tr>\n      <th>3</th>\n      <td>2014-09-21</td>\n      <td>-2.536749</td>\n      <td>-1.248775</td>\n      <td>2.157013</td>\n      <td>2.859478</td>\n      <td>-0.770139</td>\n      <td>-0.016573</td>\n      <td>-0.070641</td>\n      <td>-1.202629</td>\n      <td>-0.433993</td>\n      <td>...</td>\n      <td>-1.774438</td>\n      <td>-1.792800</td>\n      <td>-1.412472</td>\n      <td>0.004043</td>\n      <td>-0.024659</td>\n      <td>398.821014</td>\n      <td>-1.414477</td>\n      <td>0.008352</td>\n      <td>0.0</td>\n      <td>402.152008</td>\n    </tr>\n    <tr>\n      <th>4</th>\n      <td>2014-09-22</td>\n      <td>-2.678615</td>\n      <td>-1.243977</td>\n      <td>2.119813</td>\n      <td>2.717636</td>\n      <td>-0.762993</td>\n      <td>-0.040819</td>\n      <td>-0.186950</td>\n      <td>-1.234731</td>\n      <td>-0.560423</td>\n      <td>...</td>\n      <td>-1.774438</td>\n      <td>-1.792800</td>\n      <td>-1.411576</td>\n      <td>-0.247654</td>\n      <td>0.008352</td>\n      <td>402.152008</td>\n      <td>-0.000526</td>\n      <td>0.083647</td>\n      <td>1.0</td>\n      <td>435.790985</td>\n    </tr>\n    <tr>\n      <th>...</th>\n      <td>...</td>\n      <td>...</td>\n      <td>...</td>\n      <td>...</td>\n      <td>...</td>\n      <td>...</td>\n      <td>...</td>\n      <td>...</td>\n      <td>...</td>\n      <td>...</td>\n      <td>...</td>\n      <td>...</td>\n      <td>...</td>\n      <td>...</td>\n      <td>...</td>\n      <td>...</td>\n      <td>...</td>\n      <td>...</td>\n      <td>...</td>\n      <td>...</td>\n      <td>...</td>\n    </tr>\n    <tr>\n      <th>2685</th>\n      <td>2022-01-24</td>\n      <td>0.889979</td>\n      <td>1.359086</td>\n      <td>1.758532</td>\n      <td>-0.168031</td>\n      <td>1.638283</td>\n      <td>1.511634</td>\n      <td>0.729664</td>\n      <td>1.931821</td>\n      <td>-0.309503</td>\n      <td>...</td>\n      <td>1.228915</td>\n      <td>1.216554</td>\n      <td>1.806558</td>\n      <td>1.266997</td>\n      <td>0.010407</td>\n      <td>36654.328125</td>\n      <td>-0.000526</td>\n      <td>0.008176</td>\n      <td>0.0</td>\n      <td>36954.003906</td>\n    </tr>\n    <tr>\n      <th>2686</th>\n      <td>2022-01-25</td>\n      <td>0.673315</td>\n      <td>1.363783</td>\n      <td>1.862765</td>\n      <td>-0.203576</td>\n      <td>1.672784</td>\n      <td>1.533852</td>\n      <td>0.854375</td>\n      <td>1.882956</td>\n      <td>-0.456411</td>\n      <td>...</td>\n      <td>1.234809</td>\n      <td>1.216554</td>\n      <td>1.807879</td>\n      <td>1.321220</td>\n      <td>0.008176</td>\n      <td>36954.003906</td>\n      <td>-0.000526</td>\n      <td>-0.002757</td>\n      <td>0.0</td>\n      <td>36852.121094</td>\n    </tr>\n    <tr>\n      <th>2687</th>\n      <td>2022-01-26</td>\n      <td>0.727649</td>\n      <td>1.362190</td>\n      <td>1.940556</td>\n      <td>-0.243793</td>\n      <td>1.601043</td>\n      <td>1.514279</td>\n      <td>1.017452</td>\n      <td>1.876980</td>\n      <td>-0.439815</td>\n      <td>...</td>\n      <td>1.165236</td>\n      <td>1.216554</td>\n      <td>1.809180</td>\n      <td>1.224792</td>\n      <td>-0.002757</td>\n      <td>36852.121094</td>\n      <td>-0.000526</td>\n      <td>0.007764</td>\n      <td>0.0</td>\n      <td>37138.234375</td>\n    </tr>\n    <tr>\n      <th>2688</th>\n      <td>2022-01-27</td>\n      <td>0.579210</td>\n      <td>1.366652</td>\n      <td>1.907854</td>\n      <td>-0.369513</td>\n      <td>1.483989</td>\n      <td>1.258280</td>\n      <td>1.155929</td>\n      <td>1.855440</td>\n      <td>-0.614519</td>\n      <td>...</td>\n      <td>1.168646</td>\n      <td>1.216554</td>\n      <td>1.810456</td>\n      <td>1.220465</td>\n      <td>0.007764</td>\n      <td>37138.234375</td>\n      <td>-0.000526</td>\n      <td>0.017397</td>\n      <td>0.0</td>\n      <td>37784.332031</td>\n    </tr>\n    <tr>\n      <th>2689</th>\n      <td>2022-01-28</td>\n      <td>0.498810</td>\n      <td>1.376601</td>\n      <td>1.917162</td>\n      <td>-0.569780</td>\n      <td>1.456787</td>\n      <td>1.171740</td>\n      <td>1.011353</td>\n      <td>1.951424</td>\n      <td>-0.708917</td>\n      <td>...</td>\n      <td>1.240626</td>\n      <td>1.216554</td>\n      <td>1.811703</td>\n      <td>1.348962</td>\n      <td>0.017397</td>\n      <td>37784.332031</td>\n      <td>-0.000526</td>\n      <td>0.009365</td>\n      <td>0.0</td>\n      <td>38138.179688</td>\n    </tr>\n  </tbody>\n</table>\n<p>2690 rows × 34 columns</p>\n</div>"
     },
     "execution_count": 20,
     "metadata": {},
     "output_type": "execute_result"
    }
   ],
   "source": [
    "df"
   ],
   "metadata": {
    "collapsed": false,
    "pycharm": {
     "name": "#%%\n"
    }
   }
  },
  {
   "cell_type": "code",
   "execution_count": 27,
   "outputs": [
    {
     "data": {
      "text/plain": "Index(['Date', 'shangai', 'btc', 'crude oil', 'euro', 'gold', 'silver', 'ftse',\n       'spy', 'hsi', 'nasdaq', 'nikkei', 'rates', 'open', 'high', 'low', 'MA4',\n       'MA50', 'MA80', 'stochRSI', 'RSI', 'btc_std_dev', 'std_dif', 'vol_btc',\n       'hashrate', 'difficulty', 'transactions', 't_cost', 'y_returns',\n       'y_close', 'y_c'],\n      dtype='object')"
     },
     "execution_count": 27,
     "metadata": {},
     "output_type": "execute_result"
    }
   ],
   "source": [
    "y = df.y_c_shift\n",
    "dropped = ['y_returns_shift', 'y_close_shift', 'y_c_shift']\n",
    "X = df.drop(columns=dropped)\n",
    "X.columns"
   ],
   "metadata": {
    "collapsed": false,
    "pycharm": {
     "name": "#%%\n"
    }
   }
  },
  {
   "cell_type": "code",
   "execution_count": 24,
   "outputs": [],
   "source": [
    "from sklearn.model_selection import train_test_split\n",
    "\n",
    "X_train, X_test, y_train, y_test = train_test_split(X, y,test_size=0.25, random_state=123, stratify=y)"
   ],
   "metadata": {
    "collapsed": false,
    "pycharm": {
     "name": "#%%\n"
    }
   }
  },
  {
   "cell_type": "code",
   "execution_count": 26,
   "outputs": [
    {
     "data": {
      "text/plain": "(2017, 31)"
     },
     "execution_count": 26,
     "metadata": {},
     "output_type": "execute_result"
    }
   ],
   "source": [
    "X_train.shape"
   ],
   "metadata": {
    "collapsed": false,
    "pycharm": {
     "name": "#%%\n"
    }
   }
  },
  {
   "cell_type": "code",
   "execution_count": null,
   "outputs": [],
   "source": [],
   "metadata": {
    "collapsed": false,
    "pycharm": {
     "name": "#%%\n"
    }
   }
  }
 ],
 "metadata": {
  "kernelspec": {
   "display_name": "Python 3",
   "language": "python",
   "name": "python3"
  },
  "language_info": {
   "codemirror_mode": {
    "name": "ipython",
    "version": 2
   },
   "file_extension": ".py",
   "mimetype": "text/x-python",
   "name": "python",
   "nbconvert_exporter": "python",
   "pygments_lexer": "ipython2",
   "version": "2.7.6"
  }
 },
 "nbformat": 4,
 "nbformat_minor": 0
}